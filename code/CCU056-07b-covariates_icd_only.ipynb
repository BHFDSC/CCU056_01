{
 "cells": [
  {
   "cell_type": "markdown",
   "metadata": {
    "application/vnd.databricks.v1+cell": {
     "cellMetadata": {
      "byteLimit": 2048000,
      "rowLimit": 10000
     },
     "inputWidgets": {},
     "nuid": "04a462a4-fb26-4be1-9efa-b49bd1efcb0f",
     "showTitle": false,
     "tableResultSettingsMap": {},
     "title": ""
    }
   },
   "source": [
    "# CCU056 Covariates\n",
    " \n",
    "**Description** This notebook creates the covariates which will be defined from the latest records before the date of operation for each individual as follows:\n",
    "* Prior history of outcomes;\n",
    "* Prior history of comorbidities;\n",
    " \n",
    "**Authors**\n",
    "\n",
    "**Reviewers** ⚠ UNREVIEWED\n",
    "\n",
    "**Acknowledgements** Based on previous work by Tom Bolton, Alexia Sampri for CCU018_01, earlier CCU002 sub-projects and subsequently CCU003_05-D10-covariates\n",
    "\n",
    "**Notes**\n",
    "\n",
    "**Data Output**\n",
    "- **`ccu056_out_covariates`** : covariates for the cohort"
   ]
  },
  {
   "cell_type": "code",
   "execution_count": 0,
   "metadata": {
    "application/vnd.databricks.v1+cell": {
     "cellMetadata": {
      "byteLimit": 2048000,
      "rowLimit": 10000
     },
     "inputWidgets": {},
     "nuid": "cd0f7a66-6c83-46af-b780-f431426d6c78",
     "showTitle": false,
     "tableResultSettingsMap": {},
     "title": ""
    }
   },
   "outputs": [],
   "source": [
    "spark.sql('CLEAR CACHE')\n",
    "spark.conf.set('spark.sql.legacy.allowCreatingManagedTableUsingNonemptyLocation', 'true')"
   ]
  },
  {
   "cell_type": "code",
   "execution_count": 0,
   "metadata": {
    "application/vnd.databricks.v1+cell": {
     "cellMetadata": {
      "byteLimit": 2048000,
      "rowLimit": 10000
     },
     "inputWidgets": {},
     "nuid": "beff794b-d144-43b8-833f-d0da06ffa461",
     "showTitle": true,
     "tableResultSettingsMap": {},
     "title": "Libraries"
    }
   },
   "outputs": [],
   "source": [
    "import pyspark.sql.functions as f\n",
    "import pyspark.sql.types as t\n",
    "from pyspark.sql import Window\n",
    "\n",
    "from functools import reduce\n",
    "\n",
    "import databricks.koalas as ks\n",
    "import pandas as pd\n",
    "import numpy as np\n",
    "\n",
    "import re\n",
    "import io\n",
    "import datetime\n",
    "\n",
    "import matplotlib\n",
    "import matplotlib.pyplot as plt\n",
    "from matplotlib import dates as mdates\n",
    "import seaborn as sns\n",
    "\n",
    "print(\"Matplotlib version: \", matplotlib.__version__)\n",
    "print(\"Seaborn version: \", sns.__version__)\n",
    "_datetimenow = datetime.datetime.now() # .strftime(\"%Y%m%d\")\n",
    "print(f\"_datetimenow:  {_datetimenow}\")"
   ]
  },
  {
   "cell_type": "code",
   "execution_count": 0,
   "metadata": {
    "application/vnd.databricks.v1+cell": {
     "cellMetadata": {
      "byteLimit": 2048000,
      "rowLimit": 10000
     },
     "inputWidgets": {},
     "nuid": "dd380d0c-bcd1-448c-98e4-e2f68d1cdf05",
     "showTitle": true,
     "tableResultSettingsMap": {},
     "title": "Functions"
    }
   },
   "outputs": [],
   "source": [
    "%run \"../SHDS/common/functions\""
   ]
  },
  {
   "cell_type": "markdown",
   "metadata": {
    "application/vnd.databricks.v1+cell": {
     "cellMetadata": {
      "byteLimit": 2048000,
      "rowLimit": 10000
     },
     "inputWidgets": {},
     "nuid": "9c86c8a8-3a14-4bba-8ec1-0bf4210e0494",
     "showTitle": false,
     "tableResultSettingsMap": {},
     "title": ""
    }
   },
   "source": [
    "# 0. Parameters"
   ]
  },
  {
   "cell_type": "code",
   "execution_count": 0,
   "metadata": {
    "application/vnd.databricks.v1+cell": {
     "cellMetadata": {
      "byteLimit": 2048000,
      "rowLimit": 10000
     },
     "inputWidgets": {},
     "nuid": "f857d758-b7e5-4f97-a356-f7dc5e33ef87",
     "showTitle": false,
     "tableResultSettingsMap": {},
     "title": ""
    },
    "jupyter": {
     "outputs_hidden": true
    }
   },
   "outputs": [],
   "source": [
    "%run \"./CCU056-01-parameters\""
   ]
  },
  {
   "cell_type": "markdown",
   "metadata": {
    "application/vnd.databricks.v1+cell": {
     "cellMetadata": {
      "byteLimit": 2048000,
      "rowLimit": 10000
     },
     "inputWidgets": {},
     "nuid": "a3c7b772-fa14-4c7a-a410-2f083d42049c",
     "showTitle": false,
     "tableResultSettingsMap": {},
     "title": ""
    }
   },
   "source": [
    "# 1. Data"
   ]
  },
  {
   "cell_type": "code",
   "execution_count": 0,
   "metadata": {
    "application/vnd.databricks.v1+cell": {
     "cellMetadata": {
      "byteLimit": 2048000,
      "rowLimit": 10000
     },
     "inputWidgets": {},
     "nuid": "88194fb6-284b-4116-b545-3c4c5e4a3df9",
     "showTitle": false,
     "tableResultSettingsMap": {},
     "title": ""
    }
   },
   "outputs": [],
   "source": [
    "codelist = spark.table(f'{dsa}.{proj}_out_codelist_covariates')\n",
    "\n",
    "cohort = spark.table(f'{dsa}.{proj}_tmp_main_cohort_final2')\n",
    "\n",
    "hes_apc_long = spark.table(path_cur_hes_apc_long)"
   ]
  },
  {
   "cell_type": "code",
   "execution_count": 0,
   "metadata": {
    "application/vnd.databricks.v1+cell": {
     "cellMetadata": {
      "byteLimit": 2048000,
      "rowLimit": 10000
     },
     "inputWidgets": {},
     "nuid": "a3e93fff-8286-42f9-a730-4c4050255851",
     "showTitle": false,
     "tableResultSettingsMap": {},
     "title": ""
    }
   },
   "outputs": [],
   "source": [
    "display(codelist)"
   ]
  },
  {
   "cell_type": "code",
   "execution_count": 0,
   "metadata": {
    "application/vnd.databricks.v1+cell": {
     "cellMetadata": {
      "byteLimit": 2048000,
      "rowLimit": 10000
     },
     "inputWidgets": {},
     "nuid": "0621d326-c8fb-4836-8ff3-38e24e3ef66a",
     "showTitle": false,
     "tableResultSettingsMap": {},
     "title": ""
    }
   },
   "outputs": [],
   "source": [
    "codelist_cardiovascular_risk_factors = (codelist.filter(f.col(\"codelist\").contains(\"Cardiovascular Risk Factors\")).drop(\"codelist\"))\n",
    "\n",
    "codelist_comorbidities = (codelist.filter(f.col(\"codelist\").contains(\"Comorbidities\")).drop(\"codelist\"))\n",
    "\n",
    "codelist_cardiovascular_post_intervention_outcomes = (codelist.filter(f.col(\"codelist\").contains(\"Post Intervention\")).drop(\"codelist\"))"
   ]
  },
  {
   "cell_type": "markdown",
   "metadata": {
    "application/vnd.databricks.v1+cell": {
     "cellMetadata": {
      "byteLimit": 2048000,
      "rowLimit": 10000
     },
     "inputWidgets": {},
     "nuid": "9f1b07ca-1145-4714-8a41-c5b55f4dddc1",
     "showTitle": false,
     "tableResultSettingsMap": {},
     "title": ""
    }
   },
   "source": [
    "# 2. Prepare"
   ]
  },
  {
   "cell_type": "code",
   "execution_count": 0,
   "metadata": {
    "application/vnd.databricks.v1+cell": {
     "cellMetadata": {
      "byteLimit": 2048000,
      "rowLimit": 10000
     },
     "inputWidgets": {},
     "nuid": "a2b8d306-4474-4d6b-a951-12900e21b00f",
     "showTitle": false,
     "tableResultSettingsMap": {},
     "title": ""
    }
   },
   "outputs": [],
   "source": [
    "print('--------------------------------------------------------------------------------------')\n",
    "print('individual_censor_dates')\n",
    "print('--------------------------------------------------------------------------------------')\n",
    "\n",
    "individual_censor_dates = (\n",
    "  cohort\n",
    "  .withColumn(\"DOB\", f.when(f.col(\"DOB\") == \"Unknown\", \"1800-01-01\").otherwise(f.col(\"DOB\")))\n",
    "  .withColumnRenamed('DOB', 'CENSOR_DATE_START')\n",
    "  .withColumnRenamed('OPERATION_DATE', 'CENSOR_DATE_END')\n",
    "  .withColumn('CENSOR_DATE_START', f.to_date(f.col('CENSOR_DATE_START')))\n",
    "  .withColumn('CENSOR_DATE_END', f.to_date(f.col('CENSOR_DATE_END')))\n",
    ")\n",
    "\n",
    "# check\n",
    "count_var(individual_censor_dates, 'PERSON_ID'); print()\n",
    "print(individual_censor_dates.limit(10).toPandas().to_string()); print()"
   ]
  },
  {
   "cell_type": "code",
   "execution_count": 0,
   "metadata": {
    "application/vnd.databricks.v1+cell": {
     "cellMetadata": {
      "byteLimit": 2048000,
      "rowLimit": 10000
     },
     "inputWidgets": {},
     "nuid": "977e9a74-4614-4d85-968a-3e33a8fef768",
     "showTitle": false,
     "tableResultSettingsMap": {},
     "title": ""
    }
   },
   "outputs": [],
   "source": [
    "print('--------------------------------------------------------------------------------------')\n",
    "print('hes_apc')\n",
    "print('--------------------------------------------------------------------------------------')\n",
    "# reduce and rename columns\n",
    "hes_apc_long_prepared = (\n",
    "  hes_apc_long\n",
    "  .select('PERSON_ID', f.col('EPISTART').alias('DATE'), 'CODE', 'DIAG_POSITION', 'DIAG_DIGITS')\n",
    ")\n",
    "\n",
    "# check 1\n",
    "# count_var(hes_apc_long_prepared, 'PERSON_ID'); print()\n",
    "\n",
    "# merge in individual censor dates\n",
    "# _hes_apc = merge(_hes_apc, individual_censor_dates, ['PERSON_ID'], validate='m:1', keep_results=['both'], indicator=0); print()\n",
    "hes_apc_long_prepared = (\n",
    "  hes_apc_long_prepared\n",
    "  .join(individual_censor_dates, on='PERSON_ID', how='inner')\n",
    ")\n",
    "\n",
    "# check 2\n",
    "# count_var(hes_apc_long_prepared, 'PERSON_ID'); print()\n",
    "\n",
    "# check before CENSOR_DATE_END, accounting for nulls\n",
    "# note: checked in curated_data for potential columns to use in the case of null DATE (EPISTART) - no substantial gain from other columns\n",
    "# 1 - DATE is null\n",
    "# 2 - DATE is not null and DATE <= CENSOR_DATE_END\n",
    "# 3 - DATE is not null and DATE > CENSOR_DATE_END\n",
    "hes_apc_long_prepared = (\n",
    "  hes_apc_long_prepared\n",
    "  .withColumn('flag_1',\n",
    "    f.when((f.col('DATE').isNull()), 1)\n",
    "     .when((f.col('DATE').isNotNull()) & (f.col('DATE') <= f.col('CENSOR_DATE_END')), 2)\n",
    "     .when((f.col('DATE').isNotNull()) & (f.col('DATE') >  f.col('CENSOR_DATE_END')), 3)\n",
    "  )\n",
    ")\n",
    "# tmpt = tab(hes_apc_long_prepared, '_tmp1'); print()\n",
    "\n",
    "# filter to before CENSOR_DATE_END\n",
    "# keep _tmp1 == 2\n",
    "# tidy\n",
    "hes_apc_long_prepared = (\n",
    "  hes_apc_long_prepared\n",
    "  .where(f.col('flag_1').isin([2]))\n",
    "  .drop('flag_1')\n",
    ")\n",
    "\n",
    "# check 3\n",
    "# count_var(hes_apc_long_prepared, 'PERSON_ID'); print()\n",
    "\n",
    "# check on or after CENSOR_DATE_START\n",
    "# note: nulls were replaced in previous data step\n",
    "# 1 - DATE >= CENSOR_DATE_START\n",
    "# 2 - DATE <  CENSOR_DATE_START\n",
    "hes_apc_long_prepared = (\n",
    "  hes_apc_long_prepared\n",
    "  .withColumn('flag_2',\\\n",
    "    f.when((f.col('DATE') >= f.col('CENSOR_DATE_START')), 1)\\\n",
    "     .when((f.col('DATE') <  f.col('CENSOR_DATE_START')), 2)\\\n",
    "  )\n",
    ")\n",
    "# tmpt = tab(hes_apc_long_prepared, 'flag_2'); print()\n",
    "\n",
    "# filter to on or after CENSOR_DATE_START\n",
    "# keep _tmp2 == 1\n",
    "# tidy\n",
    "hes_apc_long_prepared = (\n",
    "  hes_apc_long_prepared\n",
    "  .where(f.col('flag_2').isin([1]))\n",
    "  .drop('flag_2')\n",
    ")\n",
    "\n",
    "# check 4\n",
    "# count_var(hes_apc_long_prepared, 'PERSON_ID'); print()\n",
    "# print(hes_apc_long_prepared.limit(10).toPandas().to_string()); print()\n",
    "\n",
    "# temp save (checkpoint)\n",
    "hes_apc_long_prepared = save_table(df=hes_apc_long_prepared, out_name=f'{proj}_tmp_covariates_hes_apc')"
   ]
  },
  {
   "cell_type": "code",
   "execution_count": 0,
   "metadata": {
    "application/vnd.databricks.v1+cell": {
     "cellMetadata": {
      "byteLimit": 2048000,
      "rowLimit": 10000
     },
     "inputWidgets": {},
     "nuid": "3df191a7-4b7b-4454-8bfa-1be8886c4d05",
     "showTitle": false,
     "tableResultSettingsMap": {},
     "title": ""
    }
   },
   "outputs": [],
   "source": [
    "hes_apc_long_prepared = spark.table(f'{dsa}.{proj}_tmp_covariates_hes_apc')"
   ]
  },
  {
   "cell_type": "code",
   "execution_count": 0,
   "metadata": {
    "application/vnd.databricks.v1+cell": {
     "cellMetadata": {
      "byteLimit": 2048000,
      "rowLimit": 10000
     },
     "inputWidgets": {},
     "nuid": "ff2c5c2f-ee6c-4ac4-9db2-87c7b7ce0cd0",
     "showTitle": false,
     "tableResultSettingsMap": {},
     "title": ""
    }
   },
   "outputs": [],
   "source": [
    "display(hes_apc_long_prepared)"
   ]
  },
  {
   "cell_type": "markdown",
   "metadata": {
    "application/vnd.databricks.v1+cell": {
     "cellMetadata": {
      "byteLimit": 2048000,
      "rowLimit": 10000
     },
     "inputWidgets": {},
     "nuid": "ae601ad2-5835-4e1a-b01c-129fd9a95386",
     "showTitle": false,
     "tableResultSettingsMap": {},
     "title": ""
    }
   },
   "source": [
    "# 3. Codelists"
   ]
  },
  {
   "cell_type": "code",
   "execution_count": 0,
   "metadata": {
    "application/vnd.databricks.v1+cell": {
     "cellMetadata": {
      "byteLimit": 2048000,
      "rowLimit": 10000
     },
     "inputWidgets": {},
     "nuid": "1f7afddf-7703-4e4a-a5e9-e8a88f05939b",
     "showTitle": false,
     "tableResultSettingsMap": {},
     "title": ""
    }
   },
   "outputs": [],
   "source": [
    "display(codelist.select(\"codelist\",\"name\").distinct().orderBy(\"name\",\"codelist\"))"
   ]
  },
  {
   "cell_type": "code",
   "execution_count": 0,
   "metadata": {
    "application/vnd.databricks.v1+cell": {
     "cellMetadata": {
      "byteLimit": 2048000,
      "rowLimit": 10000
     },
     "inputWidgets": {},
     "nuid": "a7f3b2a6-5fa2-4004-acd2-2ab02d908320",
     "showTitle": false,
     "tableResultSettingsMap": {},
     "title": ""
    }
   },
   "outputs": [],
   "source": [
    "print('codelist_icd\\n')\n",
    "codelist_icd = (\n",
    "  codelist\n",
    "  .where(f.col('terminology') == 'ICD10')\n",
    ")\n",
    "tmpt = tab(codelist_icd, 'name', 'terminology'); print()\n",
    "print(codelist_icd.orderBy('name', 'code').toPandas().to_string()); print()"
   ]
  },
  {
   "cell_type": "code",
   "execution_count": 0,
   "metadata": {
    "application/vnd.databricks.v1+cell": {
     "cellMetadata": {
      "byteLimit": 2048000,
      "rowLimit": 10000
     },
     "inputWidgets": {},
     "nuid": "ee13a979-35d4-487e-8978-498502c55441",
     "showTitle": false,
     "tableResultSettingsMap": {},
     "title": ""
    }
   },
   "outputs": [],
   "source": [
    "display(codelist_icd)"
   ]
  },
  {
   "cell_type": "markdown",
   "metadata": {
    "application/vnd.databricks.v1+cell": {
     "cellMetadata": {
      "byteLimit": 2048000,
      "rowLimit": 10000
     },
     "inputWidgets": {},
     "nuid": "ff99f034-e777-4805-b944-ef79c58796b6",
     "showTitle": false,
     "tableResultSettingsMap": {},
     "title": ""
    }
   },
   "source": [
    "# 4. Codelist match"
   ]
  },
  {
   "cell_type": "code",
   "execution_count": 0,
   "metadata": {
    "application/vnd.databricks.v1+cell": {
     "cellMetadata": {
      "byteLimit": 2048000,
      "rowLimit": 10000
     },
     "inputWidgets": {},
     "nuid": "219611c6-58f3-4ce2-9471-f82259cfba6f",
     "showTitle": false,
     "tableResultSettingsMap": {},
     "title": ""
    }
   },
   "outputs": [],
   "source": [
    "\n",
    "hes_apc_long_prepared_test = (hes_apc_long_prepared.drop(\"DIAG_POSITION\",\"DIAG_DIGITS\"))"
   ]
  },
  {
   "cell_type": "code",
   "execution_count": 0,
   "metadata": {
    "application/vnd.databricks.v1+cell": {
     "cellMetadata": {
      "byteLimit": 2048000,
      "rowLimit": 10000
     },
     "inputWidgets": {},
     "nuid": "4053edee-9ed1-497f-a4ab-d1a77bcb2ce4",
     "showTitle": false,
     "tableResultSettingsMap": {},
     "title": ""
    }
   },
   "outputs": [],
   "source": [
    "# dictionary - dataset, codelist, and ordering in the event of tied records\n",
    "dict_hx_out = {\n",
    "    'hes_apc':  ['hes_apc_long_prepared_test',  'codelist_icd',  1]\n",
    "}\n",
    "\n",
    "# run codelist match and codelist match summary functions\n",
    "hx_out, hx_out_1st, hx_out_1st_wide = codelist_match(dict_hx_out, _name_prefix=f'cov_'); print() #default _last_event=0: filter to 1st event\n",
    "hx_out_summ_name, hx_out_summ_name_code = codelist_match_summ(dict_hx_out, hx_out); print()"
   ]
  },
  {
   "cell_type": "code",
   "execution_count": 0,
   "metadata": {
    "application/vnd.databricks.v1+cell": {
     "cellMetadata": {
      "byteLimit": 2048000,
      "rowLimit": 10000
     },
     "inputWidgets": {},
     "nuid": "b70cca37-3ea4-4c6f-a3e7-d2bf23f67ee5",
     "showTitle": false,
     "tableResultSettingsMap": {},
     "title": ""
    }
   },
   "outputs": [],
   "source": [
    "hx_out_all = hx_out['all']\n",
    "\n",
    "hx_out_all = save_table(df=hx_out_all, out_name=f'{proj}_tmp_covariates_all_icd_only')\n",
    "hx_out_1st = save_table(df=hx_out_1st, out_name=f'{proj}_tmp_covariates_1st_icd_only')\n",
    "hx_out_1st_wide = save_table(df=hx_out_1st_wide, out_name=f'{proj}_tmp_covariates_1st_wide_icd_only')\n",
    "hx_out_summ_name = save_table(df=hx_out_summ_name, out_name=f'{proj}_tmp_covariates_summ_name_icd_only')\n",
    "hx_out_summ_name_code = save_table(df=hx_out_summ_name_code, out_name=f'{proj}_tmp_covariates_summ_name_code_icd_only')"
   ]
  },
  {
   "cell_type": "markdown",
   "metadata": {
    "application/vnd.databricks.v1+cell": {
     "cellMetadata": {
      "byteLimit": 2048000,
      "rowLimit": 10000
     },
     "inputWidgets": {},
     "nuid": "1ae7f6bc-8166-48d3-86b6-65a511648df9",
     "showTitle": false,
     "tableResultSettingsMap": {},
     "title": ""
    }
   },
   "source": [
    "# 5. Check and Save"
   ]
  },
  {
   "cell_type": "code",
   "execution_count": 0,
   "metadata": {
    "application/vnd.databricks.v1+cell": {
     "cellMetadata": {
      "byteLimit": 2048000,
      "rowLimit": 10000
     },
     "inputWidgets": {},
     "nuid": "ab4a4e7b-6e22-464e-9563-ee0e985aacbd",
     "showTitle": false,
     "tableResultSettingsMap": {},
     "title": ""
    }
   },
   "outputs": [],
   "source": [
    "hx_out_all = spark.table(f'{dsa}.{proj}_tmp_covariates_all_icd_only')\n",
    "hx_out_1st = spark.table(f'{dsa}.{proj}_tmp_covariates_1st_icd_only')\n",
    "hx_out_1st_wide = spark.table(f'{dsa}.{proj}_tmp_covariates_1st_wide_icd_only')\n",
    "hx_out_summ_name = spark.table(f'{dsa}.{proj}_tmp_covariates_summ_name_icd_only')\n",
    "hx_out_summ_name_code = spark.table(f'{dsa}.{proj}_tmp_covariates_summ_name_code_icd_only')"
   ]
  },
  {
   "cell_type": "code",
   "execution_count": 0,
   "metadata": {
    "application/vnd.databricks.v1+cell": {
     "cellMetadata": {
      "byteLimit": 2048000,
      "rowLimit": 10000
     },
     "inputWidgets": {},
     "nuid": "b7b34c72-da04-451d-b63d-3ed4a680297f",
     "showTitle": false,
     "tableResultSettingsMap": {},
     "title": ""
    }
   },
   "outputs": [],
   "source": [
    "display(hx_out_all.filter(f.col(\"name\")==\"hypertension\").filter(f.col(\"source\")==\"hes_apc\").select(\"CODE\",\"PERSON_ID\").distinct().groupBy(\"CODE\").count())"
   ]
  },
  {
   "cell_type": "code",
   "execution_count": 0,
   "metadata": {
    "application/vnd.databricks.v1+cell": {
     "cellMetadata": {
      "byteLimit": 2048000,
      "rowLimit": 10000
     },
     "inputWidgets": {},
     "nuid": "06d62865-f79c-411f-a4c4-34b8628ed88a",
     "showTitle": false,
     "tableResultSettingsMap": {},
     "title": ""
    }
   },
   "outputs": [],
   "source": [
    "count_var(hx_out_1st_wide, 'PERSON_ID')"
   ]
  },
  {
   "cell_type": "code",
   "execution_count": 0,
   "metadata": {
    "application/vnd.databricks.v1+cell": {
     "cellMetadata": {
      "byteLimit": 2048000,
      "rowLimit": 10000
     },
     "inputWidgets": {},
     "nuid": "73c31a9d-b8d2-4408-9c8e-81cf04e3717b",
     "showTitle": false,
     "tableResultSettingsMap": {},
     "title": ""
    }
   },
   "outputs": [],
   "source": [
    "# check result\n",
    "display(hx_out_1st_wide)"
   ]
  },
  {
   "cell_type": "code",
   "execution_count": 0,
   "metadata": {
    "application/vnd.databricks.v1+cell": {
     "cellMetadata": {
      "byteLimit": 2048000,
      "rowLimit": 10000
     },
     "inputWidgets": {},
     "nuid": "0faa62c1-5b40-4d6e-a481-78453b04ccea",
     "showTitle": false,
     "tableResultSettingsMap": {},
     "title": ""
    }
   },
   "outputs": [],
   "source": [
    "# check codelist match summary by name and source\n",
    "display(hx_out_summ_name)"
   ]
  },
  {
   "cell_type": "code",
   "execution_count": 0,
   "metadata": {
    "application/vnd.databricks.v1+cell": {
     "cellMetadata": {
      "byteLimit": 2048000,
      "rowLimit": 10000
     },
     "inputWidgets": {},
     "nuid": "f0304b63-9ace-4902-a0da-036933fe5133",
     "showTitle": false,
     "tableResultSettingsMap": {},
     "title": ""
    }
   },
   "outputs": [],
   "source": [
    "# check codelist match summary by name, source, and code\n",
    "display(hx_out_summ_name_code)"
   ]
  },
  {
   "cell_type": "markdown",
   "metadata": {
    "application/vnd.databricks.v1+cell": {
     "cellMetadata": {
      "byteLimit": 2048000,
      "rowLimit": 10000
     },
     "inputWidgets": {},
     "nuid": "983bbd85-f575-466d-b022-3208950939be",
     "showTitle": false,
     "tableResultSettingsMap": {},
     "title": ""
    }
   },
   "source": [
    "# 6. Save"
   ]
  },
  {
   "cell_type": "code",
   "execution_count": 0,
   "metadata": {
    "application/vnd.databricks.v1+cell": {
     "cellMetadata": {
      "byteLimit": 2048000,
      "rowLimit": 10000
     },
     "inputWidgets": {},
     "nuid": "8de8c247-8918-4e1d-870f-46590b6de4c6",
     "showTitle": false,
     "tableResultSettingsMap": {},
     "title": ""
    }
   },
   "outputs": [],
   "source": [
    "tmp1 = merge(hx_out_1st_wide, cohort.select('PERSON_ID'), ['PERSON_ID'], validate='1:1', assert_results=['both', 'right_only'], indicator=0); print()\n",
    "\n",
    "# check\n",
    "count_var(tmp1, 'PERSON_ID'); print()\n",
    "print(len(tmp1.columns)); print()\n",
    "print(pd.DataFrame({f'_cols': tmp1.columns}).to_string()); print()"
   ]
  },
  {
   "cell_type": "code",
   "execution_count": 0,
   "metadata": {
    "application/vnd.databricks.v1+cell": {
     "cellMetadata": {
      "byteLimit": 2048000,
      "rowLimit": 10000
     },
     "inputWidgets": {},
     "nuid": "f7c82753-8e3a-41f8-938b-6338b09ea476",
     "showTitle": false,
     "tableResultSettingsMap": {},
     "title": ""
    }
   },
   "outputs": [],
   "source": [
    "# check final\n",
    "display(tmp1)"
   ]
  },
  {
   "cell_type": "code",
   "execution_count": 0,
   "metadata": {
    "application/vnd.databricks.v1+cell": {
     "cellMetadata": {
      "byteLimit": 2048000,
      "rowLimit": 10000
     },
     "inputWidgets": {},
     "nuid": "53b51c9f-72c5-4edb-8d5f-23b3f16a6a30",
     "showTitle": false,
     "tableResultSettingsMap": {},
     "title": ""
    }
   },
   "outputs": [],
   "source": [
    "save_table(df=tmp1, out_name=f'{proj}_out_covariates_icd_only', save_previous=True)"
   ]
  }
 ],
 "metadata": {
  "application/vnd.databricks.v1+notebook": {
   "computePreferences": null,
   "dashboards": [],
   "environmentMetadata": null,
   "language": "python",
   "notebookMetadata": {
    "pythonIndentUnit": 4
   },
   "notebookName": "CCU056-07b-covariates_icd_only",
   "widgets": {
    "1 project": {
     "currentValue": "ccu004_01",
     "nuid": "72263ee4-6afc-4252-bd56-cb5124da4d21",
     "typedWidgetInfo": null,
     "widgetInfo": {
      "widgetType": "text",
      "defaultValue": "ccu004_01",
      "label": null,
      "name": "1 project",
      "options": {
       "widgetType": "text",
       "autoCreated": null,
       "validationRegex": null
      }
     }
    },
    "2 cohort": {
     "currentValue": "c01",
     "nuid": "4ba905cc-e700-4a2d-979f-2c3382308af0",
     "typedWidgetInfo": null,
     "widgetInfo": {
      "widgetType": "text",
      "defaultValue": "c01",
      "label": null,
      "name": "2 cohort",
      "options": {
       "widgetType": "text",
       "autoCreated": null,
       "validationRegex": null
      }
     }
    },
    "3 pipeline production date": {
     "currentValue": "2023-03-30",
     "nuid": "cf7c2223-f2e4-4c7a-855f-aee75f6afe96",
     "typedWidgetInfo": null,
     "widgetInfo": {
      "widgetType": "text",
      "defaultValue": "2023-03-30",
      "label": null,
      "name": "3 pipeline production date",
      "options": {
       "widgetType": "text",
       "autoCreated": null,
       "validationRegex": null
      }
     }
    }
   }
  },
  "language_info": {
   "name": "python"
  }
 },
 "nbformat": 4,
 "nbformat_minor": 0
}
{
 "cells": [
  {
   "cell_type": "markdown",
   "metadata": {
    "application/vnd.databricks.v1+cell": {
     "cellMetadata": {
      "byteLimit": 2048000,
      "rowLimit": 10000
     },
     "inputWidgets": {},
     "nuid": "25a8eb30-6572-4de8-8e9e-e9e613d64336",
     "showTitle": false,
     "tableResultSettingsMap": {},
     "title": ""
    }
   },
   "source": [
    "# Curated Data - LSOA\n",
    " \n",
    "**Description** This notebook creates the collpased (selected) version of LSOA.\n",
    "\n",
    "<br>Collapsed (one row per person) extracting the most appropriate LSOA for the study. \n",
    "\n",
    "For this project we select the LSOA **as close as possible to the operation date**, regardless of datasource.\n",
    "\n",
    "In case of ties, we prioritise datasources as follows: HES APC, GDPPR, HES Outpatients, HES A&E, NACSA/TAVI.\n",
    "\n",
    "Remaining LSOA conflicts (different `LSOA` values which have the same `RECORD_DATE` and the same data source) will be highlighted.\n",
    "\n",
    "**Please note** that for GDPPR, the earlist `REPORTING_PERIOD_END_DATE` occurs as at 2020-05-18 thus GDPPR as a source will not be overly prevalent here.\n",
    "\n",
    "\n",
    " \n",
    "<br>**Authors** Tom Bolton, Fionna Chalmers, Anna Stevenson (Health Data Science Team, BHF Data Science Centre)\n",
    "\n",
    "**Reviewers** ⚠ UNREVIEWED\n",
    "\n",
    "**Acknowledgements** Based on previous work for CCU003_05, CCU018_01 (Tom Bolton, John Nolan), earlier CCU002 sub-projects amd subsequently CCU002_07-D7a-covariates_LSOA\n",
    "\n",
    "**Notes**\n",
    "\n",
    "**Data output**\n",
    "\n"
   ]
  },
  {
   "cell_type": "markdown",
   "metadata": {
    "application/vnd.databricks.v1+cell": {
     "cellMetadata": {
      "byteLimit": 2048000,
      "rowLimit": 10000
     },
     "inputWidgets": {},
     "nuid": "7159f9b7-efee-46d7-ac94-d7b382996468",
     "showTitle": false,
     "tableResultSettingsMap": {},
     "title": ""
    }
   },
   "source": [
    "# 0. Setup"
   ]
  },
  {
   "cell_type": "code",
   "execution_count": 0,
   "metadata": {
    "application/vnd.databricks.v1+cell": {
     "cellMetadata": {
      "byteLimit": 2048000,
      "rowLimit": 10000
     },
     "inputWidgets": {},
     "nuid": "18c6a166-aa42-40ce-8e12-743a77346ed8",
     "showTitle": false,
     "tableResultSettingsMap": {},
     "title": ""
    }
   },
   "outputs": [],
   "source": [
    "spark.sql('CLEAR CACHE')\n",
    "spark.conf.set('spark.sql.legacy.allowCreatingManagedTableUsingNonemptyLocation', 'true')"
   ]
  },
  {
   "cell_type": "code",
   "execution_count": 0,
   "metadata": {
    "application/vnd.databricks.v1+cell": {
     "cellMetadata": {
      "byteLimit": 2048000,
      "rowLimit": 10000
     },
     "inputWidgets": {},
     "nuid": "1559e7ec-e83a-47fa-9bf9-4632f2d9a322",
     "showTitle": true,
     "tableResultSettingsMap": {},
     "title": "Libraries"
    }
   },
   "outputs": [],
   "source": [
    "import pyspark.sql.functions as f\n",
    "import pyspark.sql.types as t\n",
    "from pyspark.sql import Window\n",
    "\n",
    "from functools import reduce\n",
    "\n",
    "import databricks.koalas as ks\n",
    "import pandas as pd\n",
    "import numpy as np\n",
    "\n",
    "import re\n",
    "import io\n",
    "import datetime\n",
    "\n",
    "import matplotlib\n",
    "import matplotlib.pyplot as plt\n",
    "from matplotlib import dates as mdates\n",
    "import seaborn as sns\n",
    "\n",
    "print(\"Matplotlib version: \", matplotlib.__version__)\n",
    "print(\"Seaborn version: \", sns.__version__)\n",
    "_datetimenow = datetime.datetime.now() # .strftime(\"%Y%m%d\")\n",
    "print(f\"_datetimenow:  {_datetimenow}\")"
   ]
  },
  {
   "cell_type": "code",
   "execution_count": 0,
   "metadata": {
    "application/vnd.databricks.v1+cell": {
     "cellMetadata": {
      "byteLimit": 2048000,
      "rowLimit": 10000
     },
     "inputWidgets": {},
     "nuid": "8a06c7f8-9448-425d-a0c9-50c566470729",
     "showTitle": true,
     "tableResultSettingsMap": {},
     "title": "Common Functions"
    }
   },
   "outputs": [],
   "source": [
    "%run \"/Repos/shds/common/functions\""
   ]
  },
  {
   "cell_type": "markdown",
   "metadata": {
    "application/vnd.databricks.v1+cell": {
     "cellMetadata": {
      "byteLimit": 2048000,
      "rowLimit": 10000
     },
     "inputWidgets": {},
     "nuid": "c952d514-5b3a-409d-97d7-cb26eba1719d",
     "showTitle": false,
     "tableResultSettingsMap": {},
     "title": ""
    }
   },
   "source": [
    "##0.1 Custom Functions"
   ]
  },
  {
   "cell_type": "code",
   "execution_count": 0,
   "metadata": {
    "application/vnd.databricks.v1+cell": {
     "cellMetadata": {
      "byteLimit": 2048000,
      "rowLimit": 10000
     },
     "inputWidgets": {},
     "nuid": "ddb087a1-3b22-4f89-a469-747b963ef111",
     "showTitle": true,
     "tableResultSettingsMap": {},
     "title": "lsoa_full_history"
    }
   },
   "outputs": [],
   "source": [
    "def lsoa_full_history(gdppr, pipeline_production_date):\n",
    "  \n",
    "  lsoa_rped_full = (\n",
    "  #´all archived versions of gdppr\n",
    "  gdppr\n",
    "    .select(f.col('NHS_NUMBER_DEID').alias('PERSON_ID'), f.col('REPORTING_PERIOD_END_DATE'), 'LSOA')\n",
    "    .where((f.col(\"LSOA\").isNotNull()) & (f.col(\"PERSON_ID\").isNotNull()))\n",
    "    .distinct()\n",
    "    .where(f.col('archived_on') <= pipeline_production_date) # ensure not working with a version > pipeline production date\n",
    "    .orderBy(f.col(\"PERSON_ID\"),f.col(\"REPORTING_PERIOD_END_DATE\"))\n",
    "  )\n",
    "  \n",
    "  return lsoa_rped_full"
   ]
  },
  {
   "cell_type": "markdown",
   "metadata": {
    "application/vnd.databricks.v1+cell": {
     "cellMetadata": {
      "byteLimit": 2048000,
      "rowLimit": 10000
     },
     "inputWidgets": {},
     "nuid": "9663d05f-e9d3-4e6a-bba4-1e53a270aa17",
     "showTitle": false,
     "tableResultSettingsMap": {},
     "title": ""
    }
   },
   "source": [
    "# 1. Parameters"
   ]
  },
  {
   "cell_type": "code",
   "execution_count": 0,
   "metadata": {
    "application/vnd.databricks.v1+cell": {
     "cellMetadata": {
      "byteLimit": 2048000,
      "rowLimit": 10000
     },
     "inputWidgets": {},
     "nuid": "1b1252fb-eb71-4202-8572-2e206f0a778b",
     "showTitle": false,
     "tableResultSettingsMap": {},
     "title": ""
    },
    "jupyter": {
     "outputs_hidden": true
    }
   },
   "outputs": [],
   "source": [
    "%run \"./CCU056-01-parameters\""
   ]
  },
  {
   "cell_type": "markdown",
   "metadata": {
    "application/vnd.databricks.v1+cell": {
     "cellMetadata": {
      "byteLimit": 2048000,
      "rowLimit": 10000
     },
     "inputWidgets": {},
     "nuid": "e87aef6e-f8ae-4c98-81f4-fc3bcc2b4284",
     "showTitle": false,
     "tableResultSettingsMap": {},
     "title": ""
    }
   },
   "source": [
    "# 2. Data"
   ]
  },
  {
   "cell_type": "code",
   "execution_count": 0,
   "metadata": {
    "application/vnd.databricks.v1+cell": {
     "cellMetadata": {
      "byteLimit": 2048000,
      "rowLimit": 10000
     },
     "inputWidgets": {},
     "nuid": "db545b84-316a-4564-8422-e2f5c86a840b",
     "showTitle": false,
     "tableResultSettingsMap": {},
     "title": ""
    }
   },
   "outputs": [],
   "source": [
    "# Main Cohort - needed for operation dates for LSOA selection\n",
    "main_cohort = spark.table(f'{dsa}.ccu056_tmp_main_cohort_final')"
   ]
  },
  {
   "cell_type": "code",
   "execution_count": 0,
   "metadata": {
    "application/vnd.databricks.v1+cell": {
     "cellMetadata": {
      "byteLimit": 2048000,
      "rowLimit": 10000
     },
     "inputWidgets": {},
     "nuid": "395d03cd-8bd2-4e57-92c0-fb72ecde1a04",
     "showTitle": false,
     "tableResultSettingsMap": {},
     "title": ""
    }
   },
   "outputs": [],
   "source": [
    "all_lsoa_unassembled = spark.table(f'{dsa}.{proj}_tmp_all_cases_lsoa_unassembled')\n",
    "\n",
    "# -----------------------------------------------------------------------------\n",
    "# LSOA Curated Data\n",
    "# -----------------------------------------------------------------------------\n",
    "lsoa_region = spark.table(path_cur_lsoa_region)\n",
    "lsoa_imd    = spark.table(path_cur_lsoa_imd)\n",
    "\n",
    "# Prepare\n",
    "lsoa_region = (lsoa_region.select(f.col('lsoa_code').alias('LSOA'), 'lsoa_name', f.col('region_name').alias('region')))"
   ]
  },
  {
   "cell_type": "code",
   "execution_count": 0,
   "metadata": {
    "application/vnd.databricks.v1+cell": {
     "cellMetadata": {
      "byteLimit": 2048000,
      "rowLimit": 10000
     },
     "inputWidgets": {},
     "nuid": "8b9d0bc6-e21b-499d-93e2-4d6b4f03d281",
     "showTitle": false,
     "tableResultSettingsMap": {},
     "title": ""
    }
   },
   "outputs": [],
   "source": [
    "# display(all_lsoa_unassembled.filter(f.col(\"RECORD_SOURCE\")==\"hes_apc\"))"
   ]
  },
  {
   "cell_type": "code",
   "execution_count": 0,
   "metadata": {
    "application/vnd.databricks.v1+cell": {
     "cellMetadata": {
      "byteLimit": 2048000,
      "rowLimit": 10000
     },
     "inputWidgets": {},
     "nuid": "310b13a4-afc1-42fd-967e-9e9151d33fc1",
     "showTitle": false,
     "tableResultSettingsMap": {},
     "title": ""
    }
   },
   "outputs": [],
   "source": [
    "# display(spark.table(f'{dbc}.hes_apc_all_years_archive').filter(f.col(\"PERSON_ID_DEID\")==\"TIHQ7YGMZ4ATP77\"))"
   ]
  },
  {
   "cell_type": "markdown",
   "metadata": {
    "application/vnd.databricks.v1+cell": {
     "cellMetadata": {
      "byteLimit": 2048000,
      "rowLimit": 10000
     },
     "inputWidgets": {},
     "nuid": "46166e17-ffcc-4162-b624-435b03e71528",
     "showTitle": false,
     "tableResultSettingsMap": {},
     "title": ""
    }
   },
   "source": [
    "#3. Add Region & IMD"
   ]
  },
  {
   "cell_type": "code",
   "execution_count": 0,
   "metadata": {
    "application/vnd.databricks.v1+cell": {
     "cellMetadata": {
      "byteLimit": 2048000,
      "rowLimit": 10000
     },
     "inputWidgets": {},
     "nuid": "dd5886ed-f32b-47db-af60-464fed56ba61",
     "showTitle": false,
     "tableResultSettingsMap": {},
     "title": ""
    }
   },
   "outputs": [],
   "source": [
    "\n",
    "all_lsoa_unassembled = (\n",
    "all_lsoa_unassembled\n",
    "  .join(lsoa_region, on=[\"LSOA\"], how=\"left\")\n",
    "  .withColumn('region',\n",
    "              f.when(f.col('LSOA_1') == 'W', 'Wales')\n",
    "              .when(f.col('LSOA_1') == 'S', 'Scotland')\n",
    "              .otherwise(f.col('region'))\n",
    "             )\n",
    "  .join(lsoa_imd, on=[\"LSOA\"], how=\"left\")\n",
    "  \n",
    ")"
   ]
  },
  {
   "cell_type": "code",
   "execution_count": 0,
   "metadata": {
    "application/vnd.databricks.v1+cell": {
     "cellMetadata": {
      "byteLimit": 2048000,
      "rowLimit": 10000
     },
     "inputWidgets": {},
     "nuid": "65736a65-dace-4ab6-9816-90db617af083",
     "showTitle": false,
     "tableResultSettingsMap": {},
     "title": ""
    }
   },
   "outputs": [],
   "source": [
    "# display(all_lsoa_unassembled)"
   ]
  },
  {
   "cell_type": "markdown",
   "metadata": {
    "application/vnd.databricks.v1+cell": {
     "cellMetadata": {
      "byteLimit": 2048000,
      "rowLimit": 10000
     },
     "inputWidgets": {},
     "nuid": "2ab9272b-a128-4012-8aa8-ea53246cd277",
     "showTitle": false,
     "tableResultSettingsMap": {},
     "title": ""
    }
   },
   "source": [
    "# 4. Select LSOA"
   ]
  },
  {
   "cell_type": "markdown",
   "metadata": {
    "application/vnd.databricks.v1+cell": {
     "cellMetadata": {
      "byteLimit": 2048000,
      "rowLimit": 10000
     },
     "inputWidgets": {},
     "nuid": "ee06f688-b5ef-44d8-9b87-433c07fa4d2f",
     "showTitle": false,
     "tableResultSettingsMap": {},
     "title": ""
    }
   },
   "source": [
    "Final LSOA version will deal with conflicts as below:\n",
    "\n",
    "**A.** If there is an LSOA conflict, resulting in a Region conflict, resulting in an IMD Deciles conflict resulting in an IMD Quintiles conflict then `LSOA`, `LSOA_1`, `lsoa_name`, `region`, `IMD_2019_DECILES`, `IMD_2019_QUINTILES` will **all** be nulled.\n",
    "\n",
    "<br>**B.** If there is an LSOA conflict, resulting in a Region conflict, resulting in an IMD Deciles conflict but this time does not result in an IMD Quintiles conflict (e.g. IMD Decile moves from 1 to 2 but this means the person remains in IMD Quintile 1) then `LSOA`, `LSOA_1`, `lsoa_name`, `region`, `IMD_2019_DECILES` will be nulled whilst `IMD_2019_QUINTILES` will be carried forward.\n",
    "\n",
    "<br>**C.** If there is an LSOA conflict resulting in a Region conflict but no IMD Deciles (and thus no IMD Quintiles) conflict then `LSOA`, `LSOA_1`, `lsoa_name` `region` will be nulled whilst `IMD_2019_DECILES`, `IMD_2019_QUINTILES` are carried forward.\n",
    "\n",
    "<br>**D.** If there is an LSOA conflict that does not result in a Region conflict but does result in a IMD Deciles (and thus IMD Quintiles) conflict then `LSOA`, `LSOA_1`, `lsoa_name` `IMD_2019_DECILES`, `IMD_2019_QUINTILES` will be nulled whilst `region` is carried forward.\n",
    "\n",
    "<br>**E.** If there is an LSOA conflict that does not result in a Region conflict but does result in a IMD Deciles but this time does not result in an IMD Quintiles conflict (e.g. IMD Decile moves from 1 to 2 but this means the person remains in IMD Quintile 1) then `LSOA`, `LSOA_1`, `lsoa_name` `IMD_2019_DECILES` will be nulled whilst `region` and `IMD_2019_QUINTILES` will be carried forward.\n",
    "\n",
    "<br>**F.** If there is an LSOA conflict that does **not** result in a Region conflict or an IMD Deciles (and thus IMD Quintiles) conflict then only `LSOA`, `LSOA_1`, `lsoa_name` will be nulled whilst `region`, `IMD_2019_DECILES`, `IMD_2019_QUINTILES` are carried forward.\n",
    "\n",
    "This will ensure that each person only has one row each."
   ]
  },
  {
   "cell_type": "code",
   "execution_count": 0,
   "metadata": {
    "application/vnd.databricks.v1+cell": {
     "cellMetadata": {
      "byteLimit": 2048000,
      "rowLimit": 10000
     },
     "inputWidgets": {},
     "nuid": "675bd5fc-26c8-449f-a81a-cf161672aeea",
     "showTitle": false,
     "tableResultSettingsMap": {},
     "title": ""
    }
   },
   "outputs": [],
   "source": [
    "# in cases of ties when choosing closest to operate date - apply data priority groups\n",
    "all_lsoa_unassembled = (all_lsoa_unassembled\n",
    "        .withColumn('RECORD_SOURCE_group_final',\n",
    "                    f.when(f.col('RECORD_SOURCE') == 'nacsa', 5)\n",
    "                    .when(f.col('RECORD_SOURCE') == 'tavi', 5)\n",
    "                    .when(f.col('RECORD_SOURCE') == 'gdppr', 3)\n",
    "                    .when(f.col('RECORD_SOURCE') == 'gdppr_snomed', 4)\n",
    "                    .when(f.col('RECORD_SOURCE') == 'hes_apc', 1)\n",
    "                    .when(f.col('RECORD_SOURCE') == 'hes_op', 2)\n",
    "                    .when(f.col('RECORD_SOURCE') == 'hes_ae', 2)\n",
    "                    )\n",
    ")"
   ]
  },
  {
   "cell_type": "code",
   "execution_count": 0,
   "metadata": {
    "application/vnd.databricks.v1+cell": {
     "cellMetadata": {
      "byteLimit": 2048000,
      "rowLimit": 10000
     },
     "inputWidgets": {},
     "nuid": "f75cd676-c3f6-4431-a111-d0b2e703dc64",
     "showTitle": false,
     "tableResultSettingsMap": {},
     "title": ""
    }
   },
   "outputs": [],
   "source": [
    "# Join on Operation Dates and find date difference\n",
    "all_lsoa_unassembled = (main_cohort.join(all_lsoa_unassembled,on=\"PERSON_ID\",how=\"left\"))\n",
    "\n",
    "all_lsoa_unassembled = (all_lsoa_unassembled\n",
    ".withColumn('OPERATION_DATE',f.date_format(f.col(\"OPERATION_DATE\"), \"yyyy-MM-dd\"))\n",
    ".withColumn('DATE_DIFF', f.abs(f.datediff(f.col(\"RECORD_DATE\"), f.col(\"OPERATION_DATE\"))))\n",
    ")"
   ]
  },
  {
   "cell_type": "code",
   "execution_count": 0,
   "metadata": {
    "application/vnd.databricks.v1+cell": {
     "cellMetadata": {
      "byteLimit": 2048000,
      "rowLimit": 10000
     },
     "inputWidgets": {},
     "nuid": "ce0757e9-dc6b-4744-a1f6-1234aad12f1b",
     "showTitle": true,
     "tableResultSettingsMap": {},
     "title": "nulls come from the main cohort - ie no LSOA found for these people"
    }
   },
   "outputs": [],
   "source": [
    "display(all_lsoa_unassembled.groupBy('RECORD_SOURCE').count())"
   ]
  },
  {
   "cell_type": "code",
   "execution_count": 0,
   "metadata": {
    "application/vnd.databricks.v1+cell": {
     "cellMetadata": {
      "byteLimit": 2048000,
      "rowLimit": 10000
     },
     "inputWidgets": {},
     "nuid": "8784bff9-df58-4858-a591-f733107198e7",
     "showTitle": true,
     "tableResultSettingsMap": {},
     "title": "Apply priority groups"
    }
   },
   "outputs": [],
   "source": [
    "# define windows for row numbers\n",
    "_win_rownum_LSOA = (\n",
    "    Window\n",
    "    .partitionBy('PERSON_ID')\n",
    "    .orderBy(['DATE_DIFF', 'RECORD_SOURCE_group_final'])) #prioritising DATE_DIFF first then datasource after\n",
    "\n",
    "all_lsoa_unassembled = (all_lsoa_unassembled\n",
    "    .withColumn('_rownum_LSOA', f.row_number().over(_win_rownum_LSOA))\n",
    "    )"
   ]
  },
  {
   "cell_type": "code",
   "execution_count": 0,
   "metadata": {
    "application/vnd.databricks.v1+cell": {
     "cellMetadata": {
      "byteLimit": 2048000,
      "rowLimit": 10000
     },
     "inputWidgets": {},
     "nuid": "df3563c0-d9dc-46d5-987a-85c9092f9a77",
     "showTitle": false,
     "tableResultSettingsMap": {},
     "title": ""
    }
   },
   "outputs": [],
   "source": [
    "# display(all_lsoa_unassembled.orderBy(\"PERSON_ID\",\"DATE_DIFF\"))"
   ]
  },
  {
   "cell_type": "code",
   "execution_count": 0,
   "metadata": {
    "application/vnd.databricks.v1+cell": {
     "cellMetadata": {
      "byteLimit": 2048000,
      "rowLimit": 10000
     },
     "inputWidgets": {},
     "nuid": "6decab1c-c281-45e5-9143-4f4ea8a8372b",
     "showTitle": true,
     "tableResultSettingsMap": {},
     "title": "Ties"
    }
   },
   "outputs": [],
   "source": [
    "varlist = ['LSOA']\n",
    "  \n",
    "for ind, var in enumerate(varlist):\n",
    "    record_source = 'RECORD_SOURCE_group_final'\n",
    "    # define window for tied records\n",
    "    _win_tie = (Window\n",
    "      .partitionBy('PERSON_ID')\n",
    "      .orderBy('DATE_DIFF', record_source)\n",
    "      )\n",
    "      \n",
    "    # count distinct values of var (including null) within tied records\n",
    "    _tie = (\n",
    "      all_lsoa_unassembled\n",
    "      .withColumn(f'_tie_{var}', f.dense_rank().over(_win_tie))\n",
    "      .where(f.col(f'_tie_{var}') == 1)\n",
    "      .groupBy('PERSON_ID')\n",
    "      .agg(\n",
    "        f.countDistinct(f.col(f'{var}')).alias(f'_n_distinct_{var}')\n",
    "        , f.countDistinct(f.when(f.col(f'{var}').isNull(), 1)).alias(f'_null_{var}')\n",
    "      )\n",
    "      .withColumn(f'_tie_{var}', f.when((f.col(f'_n_distinct_{var}') + f.col(f'_null_{var}')) > 1, 1).otherwise(0))\n",
    "      .select('PERSON_ID', f'_tie_{var}'))\n",
    "  \n",
    "    if(ind == 0): _tmp_ties = _tie\n",
    "    else: _tmp_ties = (_tmp_ties.join(_tie, on=['PERSON_ID'], how='outer'))\n",
    "\n",
    "\n",
    "\n",
    "# take information from the first row identified above\n",
    "_tmp_selected = {}\n",
    "for var in varlist:\n",
    "    _tmp = (\n",
    "      all_lsoa_unassembled\n",
    "      .select('PERSON_ID', 'RECORD_DATE', 'RECORD_SOURCE', f'{var}', f'_rownum_{var}')\n",
    "      .where(f.col(f'_rownum_{var}') == 1)\n",
    "      .withColumnRenamed('RECORD_DATE', f'_date_{var}')\n",
    "      .withColumnRenamed('RECORD_SOURCE', f'_source_{var}')\n",
    "      .select('PERSON_ID', f'{var}', f'_date_{var}', f'_source_{var}'))\n",
    "    _tmp_selected[f'{var}'] = _tmp\n",
    "\n",
    "_selected = (\n",
    "    _tmp_selected['LSOA']\n",
    "    .join(_tmp_ties, on=['PERSON_ID'], how='outer')\n",
    "    .select('PERSON_ID', 'LSOA'\n",
    "            , '_date_LSOA', '_source_LSOA', '_tie_LSOA'))"
   ]
  },
  {
   "cell_type": "code",
   "execution_count": 0,
   "metadata": {
    "application/vnd.databricks.v1+cell": {
     "cellMetadata": {
      "byteLimit": 2048000,
      "rowLimit": 10000
     },
     "inputWidgets": {},
     "nuid": "c322b5ee-46d4-4822-b4b0-3741796d7ea3",
     "showTitle": false,
     "tableResultSettingsMap": {},
     "title": ""
    }
   },
   "outputs": [],
   "source": [
    "display(_selected)"
   ]
  },
  {
   "cell_type": "code",
   "execution_count": 0,
   "metadata": {
    "application/vnd.databricks.v1+cell": {
     "cellMetadata": {
      "byteLimit": 2048000,
      "rowLimit": 10000
     },
     "inputWidgets": {},
     "nuid": "f39900e2-1aa1-4e0c-a3e8-3285f034ad85",
     "showTitle": false,
     "tableResultSettingsMap": {},
     "title": ""
    }
   },
   "outputs": [],
   "source": [
    "save_table(df=_selected, out_name=f'{proj}_tmp_all_cases_lsoa_selected', save_previous=True, data_base=dsa)"
   ]
  },
  {
   "cell_type": "code",
   "execution_count": 0,
   "metadata": {
    "application/vnd.databricks.v1+cell": {
     "cellMetadata": {
      "byteLimit": 2048000,
      "rowLimit": 10000
     },
     "inputWidgets": {},
     "nuid": "ca3681dc-3b72-44f6-bc02-75a8048d31aa",
     "showTitle": false,
     "tableResultSettingsMap": {},
     "title": ""
    }
   },
   "outputs": [],
   "source": [
    "# count ties\n",
    "display(_selected.groupBy(\"_tie_LSOA\").count())"
   ]
  }
 ],
 "metadata": {
  "application/vnd.databricks.v1+notebook": {
   "computePreferences": null,
   "dashboards": [],
   "environmentMetadata": null,
   "language": "python",
   "notebookMetadata": {
    "pythonIndentUnit": 4
   },
   "notebookName": "CCU056-05c-curated_data_LSOA_assembled",
   "widgets": {}
  },
  "language_info": {
   "name": "python"
  }
 },
 "nbformat": 4,
 "nbformat_minor": 0
}
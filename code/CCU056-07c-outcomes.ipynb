{
 "cells": [
  {
   "cell_type": "code",
   "execution_count": 0,
   "metadata": {
    "application/vnd.databricks.v1+cell": {
     "cellMetadata": {
      "byteLimit": 2048000,
      "rowLimit": 10000
     },
     "inputWidgets": {},
     "nuid": "18665278-c133-483c-8cbc-a287258662cb",
     "showTitle": false,
     "tableResultSettingsMap": {},
     "title": ""
    }
   },
   "outputs": [],
   "source": [
    "spark.sql('CLEAR CACHE')\n",
    "spark.conf.set('spark.sql.legacy.allowCreatingManagedTableUsingNonemptyLocation', 'true')"
   ]
  },
  {
   "cell_type": "code",
   "execution_count": 0,
   "metadata": {
    "application/vnd.databricks.v1+cell": {
     "cellMetadata": {
      "byteLimit": 2048000,
      "rowLimit": 10000
     },
     "inputWidgets": {},
     "nuid": "3eaaf40c-446d-4412-ae60-8e8d17e91457",
     "showTitle": false,
     "tableResultSettingsMap": {},
     "title": ""
    }
   },
   "outputs": [],
   "source": [
    "import pyspark.sql.functions as f\n",
    "import pyspark.sql.types as t\n",
    "from pyspark.sql import Window\n",
    "\n",
    "from functools import reduce\n",
    "\n",
    "import databricks.koalas as ks\n",
    "import pandas as pd\n",
    "import numpy as np\n",
    "\n",
    "import re\n",
    "import io\n",
    "import datetime\n",
    "\n",
    "import matplotlib\n",
    "import matplotlib.pyplot as plt\n",
    "from matplotlib import dates as mdates\n",
    "import seaborn as sns\n",
    "\n",
    "print(\"Matplotlib version: \", matplotlib.__version__)\n",
    "print(\"Seaborn version: \", sns.__version__)\n",
    "_datetimenow = datetime.datetime.now() # .strftime(\"%Y%m%d\")\n",
    "print(f\"_datetimenow:  {_datetimenow}\")"
   ]
  },
  {
   "cell_type": "code",
   "execution_count": 0,
   "metadata": {
    "application/vnd.databricks.v1+cell": {
     "cellMetadata": {
      "byteLimit": 2048000,
      "rowLimit": 10000
     },
     "inputWidgets": {},
     "nuid": "5447a0c9-bb73-4ba0-b95a-1b6dcd376a32",
     "showTitle": false,
     "tableResultSettingsMap": {},
     "title": ""
    }
   },
   "outputs": [],
   "source": [
    "%run \"../SHDS/common/functions\""
   ]
  },
  {
   "cell_type": "markdown",
   "metadata": {
    "application/vnd.databricks.v1+cell": {
     "cellMetadata": {
      "byteLimit": 2048000,
      "rowLimit": 10000
     },
     "inputWidgets": {},
     "nuid": "fa8b9915-53cf-4535-a7b6-512b91aa9b84",
     "showTitle": false,
     "tableResultSettingsMap": {},
     "title": ""
    }
   },
   "source": [
    "# 0. Parameters"
   ]
  },
  {
   "cell_type": "code",
   "execution_count": 0,
   "metadata": {
    "application/vnd.databricks.v1+cell": {
     "cellMetadata": {
      "byteLimit": 2048000,
      "rowLimit": 10000
     },
     "inputWidgets": {},
     "nuid": "8670f078-67b3-4728-846a-75850a273626",
     "showTitle": false,
     "tableResultSettingsMap": {},
     "title": ""
    },
    "jupyter": {
     "outputs_hidden": true
    }
   },
   "outputs": [],
   "source": [
    "%run \"./CCU056-01-parameters\""
   ]
  },
  {
   "cell_type": "code",
   "execution_count": 0,
   "metadata": {
    "application/vnd.databricks.v1+cell": {
     "cellMetadata": {},
     "inputWidgets": {},
     "nuid": "402ce833-116e-42e3-afa7-71149169e3b2",
     "showTitle": false,
     "tableResultSettingsMap": {},
     "title": ""
    }
   },
   "outputs": [],
   "source": []
  },
  {
   "cell_type": "markdown",
   "metadata": {
    "application/vnd.databricks.v1+cell": {
     "cellMetadata": {
      "byteLimit": 2048000,
      "rowLimit": 10000
     },
     "inputWidgets": {},
     "nuid": "5c6329db-0df7-42b7-9fff-c931ce680e5b",
     "showTitle": false,
     "tableResultSettingsMap": {},
     "title": ""
    }
   },
   "source": [
    "# 1. Data"
   ]
  },
  {
   "cell_type": "code",
   "execution_count": 0,
   "metadata": {
    "application/vnd.databricks.v1+cell": {
     "cellMetadata": {
      "byteLimit": 2048000,
      "rowLimit": 10000
     },
     "inputWidgets": {},
     "nuid": "da3575eb-6b07-4399-8ed8-cf7a20cd6225",
     "showTitle": false,
     "tableResultSettingsMap": {},
     "title": ""
    }
   },
   "outputs": [],
   "source": [
    "codelist = spark.table(f'{dsa}.{proj}_out_codelist_covariates')\n",
    "\n",
    "cohort = spark.table(f'{dsa}.{proj}_tmp_main_cohort_final2')\n",
    "\n",
    "deaths_long     = spark.table(path_cur_deaths_long)\n",
    "\n",
    "hes_apc_long = spark.table(path_cur_hes_apc_long)"
   ]
  },
  {
   "cell_type": "code",
   "execution_count": 0,
   "metadata": {
    "application/vnd.databricks.v1+cell": {
     "cellMetadata": {
      "byteLimit": 2048000,
      "rowLimit": 10000
     },
     "inputWidgets": {},
     "nuid": "fd0a8b95-39fa-4cfb-ae5b-595f1d8e3c14",
     "showTitle": false,
     "tableResultSettingsMap": {},
     "title": ""
    }
   },
   "outputs": [],
   "source": [
    "display(deaths_long)"
   ]
  },
  {
   "cell_type": "code",
   "execution_count": 0,
   "metadata": {
    "application/vnd.databricks.v1+cell": {
     "cellMetadata": {
      "byteLimit": 2048000,
      "rowLimit": 10000
     },
     "inputWidgets": {},
     "nuid": "06c2a8cc-95bc-4257-8a0c-959b7adc3bb7",
     "showTitle": false,
     "tableResultSettingsMap": {},
     "title": ""
    }
   },
   "outputs": [],
   "source": [
    "display(hes_apc_long)"
   ]
  },
  {
   "cell_type": "code",
   "execution_count": 0,
   "metadata": {
    "application/vnd.databricks.v1+cell": {
     "cellMetadata": {
      "byteLimit": 2048000,
      "rowLimit": 10000
     },
     "inputWidgets": {},
     "nuid": "448c6136-d391-4d77-a71e-26410315f929",
     "showTitle": false,
     "tableResultSettingsMap": {},
     "title": ""
    }
   },
   "outputs": [],
   "source": [
    "display(codelist)"
   ]
  },
  {
   "cell_type": "markdown",
   "metadata": {
    "application/vnd.databricks.v1+cell": {
     "cellMetadata": {
      "byteLimit": 2048000,
      "rowLimit": 10000
     },
     "inputWidgets": {},
     "nuid": "a22fcf6f-3974-480b-b770-86de63cf190c",
     "showTitle": false,
     "tableResultSettingsMap": {},
     "title": ""
    }
   },
   "source": [
    "###CVD Death Codes"
   ]
  },
  {
   "cell_type": "code",
   "execution_count": 0,
   "metadata": {
    "application/vnd.databricks.v1+cell": {
     "cellMetadata": {
      "byteLimit": 2048000,
      "rowLimit": 10000
     },
     "inputWidgets": {},
     "nuid": "6c46cb9d-7fb1-46bf-9354-e816d0715f2c",
     "showTitle": false,
     "tableResultSettingsMap": {},
     "title": ""
    }
   },
   "outputs": [],
   "source": [
    "codelist_outcomes_cvd_death = (codelist.filter(f.col(\"codelist\").contains(\"Post Intervention\")).drop(\"codelist\"))"
   ]
  },
  {
   "cell_type": "code",
   "execution_count": 0,
   "metadata": {
    "application/vnd.databricks.v1+cell": {
     "cellMetadata": {
      "byteLimit": 2048000,
      "rowLimit": 10000
     },
     "inputWidgets": {},
     "nuid": "683436c6-b500-4b0f-ae29-f126242f959d",
     "showTitle": false,
     "tableResultSettingsMap": {},
     "title": ""
    }
   },
   "outputs": [],
   "source": [
    "display(codelist_outcomes_cvd_death)"
   ]
  },
  {
   "cell_type": "code",
   "execution_count": 0,
   "metadata": {
    "application/vnd.databricks.v1+cell": {
     "cellMetadata": {
      "byteLimit": 2048000,
      "rowLimit": 10000
     },
     "inputWidgets": {},
     "nuid": "5aa8b26b-419f-4ffc-838b-075ef04c2a61",
     "showTitle": false,
     "tableResultSettingsMap": {},
     "title": ""
    }
   },
   "outputs": [],
   "source": [
    "display(codelist_outcomes_cvd_death.select(\"name\").distinct())"
   ]
  },
  {
   "cell_type": "markdown",
   "metadata": {
    "application/vnd.databricks.v1+cell": {
     "cellMetadata": {
      "byteLimit": 2048000,
      "rowLimit": 10000
     },
     "inputWidgets": {},
     "nuid": "373d15d0-0c6c-4b98-9345-bbf9b5ea886e",
     "showTitle": false,
     "tableResultSettingsMap": {},
     "title": ""
    }
   },
   "source": [
    "###Hospitalisation with HF Codes"
   ]
  },
  {
   "cell_type": "code",
   "execution_count": 0,
   "metadata": {
    "application/vnd.databricks.v1+cell": {
     "cellMetadata": {
      "byteLimit": 2048000,
      "rowLimit": 10000
     },
     "inputWidgets": {},
     "nuid": "95384d02-75c0-4a29-92a9-c3cedccda282",
     "showTitle": false,
     "tableResultSettingsMap": {},
     "title": ""
    }
   },
   "outputs": [],
   "source": [
    "codelist_outcomes_hf = (codelist.filter(f.col(\"name\")==\"HF\").drop(\"codelist\").filter(f.col(\"terminology\")==\"ICD10\"))\n",
    "\n",
    "# remove trailing X's, decimal points, dashes, and spaces\n",
    "codelist_outcomes_hf = (\n",
    "  codelist_outcomes_hf\n",
    "  .withColumn('_code_old', f.col('code'))\n",
    "  .withColumn('code', f.when(f.col('terminology') == 'ICD10', f.regexp_replace('code', r'X$', '')).otherwise(f.col('code')))\\\n",
    "  .withColumn('code', f.when(f.col('terminology') == 'ICD10', f.regexp_replace('code', r'[\\.\\-\\s]', '')).otherwise(f.col('code')))\n",
    "  .withColumn('_code_diff', f.when(f.col('code') != f.col('_code_old'), 1).otherwise(0))\n",
    ")\n",
    "\n",
    "# tidy\n",
    "codelist_outcomes_hf = codelist_outcomes_hf.drop('_code_old', '_code_diff')"
   ]
  },
  {
   "cell_type": "code",
   "execution_count": 0,
   "metadata": {
    "application/vnd.databricks.v1+cell": {
     "cellMetadata": {
      "byteLimit": 2048000,
      "rowLimit": 10000
     },
     "inputWidgets": {},
     "nuid": "3bc4d329-40c8-4bf4-89dd-d556d2b6f690",
     "showTitle": false,
     "tableResultSettingsMap": {},
     "title": ""
    }
   },
   "outputs": [],
   "source": [
    "display(codelist_outcomes_hf)"
   ]
  },
  {
   "cell_type": "markdown",
   "metadata": {
    "application/vnd.databricks.v1+cell": {
     "cellMetadata": {
      "byteLimit": 2048000,
      "rowLimit": 10000
     },
     "inputWidgets": {},
     "nuid": "c35d39b7-88ad-4584-90ea-c1d7453f2951",
     "showTitle": false,
     "tableResultSettingsMap": {},
     "title": ""
    }
   },
   "source": [
    "###Hospitalisation with CVD Codes"
   ]
  },
  {
   "cell_type": "code",
   "execution_count": 0,
   "metadata": {
    "application/vnd.databricks.v1+cell": {
     "cellMetadata": {
      "byteLimit": 2048000,
      "rowLimit": 10000
     },
     "inputWidgets": {},
     "nuid": "bee76985-c140-4cfb-a302-78137ae5093f",
     "showTitle": false,
     "tableResultSettingsMap": {},
     "title": ""
    }
   },
   "outputs": [],
   "source": [
    "codelist_outcomes_cvd_hosp = (codelist_outcomes_cvd_death.filter(f.col(\"name\")!=\"sudden_death\").union(codelist_outcomes_hf))\n",
    "display(codelist_outcomes_cvd_hosp.orderBy(\"name\",\"code\"))"
   ]
  },
  {
   "cell_type": "markdown",
   "metadata": {
    "application/vnd.databricks.v1+cell": {
     "cellMetadata": {
      "byteLimit": 2048000,
      "rowLimit": 10000
     },
     "inputWidgets": {},
     "nuid": "c380c417-4074-4d1f-b4d0-e6d4d031b963",
     "showTitle": false,
     "tableResultSettingsMap": {},
     "title": ""
    }
   },
   "source": [
    "# 2. Death"
   ]
  },
  {
   "cell_type": "markdown",
   "metadata": {
    "application/vnd.databricks.v1+cell": {
     "cellMetadata": {
      "byteLimit": 2048000,
      "rowLimit": 10000
     },
     "inputWidgets": {},
     "nuid": "0103839c-f094-43cf-bcf1-783bdec87570",
     "showTitle": false,
     "tableResultSettingsMap": {},
     "title": ""
    }
   },
   "source": [
    "##2.1 Checks"
   ]
  },
  {
   "cell_type": "code",
   "execution_count": 0,
   "metadata": {
    "application/vnd.databricks.v1+cell": {
     "cellMetadata": {
      "byteLimit": 2048000,
      "rowLimit": 10000
     },
     "inputWidgets": {},
     "nuid": "0b115d63-56f4-48aa-b723-41dba501fb70",
     "showTitle": false,
     "tableResultSettingsMap": {},
     "title": ""
    }
   },
   "outputs": [],
   "source": [
    "print('--------------------------------------------------------------------------------------')\n",
    "print('individual_censor_dates')\n",
    "print('--------------------------------------------------------------------------------------')\n",
    "\n",
    "# CENSOR START - DOB\n",
    "# CENSOR END - Date of Operation\n",
    "\n",
    "# Note these will be changed to codelist match st: CENSOR START - Date of Operation and CENSOR END - Study End Date\n",
    "\n",
    "individual_censor_dates = (\n",
    "  cohort\n",
    "  .withColumn(\"DOB\", f.when(f.col(\"DOB\") == \"Unknown\", \"1800-01-01\").otherwise(f.col(\"DOB\")))\n",
    "  .withColumnRenamed('DOB', 'CENSOR_DATE_START')\n",
    "  .withColumnRenamed('OPERATION_DATE', 'CENSOR_DATE_END')\n",
    "  .withColumn('CENSOR_DATE_START', f.to_date(f.col('CENSOR_DATE_START')))\n",
    "  .withColumn('CENSOR_DATE_END', f.to_date(f.col('CENSOR_DATE_END')))\n",
    ")\n",
    "\n",
    "# check\n",
    "count_var(individual_censor_dates, 'PERSON_ID'); print()\n",
    "print(individual_censor_dates.limit(10).toPandas().to_string()); print()"
   ]
  },
  {
   "cell_type": "code",
   "execution_count": 0,
   "metadata": {
    "application/vnd.databricks.v1+cell": {
     "cellMetadata": {
      "byteLimit": 2048000,
      "rowLimit": 10000
     },
     "inputWidgets": {},
     "nuid": "88cfe423-a0ef-45c5-81fb-e7add18042b3",
     "showTitle": false,
     "tableResultSettingsMap": {},
     "title": ""
    }
   },
   "outputs": [],
   "source": [
    "print('--------------------------------------------------------------------------------------')\n",
    "print('deaths')\n",
    "print('--------------------------------------------------------------------------------------')\n",
    "\n",
    "\n",
    "# reduce\n",
    "_deaths = (\n",
    "    deaths_long\n",
    "    .where(f.col('DIAG_POSITION') == 'UNDERLYING')\n",
    "    .select(['PERSON_ID', 'DATE', 'CODE', 'DIAG_POSITION'])\n",
    ")\n",
    "\n",
    "# check\n",
    "count_var(_deaths, 'PERSON_ID'); print()\n",
    "tmpt = tab(_deaths, 'DIAG_POSITION'); print()\n",
    "\n",
    "# add individual censor dates\n",
    "_deaths = (\n",
    "    _deaths\n",
    "    .drop('DIAG_POSITION')\n",
    "    .join(individual_censor_dates, on='PERSON_ID', how='inner')\n",
    "    .withColumnRenamed(\"DATE\",\"DOD\")\n",
    ")\n",
    "\n",
    "# check\n",
    "count_var(_deaths, 'PERSON_ID'); print()"
   ]
  },
  {
   "cell_type": "code",
   "execution_count": 0,
   "metadata": {
    "application/vnd.databricks.v1+cell": {
     "cellMetadata": {
      "byteLimit": 2048000,
      "rowLimit": 10000
     },
     "inputWidgets": {},
     "nuid": "b43fd199-bd2a-461f-b3a7-93ca450add64",
     "showTitle": true,
     "tableResultSettingsMap": {},
     "title": "Glimpse - DOD before Censor Start Date (DOB)"
    }
   },
   "outputs": [],
   "source": [
    "_deaths_before_start = (\n",
    "    _deaths\n",
    "    .where(\n",
    "        (f.col('DOD') < f.col('CENSOR_DATE_START'))\n",
    "  )\n",
    ")\n",
    "\n",
    " # check\n",
    "count_var(_deaths_before_start, 'PERSON_ID'); print()"
   ]
  },
  {
   "cell_type": "code",
   "execution_count": 0,
   "metadata": {
    "application/vnd.databricks.v1+cell": {
     "cellMetadata": {
      "byteLimit": 2048000,
      "rowLimit": 10000
     },
     "inputWidgets": {},
     "nuid": "1f9ed758-4d68-4090-8865-3dba89e424f2",
     "showTitle": true,
     "tableResultSettingsMap": {},
     "title": "Glimpse - DOD before Censor End Date (Date of Operation)"
    }
   },
   "outputs": [],
   "source": [
    "_deaths_before_end = (\n",
    "    _deaths\n",
    "    .where(\n",
    "        (f.col('DOD') < f.col('CENSOR_DATE_END'))\n",
    "  )\n",
    ")\n",
    "\n",
    " # check\n",
    "count_var(_deaths_before_end, 'PERSON_ID'); print()"
   ]
  },
  {
   "cell_type": "code",
   "execution_count": 0,
   "metadata": {
    "application/vnd.databricks.v1+cell": {
     "cellMetadata": {
      "byteLimit": 2048000,
      "rowLimit": 10000
     },
     "inputWidgets": {},
     "nuid": "8940c8e7-071f-4afa-8805-3abcf1c332b9",
     "showTitle": false,
     "tableResultSettingsMap": {},
     "title": ""
    }
   },
   "outputs": [],
   "source": [
    "display(_deaths_before_end)"
   ]
  },
  {
   "cell_type": "code",
   "execution_count": 0,
   "metadata": {
    "application/vnd.databricks.v1+cell": {
     "cellMetadata": {
      "byteLimit": 2048000,
      "rowLimit": 10000
     },
     "inputWidgets": {},
     "nuid": "34c025f0-02e3-425d-942f-50df16bf8430",
     "showTitle": true,
     "tableResultSettingsMap": {},
     "title": "Glimpse - DOD ON Censor End Date (Date of Operation)"
    }
   },
   "outputs": [],
   "source": [
    "_deaths_on_end = (\n",
    "    _deaths\n",
    "    .where(\n",
    "        (f.col('DOD') == f.col('CENSOR_DATE_END'))\n",
    "  )\n",
    ")\n",
    "\n",
    " # check\n",
    "count_var(_deaths_on_end, 'PERSON_ID'); print()"
   ]
  },
  {
   "cell_type": "code",
   "execution_count": 0,
   "metadata": {
    "application/vnd.databricks.v1+cell": {
     "cellMetadata": {
      "byteLimit": 2048000,
      "rowLimit": 10000
     },
     "inputWidgets": {},
     "nuid": "f58c614b-7124-43dc-8d1d-91ff8d18cde2",
     "showTitle": false,
     "tableResultSettingsMap": {},
     "title": ""
    }
   },
   "outputs": [],
   "source": [
    "display(_deaths_on_end)"
   ]
  },
  {
   "cell_type": "code",
   "execution_count": 0,
   "metadata": {
    "application/vnd.databricks.v1+cell": {
     "cellMetadata": {
      "byteLimit": 2048000,
      "rowLimit": 10000
     },
     "inputWidgets": {},
     "nuid": "5c083fb4-e165-4155-8a99-d06a39aa6b4b",
     "showTitle": false,
     "tableResultSettingsMap": {},
     "title": ""
    }
   },
   "outputs": [],
   "source": [
    "# Note that there can be cases where a person has > 1 underlying cause of death - this will be because the code has been truncated in one version\n",
    "display(_deaths.filter(f.col(\"PERSON_ID\")==\"XMB5D4NMEMN9QFJ\"))"
   ]
  },
  {
   "cell_type": "code",
   "execution_count": 0,
   "metadata": {
    "application/vnd.databricks.v1+cell": {
     "cellMetadata": {
      "byteLimit": 2048000,
      "rowLimit": 10000
     },
     "inputWidgets": {},
     "nuid": "a7b60ebb-7000-4299-8aa4-0bbf88183d67",
     "showTitle": true,
     "tableResultSettingsMap": {},
     "title": "Removed this - Now filter to deaths >= date of operation"
    }
   },
   "outputs": [],
   "source": [
    "_deaths = (\n",
    "    _deaths\n",
    "#     .where(\n",
    "#         (f.col('DOD') >= f.col('CENSOR_DATE_START'))\n",
    "#   )\n",
    ")\n",
    "\n",
    " # check\n",
    "count_var(_deaths, 'PERSON_ID'); print()"
   ]
  },
  {
   "cell_type": "code",
   "execution_count": 0,
   "metadata": {
    "application/vnd.databricks.v1+cell": {
     "cellMetadata": {
      "byteLimit": 2048000,
      "rowLimit": 10000
     },
     "inputWidgets": {},
     "nuid": "89623c9c-e39b-4525-9096-ff5e21db7f06",
     "showTitle": false,
     "tableResultSettingsMap": {},
     "title": ""
    }
   },
   "outputs": [],
   "source": [
    "display(_deaths)"
   ]
  },
  {
   "cell_type": "markdown",
   "metadata": {
    "application/vnd.databricks.v1+cell": {
     "cellMetadata": {
      "byteLimit": 2048000,
      "rowLimit": 10000
     },
     "inputWidgets": {},
     "nuid": "1b09d753-fd51-4343-a834-01f3402035dc",
     "showTitle": false,
     "tableResultSettingsMap": {},
     "title": ""
    }
   },
   "source": [
    "##2.2 Codelist Match - CVD and All Cause Death"
   ]
  },
  {
   "cell_type": "code",
   "execution_count": 0,
   "metadata": {
    "application/vnd.databricks.v1+cell": {
     "cellMetadata": {
      "byteLimit": 2048000,
      "rowLimit": 10000
     },
     "inputWidgets": {},
     "nuid": "031e2b0a-7f40-48ad-9486-34f7aa9aa9c7",
     "showTitle": false,
     "tableResultSettingsMap": {},
     "title": ""
    }
   },
   "outputs": [],
   "source": [
    "display(study_end_date)"
   ]
  },
  {
   "cell_type": "code",
   "execution_count": 0,
   "metadata": {
    "application/vnd.databricks.v1+cell": {
     "cellMetadata": {
      "byteLimit": 2048000,
      "rowLimit": 10000
     },
     "inputWidgets": {},
     "nuid": "cff9930d-e3b4-4fac-8008-c87913916b70",
     "showTitle": false,
     "tableResultSettingsMap": {},
     "title": ""
    }
   },
   "outputs": [],
   "source": [
    "print('--------------------------------------------------------------------------------------')\n",
    "print('individual_censor_dates')\n",
    "print('--------------------------------------------------------------------------------------')\n",
    "\n",
    "# CENSOR START - Date of Operation\n",
    "# CENSOR END - Study End Date\n",
    "\n",
    "individual_censor_dates_post = (\n",
    "  cohort\n",
    "  .select(\"PERSON_ID\",\"OPERATION_DATE\")\n",
    "  .withColumnRenamed('OPERATION_DATE', 'CENSOR_DATE_START')\n",
    "  .withColumn('CENSOR_DATE_START', f.to_date(f.col('CENSOR_DATE_START')))\n",
    "  .withColumn('CENSOR_DATE_END', f.lit(study_end_date))\n",
    "\n",
    ")\n",
    "\n",
    "# check\n",
    "count_var(individual_censor_dates_post, 'PERSON_ID'); print()\n",
    "print(individual_censor_dates_post.limit(10).toPandas().to_string()); print()"
   ]
  },
  {
   "cell_type": "code",
   "execution_count": 0,
   "metadata": {
    "application/vnd.databricks.v1+cell": {
     "cellMetadata": {
      "byteLimit": 2048000,
      "rowLimit": 10000
     },
     "inputWidgets": {},
     "nuid": "0f781639-f247-40ce-aa6f-7564d67c192a",
     "showTitle": false,
     "tableResultSettingsMap": {},
     "title": ""
    }
   },
   "outputs": [],
   "source": [
    "_deaths_clean = (\n",
    "    _deaths.withColumnRenamed(\"DOD\",\"DATE\").drop(\"CENSOR_DATE_START\",\"CENSOR_DATE_END\",\"LSOA_Outside_England\")\n",
    "    .join(individual_censor_dates_post, on='PERSON_ID', how='inner')\n",
    "    \n",
    ")\n",
    "\n",
    "count_var(_deaths_clean, 'PERSON_ID'); print()"
   ]
  },
  {
   "cell_type": "code",
   "execution_count": 0,
   "metadata": {
    "application/vnd.databricks.v1+cell": {
     "cellMetadata": {
      "byteLimit": 2048000,
      "rowLimit": 10000
     },
     "inputWidgets": {},
     "nuid": "bd524686-6163-48c0-8188-cde70caf5828",
     "showTitle": false,
     "tableResultSettingsMap": {},
     "title": ""
    }
   },
   "outputs": [],
   "source": [
    "# some people had cvd death and non cvd death found\n",
    "# since some of their codes were in 4 digits in deaths and also 3\n",
    "# so the 4 digit was being matched but not the 3 digit (hence non cvd)\n",
    "\n",
    "window_spec = Window.partitionBy('PERSON_ID').orderBy(f.col('outcomes_death_description'))\n",
    "\n",
    "_deaths_clean = (\n",
    "    _deaths_clean #underlying causes of death\n",
    "    # define those which are cvd or not\n",
    "    .join((codelist_outcomes_cvd_death\n",
    "           .select(f.col(\"code\").alias(\"CODE\"))\n",
    "           .withColumn(\"outcomes_death_description\",f.lit(\"cvd_death\"))),\n",
    "          on=\"CODE\",how=\"left\"\n",
    "          )\n",
    "    .withColumn(\"outcomes_death_description\", f.when(f.col(\"outcomes_death_description\").isNull(),f.lit(\"non_cvd_death\")).otherwise(f.col(\"outcomes_death_description\")))\n",
    "\n",
    "    # .where((f.col('DATE') >= f.col('CENSOR_DATE_START')))\n",
    "    # .where((f.col('DATE') <= f.col('CENSOR_DATE_END')))\n",
    "\n",
    "    #.select(\"PERSON_ID\",f.col(\"DATE\").alias(\"DOD\"),\"outcomes_death_description\")\n",
    "    .distinct()\n",
    "    .withColumn('rownum', f.row_number().over(window_spec))\n",
    "    .where(f.col('rownum') == 1).drop('rownum') #for this with cvd and non cvd keep cvd only\n",
    "\n",
    "    )"
   ]
  },
  {
   "cell_type": "code",
   "execution_count": 0,
   "metadata": {
    "application/vnd.databricks.v1+cell": {
     "cellMetadata": {
      "byteLimit": 2048000,
      "rowLimit": 10000
     },
     "inputWidgets": {},
     "nuid": "0ece4d84-8770-402e-ba8e-793db18e73cd",
     "showTitle": false,
     "tableResultSettingsMap": {},
     "title": ""
    }
   },
   "outputs": [],
   "source": [
    "display(\n",
    "    _deaths_clean\n",
    "      #.where((f.col('DATE') < f.col('CENSOR_DATE_START'))) # 3 people\n",
    "     #.where((f.col('DATE') > f.col('CENSOR_DATE_END'))).count() #10000 people have died since the study end date\n",
    "    )"
   ]
  },
  {
   "cell_type": "code",
   "execution_count": 0,
   "metadata": {
    "application/vnd.databricks.v1+cell": {
     "cellMetadata": {
      "byteLimit": 2048000,
      "rowLimit": 10000
     },
     "inputWidgets": {},
     "nuid": "79371631-d308-4634-9a06-4dc4bb6873e4",
     "showTitle": false,
     "tableResultSettingsMap": {},
     "title": ""
    }
   },
   "outputs": [],
   "source": [
    "save_table(df=_deaths_clean, out_name=f'{proj}_outcomes_deaths',save_previous=False)"
   ]
  },
  {
   "cell_type": "markdown",
   "metadata": {
    "application/vnd.databricks.v1+cell": {
     "cellMetadata": {
      "byteLimit": 2048000,
      "rowLimit": 10000
     },
     "inputWidgets": {},
     "nuid": "1f166396-8e73-4873-8976-b76536acd757",
     "showTitle": false,
     "tableResultSettingsMap": {},
     "title": ""
    }
   },
   "source": [
    "#3. Hospitalisation with HF"
   ]
  },
  {
   "cell_type": "markdown",
   "metadata": {
    "application/vnd.databricks.v1+cell": {
     "cellMetadata": {
      "byteLimit": 2048000,
      "rowLimit": 10000
     },
     "inputWidgets": {},
     "nuid": "42272fdc-273b-4edb-bd3e-e147586636ac",
     "showTitle": false,
     "tableResultSettingsMap": {},
     "title": ""
    }
   },
   "source": [
    "##3.0 Adjust Censor Dates for DISDATE\n",
    "\n",
    "We need to shift the CENSOR_DATE_START from the Date of Surgery to the Date they were checked out of hospital after surgery\n",
    "\n",
    "ADMIDATE is on all records so for the Surgery Date that uses EPISTART - get the ADMIDATE\n",
    "Then for this unique ADMIDATE find the EPIKEY that has DISDATE filled in - not all Episodes have DISDATE - only the final episode of a spell."
   ]
  },
  {
   "cell_type": "code",
   "execution_count": 0,
   "metadata": {
    "application/vnd.databricks.v1+cell": {
     "cellMetadata": {
      "byteLimit": 2048000,
      "rowLimit": 10000
     },
     "inputWidgets": {},
     "nuid": "fac95a3a-e5bc-4e76-b241-c656e30a9d74",
     "showTitle": true,
     "tableResultSettingsMap": {},
     "title": "HES Curated Date now including DISDATE"
    }
   },
   "outputs": [],
   "source": [
    "%%script echo skipping\n",
    "hes_apc = extract_batch_from_archive(parameters_df_datasets, 'hes_apc')\n",
    "\n",
    "tmp_hes_apc = (\n",
    "  hes_apc  \n",
    "  .select(['PERSON_ID_DEID', 'EPIKEY', 'EPISTART', 'ADMIDATE', 'DISDATE'] \n",
    "          + [col for col in list(hes_apc.columns) if re.match(r'^DIAG_(3|4)_\\d\\d$', col)])\n",
    "  .withColumnRenamed('PERSON_ID_DEID', 'PERSON_ID')\n",
    "  .orderBy('PERSON_ID', 'EPIKEY')\n",
    ")\n",
    "\n",
    "tmp_hes_apc_long = (\n",
    "  reshape_wide_to_long_multi(tmp_hes_apc, i=['PERSON_ID', 'EPIKEY', 'EPISTART', 'ADMIDATE', 'DISDATE'], j='POSITION', stubnames=['DIAG_4_', 'DIAG_3_'])\n",
    "  .withColumn('_tmp', f.substring(f.col('DIAG_4_'), 1, 3))\n",
    "  .withColumn('_chk', udf_null_safe_equality('DIAG_3_', '_tmp').cast(t.IntegerType()))\n",
    "  .withColumn('_DIAG_4_len', f.length(f.col('DIAG_4_')))\n",
    "  .withColumn('_chk2', f.when((f.col('_DIAG_4_len').isNull()) | (f.col('_DIAG_4_len') <= 4), 1).otherwise(0))\n",
    ")\n",
    "\n",
    "tmp_hes_apc_long = reshape_wide_to_long_multi(tmp_hes_apc_long, i=['PERSON_ID', 'EPIKEY', 'EPISTART', 'ADMIDATE', 'DISDATE', 'POSITION'], j='DIAG_DIGITS', stubnames=['DIAG_'])\\\n",
    "  .withColumnRenamed('POSITION', 'DIAG_POSITION')\\\n",
    "  .withColumn('DIAG_POSITION', f.regexp_replace('DIAG_POSITION', r'^[0]', ''))\\\n",
    "  .withColumn('DIAG_DIGITS', f.regexp_replace('DIAG_DIGITS', r'[_]', ''))\\\n",
    "  .withColumn('DIAG_', f.regexp_replace('DIAG_', r'X$', ''))\\\n",
    "  .withColumn('DIAG_', f.regexp_replace('DIAG_', r'[.,\\-\\s]', ''))\\\n",
    "  .withColumnRenamed('DIAG_', 'CODE')\\\n",
    "  .where((f.col('CODE').isNotNull()) & (f.col('CODE') != ''))\\\n",
    "  .orderBy(['PERSON_ID', 'EPIKEY', 'DIAG_DIGITS', 'DIAG_POSITION'])\n",
    "\n",
    "# adding in cohort to make table smaller and quicker to save\n",
    "tmp_hes_apc_long = (\n",
    "  cohort.select(\"PERSON_ID\").join(tmp_hes_apc_long,on=\"PERSON_ID\",how=\"left\")\n",
    "  .select('PERSON_ID', f.col('EPISTART'), 'ADMIDATE','DISDATE','CODE', 'DIAG_POSITION', 'DIAG_DIGITS','EPIKEY')\n",
    ")"
   ]
  },
  {
   "cell_type": "code",
   "execution_count": 0,
   "metadata": {
    "application/vnd.databricks.v1+cell": {
     "cellMetadata": {
      "byteLimit": 2048000,
      "rowLimit": 10000
     },
     "inputWidgets": {},
     "nuid": "be293d06-3cf8-4b47-948a-c73ec04393d5",
     "showTitle": false,
     "tableResultSettingsMap": {},
     "title": ""
    }
   },
   "outputs": [],
   "source": [
    "%%script echo skipping\n",
    "save_table(df=tmp_hes_apc_long, out_name=f'{proj}_outcomes_tmp_hes_apc_long',save_previous=False)"
   ]
  },
  {
   "cell_type": "code",
   "execution_count": 0,
   "metadata": {
    "application/vnd.databricks.v1+cell": {
     "cellMetadata": {
      "byteLimit": 2048000,
      "rowLimit": 10000
     },
     "inputWidgets": {},
     "nuid": "f132b730-0d8e-4ed8-8175-1a158da17f36",
     "showTitle": false,
     "tableResultSettingsMap": {},
     "title": ""
    }
   },
   "outputs": [],
   "source": [
    "tmp_hes_apc_long = spark.table(f'{dsa}.{proj}_outcomes_tmp_hes_apc_long')"
   ]
  },
  {
   "cell_type": "code",
   "execution_count": 0,
   "metadata": {
    "application/vnd.databricks.v1+cell": {
     "cellMetadata": {
      "byteLimit": 2048000,
      "rowLimit": 10000
     },
     "inputWidgets": {},
     "nuid": "e6c9cadc-4800-40ba-a119-f8bba7288ed2",
     "showTitle": false,
     "tableResultSettingsMap": {},
     "title": ""
    }
   },
   "outputs": [],
   "source": [
    "# codelists_inclusions = spark.table(f'{dsa}.{proj}_out_codelists_inclusions')\n",
    "\n",
    "procedure_codes_op_dates = spark.table(f'{dsa}.{proj}_tmp_cases_procedure_codes_operation_dates')\n",
    "\n",
    "window_spec = Window.partitionBy('PERSON_ID','OPDATE').orderBy(f.col('DISDATE').desc())\n",
    "\n",
    "discharge_dates = (\n",
    "    cohort #182318\n",
    "    .select(\"PERSON_ID\",f.col(\"OPERATION_DATE\").alias(\"OPDATE\"))\n",
    "    .join((procedure_codes_op_dates.select(\"PERSON_ID\",\"OPDATE\",\"EPIKEY\")),on=[\"PERSON_ID\",\"OPDATE\"],how=\"left\") #Now have EPIKEY\n",
    "    .distinct() #183079\n",
    "    .join(tmp_hes_apc_long,on=[\"PERSON_ID\",\"EPIKEY\"],how=\"left\")\n",
    "    .distinct()\n",
    "    #.join(codelists_inclusions,on=\"CODE\",how=\"right\")\n",
    "    .select(\"PERSON_ID\",\"EPIKEY\",\"OPDATE\",\"ADMIDATE\",\"DISDATE\")\n",
    "    .distinct()\n",
    "    .withColumn('rownum', f.row_number().over(window_spec)).where(f.col('rownum') == 1).drop('rownum')\n",
    "\n",
    "    )\n",
    "\n",
    "display(discharge_dates)"
   ]
  },
  {
   "cell_type": "code",
   "execution_count": 0,
   "metadata": {
    "application/vnd.databricks.v1+cell": {
     "cellMetadata": {
      "byteLimit": 2048000,
      "rowLimit": 10000
     },
     "inputWidgets": {},
     "nuid": "fd5700e0-c505-4e6f-bd54-0b3d5729e70e",
     "showTitle": false,
     "tableResultSettingsMap": {},
     "title": ""
    }
   },
   "outputs": [],
   "source": [
    "discharge_dates_post = (\n",
    "        discharge_dates\n",
    "        .filter(f.col(\"DISDATE\").isNotNull())\n",
    "        .filter(f.col(\"DISDATE\")>f.col(\"OPDATE\"))\n",
    "        .select(\"PERSON_ID\",\"DISDATE\",\"OPDATE\")\n",
    "        .distinct() #161556 of the 182318 have a DISDATE (20762 11% have no DISDATE)\n",
    "        )"
   ]
  },
  {
   "cell_type": "code",
   "execution_count": 0,
   "metadata": {
    "application/vnd.databricks.v1+cell": {
     "cellMetadata": {
      "byteLimit": 2048000,
      "rowLimit": 10000
     },
     "inputWidgets": {},
     "nuid": "b38ba373-00ff-4924-931e-18f0c0463954",
     "showTitle": false,
     "tableResultSettingsMap": {},
     "title": ""
    }
   },
   "outputs": [],
   "source": [
    "display(\n",
    "    discharge_dates_post.withColumn(\"Diff\", f.datediff(f.col(\"DISDATE\"),f.col(\"OPDATE\")))\n",
    "    .agg(\n",
    "        f.avg(f.col('Diff')).alias('avg'),\n",
    "        f.median(f.col('Diff')).alias('median'),\n",
    "        f.min(f.col('Diff')).alias('min'),\n",
    "        f.max(f.col('Diff')).alias('max'),\n",
    "    )\n",
    "        )"
   ]
  },
  {
   "cell_type": "code",
   "execution_count": 0,
   "metadata": {
    "application/vnd.databricks.v1+cell": {
     "cellMetadata": {
      "byteLimit": 2048000,
      "rowLimit": 10000
     },
     "inputWidgets": {},
     "nuid": "8f9235f5-12c3-417f-be20-6dca80ae8978",
     "showTitle": false,
     "tableResultSettingsMap": {},
     "title": ""
    }
   },
   "outputs": [],
   "source": [
    "display(\n",
    "    discharge_dates_post.withColumn(\"Diff\", f.datediff(f.col(\"DISDATE\"),f.col(\"OPDATE\")))\n",
    "        )"
   ]
  },
  {
   "cell_type": "markdown",
   "metadata": {
    "application/vnd.databricks.v1+cell": {
     "cellMetadata": {
      "byteLimit": 2048000,
      "rowLimit": 10000
     },
     "inputWidgets": {},
     "nuid": "bb09cc8e-c74c-4acc-b668-fd47f9694b85",
     "showTitle": false,
     "tableResultSettingsMap": {},
     "title": ""
    }
   },
   "source": [
    "\n",
    "For those with no DISDATE - will add on the median days diff between OP and DIS to their OP DATE"
   ]
  },
  {
   "cell_type": "code",
   "execution_count": 0,
   "metadata": {
    "application/vnd.databricks.v1+cell": {
     "cellMetadata": {
      "byteLimit": 2048000,
      "rowLimit": 10000
     },
     "inputWidgets": {},
     "nuid": "d93989be-b759-4c7a-848a-de6dc51e2d32",
     "showTitle": false,
     "tableResultSettingsMap": {},
     "title": ""
    }
   },
   "outputs": [],
   "source": [
    "cohort_discharge_dates = (\n",
    "    discharge_dates\n",
    "        .withColumn(\"Impute\", f.when(f.col(\"DISDATE\").isNull(), \"1\").otherwise(\"0\"))\n",
    "        .withColumn(\"Impute\", f.when(f.col(\"DISDATE\")<f.col(\"OPDATE\"), \"1\").otherwise(f.col(\"Impute\")))\n",
    "        .withColumn(\"DISDATE_NEW\", f.when(f.col(\"Impute\")==\"1\",f.to_date(f.col(\"OPDATE\"))+7).otherwise(f.col(\"DISDATE\")))\n",
    "        .select(\"PERSON_ID\",f.col(\"DISDATE_NEW\").alias(\"DISDATE\"))\n",
    "        .distinct() #182318 as expected\n",
    "\n",
    "    )"
   ]
  },
  {
   "cell_type": "code",
   "execution_count": 0,
   "metadata": {
    "application/vnd.databricks.v1+cell": {
     "cellMetadata": {
      "byteLimit": 2048000,
      "rowLimit": 10000
     },
     "inputWidgets": {},
     "nuid": "0479b7de-f97f-4efe-95c4-b3c47ca931f2",
     "showTitle": false,
     "tableResultSettingsMap": {},
     "title": ""
    }
   },
   "outputs": [],
   "source": [
    "%%script echo skipping\n",
    "save_table(df=cohort_discharge_dates, out_name=f'{proj}_cohort_discharge_dates',save_previous=False)"
   ]
  },
  {
   "cell_type": "code",
   "execution_count": 0,
   "metadata": {
    "application/vnd.databricks.v1+cell": {
     "cellMetadata": {
      "byteLimit": 2048000,
      "rowLimit": 10000
     },
     "inputWidgets": {},
     "nuid": "dd838773-1693-4d38-b7f0-8516b6d18ed6",
     "showTitle": false,
     "tableResultSettingsMap": {},
     "title": ""
    }
   },
   "outputs": [],
   "source": [
    "cohort_discharge_dates = spark.table(f'{dsa}.{proj}_cohort_discharge_dates')"
   ]
  },
  {
   "cell_type": "code",
   "execution_count": 0,
   "metadata": {
    "application/vnd.databricks.v1+cell": {
     "cellMetadata": {
      "byteLimit": 2048000,
      "rowLimit": 10000
     },
     "inputWidgets": {},
     "nuid": "fb08bc12-ca5c-4df8-b63a-603f27f7d724",
     "showTitle": false,
     "tableResultSettingsMap": {},
     "title": ""
    }
   },
   "outputs": [],
   "source": [
    "print('--------------------------------------------------------------------------------------')\n",
    "print('individual_censor_dates')\n",
    "print('--------------------------------------------------------------------------------------')\n",
    "\n",
    "# CENSOR START - Date of Discharge after surgery\n",
    "# CENSOR END - Study End Date\n",
    "\n",
    "individual_censor_dates_discharge = (\n",
    "  cohort_discharge_dates\n",
    "  .select(\"PERSON_ID\",\"DISDATE\")\n",
    "  .withColumnRenamed('DISDATE', 'CENSOR_DATE_START')\n",
    "  .withColumn('CENSOR_DATE_START', f.to_date(f.col('CENSOR_DATE_START')))\n",
    "  .withColumn('CENSOR_DATE_END', f.lit(study_end_date))\n",
    "\n",
    ")\n",
    "\n",
    "# check\n",
    "count_var(individual_censor_dates_discharge, 'PERSON_ID'); print()\n",
    "print(individual_censor_dates_discharge.limit(10).toPandas().to_string()); print()"
   ]
  },
  {
   "cell_type": "code",
   "execution_count": 0,
   "metadata": {
    "application/vnd.databricks.v1+cell": {
     "cellMetadata": {
      "byteLimit": 2048000,
      "rowLimit": 10000
     },
     "inputWidgets": {},
     "nuid": "bae8bb34-f94b-43ef-bcf4-a4439b1438f9",
     "showTitle": false,
     "tableResultSettingsMap": {},
     "title": ""
    }
   },
   "outputs": [],
   "source": [
    "# reduce and rename columns\n",
    "hes_apc_long_prepared = (\n",
    "  hes_apc_long\n",
    "  .select('PERSON_ID', f.col('EPISTART').alias('DATE'), 'CODE', 'DIAG_POSITION', 'DIAG_DIGITS')\n",
    ")\n",
    "\n",
    "# merge in individual censor dates\n",
    "hes_apc_long_prepared = (\n",
    "  hes_apc_long_prepared\n",
    "  .join(individual_censor_dates_discharge, on='PERSON_ID', how='inner')\n",
    ")\n",
    "\n",
    "\n",
    "# filter to admissions post oepration and before study end date\n",
    "hes_apc_long_prepared = (\n",
    "  hes_apc_long_prepared\n",
    "      .where((f.col('DATE') >= f.col('CENSOR_DATE_START')))\n",
    "      .where((f.col('DATE') <= f.col('CENSOR_DATE_END')))\n",
    "  \n",
    ")"
   ]
  },
  {
   "cell_type": "code",
   "execution_count": 0,
   "metadata": {
    "application/vnd.databricks.v1+cell": {
     "cellMetadata": {
      "byteLimit": 2048000,
      "rowLimit": 10000
     },
     "inputWidgets": {},
     "nuid": "19588fb8-5a7c-404e-a270-d28f480e7c89",
     "showTitle": false,
     "tableResultSettingsMap": {},
     "title": ""
    }
   },
   "outputs": [],
   "source": [
    "\n",
    "\n",
    "display(hes_apc_long_prepared)"
   ]
  },
  {
   "cell_type": "code",
   "execution_count": 0,
   "metadata": {
    "application/vnd.databricks.v1+cell": {
     "cellMetadata": {
      "byteLimit": 2048000,
      "rowLimit": 10000
     },
     "inputWidgets": {},
     "nuid": "1e18ca44-ac68-4b3c-bb76-e63a76e5d232",
     "showTitle": false,
     "tableResultSettingsMap": {},
     "title": ""
    }
   },
   "outputs": [],
   "source": [
    "display(codelist_outcomes_hf)"
   ]
  },
  {
   "cell_type": "markdown",
   "metadata": {
    "application/vnd.databricks.v1+cell": {
     "cellMetadata": {
      "byteLimit": 2048000,
      "rowLimit": 10000
     },
     "inputWidgets": {},
     "nuid": "fb8c3d60-216b-473e-9784-18a43814d77c",
     "showTitle": false,
     "tableResultSettingsMap": {},
     "title": ""
    }
   },
   "source": [
    "##3.2 Codelist Match - HF and All Cause Hospitalisations"
   ]
  },
  {
   "cell_type": "code",
   "execution_count": 0,
   "metadata": {
    "application/vnd.databricks.v1+cell": {
     "cellMetadata": {
      "byteLimit": 2048000,
      "rowLimit": 10000
     },
     "inputWidgets": {},
     "nuid": "b4ec841c-a362-462d-8372-b35bbead49fc",
     "showTitle": false,
     "tableResultSettingsMap": {},
     "title": ""
    }
   },
   "outputs": [],
   "source": [
    "hes_wide = (hes_apc_long_prepared\n",
    "        .select(\"PERSON_ID\",\"DATE\",\"CODE\",\"DIAG_POSITION\",\"DIAG_DIGITS\")\n",
    "        .groupBy(\"PERSON_ID\",\"DATE\",\"DIAG_POSITION\").pivot(\"DIAG_DIGITS\").agg(f.first(\"CODE\"))\n",
    "        .withColumnRenamed(\"3\",\"DIAG_3\")\n",
    "        .withColumnRenamed(\"4\",\"DIAG_4\")\n",
    "        )"
   ]
  },
  {
   "cell_type": "code",
   "execution_count": 0,
   "metadata": {
    "application/vnd.databricks.v1+cell": {
     "cellMetadata": {
      "byteLimit": 2048000,
      "rowLimit": 10000
     },
     "inputWidgets": {},
     "nuid": "7c6097be-db0e-44d9-a0f9-6af944b460f1",
     "showTitle": false,
     "tableResultSettingsMap": {},
     "title": ""
    }
   },
   "outputs": [],
   "source": [
    "# display(hes_wide.filter(f.col(\"DiAG_4\").isNull()))"
   ]
  },
  {
   "cell_type": "code",
   "execution_count": 0,
   "metadata": {
    "application/vnd.databricks.v1+cell": {
     "cellMetadata": {
      "byteLimit": 2048000,
      "rowLimit": 10000
     },
     "inputWidgets": {},
     "nuid": "8640350b-c09c-4b2a-8c8a-280e90b4529e",
     "showTitle": false,
     "tableResultSettingsMap": {},
     "title": ""
    }
   },
   "outputs": [],
   "source": [
    "outcomes_hospitalisations_raw = (\n",
    "    hes_apc_long_prepared\n",
    "    .filter(f.col(\"DIAG_POSITION\")==1) #first position only\n",
    "        .join((codelist_outcomes_hf\n",
    "           .select(f.col(\"code\").alias(\"CODE\"))\n",
    "           .withColumn(\"outcomes_hosp_description\",f.lit(\"cvd_hosp\"))),\n",
    "          on=\"CODE\",how=\"left\"\n",
    "          )\n",
    "    .withColumn(\"outcomes_hosp_description\", f.when(f.col(\"outcomes_hosp_description\").isNull(),f.lit(\"non_cvd_hosp\")).otherwise(f.col(\"outcomes_hosp_description\")))\n",
    "    .join(cohort,on=\"PERSON_ID\",how=\"left\")\n",
    "\n",
    "        )"
   ]
  },
  {
   "cell_type": "code",
   "execution_count": 0,
   "metadata": {
    "application/vnd.databricks.v1+cell": {
     "cellMetadata": {
      "byteLimit": 2048000,
      "rowLimit": 10000
     },
     "inputWidgets": {},
     "nuid": "9d9a579b-ae4b-466d-aee6-c05c30538fcd",
     "showTitle": false,
     "tableResultSettingsMap": {},
     "title": ""
    }
   },
   "outputs": [],
   "source": [
    "save_table(df=outcomes_hospitalisations_raw, out_name=f'{proj}_outcomes_hospitalisations_raw',save_previous=False)"
   ]
  },
  {
   "cell_type": "code",
   "execution_count": 0,
   "metadata": {
    "application/vnd.databricks.v1+cell": {
     "cellMetadata": {
      "byteLimit": 2048000,
      "rowLimit": 10000
     },
     "inputWidgets": {},
     "nuid": "8ae0864a-5710-46ce-953b-5206cd3ef40a",
     "showTitle": false,
     "tableResultSettingsMap": {},
     "title": ""
    }
   },
   "outputs": [],
   "source": [
    "outcomes_hospitalisations_raw = spark.table(f'{dsa}.{proj}_outcomes_hospitalisations_raw')"
   ]
  },
  {
   "cell_type": "code",
   "execution_count": 0,
   "metadata": {
    "application/vnd.databricks.v1+cell": {
     "cellMetadata": {
      "byteLimit": 2048000,
      "rowLimit": 10000
     },
     "inputWidgets": {},
     "nuid": "45ca5499-0efa-44c2-8a1b-8931ce4a1a21",
     "showTitle": false,
     "tableResultSettingsMap": {},
     "title": ""
    }
   },
   "outputs": [],
   "source": [
    "display(outcomes_hospitalisations_raw)"
   ]
  },
  {
   "cell_type": "markdown",
   "metadata": {
    "application/vnd.databricks.v1+cell": {
     "cellMetadata": {},
     "inputWidgets": {},
     "nuid": "014de77e-efc9-49e6-a838-3292904d123e",
     "showTitle": false,
     "tableResultSettingsMap": {},
     "title": ""
    }
   },
   "source": [
    "##3.3 Codelist Match - CVD and All Cause Hospitalisations"
   ]
  },
  {
   "cell_type": "code",
   "execution_count": 0,
   "metadata": {
    "application/vnd.databricks.v1+cell": {
     "cellMetadata": {
      "byteLimit": 2048000,
      "rowLimit": 10000
     },
     "inputWidgets": {},
     "nuid": "9fe6afe0-957c-4178-992e-4d1aaa2b4540",
     "showTitle": false,
     "tableResultSettingsMap": {},
     "title": ""
    }
   },
   "outputs": [],
   "source": [
    "outcomes_hospitalisations_raw_cvd = (\n",
    "    hes_apc_long_prepared\n",
    "    .filter(f.col(\"DIAG_POSITION\")==1) #first position only\n",
    "        .join((codelist_outcomes_cvd_hosp\n",
    "           .select(f.col(\"code\").alias(\"CODE\"))\n",
    "           .withColumn(\"outcomes_hosp_description\",f.lit(\"cvd_hosp\"))),\n",
    "          on=\"CODE\",how=\"left\"\n",
    "          )\n",
    "    .withColumn(\"outcomes_hosp_description\", f.when(f.col(\"outcomes_hosp_description\").isNull(),f.lit(\"non_cvd_hosp\")).otherwise(f.col(\"outcomes_hosp_description\")))\n",
    "    .join(cohort,on=\"PERSON_ID\",how=\"left\")\n",
    "\n",
    "        )"
   ]
  },
  {
   "cell_type": "code",
   "execution_count": 0,
   "metadata": {
    "application/vnd.databricks.v1+cell": {
     "cellMetadata": {
      "byteLimit": 2048000,
      "rowLimit": 10000
     },
     "inputWidgets": {},
     "nuid": "7ea826d0-1fd1-487a-a652-5e76ba111f03",
     "showTitle": false,
     "tableResultSettingsMap": {},
     "title": ""
    }
   },
   "outputs": [],
   "source": [
    "save_table(df=outcomes_hospitalisations_raw_cvd, out_name=f'{proj}_outcomes_hospitalisations_raw_cvd',save_previous=False)"
   ]
  }
 ],
 "metadata": {
  "application/vnd.databricks.v1+notebook": {
   "computePreferences": null,
   "dashboards": [],
   "environmentMetadata": {
    "base_environment": "",
    "client": "1"
   },
   "language": "python",
   "notebookMetadata": {
    "pythonIndentUnit": 4
   },
   "notebookName": "CCU056-07c-outcomes",
   "widgets": {}
  },
  "language_info": {
   "name": "python"
  }
 },
 "nbformat": 4,
 "nbformat_minor": 0
}
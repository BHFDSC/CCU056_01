{
 "cells": [
  {
   "cell_type": "markdown",
   "metadata": {
    "application/vnd.databricks.v1+cell": {
     "cellMetadata": {
      "byteLimit": 2048000,
      "rowLimit": 10000
     },
     "inputWidgets": {},
     "nuid": "25a8eb30-6572-4de8-8e9e-e9e613d64336",
     "showTitle": false,
     "tableResultSettingsMap": {},
     "title": ""
    }
   },
   "source": [
    "# Curated Data - LSOA\n",
    " \n",
    "**Description** This notebook creates the covariates based on LSOA. LSOA will be used to derive LSOA, region and index of multiple deprivation.\n",
    "\n",
    "*Previous versions of this notebook incorporated LSOA batches from only the first and latest GDPPR batches. This updated version will employ a **staggered derivation** and LSOA will be obtained as at the closest date to the baseline batch. That is, the LSOA was taken from the first archived version of GDPPR (which has up until this point typically been the closest batch to baseline) and where persons were not included in this first batch of GDPPR, their LSOA would be extracted from the latest version of LSOA. For persons who had only 1 LSOA across their full history or records this was sufficient but for people who change practice in between the first and last batch used, this detail is overlooked. For example if a person was not included in batch 1 (the closest typically to baseline) and then also had multiple LSOAs across different GDPPR versions then taking the latest LSOA may not be the most appropriate LSOA to use. There in fact may be a different LSOA with a closer REPORTING_PERIOD_END_DATE in an earlier batch.*\n",
    "\n",
    "\n",
    "<br>**Full LSOA history**\n",
    "<br>Derivation of an LSOA histories table. This table tabulates a persons **full LSOA history** existing **across all archived versions** of GDPPR. By accessing all archived versions of GDPPR (full GDPPR table) a full history of a persons `LSOA` by `REPORTING_PERIOD_END_DATE` is captured. With access to all LSOAs with `REPORTING_PERIOD_END_DATE`, `LSOA` can be validated/confirmed and verified throughout the full history rather than only at the latest archived version. This will allow the most appropriate `LSOA` to be chosen for a given project study start date in part 2<br>\n",
    "\n",
    "\n",
    "**Please note** that the earlist `REPORTING_PERIOD_END_DATE` from GDPPR occurs as at 2020-05-18 (thus if a study end date falls before this date, no LSOA will be found in GDPPR unless a selection group post study end date is applied).\n",
    "\n",
    "\n",
    " \n",
    "<br>**Authors** Tom Bolton, Fionna Chalmers, Anna Stevenson (Health Data Science Team, BHF Data Science Centre)\n",
    "\n",
    "**Reviewers** âš  UNREVIEWED\n",
    "\n",
    "**Acknowledgements** Based on previous work for CCU003_05, CCU018_01 (Tom Bolton, John Nolan), earlier CCU002 sub-projects amd subsequently CCU002_07-D7a-covariates_LSOA\n",
    "\n",
    "**Notes**\n",
    "\n",
    "**Data output**\n",
    "- **`CCU056_gdppr_lsoa_rped`** : Full `LSOA` and `REPORTING_PERIOD_END_DATE` history across all versions of GDPPR for all individuals in the population\n",
    "- **`CCU056_gdppr_lsoa_rped_collapsed`** : Collapsed `LSOA` and `REPORTING_PERIOD_END_DATE` (one row per person) such that the closest to baseline `REPORTING_PERIOD_END_DATE` is chosen for LSOA. Note that this dataset includes those who have conflicts as at the closest to baseline `REPORTING_PERIOD_END_DATE`. These can be queried using `lsoa_conflict` == 1; for those who have no LSOA conflict `lsoa_conflict` == 0 (do note that for these persons there will be more than one row per person).\n",
    "- **`CCU056_gdppr_lsoa_rped_conflicts_full`** : For those who have a conflict, as described above, their full `LSOA` and `REPORTING_PERIOD_END_DATE` history with region and IMD has been compiled for review.\n",
    "- **`CCU056_lsoa`** : Collapsed `LSOA` and `REPORTING_PERIOD_END_DATE` (one row per person) such that the closest to baseline `REPORTING_PERIOD_END_DATE` is chosen for LSOA. Unlike `CCU056_gdppr_lsoa_rped_collapsed`, this dataset is strictly one row per person and conflicts here have been nulled. Note that an LSOA conflict does not imply that there will be a Region/IMD Decile/IMD Quintile conflict and in these cases these will be carried forward despite the LSOA conflict. See 'Final' section for more detail."
   ]
  },
  {
   "cell_type": "markdown",
   "metadata": {
    "application/vnd.databricks.v1+cell": {
     "cellMetadata": {
      "byteLimit": 2048000,
      "rowLimit": 10000
     },
     "inputWidgets": {},
     "nuid": "7159f9b7-efee-46d7-ac94-d7b382996468",
     "showTitle": false,
     "tableResultSettingsMap": {},
     "title": ""
    }
   },
   "source": [
    "# 0. Setup"
   ]
  },
  {
   "cell_type": "code",
   "execution_count": 0,
   "metadata": {
    "application/vnd.databricks.v1+cell": {
     "cellMetadata": {
      "byteLimit": 2048000,
      "rowLimit": 10000
     },
     "inputWidgets": {},
     "nuid": "18c6a166-aa42-40ce-8e12-743a77346ed8",
     "showTitle": false,
     "tableResultSettingsMap": {},
     "title": ""
    }
   },
   "outputs": [],
   "source": [
    "spark.sql('CLEAR CACHE')\n",
    "spark.conf.set('spark.sql.legacy.allowCreatingManagedTableUsingNonemptyLocation', 'true')"
   ]
  },
  {
   "cell_type": "code",
   "execution_count": 0,
   "metadata": {
    "application/vnd.databricks.v1+cell": {
     "cellMetadata": {
      "byteLimit": 2048000,
      "rowLimit": 10000
     },
     "inputWidgets": {},
     "nuid": "1559e7ec-e83a-47fa-9bf9-4632f2d9a322",
     "showTitle": true,
     "tableResultSettingsMap": {},
     "title": "Libraries"
    }
   },
   "outputs": [],
   "source": [
    "import pyspark.sql.functions as f\n",
    "import pyspark.sql.types as t\n",
    "from pyspark.sql import Window\n",
    "\n",
    "from functools import reduce\n",
    "\n",
    "import databricks.koalas as ks\n",
    "import pandas as pd\n",
    "import numpy as np\n",
    "\n",
    "import re\n",
    "import io\n",
    "import datetime\n",
    "\n",
    "import matplotlib\n",
    "import matplotlib.pyplot as plt\n",
    "from matplotlib import dates as mdates\n",
    "import seaborn as sns\n",
    "\n",
    "print(\"Matplotlib version: \", matplotlib.__version__)\n",
    "print(\"Seaborn version: \", sns.__version__)\n",
    "_datetimenow = datetime.datetime.now() # .strftime(\"%Y%m%d\")\n",
    "print(f\"_datetimenow:  {_datetimenow}\")"
   ]
  },
  {
   "cell_type": "code",
   "execution_count": 0,
   "metadata": {
    "application/vnd.databricks.v1+cell": {
     "cellMetadata": {
      "byteLimit": 2048000,
      "rowLimit": 10000
     },
     "inputWidgets": {},
     "nuid": "8a06c7f8-9448-425d-a0c9-50c566470729",
     "showTitle": true,
     "tableResultSettingsMap": {},
     "title": "Common Functions"
    }
   },
   "outputs": [],
   "source": [
    "%run \"/Repos/shds/common/functions\""
   ]
  },
  {
   "cell_type": "markdown",
   "metadata": {
    "application/vnd.databricks.v1+cell": {
     "cellMetadata": {
      "byteLimit": 2048000,
      "rowLimit": 10000
     },
     "inputWidgets": {},
     "nuid": "c952d514-5b3a-409d-97d7-cb26eba1719d",
     "showTitle": false,
     "tableResultSettingsMap": {},
     "title": ""
    }
   },
   "source": [
    "##0.1 Custom Functions"
   ]
  },
  {
   "cell_type": "code",
   "execution_count": 0,
   "metadata": {
    "application/vnd.databricks.v1+cell": {
     "cellMetadata": {
      "byteLimit": 2048000,
      "rowLimit": 10000
     },
     "inputWidgets": {},
     "nuid": "ddb087a1-3b22-4f89-a469-747b963ef111",
     "showTitle": true,
     "tableResultSettingsMap": {},
     "title": "lsoa_full_history"
    }
   },
   "outputs": [],
   "source": [
    "def lsoa_full_history(gdppr, pipeline_production_date):\n",
    "  \n",
    "  lsoa_rped_full = (\n",
    "  #Â´all archived versions of gdppr\n",
    "  gdppr\n",
    "    .select(f.col('NHS_NUMBER_DEID').alias('PERSON_ID'), f.col('REPORTING_PERIOD_END_DATE'), 'LSOA')\n",
    "    .where((f.col(\"LSOA\").isNotNull()) & (f.col(\"PERSON_ID\").isNotNull()))\n",
    "    .distinct()\n",
    "    .where(f.col('archived_on') <= pipeline_production_date) # ensure not working with a version > pipeline production date\n",
    "    .orderBy(f.col(\"PERSON_ID\"),f.col(\"REPORTING_PERIOD_END_DATE\"))\n",
    "  )\n",
    "  \n",
    "  return lsoa_rped_full"
   ]
  },
  {
   "cell_type": "markdown",
   "metadata": {
    "application/vnd.databricks.v1+cell": {
     "cellMetadata": {
      "byteLimit": 2048000,
      "rowLimit": 10000
     },
     "inputWidgets": {},
     "nuid": "9663d05f-e9d3-4e6a-bba4-1e53a270aa17",
     "showTitle": false,
     "tableResultSettingsMap": {},
     "title": ""
    }
   },
   "source": [
    "# 1. Parameters"
   ]
  },
  {
   "cell_type": "code",
   "execution_count": 0,
   "metadata": {
    "application/vnd.databricks.v1+cell": {
     "cellMetadata": {
      "byteLimit": 2048000,
      "rowLimit": 10000
     },
     "inputWidgets": {},
     "nuid": "1b1252fb-eb71-4202-8572-2e206f0a778b",
     "showTitle": false,
     "tableResultSettingsMap": {},
     "title": ""
    },
    "jupyter": {
     "outputs_hidden": true
    }
   },
   "outputs": [],
   "source": [
    "%run \"./CCU056-01-parameters\""
   ]
  },
  {
   "cell_type": "markdown",
   "metadata": {
    "application/vnd.databricks.v1+cell": {
     "cellMetadata": {
      "byteLimit": 2048000,
      "rowLimit": 10000
     },
     "inputWidgets": {},
     "nuid": "e87aef6e-f8ae-4c98-81f4-fc3bcc2b4284",
     "showTitle": false,
     "tableResultSettingsMap": {},
     "title": ""
    }
   },
   "source": [
    "# 2. Data"
   ]
  },
  {
   "cell_type": "code",
   "execution_count": 0,
   "metadata": {
    "application/vnd.databricks.v1+cell": {
     "cellMetadata": {
      "byteLimit": 2048000,
      "rowLimit": 10000
     },
     "inputWidgets": {},
     "nuid": "395d03cd-8bd2-4e57-92c0-fb72ecde1a04",
     "showTitle": false,
     "tableResultSettingsMap": {},
     "title": ""
    }
   },
   "outputs": [],
   "source": [
    "# -----------------------------------------------------------------------------\n",
    "# GDPPR Paths, Dates & Data\n",
    "# -----------------------------------------------------------------------------\n",
    "parameters_df_gdppr = parameters_df_datasets.loc[parameters_df_datasets['dataset'] == 'gdppr']\n",
    "gdppr_path = (parameters_df_gdppr['database'].values[0] + '.' + parameters_df_gdppr['table'].values[0])\n",
    "gdppr_latest_archived_on = parameters_df_gdppr['archived_on'][0]\n",
    "\n",
    "gdppr = spark.table(gdppr_path)"
   ]
  },
  {
   "cell_type": "code",
   "execution_count": 0,
   "metadata": {
    "application/vnd.databricks.v1+cell": {
     "cellMetadata": {
      "byteLimit": 2048000,
      "rowLimit": 10000
     },
     "inputWidgets": {},
     "nuid": "9a6002cf-aa7d-4557-af7c-2c339cfd04c7",
     "showTitle": false,
     "tableResultSettingsMap": {},
     "title": ""
    }
   },
   "outputs": [],
   "source": [
    "hes_apc = extract_batch_from_archive(parameters_df_datasets, 'hes_apc')\n",
    "hes_ae  = extract_batch_from_archive(parameters_df_datasets, 'hes_ae')\n",
    "hes_op  = extract_batch_from_archive(parameters_df_datasets, 'hes_op')\n",
    "\n",
    "acs   = extract_batch_from_archive(parameters_df_datasets, 'nacsa')\n",
    "tavi = extract_batch_from_archive(parameters_df_datasets, 'tavi')"
   ]
  },
  {
   "cell_type": "markdown",
   "metadata": {
    "application/vnd.databricks.v1+cell": {
     "cellMetadata": {
      "byteLimit": 2048000,
      "rowLimit": 10000
     },
     "inputWidgets": {},
     "nuid": "c71d5472-1599-47a3-8309-14b0fcdc2a99",
     "showTitle": false,
     "tableResultSettingsMap": {},
     "title": ""
    }
   },
   "source": [
    "#3 Create Unassembled"
   ]
  },
  {
   "cell_type": "markdown",
   "metadata": {
    "application/vnd.databricks.v1+cell": {
     "cellMetadata": {
      "byteLimit": 2048000,
      "rowLimit": 10000
     },
     "inputWidgets": {},
     "nuid": "2ab9272b-a128-4012-8aa8-ea53246cd277",
     "showTitle": false,
     "tableResultSettingsMap": {},
     "title": ""
    }
   },
   "source": [
    "## 3.1 GDPPR - Full LSOA history"
   ]
  },
  {
   "cell_type": "code",
   "execution_count": 0,
   "metadata": {
    "application/vnd.databricks.v1+cell": {
     "cellMetadata": {
      "byteLimit": 2048000,
      "rowLimit": 10000
     },
     "inputWidgets": {},
     "nuid": "adee9fd1-6120-4664-8fd6-15d28df60959",
     "showTitle": true,
     "tableResultSettingsMap": {},
     "title": "Run and Save Full LSOA history"
    }
   },
   "outputs": [],
   "source": [
    "# compile all distinct LSOA and REPORTING_PERIOD_END_DATEs for each individual for all GDPPR archived_on versions\n",
    "# not filtering for RPEDs before study_start_date as a proj selection criteria may look slightly beyond baseline (or in most cases they may have to use an LSOA > study_start_date) as RPEDs start 2020-05\n",
    "\n",
    "lsoa_rped_full = lsoa_full_history(gdppr, pipeline_production_date)\n",
    "save_table(df=lsoa_rped_full, out_name=f'{proj}_gdppr_lsoa_rped', save_previous=True)"
   ]
  },
  {
   "cell_type": "code",
   "execution_count": 0,
   "metadata": {
    "application/vnd.databricks.v1+cell": {
     "cellMetadata": {
      "byteLimit": 2048000,
      "rowLimit": 10000
     },
     "inputWidgets": {},
     "nuid": "caaeeece-335e-499c-8950-b16e0f9324e6",
     "showTitle": false,
     "tableResultSettingsMap": {},
     "title": ""
    }
   },
   "outputs": [],
   "source": [
    "# read back in data\n",
    "lsoa_rped_full = (\n",
    "  spark.table(f'{dsa}.{proj}_gdppr_lsoa_rped')\n",
    "  .orderBy(\"PERSON_ID\",\"REPORTING_PERIOD_END_DATE\",\"LSOA\")\n",
    ")\n",
    "\n",
    "display(lsoa_rped_full)"
   ]
  },
  {
   "cell_type": "markdown",
   "metadata": {
    "application/vnd.databricks.v1+cell": {
     "cellMetadata": {
      "byteLimit": 2048000,
      "rowLimit": 10000
     },
     "inputWidgets": {},
     "nuid": "9dc7a0c6-bfe7-4930-ac48-862acb146835",
     "showTitle": false,
     "tableResultSettingsMap": {},
     "title": ""
    }
   },
   "source": [
    "## 3.2 HES & Audits"
   ]
  },
  {
   "cell_type": "code",
   "execution_count": 0,
   "metadata": {
    "application/vnd.databricks.v1+cell": {
     "cellMetadata": {
      "byteLimit": 2048000,
      "rowLimit": 10000
     },
     "inputWidgets": {},
     "nuid": "54036599-1214-4295-aec6-6b6cf052e5d6",
     "showTitle": false,
     "tableResultSettingsMap": {},
     "title": ""
    }
   },
   "outputs": [],
   "source": [
    "def lsoa_harmonise(hes_apc, hes_ae, hes_op, acs, tavi, pipeline_production_date):\n",
    "\n",
    "  # ------------------------------------------------------------------------------------\n",
    "  # _hes_apc\n",
    "  # ------------------------------------------------------------------------------------\n",
    "  _hes_apc = (\n",
    "    hes_apc\n",
    "    .select('archived_on'\n",
    "            , f.col('PERSON_ID_DEID').alias('PERSON_ID')\n",
    "            , f.col('EPISTART').alias('RECORD_DATE')\n",
    "            , f.col('LSOA01').alias('LSOA')\n",
    "            )\n",
    "    .distinct()\n",
    "    .withColumn('RECORD_SOURCE', f.lit('hes_apc'))\n",
    "  )\n",
    "\n",
    "  # ------------------------------------------------------------------------------------\n",
    "  # _hes_ae  \n",
    "  # ------------------------------------------------------------------------------------\n",
    "  _hes_ae = (\n",
    "    hes_ae\n",
    "    .select('archived_on'\n",
    "            , f.col('PERSON_ID_DEID').alias('PERSON_ID')\n",
    "            , f.col('ARRIVALDATE').alias('RECORD_DATE')\n",
    "            , f.col('LSOA11').alias('LSOA')\n",
    "            )\n",
    "    .distinct()\n",
    "    .withColumn('RECORD_SOURCE', f.lit('hes_ae'))\n",
    "  )\n",
    "    \n",
    "  # ------------------------------------------------------------------------------------\n",
    "  # _hes_op\n",
    "  # ------------------------------------------------------------------------------------\n",
    "  _hes_op = (\n",
    "    hes_op\n",
    "    .select('archived_on'\n",
    "            , f.col('PERSON_ID_DEID').alias('PERSON_ID')\n",
    "            , f.col('APPTDATE').alias('RECORD_DATE')\n",
    "            , f.col('LSOA11').alias('LSOA')\n",
    "            )\n",
    "    .distinct()\n",
    "    .withColumn('RECORD_SOURCE', f.lit('hes_op'))\n",
    "  )\n",
    "\n",
    "  # ------------------------------------------------------------------------------------\n",
    "  # Audits\n",
    "  # ------------------------------------------------------------------------------------\n",
    "  \n",
    "  _acs = (acs\n",
    "        .select('archived_on'\n",
    "                , f.col('PERSON_ID_DEID').alias('PERSON_ID') \n",
    "                , f.col('DATE_AND_TIME_OF_OPERATION').alias('RECORD_DATE')\n",
    "                , f.col('LSOA_OF_RESIDENCE').alias('LSOA')\n",
    "                )\n",
    "        .distinct()\n",
    "        .withColumn('RECORD_SOURCE', f.lit('nacsa'))\n",
    "        )\n",
    "  \n",
    "  _tavi = (tavi\n",
    "        .select('archived_on'\n",
    "                , f.col('PERSON_ID_DEID').alias('PERSON_ID') \n",
    "                , f.col('7_01_DATE_AND_TIME_OF_OPERATION').alias('RECORD_DATE')\n",
    "                , f.col('LSOA_OF_RESIDENCE').alias('LSOA')\n",
    "                )\n",
    "        .distinct()\n",
    "        .withColumn('RECORD_SOURCE', f.lit('tavi'))\n",
    "        )\n",
    "  \n",
    "  # ------------------------------------------------------------------------------------    \n",
    "  # _harmonised\n",
    "  # ------------------------------------------------------------------------------------\n",
    "  # union all\n",
    "  _harmonised = (_hes_apc\n",
    "                  .unionByName(_hes_ae)\n",
    "                  .unionByName(_hes_op)\n",
    "                  .unionByName(_acs)\n",
    "                  .unionByName(_tavi)\n",
    "                  .select('archived_on', 'PERSON_ID', 'RECORD_SOURCE', 'RECORD_DATE', \n",
    "                          'LSOA')\n",
    "                  .where((f.col(\"LSOA\").isNotNull()) & (f.col(\"PERSON_ID\").isNotNull()))\n",
    "                  .where(f.col('archived_on') <= pipeline_production_date) # ensure not working with a version > pipeline production date\n",
    "                  .orderBy(f.col(\"PERSON_ID\"),f.col(\"RECORD_DATE\"))\n",
    "                  )\n",
    "     \n",
    "  return _harmonised"
   ]
  },
  {
   "cell_type": "code",
   "execution_count": 0,
   "metadata": {
    "application/vnd.databricks.v1+cell": {
     "cellMetadata": {
      "byteLimit": 2048000,
      "rowLimit": 10000
     },
     "inputWidgets": {},
     "nuid": "31708ef4-4c86-4377-9b9b-81a20dce2c0c",
     "showTitle": false,
     "tableResultSettingsMap": {},
     "title": ""
    }
   },
   "outputs": [],
   "source": [
    "lsoa_unassembled = lsoa_harmonise(hes_apc, hes_ae, hes_op, acs, tavi, pipeline_production_date)"
   ]
  },
  {
   "cell_type": "code",
   "execution_count": 0,
   "metadata": {
    "application/vnd.databricks.v1+cell": {
     "cellMetadata": {
      "byteLimit": 2048000,
      "rowLimit": 10000
     },
     "inputWidgets": {},
     "nuid": "6b6080da-d2bf-4297-9d3c-301d02ddc1d1",
     "showTitle": false,
     "tableResultSettingsMap": {},
     "title": ""
    }
   },
   "outputs": [],
   "source": [
    "display(lsoa_unassembled)"
   ]
  },
  {
   "cell_type": "markdown",
   "metadata": {
    "application/vnd.databricks.v1+cell": {
     "cellMetadata": {
      "byteLimit": 2048000,
      "rowLimit": 10000
     },
     "inputWidgets": {},
     "nuid": "4dd4de2f-246a-4da1-99b0-3704cd14b789",
     "showTitle": false,
     "tableResultSettingsMap": {},
     "title": ""
    }
   },
   "source": [
    "##3.3 Combine"
   ]
  },
  {
   "cell_type": "code",
   "execution_count": 0,
   "metadata": {
    "application/vnd.databricks.v1+cell": {
     "cellMetadata": {
      "byteLimit": 2048000,
      "rowLimit": 10000
     },
     "inputWidgets": {},
     "nuid": "2395e062-87c8-4028-903b-7cb0a8afd192",
     "showTitle": false,
     "tableResultSettingsMap": {},
     "title": ""
    }
   },
   "outputs": [],
   "source": [
    "all_lsoa_unassembled = (lsoa_rped_full.withColumn('RECORD_SOURCE',f.lit(\"gdppr\")).withColumnRenamed(\"REPORTING_PERIOD_END_DATE\",\"RECORD_DATE\")\n",
    "               .unionByName((lsoa_unassembled.drop('archived_on').withColumn(\"RECORD_DATE\",f.to_date(f.col(\"RECORD_DATE\")))))\n",
    "               .withColumn('LSOA_1', f.substring(f.col('LSOA'), 1, 1))\n",
    ")\n",
    "\n",
    "save_table(df=all_lsoa_unassembled, out_name=f'{proj}_tmp_all_cases_lsoa_unassembled', save_previous=True, data_base=dsa)"
   ]
  },
  {
   "cell_type": "code",
   "execution_count": 0,
   "metadata": {
    "application/vnd.databricks.v1+cell": {
     "cellMetadata": {
      "byteLimit": 2048000,
      "rowLimit": 10000
     },
     "inputWidgets": {},
     "nuid": "c69937a5-2a83-414b-bb5d-466bbcbbaff2",
     "showTitle": false,
     "tableResultSettingsMap": {},
     "title": ""
    }
   },
   "outputs": [],
   "source": [
    "all_lsoa_unassembled = spark.table(f'{dsa}.{proj}_tmp_all_cases_lsoa_unassembled')"
   ]
  },
  {
   "cell_type": "code",
   "execution_count": 0,
   "metadata": {
    "application/vnd.databricks.v1+cell": {
     "cellMetadata": {
      "byteLimit": 2048000,
      "rowLimit": 10000
     },
     "inputWidgets": {},
     "nuid": "51fa22eb-56b7-42bb-a090-1dc56b3ea821",
     "showTitle": false,
     "tableResultSettingsMap": {},
     "title": ""
    }
   },
   "outputs": [],
   "source": [
    "display(all_lsoa_unassembled)"
   ]
  }
 ],
 "metadata": {
  "application/vnd.databricks.v1+notebook": {
   "computePreferences": null,
   "dashboards": [],
   "environmentMetadata": null,
   "language": "python",
   "notebookMetadata": {
    "pythonIndentUnit": 4
   },
   "notebookName": "CCU056-03d-curated_data_LSOA_unassembled",
   "widgets": {}
  },
  "language_info": {
   "name": "python"
  }
 },
 "nbformat": 4,
 "nbformat_minor": 0
}
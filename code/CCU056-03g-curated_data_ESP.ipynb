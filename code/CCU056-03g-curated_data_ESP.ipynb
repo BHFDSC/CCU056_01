{
 "cells": [
  {
   "cell_type": "code",
   "execution_count": 0,
   "metadata": {
    "application/vnd.databricks.v1+cell": {
     "cellMetadata": {
      "byteLimit": 2048000,
      "rowLimit": 10000
     },
     "inputWidgets": {},
     "nuid": "b54d5793-bfa0-4001-a508-53544d188d0b",
     "showTitle": false,
     "tableResultSettingsMap": {},
     "title": ""
    }
   },
   "outputs": [],
   "source": [
    "import pandas as pd\n",
    "import io\n",
    "import pyspark.sql.functions as f"
   ]
  },
  {
   "cell_type": "code",
   "execution_count": 0,
   "metadata": {
    "application/vnd.databricks.v1+cell": {
     "cellMetadata": {
      "byteLimit": 2048000,
      "rowLimit": 10000
     },
     "inputWidgets": {},
     "nuid": "c7ee4017-44f8-484f-a5ed-46272245e04b",
     "showTitle": false,
     "tableResultSettingsMap": {},
     "title": ""
    },
    "jupyter": {
     "outputs_hidden": true
    }
   },
   "outputs": [],
   "source": [
    "%run \"./CCU056-01-parameters\""
   ]
  },
  {
   "cell_type": "code",
   "execution_count": 0,
   "metadata": {
    "application/vnd.databricks.v1+cell": {
     "cellMetadata": {
      "byteLimit": 2048000,
      "rowLimit": 10000
     },
     "inputWidgets": {},
     "nuid": "9d5a938c-a9ab-470e-8e5b-c5931e717b1f",
     "showTitle": false,
     "tableResultSettingsMap": {},
     "title": ""
    }
   },
   "outputs": [],
   "source": [
    "esp = \"\"\"\n",
    "\n",
    "\"age\",\"population_ord\",\"population_mod\",\"age_group\",\"population_group\"\n",
    "0,919.2,934.5,\"0-4\",5000\n",
    "1,968,971.85,\"0-4\",5000\n",
    "2,1008,1004.6,\"0-4\",5000\n",
    "3,1040,1032.75,\"0-4\",5000\n",
    "4,1064.8,1056.3,\"0-4\",5000\n",
    "5,1083.2,1075.25,\"5-9\",5500\n",
    "6,1096,1089.65,\"5-9\",5500\n",
    "7,1104,1099.75,\"5-9\",5500\n",
    "8,1108,1105.75,\"5-9\",5500\n",
    "9,1108.8,1108.1,\"5-9\",5500\n",
    "10,1107.2,1107.35,\"10-14\",5500\n",
    "11,1104,1104.3,\"10-14\",5500\n",
    "12,1100,1100,\"10-14\",5500\n",
    "13,1096,1095.7,\"10-14\",5500\n",
    "14,1092.8,1092.65,\"10-14\",5500\n",
    "15,1087.15,1093.3,\"15-19\",5500\n",
    "16,1083,1098.75,\"15-19\",5500\n",
    "17,1088.5,1108.75,\"15-19\",5500\n",
    "18,1107,1123.05,\"15-19\",5500\n",
    "19,1134.35,1140.65,\"15-19\",5500\n",
    "20,1167,1158.7,\"20-24\",6000\n",
    "21,1196,1174.8,\"20-24\",6000\n",
    "22,1214,1187,\"20-24\",6000\n",
    "23,1216,1194.8,\"20-24\",6000\n",
    "24,1207,1198.7,\"20-24\",6000\n",
    "25,1194.35,1200.65,\"25-29\",6000\n",
    "26,1187,1203.05,\"25-29\",6000\n",
    "27,1188.5,1208.75,\"25-29\",6000\n",
    "28,1203,1218.75,\"25-29\",6000\n",
    "29,1227.15,1233.3,\"25-29\",6000\n",
    "30,1252.8,1252.65,\"30-34\",6500\n",
    "31,1276,1275.7,\"30-34\",6500\n",
    "32,1300,1300,\"30-34\",6500\n",
    "33,1324,1324.3,\"30-34\",6500\n",
    "34,1347.2,1347.35,\"30-34\",6500\n",
    "35,1371.5,1367.35,\"35-39\",7000\n",
    "36,1394,1383.4,\"35-39\",7000\n",
    "37,1409,1395.5,\"35-39\",7000\n",
    "38,1414,1403.4,\"35-39\",7000\n",
    "39,1411.5,1407.35,\"35-39\",7000\n",
    "40,1405.85,1408,\"40-44\",7000\n",
    "41,1401,1406.45,\"40-44\",7000\n",
    "42,1397.5,1404.25,\"40-44\",7000\n",
    "43,1397,1402.15,\"40-44\",7000\n",
    "44,1398.65,1400.65,\"40-44\",7000\n",
    "45,1398.65,1400.65,\"45-49\",7000\n",
    "46,1397,1402.15,\"45-49\",7000\n",
    "47,1397.5,1404.25,\"45-49\",7000\n",
    "48,1401,1406.45,\"45-49\",7000\n",
    "49,1405.85,1408,\"45-49\",7000\n",
    "50,1411.5,1407.35,\"50-54\",7000\n",
    "51,1414,1403.4,\"50-54\",7000\n",
    "52,1409,1395.5,\"50-54\",7000\n",
    "53,1394,1383.4,\"50-54\",7000\n",
    "54,1371.5,1367.35,\"50-54\",7000\n",
    "55,1345.85,1348,\"55-59\",6500\n",
    "56,1321,1326.45,\"55-59\",6500\n",
    "57,1297.5,1304.25,\"55-59\",6500\n",
    "58,1277,1282.15,\"55-59\",6500\n",
    "59,1258.65,1260.65,\"55-59\",6500\n",
    "60,1240,1240,\"60-64\",6000\n",
    "61,1220,1220,\"60-64\",6000\n",
    "62,1200,1200,\"60-64\",6000\n",
    "63,1180,1180,\"60-64\",6000\n",
    "64,1160,1160,\"60-64\",6000\n",
    "65,1138.65,1140.65,\"65-69\",5500\n",
    "66,1117,1122.15,\"65-69\",5500\n",
    "67,1097.5,1104.25,\"65-69\",5500\n",
    "68,1081,1086.45,\"65-69\",5500\n",
    "69,1065.85,1068,\"65-69\",5500\n",
    "70,1050.15,1048,\"70-74\",5000\n",
    "71,1031,1025.55,\"70-74\",5000\n",
    "72,1006.5,999.75,\"70-74\",5000\n",
    "73,975,969.85,\"70-74\",5000\n",
    "74,937.35,935.35,\"70-74\",5000\n",
    "75,898.7,894.7,\"75-79\",4000\n",
    "76,858,847.7,\"75-79\",4000\n",
    "77,809,795.5,\"75-79\",4000\n",
    "78,750,739.1,\"75-79\",4000\n",
    "79,684.3,680,\"75-79\",4000\n",
    "80,616.9,620.1,\"80-84\",2500\n",
    "81,552.2,561.2,\"80-84\",2500\n",
    "82,493.2,504.8,\"80-84\",2500\n",
    "83,441.3,452.3,\"80-84\",2500\n",
    "84,396.4,404.6,\"80-84\",2500\n",
    "85,357.9,362.2,\"85-89\",1500\n",
    "86,324.9,325.4,\"85-89\",1500\n",
    "87,296.4,294.3,\"85-89\",1500\n",
    "88,271.5,268.9,\"85-89\",1500\n",
    "89,249.3,249.2,\"85-89\",1500\n",
    "\n",
    "\n",
    "\"\"\"\n",
    "\n",
    "\n",
    "csv_data = io.StringIO(esp)\n",
    "pandas_df = pd.read_csv(csv_data)\n",
    "# pandas_df['DOB'] = pandas_df['DOB'].astype(str) #DOB has DOBs and also \"Unknown\"\n",
    "esp = spark.createDataFrame(pandas_df)"
   ]
  },
  {
   "cell_type": "code",
   "execution_count": 0,
   "metadata": {
    "application/vnd.databricks.v1+cell": {
     "cellMetadata": {
      "byteLimit": 2048000,
      "rowLimit": 10000
     },
     "inputWidgets": {},
     "nuid": "08173af0-4147-4cc9-872b-28183dfe580c",
     "showTitle": false,
     "tableResultSettingsMap": {},
     "title": ""
    }
   },
   "outputs": [],
   "source": [
    "display(esp)"
   ]
  },
  {
   "cell_type": "code",
   "execution_count": 0,
   "metadata": {
    "application/vnd.databricks.v1+cell": {
     "cellMetadata": {
      "byteLimit": 2048000,
      "rowLimit": 10000
     },
     "inputWidgets": {},
     "nuid": "62bfb11a-1524-4a99-b1c4-d61b9f717bcb",
     "showTitle": false,
     "tableResultSettingsMap": {},
     "title": ""
    }
   },
   "outputs": [],
   "source": [
    "esp_groups = (esp.filter(f.col(\"age\")>=18)\n",
    "            .withColumn(\"age_group\",\n",
    "    f.when((f.col(\"age_group\").isin(\"15-19\",\"20-24\")), f.lit(\"18-24\"))\n",
    "    .otherwise(f.col(\"age_group\")))\n",
    "    .groupBy(\"age_group\").agg(\n",
    "    f.sum(\"population_mod\").alias(\"population_mod_group\"),\n",
    "    f.sum(\"population_ord\").alias(\"population_ord_group\")\n",
    ")     \n",
    ")\n",
    "\n",
    "display(esp_groups)"
   ]
  },
  {
   "cell_type": "code",
   "execution_count": 0,
   "metadata": {
    "application/vnd.databricks.v1+cell": {
     "cellMetadata": {
      "byteLimit": 2048000,
      "rowLimit": 10000
     },
     "inputWidgets": {},
     "nuid": "e5c6259d-0348-4999-b9d8-7dadb9159bcd",
     "showTitle": false,
     "tableResultSettingsMap": {},
     "title": ""
    }
   },
   "outputs": [],
   "source": [
    "save_table(df=esp, out_name=f'ccu056_esp', save_previous=False, data_base=dsa)\n",
    "save_table(df=esp_groups, out_name=f'ccu056_esp_groups', save_previous=False, data_base=dsa)"
   ]
  }
 ],
 "metadata": {
  "application/vnd.databricks.v1+notebook": {
   "computePreferences": null,
   "dashboards": [],
   "environmentMetadata": null,
   "language": "python",
   "notebookMetadata": {
    "pythonIndentUnit": 4
   },
   "notebookName": "CCU056-03g-curated_data_ESP",
   "widgets": {}
  },
  "language_info": {
   "name": "python"
  }
 },
 "nbformat": 4,
 "nbformat_minor": 0
}
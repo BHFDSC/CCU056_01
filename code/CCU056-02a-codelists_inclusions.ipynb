{
 "cells": [
  {
   "cell_type": "markdown",
   "metadata": {
    "application/vnd.databricks.v1+cell": {
     "cellMetadata": {
      "byteLimit": 2048000,
      "rowLimit": 10000
     },
     "inputWidgets": {},
     "nuid": "fcf66a3d-fb0c-4545-9177-542b105e472e",
     "showTitle": false,
     "tableResultSettingsMap": {},
     "title": ""
    }
   },
   "source": [
    "# Codelists for Inclusion Criteria\n",
    " \n",
    "**Description** This notebook creates the codelists for Aortic Stenosis, SAVR and TAVI.\n",
    " \n",
    "**Authors** Fionna Chalmers, Anna Stevenson (Health Data Science Team, BHF Data Science Centre)\n",
    "\n",
    "**Reviewers** âš  UNREVIEWED\n",
    "\n",
    "**Notes** Note that TAVI code combinatons contain SAVR codes thus to derive a SAVR case, it must be established that a TAVI combination does not exist.\n",
    "\n",
    "**Data Output**\n",
    "- **`ccu056_out_codelists_inclusionsd`** : codelist for AS, SAVR and TAVI"
   ]
  },
  {
   "cell_type": "markdown",
   "metadata": {
    "application/vnd.databricks.v1+cell": {
     "cellMetadata": {
      "byteLimit": 2048000,
      "rowLimit": 10000
     },
     "inputWidgets": {},
     "nuid": "1b05d82a-5054-4664-8552-291df83a181e",
     "showTitle": false,
     "tableResultSettingsMap": {},
     "title": ""
    }
   },
   "source": [
    "# 0. Setup"
   ]
  },
  {
   "cell_type": "code",
   "execution_count": 0,
   "metadata": {
    "application/vnd.databricks.v1+cell": {
     "cellMetadata": {
      "byteLimit": 2048000,
      "rowLimit": 10000
     },
     "inputWidgets": {},
     "nuid": "02d7c019-b288-4ab2-9fa3-66c509552cfb",
     "showTitle": false,
     "tableResultSettingsMap": {},
     "title": ""
    }
   },
   "outputs": [],
   "source": [
    "# pyspark libraries\n",
    "import pyspark.sql.functions as f\n",
    "import pyspark.sql.types as t\n",
    "from pyspark.sql import Window\n",
    "\n",
    "from functools import reduce\n",
    "\n",
    "import databricks.koalas as ks\n",
    "import pandas as pd\n",
    "import numpy as np\n",
    "\n",
    "import re\n",
    "import io\n",
    "import datetime\n",
    "\n",
    "# plotting libraries\n",
    "import matplotlib\n",
    "import matplotlib.pyplot as plt\n",
    "from matplotlib import dates as mdates\n",
    "import seaborn as sns\n",
    "\n",
    "\n",
    "# versions\n",
    "print(\"Matplotlib version: \", matplotlib.__version__)\n",
    "print(\"Seaborn version: \", sns.__version__)\n",
    "_datetimenow = datetime.datetime.now() # .strftime(\"%Y%m%d\")\n",
    "print(f\"_datetimenow:  {_datetimenow}\")\n"
   ]
  },
  {
   "cell_type": "markdown",
   "metadata": {
    "application/vnd.databricks.v1+cell": {
     "cellMetadata": {
      "byteLimit": 2048000,
      "rowLimit": 10000
     },
     "inputWidgets": {},
     "nuid": "5a166e7e-431a-40aa-8bff-d844ed75e204",
     "showTitle": false,
     "tableResultSettingsMap": {},
     "title": ""
    }
   },
   "source": [
    "##0.1 Helpers"
   ]
  },
  {
   "cell_type": "markdown",
   "metadata": {
    "application/vnd.databricks.v1+cell": {
     "cellMetadata": {
      "byteLimit": 2048000,
      "rowLimit": 10000
     },
     "inputWidgets": {},
     "nuid": "acfaf985-89c2-4c6f-bfd3-8f118262310e",
     "showTitle": false,
     "tableResultSettingsMap": {},
     "title": ""
    }
   },
   "source": [
    "### Common Functions"
   ]
  },
  {
   "cell_type": "code",
   "execution_count": 0,
   "metadata": {
    "application/vnd.databricks.v1+cell": {
     "cellMetadata": {
      "byteLimit": 2048000,
      "rowLimit": 10000
     },
     "inputWidgets": {},
     "nuid": "3eaa2f04-bc1d-4be4-85cc-6de023840a26",
     "showTitle": false,
     "tableResultSettingsMap": {},
     "title": ""
    }
   },
   "outputs": [],
   "source": [
    "%run \"/Repos/shds/common/functions\""
   ]
  },
  {
   "cell_type": "markdown",
   "metadata": {
    "application/vnd.databricks.v1+cell": {
     "cellMetadata": {
      "byteLimit": 2048000,
      "rowLimit": 10000
     },
     "inputWidgets": {},
     "nuid": "89d1a9c4-97e7-4dbb-8fe4-907b955c3b83",
     "showTitle": false,
     "tableResultSettingsMap": {},
     "title": ""
    }
   },
   "source": [
    "### Help Functions"
   ]
  },
  {
   "cell_type": "code",
   "execution_count": 0,
   "metadata": {
    "application/vnd.databricks.v1+cell": {
     "cellMetadata": {
      "byteLimit": 2048000,
      "rowLimit": 10000
     },
     "inputWidgets": {},
     "nuid": "0cc18f5d-0ab4-4af5-99e3-62910350500f",
     "showTitle": false,
     "tableResultSettingsMap": {},
     "title": ""
    }
   },
   "outputs": [],
   "source": [
    "%run \"/Repos/shds/Fionna/help_functions\""
   ]
  },
  {
   "cell_type": "markdown",
   "metadata": {
    "application/vnd.databricks.v1+cell": {
     "cellMetadata": {
      "byteLimit": 2048000,
      "rowLimit": 10000
     },
     "inputWidgets": {},
     "nuid": "e7bec103-5562-433a-a5a1-0201df7d968e",
     "showTitle": false,
     "tableResultSettingsMap": {},
     "title": ""
    }
   },
   "source": [
    "##0.2 Parameters"
   ]
  },
  {
   "cell_type": "code",
   "execution_count": 0,
   "metadata": {
    "application/vnd.databricks.v1+cell": {
     "cellMetadata": {
      "byteLimit": 2048000,
      "rowLimit": 10000
     },
     "inputWidgets": {},
     "nuid": "b4a6415e-d5ad-4b12-993a-04cc50e91472",
     "showTitle": false,
     "tableResultSettingsMap": {},
     "title": ""
    },
    "jupyter": {
     "outputs_hidden": true
    }
   },
   "outputs": [],
   "source": [
    "%run \"./CCU056-01-parameters\""
   ]
  },
  {
   "cell_type": "markdown",
   "metadata": {
    "application/vnd.databricks.v1+cell": {
     "cellMetadata": {
      "byteLimit": 2048000,
      "rowLimit": 10000
     },
     "inputWidgets": {},
     "nuid": "0cf77416-3476-4a82-ba92-863cefb97148",
     "showTitle": false,
     "tableResultSettingsMap": {},
     "title": ""
    }
   },
   "source": [
    "##0.3 Data"
   ]
  },
  {
   "cell_type": "code",
   "execution_count": 0,
   "metadata": {
    "application/vnd.databricks.v1+cell": {
     "cellMetadata": {
      "byteLimit": 2048000,
      "rowLimit": 10000
     },
     "inputWidgets": {},
     "nuid": "76898753-8a62-4015-abc2-fa390f91e885",
     "showTitle": true,
     "tableResultSettingsMap": {},
     "title": "Lookup Tables"
    }
   },
   "outputs": [],
   "source": [
    "icd10 = spark.table(path_ref_icd10)\n",
    "opcs = spark.table(path_ref_opcs4)\n",
    "gdppr_ref = spark.table(path_ref_gdppr_refset)"
   ]
  },
  {
   "cell_type": "markdown",
   "metadata": {
    "application/vnd.databricks.v1+cell": {
     "cellMetadata": {
      "byteLimit": 2048000,
      "rowLimit": 10000
     },
     "inputWidgets": {},
     "nuid": "75140246-cccc-4908-943c-1c136c249d87",
     "showTitle": false,
     "tableResultSettingsMap": {},
     "title": ""
    }
   },
   "source": [
    "# 1. Codelists"
   ]
  },
  {
   "cell_type": "markdown",
   "metadata": {
    "application/vnd.databricks.v1+cell": {
     "cellMetadata": {
      "byteLimit": 2048000,
      "rowLimit": 10000
     },
     "inputWidgets": {},
     "nuid": "8a1dfa03-7bae-43ee-b79e-9167eec1709d",
     "showTitle": false,
     "tableResultSettingsMap": {},
     "title": ""
    }
   },
   "source": [
    "## Aortic Senosis"
   ]
  },
  {
   "cell_type": "markdown",
   "metadata": {
    "application/vnd.databricks.v1+cell": {
     "cellMetadata": {
      "byteLimit": 2048000,
      "rowLimit": 10000
     },
     "inputWidgets": {},
     "nuid": "b8f5a657-fd9c-4ed9-8001-56fe433efbe6",
     "showTitle": false,
     "tableResultSettingsMap": {},
     "title": ""
    }
   },
   "source": [
    "\n",
    "Supplied by Anvesha:\n",
    "\n",
    "| ICD10 Code | Definition |\n",
    "| ---------- | ---------- |\n",
    "| I06.0\t| Rheumatic aortic stenosis |\n",
    "| I06.2\t| Rheumatic aortic stenosis with insufficiency |\n",
    "| I35.0\t| Nonrheumatic aortic (valve) stenosis |\n",
    "| I35.2\t| Aortic (valve) stenosis with insufficiency |\n",
    "| Q23.0\t| Congenital stenosis of aortic valve |\n",
    "\n",
    "\n",
    "Codes now removed:\n",
    "\n",
    "| ICD10 Code | Definition |\n",
    "| ---------- | ---------- |\n",
    "| I06.8\t| Other rheumatic aortic valve diseases |\n",
    "| I06.9\t| Rheumatic aortic valve disease, unspecified |\n",
    "| I08.0\t| Disorders of both mitral and aortic valves |\n",
    "| I35.8\t| Other aortic valve disorders |\n",
    "| I35.9\t| Aortic valve disorder, unspecified |\n",
    "| I39.1*\t| Aortic valve disorders in diseases classified elsewhere |"
   ]
  },
  {
   "cell_type": "code",
   "execution_count": 0,
   "metadata": {
    "application/vnd.databricks.v1+cell": {
     "cellMetadata": {
      "byteLimit": 2048000,
      "rowLimit": 10000
     },
     "inputWidgets": {},
     "nuid": "363e34a2-f6b0-4363-8d42-5ea6169304bf",
     "showTitle": false,
     "tableResultSettingsMap": {},
     "title": ""
    }
   },
   "outputs": [],
   "source": [
    "# # working to copy and paste codes\n",
    "# display(icd10.filter(f.col(\"CODE\").startswith('Q23')))"
   ]
  },
  {
   "cell_type": "code",
   "execution_count": 0,
   "metadata": {
    "application/vnd.databricks.v1+cell": {
     "cellMetadata": {
      "byteLimit": 2048000,
      "rowLimit": 10000
     },
     "inputWidgets": {},
     "nuid": "0e7b9e29-5f4a-4661-bb53-53cbf5c55f72",
     "showTitle": false,
     "tableResultSettingsMap": {},
     "title": ""
    }
   },
   "outputs": [],
   "source": [
    "codelist_as = spark.createDataFrame(\n",
    "  [\n",
    "    ('aortic_stenosis',  'ICD10',  'I060',   'Rheumatic aortic stenosis','',''),\n",
    "    ('aortic_stenosis',  'ICD10',  'I062',   'Rheumatic aortic stenosis with insufficiency','',''),\n",
    "    # ('aortic_stenosis',  'ICD10',  'I068',   'Other rheumatic aortic valve diseases','',''),\n",
    "    # ('aortic_stenosis',  'ICD10',  'I069',   'Rheumatic aortic valve disease, unspecified','',''),\n",
    "\n",
    "    # ('aortic_stenosis',  'ICD10',  'I080',   'Disorders of both mitral and aortic valves','',''),\n",
    "\n",
    "    ('aortic_stenosis',  'ICD10',  'I350',   'Aortic (valve) stenosis','',''),\n",
    "    ('aortic_stenosis',  'ICD10',  'I352',   'Aortic (valve) stenosis with insufficiency','',''),\n",
    "    # ('aortic_stenosis',  'ICD10',  'I358',   'Other aortic valve disorders','',''),\n",
    "    # ('aortic_stenosis',  'ICD10',  'I359',   'Aortic valve disorder, unspecified','',''),\n",
    "\n",
    "    # ('aortic_stenosis',  'ICD10',  'I391',   'Aortic valve disorders in diseases classified elsewhere','',''),\n",
    "    \n",
    "    ('aortic_stenosis',  'ICD10',  'Q230',   'Congenital stenosis of aortic valve','','')\n",
    "    \n",
    "  ],\n",
    "  \n",
    "  ['name', 'terminology', 'code', 'term', 'code_type', 'RecordDate']  \n",
    ")\n",
    "\n",
    "\n",
    "# Reformat\n",
    "# remove trailing X's, decimal points, dashes, and spaces\n",
    "codelist_as = (\n",
    "  codelist_as\n",
    "  .withColumn('_code_old', f.col('code'))\n",
    "  .withColumn('code', f.when(f.col('terminology') == 'ICD10', f.regexp_replace('code', r'X$', '')).otherwise(f.col('code')))\\\n",
    "  .withColumn('code', f.when(f.col('terminology') == 'ICD10', f.regexp_replace('code', r'[\\.\\-\\s]', '')).otherwise(f.col('code')))\n",
    "  .withColumn('_code_diff', f.when(f.col('code') != f.col('_code_old'), 1).otherwise(0))\n",
    ")\n",
    "\n",
    "# check\n",
    "tmpt = tab(codelist_as, '_code_diff'); print()\n",
    "print(codelist_as.where(f.col('_code_diff') == 1).orderBy('name', 'terminology', 'code').toPandas().to_string()); print()"
   ]
  },
  {
   "cell_type": "code",
   "execution_count": 0,
   "metadata": {
    "application/vnd.databricks.v1+cell": {
     "cellMetadata": {
      "byteLimit": 2048000,
      "rowLimit": 10000
     },
     "inputWidgets": {},
     "nuid": "51a2dbde-8bf9-41d4-829c-86034e0f3531",
     "showTitle": false,
     "tableResultSettingsMap": {},
     "title": ""
    }
   },
   "outputs": [],
   "source": [
    "display(codelist_as)"
   ]
  },
  {
   "cell_type": "markdown",
   "metadata": {
    "application/vnd.databricks.v1+cell": {
     "cellMetadata": {
      "byteLimit": 2048000,
      "rowLimit": 10000
     },
     "inputWidgets": {},
     "nuid": "732a4e2c-2b6a-4182-81ee-46e6c5ad9b0d",
     "showTitle": false,
     "tableResultSettingsMap": {},
     "title": ""
    }
   },
   "source": [
    "## SAVR"
   ]
  },
  {
   "cell_type": "markdown",
   "metadata": {
    "application/vnd.databricks.v1+cell": {
     "cellMetadata": {
      "byteLimit": 2048000,
      "rowLimit": 10000
     },
     "inputWidgets": {},
     "nuid": "4bbe8f56-593d-4279-975f-c22f22c0efee",
     "showTitle": false,
     "tableResultSettingsMap": {},
     "title": ""
    }
   },
   "source": [
    "\n",
    "Supplied by Anvesha:\n",
    "OPCS-4.10 codes for Aortic Valve Replacement<br>\n",
    "https://classbrowser.nhs.uk/#/book/OPCS-4.10/volume1-p2-4.html+K26.4\n",
    "\n",
    "Note that in the document from Anvesha K265 to K269 codes are in brackets - query this.<br>\n",
    "Note also that Anvesha included the K26 parent code but this has not been included as all child codes in K26 are also listed.\n",
    "\n",
    "| OPCS4 Code | Definition |\n",
    "| ---------- | ---------- |\n",
    "| K26\t| Plastic repair of aortic valves |\n",
    "| K261\t| Allograft replacement of aortic valve |\n",
    "| K262\t| Xenograft replacement of aortic valve |\n",
    "| K263\t| Prosthetic replacement of aortic valve |\n",
    "| K264\t| Replacement of aortic valve NEC |\n",
    "| K265\t| Aortic valve repair NEC Includes: Aortic valvuloplasty NEC |\n",
    "| K268\t| Other specifiedy |\n",
    "| K269\t| Unspecified |"
   ]
  },
  {
   "cell_type": "code",
   "execution_count": 0,
   "metadata": {
    "application/vnd.databricks.v1+cell": {
     "cellMetadata": {
      "byteLimit": 2048000,
      "rowLimit": 10000
     },
     "inputWidgets": {},
     "nuid": "5096c7e9-22ef-4f5f-bd43-4d0ff8319596",
     "showTitle": false,
     "tableResultSettingsMap": {},
     "title": ""
    }
   },
   "outputs": [],
   "source": [
    "# # working to copy and paste codes\n",
    "# display(opcs.filter(f.col(\"OPCS_CODE\").startswith('Y49'))\n",
    "#         .filter(f.col(\"OPCS_VERSION\")==\"4_10\").orderBy(\"OPCS_CODE\")\n",
    "#         .select(\"OPCS_CODE\",\"ALT_OPCS_CODE\",\"OPCS_CODE_DESC_FULL\",\"CATEGORY_CODE\",\"CATEGORY_CODE_DESC_FULL\")\n",
    "#         )"
   ]
  },
  {
   "cell_type": "code",
   "execution_count": 0,
   "metadata": {
    "application/vnd.databricks.v1+cell": {
     "cellMetadata": {
      "byteLimit": 2048000,
      "rowLimit": 10000
     },
     "inputWidgets": {},
     "nuid": "97739284-e3ab-4f58-a6fd-b6084830ee2e",
     "showTitle": false,
     "tableResultSettingsMap": {},
     "title": ""
    }
   },
   "outputs": [],
   "source": [
    "codelist_savr = spark.createDataFrame(\n",
    "  [\n",
    "    ('savr',  'OPCS4',  'K261',   'Allograft replacement of aortic valve','',''),\n",
    "    ('savr',  'OPCS4',  'K262',   'Xenograft replacement of aortic valve','',''),\n",
    "    ('savr',  'OPCS4',  'K263',   'Prosthetic replacement of aortic valve','',''),\n",
    "    ('savr',  'OPCS4',  'K264',   'Replacement of aortic valve NEC','',''),\n",
    "    ('savr',  'OPCS4',  'K265',   'Aortic valve repair NEC','',''),\n",
    "    ('savr',  'OPCS4',  'K268',   'Other specified plastic repair of aortic valve','',''),\n",
    "    ('savr',  'OPCS4',  'K269',   'Unspecified plastic repair of aortic valve','','')\n",
    "\n",
    "  ],\n",
    "  \n",
    "  ['name', 'terminology', 'code', 'term', 'code_type', 'RecordDate']  \n",
    ")"
   ]
  },
  {
   "cell_type": "code",
   "execution_count": 0,
   "metadata": {
    "application/vnd.databricks.v1+cell": {
     "cellMetadata": {
      "byteLimit": 2048000,
      "rowLimit": 10000
     },
     "inputWidgets": {},
     "nuid": "15228744-65c6-4d85-ac05-328525d84691",
     "showTitle": false,
     "tableResultSettingsMap": {},
     "title": ""
    }
   },
   "outputs": [],
   "source": [
    "display(codelist_savr)"
   ]
  },
  {
   "cell_type": "markdown",
   "metadata": {
    "application/vnd.databricks.v1+cell": {
     "cellMetadata": {
      "byteLimit": 2048000,
      "rowLimit": 10000
     },
     "inputWidgets": {},
     "nuid": "f9e0b0bc-2ce9-48e7-aa34-9837e95dbb23",
     "showTitle": false,
     "tableResultSettingsMap": {},
     "title": ""
    }
   },
   "source": [
    "## TAVI"
   ]
  },
  {
   "cell_type": "markdown",
   "metadata": {
    "application/vnd.databricks.v1+cell": {
     "cellMetadata": {
      "byteLimit": 2048000,
      "rowLimit": 10000
     },
     "inputWidgets": {},
     "nuid": "e58c0819-aae2-41c0-879d-2a06997713a7",
     "showTitle": false,
     "tableResultSettingsMap": {},
     "title": ""
    }
   },
   "source": [
    "Supplied by Anvesha:\n",
    "https://classbrowser.nhs.uk/ref_books/OPCS-4.9_NCCS-2021.pdf\n",
    "\n",
    "| OPCS4 Code | Definition |\n",
    "| ---------- | ---------- |\n",
    "| PCSK1\t| Transcatheter aortic valve implantation (K26) |\n",
    "\n",
    "Using the classbrowser above there are 2 TAVI code combinations:\n",
    "    \n",
    "For transcatheter aortic valve implantation (TAVI) using a **surgical approach** through left\n",
    "ventricle (transapical or transventricular approach) the following codes must be assigned:\n",
    "* K26.- Plastic repair of aortic valve\n",
    "* Y49.4 - Transapical approach to heart\n",
    "* Y53 - Approach to organ under image control **or**<br>\n",
    "  Y68.- Other approach to organ under image control\n",
    "  \n",
    "For TAVI using a **transluminal approach** through an artery (i.e. femoral, subclavian, axillary\n",
    "or aorta) the following codes must be assigned:\n",
    "* K26.- Plastic repair of aortic valve\n",
    "* Y79.- Approach to organ through artery\n",
    "* Y53.- Approach to organ under image control **or**<br>\n",
    " Y68.- Other approach to organ under image control\n",
    "\n",
    " **TAVI will be defined using the above 2 combinations. That is, we will use the surgical approach TAVI definition and the transluminal approach TAVI definition.**\n",
    "\n",
    "TAVI combinations will be identified and named as follows:<br>\n",
    " **TAVI 1** - K26 & Y49 & Y53<br>\n",
    " **TAVI 2** - K26 & Y49 & Y68<br>\n",
    " **TAVI 3** - K26 & Y79 & Y53<br>\n",
    " **TAVI 4** - K26 & Y79 & Y68"
   ]
  },
  {
   "cell_type": "code",
   "execution_count": 0,
   "metadata": {
    "application/vnd.databricks.v1+cell": {
     "cellMetadata": {
      "byteLimit": 2048000,
      "rowLimit": 10000
     },
     "inputWidgets": {},
     "nuid": "d8f855fa-77c5-4819-a02d-07b35b6e556e",
     "showTitle": false,
     "tableResultSettingsMap": {},
     "title": ""
    }
   },
   "outputs": [],
   "source": [
    "# surgical approach\n",
    "codelist_tavi_sa = spark.createDataFrame(\n",
    "    [\n",
    "        ('tavi', 'OPCS4', 'K261', 'K26', 'Allograft replacement of aortic valve', '', ''),\n",
    "        ('tavi', 'OPCS4', 'K262', 'K26', 'Xenograft replacement of aortic valve', '', ''),\n",
    "        ('tavi', 'OPCS4', 'K263', 'K26', 'Prosthetic replacement of aortic valve', '', ''),\n",
    "        ('tavi', 'OPCS4', 'K264', 'K26', 'Replacement of aortic valve NEC', '', ''),\n",
    "        ('tavi', 'OPCS4', 'K265', 'K26', 'Aortic valve repair NEC', '', ''),\n",
    "        ('tavi', 'OPCS4', 'K268', 'K26', 'Other specified plastic repair of aortic valve', '', ''),\n",
    "        ('tavi', 'OPCS4', 'K269', 'K26', 'Unspecified plastic repair of aortic valve', '', ''),\n",
    "\n",
    "        ('tavi', 'OPCS4', 'Y494', 'Y49', 'Transapical approach to heart', '', ''),\n",
    "\n",
    "        ('tavi', 'OPCS4', 'Y531', 'Y53', 'Approach to organ under radiological control', '', ''),\n",
    "        ('tavi', 'OPCS4', 'Y532', 'Y53', 'Approach to organ under ultrasonic control', '', ''),\n",
    "        ('tavi', 'OPCS4', 'Y533', 'Y53', 'Approach to organ under computed tomography scan control', '', ''),\n",
    "        ('tavi', 'OPCS4', 'Y533', 'Y53', 'Approach to organ under CT scan control', '', ''),\n",
    "        ('tavi', 'OPCS4', 'Y534', 'Y53', 'Approach to organ under fluoroscopic controly', '', ''),\n",
    "        ('tavi', 'OPCS4', 'Y535', 'Y53', 'Approach to organ under image intensifier', '', ''),\n",
    "        ('tavi', 'OPCS4', 'Y536', 'Y53', 'Approach to organ under video control', '', ''),\n",
    "        ('tavi', 'OPCS4', 'Y537', 'Y53', 'Approach to organ under MRI control', '', ''),\n",
    "        ('tavi', 'OPCS4', 'Y537', 'Y53', 'Approach to organ under magnetic resonance imaging control', '', ''),\n",
    "        ('tavi', 'OPCS4', 'Y538', 'Y53', 'Other specified approach to organ under image control', '', ''),\n",
    "        ('tavi', 'OPCS4', 'Y539', 'Y53', 'Unspecified approach to organ under image control', '', ''),\n",
    "\n",
    "        ('tavi', 'OPCS4', 'Y681', 'Y68', 'Approach to organ under contrast enhanced ultrasonic control', '', ''),\n",
    "        ('tavi', 'OPCS4', 'Y688', 'Y68', 'Other specified other approach to organ under image control', '', ''),\n",
    "        ('tavi', 'OPCS4', 'Y689', 'Y68', 'Unspecified other approach to organ under image control', '', ''),\n",
    "    ],\n",
    "\n",
    "    ['name', 'terminology', 'code', 'parent', 'term', 'code_type', 'RecordDate']\n",
    ")\n",
    "\n",
    "#  transluminal approach\n",
    "codelist_tavi_ta = spark.createDataFrame(\n",
    "    [\n",
    "        ('tavi', 'OPCS4', 'K261', 'K26', 'Allograft replacement of aortic valve', '', ''),\n",
    "        ('tavi', 'OPCS4', 'K262', 'K26', 'Xenograft replacement of aortic valve', '', ''),\n",
    "        ('tavi', 'OPCS4', 'K263', 'K26', 'Prosthetic replacement of aortic valve', '', ''),\n",
    "        ('tavi', 'OPCS4', 'K264', 'K26', 'Replacement of aortic valve NEC', '', ''),\n",
    "        ('tavi', 'OPCS4', 'K265', 'K26', 'Aortic valve repair NEC', '', ''),\n",
    "        ('tavi', 'OPCS4', 'K268', 'K26', 'Other specified plastic repair of aortic valve', '', ''),\n",
    "        ('tavi', 'OPCS4', 'K269', 'K26', 'Unspecified plastic repair of aortic valve', '', ''),\n",
    "\n",
    "        ('tavi', 'OPCS4', 'Y791', 'Y79', 'Transluminal approach to organ through subclavian artery', '', ''),\n",
    "        ('tavi', 'OPCS4', 'Y792', 'Y79', 'Transluminal approach to organ through brachial artery', '', ''),\n",
    "        ('tavi', 'OPCS4', 'Y793', 'Y79', 'Transluminal approach to organ through femoral artery', '', ''),\n",
    "        ('tavi', 'OPCS4', 'Y794', 'Y79', 'Transluminal approach to organ through aortic artery', '', ''),\n",
    "        ('tavi', 'OPCS4', 'Y795', 'Y79', 'Transluminal approach to organ through radial artery', '', ''),\n",
    "        ('tavi', 'OPCS4', 'Y798', 'Y79', 'Other specified approach to organ through artery', '', ''),\n",
    "        ('tavi', 'OPCS4', 'Y799', 'Y79', 'Unspecified approach to organ through artery', '', ''),\n",
    "\n",
    "        ('tavi', 'OPCS4', 'Y531', 'Y53', 'Approach to organ under radiological control', '', ''),\n",
    "        ('tavi', 'OPCS4', 'Y532', 'Y53', 'Approach to organ under ultrasonic control', '', ''),\n",
    "        ('tavi', 'OPCS4', 'Y533', 'Y53', 'Approach to organ under computed tomography scan control', '', ''),\n",
    "        ('tavi', 'OPCS4', 'Y533', 'Y53', 'Approach to organ under CT scan control', '', ''),\n",
    "        ('tavi', 'OPCS4', 'Y534', 'Y53', 'Approach to organ under fluoroscopic controly', '', ''),\n",
    "        ('tavi', 'OPCS4', 'Y535', 'Y53', 'Approach to organ under image intensifier', '', ''),\n",
    "        ('tavi', 'OPCS4', 'Y536', 'Y53', 'Approach to organ under video control', '', ''),\n",
    "        ('tavi', 'OPCS4', 'Y537', 'Y53', 'Approach to organ under MRI control', '', ''),\n",
    "        ('tavi', 'OPCS4', 'Y537', 'Y53', 'Approach to organ under magnetic resonance imaging control', '', ''),\n",
    "        ('tavi', 'OPCS4', 'Y538', 'Y53', 'Other specified approach to organ under image control', '', ''),\n",
    "        ('tavi', 'OPCS4', 'Y539', 'Y53', 'Unspecified approach to organ under image control', '', ''),\n",
    "\n",
    "        ('tavi', 'OPCS4', 'Y681', 'Y68', 'Approach to organ under contrast enhanced ultrasonic control', '', ''),\n",
    "        ('tavi', 'OPCS4', 'Y688', 'Y68', 'Other specified other approach to organ under image control', '', ''),\n",
    "        ('tavi', 'OPCS4', 'Y689', 'Y68', 'Unspecified other approach to organ under image control', '', ''),\n",
    "    ],\n",
    "\n",
    "    ['name', 'terminology', 'code', 'parent', 'term', 'code_type', 'RecordDate']\n",
    ")"
   ]
  },
  {
   "cell_type": "code",
   "execution_count": 0,
   "metadata": {
    "application/vnd.databricks.v1+cell": {
     "cellMetadata": {
      "byteLimit": 2048000,
      "rowLimit": 10000
     },
     "inputWidgets": {},
     "nuid": "df37a058-bf7b-406b-add7-23a339c21326",
     "showTitle": false,
     "tableResultSettingsMap": {},
     "title": ""
    }
   },
   "outputs": [],
   "source": [
    "display(codelist_tavi_sa)"
   ]
  },
  {
   "cell_type": "code",
   "execution_count": 0,
   "metadata": {
    "application/vnd.databricks.v1+cell": {
     "cellMetadata": {
      "byteLimit": 2048000,
      "rowLimit": 10000
     },
     "inputWidgets": {},
     "nuid": "3e430212-a4c5-4602-8497-2f44a1486868",
     "showTitle": false,
     "tableResultSettingsMap": {},
     "title": ""
    }
   },
   "outputs": [],
   "source": [
    "display(codelist_tavi_ta)"
   ]
  },
  {
   "cell_type": "markdown",
   "metadata": {
    "application/vnd.databricks.v1+cell": {
     "cellMetadata": {
      "byteLimit": 2048000,
      "rowLimit": 10000
     },
     "inputWidgets": {},
     "nuid": "40c1fcae-fd58-4d6c-8324-fd54f468ccaf",
     "showTitle": false,
     "tableResultSettingsMap": {},
     "title": ""
    }
   },
   "source": [
    "# 2. Save"
   ]
  },
  {
   "cell_type": "code",
   "execution_count": 0,
   "metadata": {
    "application/vnd.databricks.v1+cell": {
     "cellMetadata": {
      "byteLimit": 2048000,
      "rowLimit": 10000
     },
     "inputWidgets": {},
     "nuid": "38067c20-19cb-44e2-a5f4-1637076a19d4",
     "showTitle": false,
     "tableResultSettingsMap": {},
     "title": ""
    }
   },
   "outputs": [],
   "source": [
    "codelists_inclusions = (\n",
    "    codelist_as.select(\"name\",\"terminology\",\"code\",\"term\")\n",
    "    .union(codelist_savr.select(\"name\",\"terminology\",\"code\",\"term\"))\n",
    "    .union(codelist_tavi_sa.select(\"name\",\"terminology\",\"code\",\"term\"))\n",
    "    .union(codelist_tavi_ta.select(\"name\",\"terminology\",\"code\",\"term\"))\n",
    "    .distinct()\n",
    "    .withColumn(\"parent\",f.when(f.col(\"name\")==\"tavi\",f.substring(f.col(\"code\"), 1, 3)).otherwise(f.lit(\"\")))\n",
    "    .orderBy(\"name\",\"code\")\n",
    "    )\n",
    "\n",
    "display(codelists_inclusions)"
   ]
  },
  {
   "cell_type": "code",
   "execution_count": 0,
   "metadata": {
    "application/vnd.databricks.v1+cell": {
     "cellMetadata": {
      "byteLimit": 2048000,
      "rowLimit": 10000
     },
     "inputWidgets": {},
     "nuid": "0fdecc0e-106a-4718-9767-94b710de92d1",
     "showTitle": false,
     "tableResultSettingsMap": {},
     "title": ""
    }
   },
   "outputs": [],
   "source": [
    "save_table(df=codelists_inclusions, out_name=f'{proj}_out_codelists_inclusions', save_previous=False)"
   ]
  },
  {
   "cell_type": "code",
   "execution_count": 0,
   "metadata": {
    "application/vnd.databricks.v1+cell": {
     "cellMetadata": {
      "byteLimit": 2048000,
      "rowLimit": 10000
     },
     "inputWidgets": {},
     "nuid": "89f5c805-d434-4036-a0c6-8685618b21ed",
     "showTitle": false,
     "tableResultSettingsMap": {},
     "title": ""
    }
   },
   "outputs": [],
   "source": [
    "codelists_inclusions =spark.table(f'{dsa}.{proj}_out_codelists_inclusions')"
   ]
  },
  {
   "cell_type": "code",
   "execution_count": 0,
   "metadata": {
    "application/vnd.databricks.v1+cell": {
     "cellMetadata": {
      "byteLimit": 2048000,
      "rowLimit": 10000
     },
     "inputWidgets": {},
     "nuid": "252f1094-0101-45e4-9065-e40e2eb41a39",
     "showTitle": false,
     "tableResultSettingsMap": {},
     "title": ""
    }
   },
   "outputs": [],
   "source": [
    "display(codelists_inclusions)"
   ]
  }
 ],
 "metadata": {
  "application/vnd.databricks.v1+notebook": {
   "computePreferences": null,
   "dashboards": [],
   "environmentMetadata": null,
   "language": "python",
   "notebookMetadata": {
    "pythonIndentUnit": 4
   },
   "notebookName": "CCU056-02a-codelists_inclusions",
   "widgets": {}
  },
  "language_info": {
   "name": "python"
  }
 },
 "nbformat": 4,
 "nbformat_minor": 0
}
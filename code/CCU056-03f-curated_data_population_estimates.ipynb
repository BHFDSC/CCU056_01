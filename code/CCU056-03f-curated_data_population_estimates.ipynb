{
 "cells": [
  {
   "cell_type": "markdown",
   "metadata": {
    "application/vnd.databricks.v1+cell": {
     "cellMetadata": {
      "byteLimit": 2048000,
      "rowLimit": 10000
     },
     "inputWidgets": {},
     "nuid": "44f370f4-1921-4e48-95bb-49122b24c5d7",
     "showTitle": false,
     "tableResultSettingsMap": {},
     "title": ""
    }
   },
   "source": [
    "#0. Setup"
   ]
  },
  {
   "cell_type": "code",
   "execution_count": 0,
   "metadata": {
    "application/vnd.databricks.v1+cell": {
     "cellMetadata": {
      "byteLimit": 2048000,
      "rowLimit": 10000
     },
     "inputWidgets": {},
     "nuid": "b5857210-ce71-4ad7-89e5-7606ab231804",
     "showTitle": false,
     "tableResultSettingsMap": {},
     "title": ""
    }
   },
   "outputs": [],
   "source": [
    "import pyspark.sql.functions as f\n",
    "import pyspark.sql.types as t\n",
    "from pyspark.sql import Window\n",
    "\n",
    "from functools import reduce\n",
    "\n",
    "import databricks.koalas as ks\n",
    "import pandas as pd\n",
    "import numpy as np\n",
    "\n",
    "import re\n",
    "import io\n",
    "import datetime\n",
    "\n",
    "import matplotlib\n",
    "import matplotlib.pyplot as plt\n",
    "from matplotlib import dates as mdates\n",
    "import seaborn as sns\n",
    "\n",
    "print(\"Matplotlib version: \", matplotlib.__version__)\n",
    "print(\"Seaborn version: \", sns.__version__)\n",
    "_datetimenow = datetime.datetime.now() # .strftime(\"%Y%m%d\")\n",
    "print(f\"_datetimenow:  {_datetimenow}\")"
   ]
  },
  {
   "cell_type": "code",
   "execution_count": 0,
   "metadata": {
    "application/vnd.databricks.v1+cell": {
     "cellMetadata": {
      "byteLimit": 2048000,
      "rowLimit": 10000
     },
     "inputWidgets": {},
     "nuid": "d286fce6-ea17-47e9-9892-735cb5956542",
     "showTitle": false,
     "tableResultSettingsMap": {},
     "title": ""
    }
   },
   "outputs": [],
   "source": [
    "%run \"../SHDS/common/functions\""
   ]
  },
  {
   "cell_type": "code",
   "execution_count": 0,
   "metadata": {
    "application/vnd.databricks.v1+cell": {
     "cellMetadata": {
      "byteLimit": 2048000,
      "rowLimit": 10000
     },
     "inputWidgets": {},
     "nuid": "45c8fc9f-954e-49c5-842a-3e4bd8f456ae",
     "showTitle": false,
     "tableResultSettingsMap": {},
     "title": ""
    }
   },
   "outputs": [],
   "source": [
    "%run \"./CCU056-01-parameters\""
   ]
  },
  {
   "cell_type": "code",
   "execution_count": 0,
   "metadata": {
    "application/vnd.databricks.v1+cell": {
     "cellMetadata": {
      "byteLimit": 2048000,
      "rowLimit": 10000
     },
     "inputWidgets": {},
     "nuid": "653f4f41-29cf-4830-a9d2-61527d8ed6f4",
     "showTitle": false,
     "tableResultSettingsMap": {},
     "title": ""
    }
   },
   "outputs": [],
   "source": [
    "db = 'dars_nic_391419_j3w9t'\n",
    "dbc = f'{db}_collab'\n",
    "dsa = f'dsa_391419_j3w9t_collab'"
   ]
  },
  {
   "cell_type": "markdown",
   "metadata": {
    "application/vnd.databricks.v1+cell": {
     "cellMetadata": {
      "byteLimit": 2048000,
      "rowLimit": 10000
     },
     "inputWidgets": {},
     "nuid": "31db8f49-e28d-4445-b0ed-fbe0552d98ca",
     "showTitle": false,
     "tableResultSettingsMap": {},
     "title": ""
    }
   },
   "source": [
    "#1. Age, Sex, LSOA"
   ]
  },
  {
   "cell_type": "markdown",
   "metadata": {
    "application/vnd.databricks.v1+cell": {
     "cellMetadata": {
      "byteLimit": 2048000,
      "rowLimit": 10000
     },
     "inputWidgets": {},
     "nuid": "4f776750-ef4f-4cb1-8c1b-052c95659488",
     "showTitle": false,
     "tableResultSettingsMap": {},
     "title": ""
    }
   },
   "source": [
    "## 1.1 Mid 2020"
   ]
  },
  {
   "cell_type": "code",
   "execution_count": 0,
   "metadata": {
    "application/vnd.databricks.v1+cell": {
     "cellMetadata": {
      "byteLimit": 2048000,
      "rowLimit": 10000
     },
     "inputWidgets": {},
     "nuid": "f89a8671-b2fd-49a9-bbc2-ac420c992792",
     "showTitle": false,
     "tableResultSettingsMap": {},
     "title": ""
    }
   },
   "outputs": [],
   "source": [
    "population_estimates_lsoa_2020 = spark.table(f'{dsa}.hds_population_estimates_mid_2020_age_lsoa_sex')"
   ]
  },
  {
   "cell_type": "code",
   "execution_count": 0,
   "metadata": {
    "application/vnd.databricks.v1+cell": {
     "cellMetadata": {
      "byteLimit": 2048000,
      "rowLimit": 10000
     },
     "inputWidgets": {},
     "nuid": "66578e98-54e3-4994-abec-df8931f0c004",
     "showTitle": false,
     "tableResultSettingsMap": {},
     "title": ""
    }
   },
   "outputs": [],
   "source": [
    "display(population_estimates_lsoa_2020)"
   ]
  },
  {
   "cell_type": "code",
   "execution_count": 0,
   "metadata": {
    "application/vnd.databricks.v1+cell": {
     "cellMetadata": {
      "byteLimit": 2048000,
      "rowLimit": 10000
     },
     "inputWidgets": {},
     "nuid": "fd9a3aa5-7431-403f-ba38-fc21c77ff2ba",
     "showTitle": false,
     "tableResultSettingsMap": {},
     "title": ""
    }
   },
   "outputs": [],
   "source": [
    "# Filter for LSOAs in England only - remove Wales\n",
    "population_estimates_lsoa_2020 = population_estimates_lsoa_2020.filter(f.col(\"lsoa_code\").startswith(\"E\"))"
   ]
  },
  {
   "cell_type": "code",
   "execution_count": 0,
   "metadata": {
    "application/vnd.databricks.v1+cell": {
     "cellMetadata": {
      "byteLimit": 2048000,
      "rowLimit": 10000
     },
     "inputWidgets": {},
     "nuid": "4310490b-db45-4774-a0d9-414659f7c8d5",
     "showTitle": false,
     "tableResultSettingsMap": {},
     "title": ""
    }
   },
   "outputs": [],
   "source": [
    "population_estimates_lsoa_2020=(population_estimates_lsoa_2020\n",
    "        .withColumn(\"age_numeric\",\n",
    "                f.expr(\"CASE WHEN Age = '90+' THEN 101 ELSE CAST(Age AS INT) END\"))\n",
    "        .withColumn(\"age_5_band\",  f.when(f.col(\"age_numeric\") <= 4, \"0-4\")\n",
    "                              .when((f.col(\"age_numeric\") >= 5) & (f.col(\"age_numeric\") <= 9), \"5-9\")\n",
    "                              .when((f.col(\"age_numeric\") >= 10) & (f.col(\"age_numeric\") <= 14), \"10-14\")\n",
    "                              .when((f.col(\"age_numeric\") >= 15) & (f.col(\"age_numeric\") <= 19), \"15-19\")\n",
    "                              .when((f.col(\"age_numeric\") >= 20) & (f.col(\"age_numeric\") <= 24), \"20-24\")\n",
    "                              .when((f.col(\"age_numeric\") >= 25) & (f.col(\"age_numeric\") <= 29), \"25-29\")\n",
    "                              .when((f.col(\"age_numeric\") >= 30) & (f.col(\"age_numeric\") <= 34), \"30-34\")\n",
    "                              .when((f.col(\"age_numeric\") >= 35) & (f.col(\"age_numeric\") <= 39), \"35-39\")\n",
    "                              .when((f.col(\"age_numeric\") >= 40) & (f.col(\"age_numeric\") <= 44), \"40-44\")\n",
    "                              .when((f.col(\"age_numeric\") >= 45) & (f.col(\"age_numeric\") <= 49), \"45-49\")\n",
    "                              .when((f.col(\"age_numeric\") >= 50) & (f.col(\"age_numeric\") <= 54), \"50-54\")\n",
    "                              .when((f.col(\"age_numeric\") >= 55) & (f.col(\"age_numeric\") <= 59), \"55-59\")\n",
    "                              .when((f.col(\"age_numeric\") >= 60) & (f.col(\"age_numeric\") <= 64), \"60-64\")\n",
    "                              .when((f.col(\"age_numeric\") >= 65) & (f.col(\"age_numeric\") <= 69), \"65-69\")\n",
    "                              .when((f.col(\"age_numeric\") >= 70) & (f.col(\"age_numeric\") <= 74), \"70-74\")\n",
    "                              .when((f.col(\"age_numeric\") >= 75) & (f.col(\"age_numeric\") <= 79), \"75-79\")\n",
    "                              .when((f.col(\"age_numeric\") >= 80) & (f.col(\"age_numeric\") <= 84), \"80-84\")\n",
    "                              .when((f.col(\"age_numeric\") >= 85) & (f.col(\"age_numeric\") <= 89), \"85-89\")\n",
    "                        #       .when((f.col(\"age_numeric\") >= 90) & (f.col(\"age_numeric\") <= 94), \"90-94\")\n",
    "                        #       .when((f.col(\"age_numeric\") >= 95) & (f.col(\"age_numeric\") <= 99), \"95-99\")\n",
    "                              .otherwise(\"90+\"))\n",
    "        .withColumn(\"age_10_band\",  f.when(f.col(\"age_numeric\") <= 10, \"0-9\")\n",
    "                              .when((f.col(\"age_numeric\") >= 10) & (f.col(\"age_numeric\") <= 19), \"10-19\")\n",
    "                              .when((f.col(\"age_numeric\") >= 20) & (f.col(\"age_numeric\") <= 29), \"20-29\")\n",
    "                              .when((f.col(\"age_numeric\") >= 30) & (f.col(\"age_numeric\") <= 39), \"30-39\")\n",
    "                              .when((f.col(\"age_numeric\") >= 40) & (f.col(\"age_numeric\") <= 49), \"40-49\")\n",
    "                              .when((f.col(\"age_numeric\") >= 50) & (f.col(\"age_numeric\") <= 59), \"50-59\")\n",
    "                              .when((f.col(\"age_numeric\") >= 60) & (f.col(\"age_numeric\") <= 69), \"60-69\")\n",
    "                              .when((f.col(\"age_numeric\") >= 70) & (f.col(\"age_numeric\") <= 79), \"70-79\")\n",
    "                              .when((f.col(\"age_numeric\") >= 80) & (f.col(\"age_numeric\") <= 89), \"80-89\")\n",
    "                        #       .when((f.col(\"age_numeric\") >= 90) & (f.col(\"age_numeric\") <= 99), \"90-99\")\n",
    "                              .otherwise(\"90+\"))\n",
    "        \n",
    "\n",
    "        .drop(\"age_numeric\")\n",
    "    )"
   ]
  },
  {
   "cell_type": "code",
   "execution_count": 0,
   "metadata": {
    "application/vnd.databricks.v1+cell": {
     "cellMetadata": {
      "byteLimit": 2048000,
      "rowLimit": 10000
     },
     "inputWidgets": {},
     "nuid": "ce98317b-4b61-4924-bdf6-137aa5018289",
     "showTitle": false,
     "tableResultSettingsMap": {},
     "title": ""
    }
   },
   "outputs": [],
   "source": [
    "display(population_estimates_lsoa_2020)"
   ]
  },
  {
   "cell_type": "code",
   "execution_count": 0,
   "metadata": {
    "application/vnd.databricks.v1+cell": {
     "cellMetadata": {
      "byteLimit": 2048000,
      "rowLimit": 10000
     },
     "inputWidgets": {},
     "nuid": "1418400a-a540-4e82-ad60-d6f889e36761",
     "showTitle": false,
     "tableResultSettingsMap": {},
     "title": ""
    }
   },
   "outputs": [],
   "source": [
    "save_table(df=population_estimates_lsoa_2020, out_name=f'{proj}_population_estimates_mid_2020_age_lsoa_sex', save_previous=False, data_base=dsa)"
   ]
  },
  {
   "cell_type": "markdown",
   "metadata": {
    "application/vnd.databricks.v1+cell": {
     "cellMetadata": {
      "byteLimit": 2048000,
      "rowLimit": 10000
     },
     "inputWidgets": {},
     "nuid": "7c99aac2-afb0-47d7-b7c6-b638a73a974b",
     "showTitle": false,
     "tableResultSettingsMap": {},
     "title": ""
    }
   },
   "source": [
    "## 1.2 Mid 2017"
   ]
  },
  {
   "cell_type": "markdown",
   "metadata": {
    "application/vnd.databricks.v1+cell": {
     "cellMetadata": {
      "byteLimit": 2048000,
      "rowLimit": 10000
     },
     "inputWidgets": {},
     "nuid": "d91fffd7-0771-4d33-acce-578d25399cef",
     "showTitle": false,
     "tableResultSettingsMap": {},
     "title": ""
    }
   },
   "source": [
    "**Ages are not provided in single years but inconsistent age groups instead. We will wrangle these into 5 and 10 year age bands instead.**\n",
    "\n",
    "Note LSOA names are not included here"
   ]
  },
  {
   "cell_type": "code",
   "execution_count": 0,
   "metadata": {
    "application/vnd.databricks.v1+cell": {
     "cellMetadata": {
      "byteLimit": 2048000,
      "rowLimit": 10000
     },
     "inputWidgets": {},
     "nuid": "5bbcda39-ef3e-4070-b7f2-b29fddaa87cf",
     "showTitle": false,
     "tableResultSettingsMap": {},
     "title": ""
    }
   },
   "outputs": [],
   "source": [
    "# lsoa_name_lookup = spark.table(f'{dsa}.hds_cur_lsoa_region_lookup')\n",
    "# wont contain older LSOA names"
   ]
  },
  {
   "cell_type": "code",
   "execution_count": 0,
   "metadata": {
    "application/vnd.databricks.v1+cell": {
     "cellMetadata": {
      "byteLimit": 2048000,
      "rowLimit": 10000
     },
     "inputWidgets": {},
     "nuid": "148205ae-ee64-4904-873f-060520c804bd",
     "showTitle": false,
     "tableResultSettingsMap": {},
     "title": ""
    }
   },
   "outputs": [],
   "source": [
    "population_estimates_lsoa_2017 = spark.table(f'{dsa}.hds_population_estimates_mid_2017_age_lsoa_sex')"
   ]
  },
  {
   "cell_type": "code",
   "execution_count": 0,
   "metadata": {
    "application/vnd.databricks.v1+cell": {
     "cellMetadata": {
      "byteLimit": 2048000,
      "rowLimit": 10000
     },
     "inputWidgets": {},
     "nuid": "22270572-0b2d-4bfa-8860-0b68754f6160",
     "showTitle": false,
     "tableResultSettingsMap": {},
     "title": ""
    }
   },
   "outputs": [],
   "source": [
    "display(population_estimates_lsoa_2017)"
   ]
  },
  {
   "cell_type": "code",
   "execution_count": 0,
   "metadata": {
    "application/vnd.databricks.v1+cell": {
     "cellMetadata": {
      "byteLimit": 2048000,
      "rowLimit": 10000
     },
     "inputWidgets": {},
     "nuid": "0e70fada-11b3-4e71-9020-04debd9e4043",
     "showTitle": false,
     "tableResultSettingsMap": {},
     "title": ""
    }
   },
   "outputs": [],
   "source": [
    "# Filter for LSOAs in England only - remove Wales\n",
    "population_estimates_lsoa_2017 = population_estimates_lsoa_2017.filter(f.col(\"lsoa_code\").startswith(\"E\"))"
   ]
  },
  {
   "cell_type": "code",
   "execution_count": 0,
   "metadata": {
    "application/vnd.databricks.v1+cell": {
     "cellMetadata": {
      "byteLimit": 2048000,
      "rowLimit": 10000
     },
     "inputWidgets": {},
     "nuid": "cb3ca279-5626-4620-ac06-025cec6baf5c",
     "showTitle": false,
     "tableResultSettingsMap": {},
     "title": ""
    }
   },
   "outputs": [],
   "source": [
    "population_estimates_lsoa_2017=(population_estimates_lsoa_2017\n",
    "        .withColumn(\"age_numeric\",\n",
    "                f.expr(\"CASE WHEN age = '90+' THEN 101 ELSE CAST(age AS INT) END\"))\n",
    "        .withColumn(\"age_5_band\",  f.when(f.col(\"age_numeric\") <= 4, \"0-4\")\n",
    "                              .when((f.col(\"age_numeric\") >= 5) & (f.col(\"age_numeric\") <= 9), \"5-9\")\n",
    "                              .when((f.col(\"age_numeric\") >= 10) & (f.col(\"age_numeric\") <= 14), \"10-14\")\n",
    "                              .when((f.col(\"age_numeric\") >= 15) & (f.col(\"age_numeric\") <= 19), \"15-19\")\n",
    "                              .when((f.col(\"age_numeric\") >= 20) & (f.col(\"age_numeric\") <= 24), \"20-24\")\n",
    "                              .when((f.col(\"age_numeric\") >= 25) & (f.col(\"age_numeric\") <= 29), \"25-29\")\n",
    "                              .when((f.col(\"age_numeric\") >= 30) & (f.col(\"age_numeric\") <= 34), \"30-34\")\n",
    "                              .when((f.col(\"age_numeric\") >= 35) & (f.col(\"age_numeric\") <= 39), \"35-39\")\n",
    "                              .when((f.col(\"age_numeric\") >= 40) & (f.col(\"age_numeric\") <= 44), \"40-44\")\n",
    "                              .when((f.col(\"age_numeric\") >= 45) & (f.col(\"age_numeric\") <= 49), \"45-49\")\n",
    "                              .when((f.col(\"age_numeric\") >= 50) & (f.col(\"age_numeric\") <= 54), \"50-54\")\n",
    "                              .when((f.col(\"age_numeric\") >= 55) & (f.col(\"age_numeric\") <= 59), \"55-59\")\n",
    "                              .when((f.col(\"age_numeric\") >= 60) & (f.col(\"age_numeric\") <= 64), \"60-64\")\n",
    "                              .when((f.col(\"age_numeric\") >= 65) & (f.col(\"age_numeric\") <= 69), \"65-69\")\n",
    "                              .when((f.col(\"age_numeric\") >= 70) & (f.col(\"age_numeric\") <= 74), \"70-74\")\n",
    "                              .when((f.col(\"age_numeric\") >= 75) & (f.col(\"age_numeric\") <= 79), \"75-79\")\n",
    "                              .when((f.col(\"age_numeric\") >= 80) & (f.col(\"age_numeric\") <= 84), \"80-84\")\n",
    "                              .when((f.col(\"age_numeric\") >= 85) & (f.col(\"age_numeric\") <= 89), \"85-89\")\n",
    "                        #       .when((f.col(\"age_numeric\") >= 90) & (f.col(\"age_numeric\") <= 94), \"90-94\")\n",
    "                        #       .when((f.col(\"age_numeric\") >= 95) & (f.col(\"age_numeric\") <= 99), \"95-99\")\n",
    "                              .otherwise(\"90+\"))\n",
    "        .withColumn(\"age_10_band\",  f.when(f.col(\"age_numeric\") <= 10, \"0-9\")\n",
    "                              .when((f.col(\"age_numeric\") >= 10) & (f.col(\"age_numeric\") <= 19), \"10-19\")\n",
    "                              .when((f.col(\"age_numeric\") >= 20) & (f.col(\"age_numeric\") <= 29), \"20-29\")\n",
    "                              .when((f.col(\"age_numeric\") >= 30) & (f.col(\"age_numeric\") <= 39), \"30-39\")\n",
    "                              .when((f.col(\"age_numeric\") >= 40) & (f.col(\"age_numeric\") <= 49), \"40-49\")\n",
    "                              .when((f.col(\"age_numeric\") >= 50) & (f.col(\"age_numeric\") <= 59), \"50-59\")\n",
    "                              .when((f.col(\"age_numeric\") >= 60) & (f.col(\"age_numeric\") <= 69), \"60-69\")\n",
    "                              .when((f.col(\"age_numeric\") >= 70) & (f.col(\"age_numeric\") <= 79), \"70-79\")\n",
    "                              .when((f.col(\"age_numeric\") >= 80) & (f.col(\"age_numeric\") <= 89), \"80-89\")\n",
    "                        #       .when((f.col(\"age_numeric\") >= 90) & (f.col(\"age_numeric\") <= 99), \"90-99\")\n",
    "                              .otherwise(\"90+\"))\n",
    "        \n",
    "\n",
    "        .drop(\"age_numeric\")\n",
    "    )"
   ]
  },
  {
   "cell_type": "code",
   "execution_count": 0,
   "metadata": {
    "application/vnd.databricks.v1+cell": {
     "cellMetadata": {
      "byteLimit": 2048000,
      "rowLimit": 10000
     },
     "inputWidgets": {},
     "nuid": "56d9f189-4922-4ad5-9e5d-6628790926f1",
     "showTitle": false,
     "tableResultSettingsMap": {},
     "title": ""
    }
   },
   "outputs": [],
   "source": [
    "display(population_estimates_lsoa_2017)"
   ]
  },
  {
   "cell_type": "code",
   "execution_count": 0,
   "metadata": {
    "application/vnd.databricks.v1+cell": {
     "cellMetadata": {
      "byteLimit": 2048000,
      "rowLimit": 10000
     },
     "inputWidgets": {},
     "nuid": "841c6e9f-a74a-4fac-9f26-070db3c8397b",
     "showTitle": false,
     "tableResultSettingsMap": {},
     "title": ""
    }
   },
   "outputs": [],
   "source": [
    "save_table(df=population_estimates_lsoa_2017, out_name=f'{proj}_population_estimates_mid_2017_age_lsoa_sex', save_previous=False, data_base=dsa)"
   ]
  },
  {
   "cell_type": "markdown",
   "metadata": {
    "application/vnd.databricks.v1+cell": {
     "cellMetadata": {
      "byteLimit": 2048000,
      "rowLimit": 10000
     },
     "inputWidgets": {},
     "nuid": "6b21f973-c61f-4192-ba70-bfb8b2d0dbd0",
     "showTitle": false,
     "tableResultSettingsMap": {},
     "title": ""
    }
   },
   "source": [
    "## 1.3 Mid 2011"
   ]
  },
  {
   "cell_type": "code",
   "execution_count": 0,
   "metadata": {
    "application/vnd.databricks.v1+cell": {
     "cellMetadata": {
      "byteLimit": 2048000,
      "rowLimit": 10000
     },
     "inputWidgets": {},
     "nuid": "c9ec4d8f-e0c9-44b7-b29e-5c0ff5948c6a",
     "showTitle": false,
     "tableResultSettingsMap": {},
     "title": ""
    }
   },
   "outputs": [],
   "source": [
    "population_estimates_lsoa_2011 = spark.table(f'{dsa}.hds_population_estimates_mid_2011_age_lsoa_sex')"
   ]
  },
  {
   "cell_type": "code",
   "execution_count": 0,
   "metadata": {
    "application/vnd.databricks.v1+cell": {
     "cellMetadata": {
      "byteLimit": 2048000,
      "rowLimit": 10000
     },
     "inputWidgets": {},
     "nuid": "daffaa37-8aa3-4510-8b6b-394daef45d1e",
     "showTitle": false,
     "tableResultSettingsMap": {},
     "title": ""
    }
   },
   "outputs": [],
   "source": [
    "display(population_estimates_lsoa_2011)"
   ]
  },
  {
   "cell_type": "code",
   "execution_count": 0,
   "metadata": {
    "application/vnd.databricks.v1+cell": {
     "cellMetadata": {
      "byteLimit": 2048000,
      "rowLimit": 10000
     },
     "inputWidgets": {},
     "nuid": "01e0cded-a1b0-4f43-861c-fc835dc6d267",
     "showTitle": false,
     "tableResultSettingsMap": {},
     "title": ""
    }
   },
   "outputs": [],
   "source": [
    "# Filter for LSOAs in England only - remove Wales\n",
    "population_estimates_lsoa_2011 = (population_estimates_lsoa_2011.filter(f.col(\"lsoa_code\").startswith(\"E\")))"
   ]
  },
  {
   "cell_type": "code",
   "execution_count": 0,
   "metadata": {
    "application/vnd.databricks.v1+cell": {
     "cellMetadata": {
      "byteLimit": 2048000,
      "rowLimit": 10000
     },
     "inputWidgets": {},
     "nuid": "d30f75bc-c0b5-455c-baf1-86b8461fb19e",
     "showTitle": false,
     "tableResultSettingsMap": {},
     "title": ""
    }
   },
   "outputs": [],
   "source": [
    "population_estimates_lsoa_2011=(population_estimates_lsoa_2011\n",
    "        .withColumn(\"age_numeric\",\n",
    "                f.expr(\"CASE WHEN age = '90+' THEN 101 ELSE CAST(age AS INT) END\"))\n",
    "        .withColumn(\"age_5_band\",  f.when(f.col(\"age_numeric\") <= 4, \"0-4\")\n",
    "                              .when((f.col(\"age_numeric\") >= 5) & (f.col(\"age_numeric\") <= 9), \"5-9\")\n",
    "                              .when((f.col(\"age_numeric\") >= 10) & (f.col(\"age_numeric\") <= 14), \"10-14\")\n",
    "                              .when((f.col(\"age_numeric\") >= 15) & (f.col(\"age_numeric\") <= 19), \"15-19\")\n",
    "                              .when((f.col(\"age_numeric\") >= 20) & (f.col(\"age_numeric\") <= 24), \"20-24\")\n",
    "                              .when((f.col(\"age_numeric\") >= 25) & (f.col(\"age_numeric\") <= 29), \"25-29\")\n",
    "                              .when((f.col(\"age_numeric\") >= 30) & (f.col(\"age_numeric\") <= 34), \"30-34\")\n",
    "                              .when((f.col(\"age_numeric\") >= 35) & (f.col(\"age_numeric\") <= 39), \"35-39\")\n",
    "                              .when((f.col(\"age_numeric\") >= 40) & (f.col(\"age_numeric\") <= 44), \"40-44\")\n",
    "                              .when((f.col(\"age_numeric\") >= 45) & (f.col(\"age_numeric\") <= 49), \"45-49\")\n",
    "                              .when((f.col(\"age_numeric\") >= 50) & (f.col(\"age_numeric\") <= 54), \"50-54\")\n",
    "                              .when((f.col(\"age_numeric\") >= 55) & (f.col(\"age_numeric\") <= 59), \"55-59\")\n",
    "                              .when((f.col(\"age_numeric\") >= 60) & (f.col(\"age_numeric\") <= 64), \"60-64\")\n",
    "                              .when((f.col(\"age_numeric\") >= 65) & (f.col(\"age_numeric\") <= 69), \"65-69\")\n",
    "                              .when((f.col(\"age_numeric\") >= 70) & (f.col(\"age_numeric\") <= 74), \"70-74\")\n",
    "                              .when((f.col(\"age_numeric\") >= 75) & (f.col(\"age_numeric\") <= 79), \"75-79\")\n",
    "                              .when((f.col(\"age_numeric\") >= 80) & (f.col(\"age_numeric\") <= 84), \"80-84\")\n",
    "                              .when((f.col(\"age_numeric\") >= 85) & (f.col(\"age_numeric\") <= 89), \"85-89\")\n",
    "                            #   .when((f.col(\"age_numeric\") >= 90) & (f.col(\"age_numeric\") <= 94), \"90-94\")\n",
    "                            #   .when((f.col(\"age_numeric\") >= 95) & (f.col(\"age_numeric\") <= 99), \"95-99\")\n",
    "                              .otherwise(\"90+\"))\n",
    "        .withColumn(\"age_10_band\",  f.when(f.col(\"age_numeric\") <= 10, \"0-9\")\n",
    "                              .when((f.col(\"age_numeric\") >= 10) & (f.col(\"age_numeric\") <= 19), \"10-19\")\n",
    "                              .when((f.col(\"age_numeric\") >= 20) & (f.col(\"age_numeric\") <= 29), \"20-29\")\n",
    "                              .when((f.col(\"age_numeric\") >= 30) & (f.col(\"age_numeric\") <= 39), \"30-39\")\n",
    "                              .when((f.col(\"age_numeric\") >= 40) & (f.col(\"age_numeric\") <= 49), \"40-49\")\n",
    "                              .when((f.col(\"age_numeric\") >= 50) & (f.col(\"age_numeric\") <= 59), \"50-59\")\n",
    "                              .when((f.col(\"age_numeric\") >= 60) & (f.col(\"age_numeric\") <= 69), \"60-69\")\n",
    "                              .when((f.col(\"age_numeric\") >= 70) & (f.col(\"age_numeric\") <= 79), \"70-79\")\n",
    "                              .when((f.col(\"age_numeric\") >= 80) & (f.col(\"age_numeric\") <= 89), \"80-89\")\n",
    "                            #   .when((f.col(\"age_numeric\") >= 90) & (f.col(\"age_numeric\") <= 99), \"90-99\")\n",
    "                              .otherwise(\"90+\"))\n",
    "        \n",
    "\n",
    "        .drop(\"age_numeric\")\n",
    "    )"
   ]
  },
  {
   "cell_type": "code",
   "execution_count": 0,
   "metadata": {
    "application/vnd.databricks.v1+cell": {
     "cellMetadata": {
      "byteLimit": 2048000,
      "rowLimit": 10000
     },
     "inputWidgets": {},
     "nuid": "a0fc341f-cca9-43e6-9b3c-8018c46cfc22",
     "showTitle": false,
     "tableResultSettingsMap": {},
     "title": ""
    }
   },
   "outputs": [],
   "source": [
    "save_table(df=population_estimates_lsoa_2011, out_name=f'{proj}_population_estimates_mid_2011_age_lsoa_sex', save_previous=False, data_base=dsa)"
   ]
  },
  {
   "cell_type": "markdown",
   "metadata": {
    "application/vnd.databricks.v1+cell": {
     "cellMetadata": {
      "byteLimit": 2048000,
      "rowLimit": 10000
     },
     "inputWidgets": {},
     "nuid": "ab535d08-4be0-4df1-9dd9-a28d6347f1b5",
     "showTitle": false,
     "tableResultSettingsMap": {},
     "title": ""
    }
   },
   "source": [
    "## 1.4 Mid 2002"
   ]
  },
  {
   "cell_type": "markdown",
   "metadata": {
    "application/vnd.databricks.v1+cell": {
     "cellMetadata": {
      "byteLimit": 2048000,
      "rowLimit": 10000
     },
     "inputWidgets": {},
     "nuid": "5dd45519-3519-4c52-8fc1-7d3eb48758b4",
     "showTitle": false,
     "tableResultSettingsMap": {},
     "title": ""
    }
   },
   "source": [
    "**Ages are not provided in single years but inconsistent age groups instead. We will wrangle these into 5 and 10 year age bands instead.**\n",
    "\n",
    "Note LSOA names are not included here"
   ]
  },
  {
   "cell_type": "code",
   "execution_count": 0,
   "metadata": {
    "application/vnd.databricks.v1+cell": {
     "cellMetadata": {
      "byteLimit": 2048000,
      "rowLimit": 10000
     },
     "inputWidgets": {},
     "nuid": "7d9f423b-829b-4500-ac1c-e9e4ae5e78e7",
     "showTitle": false,
     "tableResultSettingsMap": {},
     "title": ""
    }
   },
   "outputs": [],
   "source": [
    "population_estimates_lsoa_2002 = spark.table(f'{dsa}.hds_population_estimates_mid_2002_age_lsoa_sex')"
   ]
  },
  {
   "cell_type": "code",
   "execution_count": 0,
   "metadata": {
    "application/vnd.databricks.v1+cell": {
     "cellMetadata": {
      "byteLimit": 2048000,
      "rowLimit": 10000
     },
     "inputWidgets": {},
     "nuid": "119712be-800c-4a93-b519-b4914a722827",
     "showTitle": false,
     "tableResultSettingsMap": {},
     "title": ""
    }
   },
   "outputs": [],
   "source": [
    "display(population_estimates_lsoa_2002)"
   ]
  },
  {
   "cell_type": "code",
   "execution_count": 0,
   "metadata": {
    "application/vnd.databricks.v1+cell": {
     "cellMetadata": {
      "byteLimit": 2048000,
      "rowLimit": 10000
     },
     "inputWidgets": {},
     "nuid": "494f4894-051b-45e6-9bb9-1bd85c5dc493",
     "showTitle": false,
     "tableResultSettingsMap": {},
     "title": ""
    }
   },
   "outputs": [],
   "source": [
    "# Filter for LSOAs in England only - remove Wales\n",
    "population_estimates_lsoa_2002 = population_estimates_lsoa_2002.filter(f.col(\"lsoa_code\").startswith(\"E\"))"
   ]
  },
  {
   "cell_type": "code",
   "execution_count": 0,
   "metadata": {
    "application/vnd.databricks.v1+cell": {
     "cellMetadata": {
      "byteLimit": 2048000,
      "rowLimit": 10000
     },
     "inputWidgets": {},
     "nuid": "a4e405b8-8032-4c00-bdba-b112f4f3e5cd",
     "showTitle": false,
     "tableResultSettingsMap": {},
     "title": ""
    }
   },
   "outputs": [],
   "source": [
    "population_estimates_lsoa_2002=(population_estimates_lsoa_2002\n",
    "        .withColumn(\"age_numeric\",\n",
    "                f.expr(\"CASE WHEN age = '90+' THEN 101 ELSE CAST(age AS INT) END\"))\n",
    "        .withColumn(\"age_5_band\",  f.when(f.col(\"age_numeric\") <= 4, \"0-4\")\n",
    "                              .when((f.col(\"age_numeric\") >= 5) & (f.col(\"age_numeric\") <= 9), \"5-9\")\n",
    "                              .when((f.col(\"age_numeric\") >= 10) & (f.col(\"age_numeric\") <= 14), \"10-14\")\n",
    "                              .when((f.col(\"age_numeric\") >= 15) & (f.col(\"age_numeric\") <= 19), \"15-19\")\n",
    "                              .when((f.col(\"age_numeric\") >= 20) & (f.col(\"age_numeric\") <= 24), \"20-24\")\n",
    "                              .when((f.col(\"age_numeric\") >= 25) & (f.col(\"age_numeric\") <= 29), \"25-29\")\n",
    "                              .when((f.col(\"age_numeric\") >= 30) & (f.col(\"age_numeric\") <= 34), \"30-34\")\n",
    "                              .when((f.col(\"age_numeric\") >= 35) & (f.col(\"age_numeric\") <= 39), \"35-39\")\n",
    "                              .when((f.col(\"age_numeric\") >= 40) & (f.col(\"age_numeric\") <= 44), \"40-44\")\n",
    "                              .when((f.col(\"age_numeric\") >= 45) & (f.col(\"age_numeric\") <= 49), \"45-49\")\n",
    "                              .when((f.col(\"age_numeric\") >= 50) & (f.col(\"age_numeric\") <= 54), \"50-54\")\n",
    "                              .when((f.col(\"age_numeric\") >= 55) & (f.col(\"age_numeric\") <= 59), \"55-59\")\n",
    "                              .when((f.col(\"age_numeric\") >= 60) & (f.col(\"age_numeric\") <= 64), \"60-64\")\n",
    "                              .when((f.col(\"age_numeric\") >= 65) & (f.col(\"age_numeric\") <= 69), \"65-69\")\n",
    "                              .when((f.col(\"age_numeric\") >= 70) & (f.col(\"age_numeric\") <= 74), \"70-74\")\n",
    "                              .when((f.col(\"age_numeric\") >= 75) & (f.col(\"age_numeric\") <= 79), \"75-79\")\n",
    "                              .when((f.col(\"age_numeric\") >= 80) & (f.col(\"age_numeric\") <= 84), \"80-84\")\n",
    "                              .when((f.col(\"age_numeric\") >= 85) & (f.col(\"age_numeric\") <= 89), \"85-89\")\n",
    "                        #       .when((f.col(\"age_numeric\") >= 90) & (f.col(\"age_numeric\") <= 94), \"90-94\")\n",
    "                        #       .when((f.col(\"age_numeric\") >= 95) & (f.col(\"age_numeric\") <= 99), \"95-99\")\n",
    "                              .otherwise(\"90+\"))\n",
    "        .withColumn(\"age_10_band\",  f.when(f.col(\"age_numeric\") <= 10, \"0-9\")\n",
    "                              .when((f.col(\"age_numeric\") >= 10) & (f.col(\"age_numeric\") <= 19), \"10-19\")\n",
    "                              .when((f.col(\"age_numeric\") >= 20) & (f.col(\"age_numeric\") <= 29), \"20-29\")\n",
    "                              .when((f.col(\"age_numeric\") >= 30) & (f.col(\"age_numeric\") <= 39), \"30-39\")\n",
    "                              .when((f.col(\"age_numeric\") >= 40) & (f.col(\"age_numeric\") <= 49), \"40-49\")\n",
    "                              .when((f.col(\"age_numeric\") >= 50) & (f.col(\"age_numeric\") <= 59), \"50-59\")\n",
    "                              .when((f.col(\"age_numeric\") >= 60) & (f.col(\"age_numeric\") <= 69), \"60-69\")\n",
    "                              .when((f.col(\"age_numeric\") >= 70) & (f.col(\"age_numeric\") <= 79), \"70-79\")\n",
    "                              .when((f.col(\"age_numeric\") >= 80) & (f.col(\"age_numeric\") <= 89), \"80-89\")\n",
    "                        #       .when((f.col(\"age_numeric\") >= 90) & (f.col(\"age_numeric\") <= 99), \"90-99\")\n",
    "                              .otherwise(\"90+\"))\n",
    "        \n",
    "\n",
    "        .drop(\"age_numeric\")\n",
    "    )"
   ]
  },
  {
   "cell_type": "code",
   "execution_count": 0,
   "metadata": {
    "application/vnd.databricks.v1+cell": {
     "cellMetadata": {
      "byteLimit": 2048000,
      "rowLimit": 10000
     },
     "inputWidgets": {},
     "nuid": "154ae8b6-87d9-4c1f-99a2-e6cdcecb969d",
     "showTitle": false,
     "tableResultSettingsMap": {},
     "title": ""
    }
   },
   "outputs": [],
   "source": [
    "display(population_estimates_lsoa_2002)"
   ]
  },
  {
   "cell_type": "code",
   "execution_count": 0,
   "metadata": {
    "application/vnd.databricks.v1+cell": {
     "cellMetadata": {
      "byteLimit": 2048000,
      "rowLimit": 10000
     },
     "inputWidgets": {},
     "nuid": "744e06af-a536-4508-b755-1deddc9b0f3f",
     "showTitle": false,
     "tableResultSettingsMap": {},
     "title": ""
    }
   },
   "outputs": [],
   "source": [
    "save_table(df=population_estimates_lsoa_2002, out_name=f'{proj}_population_estimates_mid_2002_age_lsoa_sex', save_previous=False, data_base=dsa)"
   ]
  },
  {
   "cell_type": "markdown",
   "metadata": {
    "application/vnd.databricks.v1+cell": {
     "cellMetadata": {
      "byteLimit": 2048000,
      "rowLimit": 10000
     },
     "inputWidgets": {},
     "nuid": "2e690861-b3e3-4d4c-bdcc-a8368743cd2b",
     "showTitle": false,
     "tableResultSettingsMap": {},
     "title": ""
    }
   },
   "source": [
    "#2. Age, Sex, Ethnicity"
   ]
  },
  {
   "cell_type": "markdown",
   "metadata": {
    "application/vnd.databricks.v1+cell": {
     "cellMetadata": {
      "byteLimit": 2048000,
      "rowLimit": 10000
     },
     "inputWidgets": {},
     "nuid": "913e4081-d6de-4e76-8da0-6151a1bf3698",
     "showTitle": false,
     "tableResultSettingsMap": {},
     "title": ""
    }
   },
   "source": [
    "## 2.1 2021"
   ]
  },
  {
   "cell_type": "code",
   "execution_count": 0,
   "metadata": {
    "application/vnd.databricks.v1+cell": {
     "cellMetadata": {
      "byteLimit": 2048000,
      "rowLimit": 10000
     },
     "inputWidgets": {},
     "nuid": "ee353c1f-060b-48ef-8a81-b6d6ae0f7529",
     "showTitle": false,
     "tableResultSettingsMap": {},
     "title": ""
    }
   },
   "outputs": [],
   "source": [
    "population_estimates_eth_2021 = spark.table(f'{dsa}.hds_population_estimates_2021_ethnicity_age_sex')"
   ]
  },
  {
   "cell_type": "code",
   "execution_count": 0,
   "metadata": {
    "application/vnd.databricks.v1+cell": {
     "cellMetadata": {
      "byteLimit": 2048000,
      "rowLimit": 10000
     },
     "inputWidgets": {},
     "nuid": "5d4ee8ce-9014-4516-a166-b7d789d73019",
     "showTitle": false,
     "tableResultSettingsMap": {},
     "title": ""
    }
   },
   "outputs": [],
   "source": [
    "display(population_estimates_eth_2021)"
   ]
  },
  {
   "cell_type": "code",
   "execution_count": 0,
   "metadata": {
    "application/vnd.databricks.v1+cell": {
     "cellMetadata": {
      "byteLimit": 2048000,
      "rowLimit": 10000
     },
     "inputWidgets": {},
     "nuid": "131edcb7-cc9a-41e3-81d6-713acfcbac47",
     "showTitle": false,
     "tableResultSettingsMap": {},
     "title": ""
    }
   },
   "outputs": [],
   "source": [
    "#Add high-level ethnicity\n",
    "population_estimates_eth_2021=(population_estimates_eth_2021.withColumn(\"high_level_ethnicity\", f.split(f.col(\"ethnicity\"), \":\")[0]))\n",
    "\n",
    "#ethnicity - detail only\n",
    "population_estimates_eth_2021=(population_estimates_eth_2021\n",
    "                      .withColumn(\"detail_ethnicity\", f.split(f.col(\"ethnicity\"), \":\")[1])\n",
    "                      .withColumn(\"detail_ethnicity\", f.ltrim(f.col(\"detail_ethnicity\")))\n",
    "                      )\n",
    "\n",
    "population_estimates_eth_2021 = (population_estimates_eth_2021.withColumn(\"n\", f.when(f.col(\"n\") == \"c\", 0).otherwise(f.col(\"n\"))))"
   ]
  },
  {
   "cell_type": "code",
   "execution_count": 0,
   "metadata": {
    "application/vnd.databricks.v1+cell": {
     "cellMetadata": {
      "byteLimit": 2048000,
      "rowLimit": 10000
     },
     "inputWidgets": {},
     "nuid": "33f1a633-9db3-43c3-af89-92490663141b",
     "showTitle": false,
     "tableResultSettingsMap": {},
     "title": ""
    }
   },
   "outputs": [],
   "source": [
    "population_estimates_eth=(population_estimates_eth_2021\n",
    "        .withColumn(\"age_numeric\",\n",
    "                f.expr(\"CASE WHEN Age = '100 or over' THEN 101 ELSE CAST(Age AS INT) END\"))\n",
    "        .withColumn(\"age_5_band\",  f.when(f.col(\"age_numeric\") <= 4, \"0-4\")\n",
    "                              .when((f.col(\"age_numeric\") >= 5) & (f.col(\"age_numeric\") <= 9), \"5-9\")\n",
    "                              .when((f.col(\"age_numeric\") >= 10) & (f.col(\"age_numeric\") <= 14), \"10-14\")\n",
    "                              .when((f.col(\"age_numeric\") >= 15) & (f.col(\"age_numeric\") <= 19), \"15-19\")\n",
    "                              .when((f.col(\"age_numeric\") >= 20) & (f.col(\"age_numeric\") <= 24), \"20-24\")\n",
    "                              .when((f.col(\"age_numeric\") >= 25) & (f.col(\"age_numeric\") <= 29), \"25-29\")\n",
    "                              .when((f.col(\"age_numeric\") >= 30) & (f.col(\"age_numeric\") <= 34), \"30-34\")\n",
    "                              .when((f.col(\"age_numeric\") >= 35) & (f.col(\"age_numeric\") <= 39), \"35-39\")\n",
    "                              .when((f.col(\"age_numeric\") >= 40) & (f.col(\"age_numeric\") <= 44), \"40-44\")\n",
    "                              .when((f.col(\"age_numeric\") >= 45) & (f.col(\"age_numeric\") <= 49), \"45-49\")\n",
    "                              .when((f.col(\"age_numeric\") >= 50) & (f.col(\"age_numeric\") <= 54), \"50-54\")\n",
    "                              .when((f.col(\"age_numeric\") >= 55) & (f.col(\"age_numeric\") <= 59), \"55-59\")\n",
    "                              .when((f.col(\"age_numeric\") >= 60) & (f.col(\"age_numeric\") <= 64), \"60-64\")\n",
    "                              .when((f.col(\"age_numeric\") >= 65) & (f.col(\"age_numeric\") <= 69), \"65-69\")\n",
    "                              .when((f.col(\"age_numeric\") >= 70) & (f.col(\"age_numeric\") <= 74), \"70-74\")\n",
    "                              .when((f.col(\"age_numeric\") >= 75) & (f.col(\"age_numeric\") <= 79), \"75-79\")\n",
    "                              .when((f.col(\"age_numeric\") >= 80) & (f.col(\"age_numeric\") <= 84), \"80-84\")\n",
    "                              .when((f.col(\"age_numeric\") >= 85) & (f.col(\"age_numeric\") <= 89), \"85-89\")\n",
    "                              .when((f.col(\"age_numeric\") >= 90) & (f.col(\"age_numeric\") <= 94), \"90-94\")\n",
    "                              .when((f.col(\"age_numeric\") >= 95) & (f.col(\"age_numeric\") <= 99), \"95-99\")\n",
    "                              .otherwise(\"100+\"))\n",
    "        .withColumn(\"age_10_band\",  f.when(f.col(\"age_numeric\") <= 10, \"0-9\")\n",
    "                              .when((f.col(\"age_numeric\") >= 10) & (f.col(\"age_numeric\") <= 19), \"10-19\")\n",
    "                              .when((f.col(\"age_numeric\") >= 20) & (f.col(\"age_numeric\") <= 29), \"20-29\")\n",
    "                              .when((f.col(\"age_numeric\") >= 30) & (f.col(\"age_numeric\") <= 39), \"30-39\")\n",
    "                              .when((f.col(\"age_numeric\") >= 40) & (f.col(\"age_numeric\") <= 49), \"40-49\")\n",
    "                              .when((f.col(\"age_numeric\") >= 50) & (f.col(\"age_numeric\") <= 59), \"50-59\")\n",
    "                              .when((f.col(\"age_numeric\") >= 60) & (f.col(\"age_numeric\") <= 69), \"60-69\")\n",
    "                              .when((f.col(\"age_numeric\") >= 70) & (f.col(\"age_numeric\") <= 79), \"70-79\")\n",
    "                              .when((f.col(\"age_numeric\") >= 80) & (f.col(\"age_numeric\") <= 89), \"80-89\")\n",
    "                              .when((f.col(\"age_numeric\") >= 90) & (f.col(\"age_numeric\") <= 99), \"90-99\")\n",
    "                              .otherwise(\"100+\"))\n",
    "        .drop(\"age_numeric\")\n",
    "    )"
   ]
  },
  {
   "cell_type": "code",
   "execution_count": 0,
   "metadata": {
    "application/vnd.databricks.v1+cell": {
     "cellMetadata": {
      "byteLimit": 2048000,
      "rowLimit": 10000
     },
     "inputWidgets": {},
     "nuid": "f37e9e31-00c0-430f-8de0-09a1ae181b4f",
     "showTitle": false,
     "tableResultSettingsMap": {},
     "title": ""
    }
   },
   "outputs": [],
   "source": [
    "display(population_estimates_eth_2021)"
   ]
  },
  {
   "cell_type": "code",
   "execution_count": 0,
   "metadata": {
    "application/vnd.databricks.v1+cell": {
     "cellMetadata": {
      "byteLimit": 2048000,
      "rowLimit": 10000
     },
     "inputWidgets": {},
     "nuid": "69c163a0-a3a2-4202-984b-a86bb037274e",
     "showTitle": false,
     "tableResultSettingsMap": {},
     "title": ""
    }
   },
   "outputs": [],
   "source": [
    "save_table(df=population_estimates_eth_2021, out_name=f'{proj}_population_estimates_2021_ethnicity_age_sex', save_previous=False, data_base=dsa)"
   ]
  },
  {
   "cell_type": "markdown",
   "metadata": {
    "application/vnd.databricks.v1+cell": {
     "cellMetadata": {
      "byteLimit": 2048000,
      "rowLimit": 10000
     },
     "inputWidgets": {},
     "nuid": "5f8d0cbb-63a7-473d-9dc5-4f1ba2d1d9e7",
     "showTitle": false,
     "tableResultSettingsMap": {},
     "title": ""
    }
   },
   "source": [
    "## 2.1 2011"
   ]
  },
  {
   "cell_type": "code",
   "execution_count": 0,
   "metadata": {
    "application/vnd.databricks.v1+cell": {
     "cellMetadata": {
      "byteLimit": 2048000,
      "rowLimit": 10000
     },
     "inputWidgets": {},
     "nuid": "6adec568-13db-43e1-a99a-03191cc7dfd7",
     "showTitle": false,
     "tableResultSettingsMap": {},
     "title": ""
    }
   },
   "outputs": [],
   "source": [
    "population_estimates_eth_2011 = spark.table(f'{dsa}.hds_population_estimates_2011_ethnicity_age_sex')"
   ]
  },
  {
   "cell_type": "code",
   "execution_count": 0,
   "metadata": {
    "application/vnd.databricks.v1+cell": {
     "cellMetadata": {
      "byteLimit": 2048000,
      "rowLimit": 10000
     },
     "inputWidgets": {},
     "nuid": "a8634c9b-a730-4e4d-b22a-769ad2451e8a",
     "showTitle": false,
     "tableResultSettingsMap": {},
     "title": ""
    }
   },
   "outputs": [],
   "source": [
    "#Add high-level ethnicity\n",
    "population_estimates_eth_2011=(population_estimates_eth_2011.withColumn(\"high_level_ethnicity\", f.split(f.col(\"ethnicity\"), \":\")[0]))\n",
    "\n",
    "#ethnicity - detail only\n",
    "population_estimates_eth_2011=(population_estimates_eth_2011\n",
    "                      .withColumn(\"detail_ethnicity\", f.split(f.col(\"ethnicity\"), \":\")[1])\n",
    "                      .withColumn(\"detail_ethnicity\", f.ltrim(f.col(\"detail_ethnicity\")))\n",
    "                      )\n",
    "\n",
    "population_estimates_eth_2011 = (population_estimates_eth_2011.withColumn(\"n\", f.when(f.col(\"n\") == \"c\", 0).otherwise(f.col(\"n\"))))"
   ]
  },
  {
   "cell_type": "code",
   "execution_count": 0,
   "metadata": {
    "application/vnd.databricks.v1+cell": {
     "cellMetadata": {
      "byteLimit": 2048000,
      "rowLimit": 10000
     },
     "inputWidgets": {},
     "nuid": "c3163c72-6122-47b2-8f18-29b54093f2a5",
     "showTitle": false,
     "tableResultSettingsMap": {},
     "title": ""
    }
   },
   "outputs": [],
   "source": [
    "display(population_estimates_eth_2011)"
   ]
  },
  {
   "cell_type": "code",
   "execution_count": 0,
   "metadata": {
    "application/vnd.databricks.v1+cell": {
     "cellMetadata": {
      "byteLimit": 2048000,
      "rowLimit": 10000
     },
     "inputWidgets": {},
     "nuid": "961af8fb-a51e-4e7c-a062-3e0c84813dd4",
     "showTitle": false,
     "tableResultSettingsMap": {},
     "title": ""
    }
   },
   "outputs": [],
   "source": [
    "population_estimates_eth_2011=(\n",
    "\n",
    "    population_estimates_eth_2011\n",
    "    .filter(f.col(\"age_band\")!=\"All\").filter(f.col(\"detail_ethnicity\")!=\"Total\").filter(f.col(\"ethnicity\")!=\"All categories: Ethnic group\")\n",
    "                               \n",
    "    .withColumn(\"age_band_proj\",  f.when(f.col(\"age_band\").isin(\"0-4\"), \"0-4\")\n",
    "                              .when((f.col(\"age_band\").isin(\"5-7\",\"8-9\")), \"5-9\")\n",
    "                              .when((f.col(\"age_band\").isin(\"10-14\")), \"10-14\")  \n",
    "                              .when((f.col(\"age_band\").isin(\"15\",\"16-17\")), \"15-17\")  \n",
    "                              .when((f.col(\"age_band\").isin(\"18-19\",\"20-24\")), \"18-24\")\n",
    "                              .when((f.col(\"age_band\").isin(\"25-29\")), \"25-29\")\n",
    "                              .when((f.col(\"age_band\").isin(\"30-34\")), \"30-34\")\n",
    "                              .when((f.col(\"age_band\").isin(\"35-39\")), \"35-39\")\n",
    "                              .when((f.col(\"age_band\").isin(\"40-44\")), \"40-44\")\n",
    "                              .when((f.col(\"age_band\").isin(\"45-49\")), \"45-49\")\n",
    "                              .when((f.col(\"age_band\").isin(\"50-54\")), \"50-54\")\n",
    "                              .when((f.col(\"age_band\").isin(\"55-59\")), \"55-59\")\n",
    "                              .when((f.col(\"age_band\").isin(\"60-64\")), \"60-64\")\n",
    "                              .when((f.col(\"age_band\").isin(\"65-69\")), \"65-69\")\n",
    "                              .when((f.col(\"age_band\").isin(\"70-74\")), \"70-74\")\n",
    "                              .when((f.col(\"age_band\").isin(\"75-79\")), \"75-79\")\n",
    "                              .when((f.col(\"age_band\").isin(\"80-84\")), \"80-84\")                                                      \n",
    "                              .otherwise(\"85+\"))\n",
    "    \n",
    ".drop(\"age_band\")\n",
    ".groupBy([\"geography_name\",\"ethnicity\",\"sex\",\"high_level_ethnicity\",\"detail_ethnicity\",\"age_band_proj\"]).agg({\"n\": \"sum\"}).withColumnRenamed(\"sum(n)\", \"n\")\n",
    "\n",
    "    .orderBy(\"geography_name\", \"ethnicity\", \"sex\",\n",
    "           f.when(f.col(\"age_band_proj\") == \"0-4\", 1)          \n",
    "           .when(f.col(\"age_band_proj\") == \"5-9\", 2)\n",
    "           .when(f.col(\"age_band_proj\") == \"10-14\", 3)\n",
    "           .when(f.col(\"age_band_proj\") == \"15-17\", 4)\n",
    "           .when(f.col(\"age_band_proj\") == \"18-24\", 5)\n",
    "           .when(f.col(\"age_band_proj\") == \"25-29\", 6)\n",
    "           .when(f.col(\"age_band_proj\") == \"30-34\", 7)\n",
    "           .when(f.col(\"age_band_proj\") == \"35-39\", 8)\n",
    "           .when(f.col(\"age_band_proj\") == \"40-44\", 9)\n",
    "           .when(f.col(\"age_band_proj\") == \"45-49\", 10)\n",
    "           .when(f.col(\"age_band_proj\") == \"50-54\", 11)\n",
    "           .when(f.col(\"age_band_proj\") == \"55-59\", 12)\n",
    "           .when(f.col(\"age_band_proj\") == \"60-64\", 13)\n",
    "           .when(f.col(\"age_band_proj\") == \"65-69\", 14)\n",
    "           .when(f.col(\"age_band_proj\") == \"70-74\", 15)\n",
    "           .when(f.col(\"age_band_proj\") == \"75-79\", 16)\n",
    "           .when(f.col(\"age_band_proj\") == \"80-84\", 17)\n",
    "           .when(f.col(\"age_band_proj\") == \"85+\", 18)\n",
    "           )\n",
    "\n",
    "           .withColumnRenamed(\"age_band_proj\",\"age_band\")\n",
    "    \n",
    "    )"
   ]
  },
  {
   "cell_type": "code",
   "execution_count": 0,
   "metadata": {
    "application/vnd.databricks.v1+cell": {
     "cellMetadata": {
      "byteLimit": 2048000,
      "rowLimit": 10000
     },
     "inputWidgets": {},
     "nuid": "29d629f1-2a53-4bd5-b4aa-b6ed60193dcf",
     "showTitle": false,
     "tableResultSettingsMap": {},
     "title": ""
    }
   },
   "outputs": [],
   "source": [
    "display(population_estimates_eth_2011)"
   ]
  },
  {
   "cell_type": "code",
   "execution_count": 0,
   "metadata": {
    "application/vnd.databricks.v1+cell": {
     "cellMetadata": {
      "byteLimit": 2048000,
      "rowLimit": 10000
     },
     "inputWidgets": {},
     "nuid": "fbd510ea-227d-499d-8923-eecd2dc1d9ff",
     "showTitle": false,
     "tableResultSettingsMap": {},
     "title": ""
    }
   },
   "outputs": [],
   "source": [
    "save_table(df=population_estimates_eth_2011, out_name=f'{proj}_population_estimates_2011_ethnicity_age_sex', save_previous=False, data_base=dsa)"
   ]
  },
  {
   "cell_type": "markdown",
   "metadata": {
    "application/vnd.databricks.v1+cell": {
     "cellMetadata": {
      "byteLimit": 2048000,
      "rowLimit": 10000
     },
     "inputWidgets": {},
     "nuid": "6b926765-0fce-4141-bcb9-7da660b2230c",
     "showTitle": false,
     "tableResultSettingsMap": {},
     "title": ""
    }
   },
   "source": [
    "## 2.3 2001"
   ]
  },
  {
   "cell_type": "code",
   "execution_count": 0,
   "metadata": {
    "application/vnd.databricks.v1+cell": {
     "cellMetadata": {
      "byteLimit": 2048000,
      "rowLimit": 10000
     },
     "inputWidgets": {},
     "nuid": "a7a665cb-8ab4-4b72-8a61-9a74d60fb665",
     "showTitle": false,
     "tableResultSettingsMap": {},
     "title": ""
    }
   },
   "outputs": [],
   "source": [
    "population_estimates_eth_2001 = spark.table(f'{dsa}.hds_population_estimates_2001_ethnicity_age_sex')"
   ]
  },
  {
   "cell_type": "code",
   "execution_count": 0,
   "metadata": {
    "application/vnd.databricks.v1+cell": {
     "cellMetadata": {
      "byteLimit": 2048000,
      "rowLimit": 10000
     },
     "inputWidgets": {},
     "nuid": "c517e516-5eea-465f-8959-39f489fc218c",
     "showTitle": false,
     "tableResultSettingsMap": {},
     "title": ""
    }
   },
   "outputs": [],
   "source": [
    "#Add high-level ethnicity\n",
    "population_estimates_eth_2001=(population_estimates_eth_2001.withColumn(\"high_level_ethnicity\", f.split(f.col(\"ethnicity\"), \":\")[0]))\n",
    "\n",
    "#ethnicity - detail only\n",
    "population_estimates_eth_2001=(population_estimates_eth_2001\n",
    "                      .withColumn(\"detail_ethnicity\", f.split(f.col(\"ethnicity\"), \":\")[1])\n",
    "                      .withColumn(\"detail_ethnicity\", f.ltrim(f.col(\"detail_ethnicity\")))\n",
    "                      )\n",
    "\n",
    "population_estimates_eth_2001 = (population_estimates_eth_2001.withColumn(\"n\", f.when(f.col(\"n\") == \"c\", 0).otherwise(f.col(\"n\"))))"
   ]
  },
  {
   "cell_type": "code",
   "execution_count": 0,
   "metadata": {
    "application/vnd.databricks.v1+cell": {
     "cellMetadata": {
      "byteLimit": 2048000,
      "rowLimit": 10000
     },
     "inputWidgets": {},
     "nuid": "89e25ff9-83b5-4734-94fb-c80161e5f2f8",
     "showTitle": false,
     "tableResultSettingsMap": {},
     "title": ""
    }
   },
   "outputs": [],
   "source": [
    "population_estimates_eth_2001=(population_estimates_eth_2001\n",
    "\n",
    "#     .withColumn(\"age_5_band\",  f.when(f.col(\"age_band\").isin(\"0-4\"), \"0-4\")\n",
    "#                               .when((f.col(\"age_band\").isin(\"5-7\",\"8-9\")), \"5-9\")\n",
    "#                               .when((f.col(\"age_band\").isin(\"10-14\")), \"10-14\")  \n",
    "#                               .when((f.col(\"age_band\").isin(\"15\",\"16-17\",\"18-19\")), \"15-19\")  \n",
    "#                               .when((f.col(\"age_band\").isin(\"20-24\")), \"20-24\")\n",
    "#                               .when((f.col(\"age_band\").isin(\"25-29\")), \"25-29\")\n",
    "#                               .when((f.col(\"age_band\").isin(\"30-34\")), \"30-34\")\n",
    "#                               .when((f.col(\"age_band\").isin(\"35-39\")), \"35-39\")\n",
    "#                               .when((f.col(\"age_band\").isin(\"40-44\")), \"40-44\")\n",
    "#                               .when((f.col(\"age_band\").isin(\"45-49\")), \"45-49\")\n",
    "#                               .when((f.col(\"age_band\").isin(\"50-54\")), \"50-54\")\n",
    "#                               .when((f.col(\"age_band\").isin(\"55-59\")), \"55-59\")\n",
    "#                               .when((f.col(\"age_band\").isin(\"60-64\")), \"60-64\")\n",
    "#                               .when((f.col(\"age_band\").isin(\"65-69\")), \"65-69\")\n",
    "#                               .when((f.col(\"age_band\").isin(\"70-74\")), \"70-74\")\n",
    "#                               .when((f.col(\"age_band\").isin(\"75-79\")), \"75-79\")\n",
    "#                               .when((f.col(\"age_band\").isin(\"80-84\")), \"80-84\")\n",
    "#                               .when((f.col(\"age_band\").isin(\"85-89\")), \"85-89\")                                                        \n",
    "#                               .otherwise(\"90+\"))\n",
    "    \n",
    "    .withColumn(\"age_band_proj\",  f.when(f.col(\"age_band\").isin(\"0-4\"), \"0-4\")\n",
    "                              .when((f.col(\"age_band\").isin(\"5-7\",\"8-9\")), \"5-9\")\n",
    "                              .when((f.col(\"age_band\").isin(\"10-14\")), \"10-14\")  \n",
    "                              .when((f.col(\"age_band\").isin(\"15\",\"16-17\")), \"15-17\")  \n",
    "                              .when((f.col(\"age_band\").isin(\"18-19\",\"20-24\")), \"18-24\")\n",
    "                              .when((f.col(\"age_band\").isin(\"25-29\")), \"25-29\")\n",
    "                              .when((f.col(\"age_band\").isin(\"30-34\")), \"30-34\")\n",
    "                              .when((f.col(\"age_band\").isin(\"35-39\")), \"35-39\")\n",
    "                              .when((f.col(\"age_band\").isin(\"40-44\")), \"40-44\")\n",
    "                              .when((f.col(\"age_band\").isin(\"45-49\")), \"45-49\")\n",
    "                              .when((f.col(\"age_band\").isin(\"50-54\")), \"50-54\")\n",
    "                              .when((f.col(\"age_band\").isin(\"55-59\")), \"55-59\")\n",
    "                              .when((f.col(\"age_band\").isin(\"60-64\")), \"60-64\")\n",
    "                              .when((f.col(\"age_band\").isin(\"65-69\")), \"65-69\")\n",
    "                              .when((f.col(\"age_band\").isin(\"70-74\")), \"70-74\")\n",
    "                              .when((f.col(\"age_band\").isin(\"75-79\")), \"75-79\")\n",
    "                              .when((f.col(\"age_band\").isin(\"80-84\")), \"80-84\")\n",
    "                              .when((f.col(\"age_band\").isin(\"85-89\")), \"85-89\")                                                        \n",
    "                              .otherwise(\"90+\"))\n",
    "    \n",
    ".drop(\"age_band\")\n",
    ".groupBy([\"geography_name\",\"ethnicity\",\"sex\",\"high_level_ethnicity\",\"detail_ethnicity\",\"age_band_proj\"]).agg({\"n\": \"sum\"}).withColumnRenamed(\"sum(n)\", \"n\")\n",
    "\n",
    "# not going to sum by 5 year age bands here as want the 18-24 in our project\n",
    "# .drop(\"age_band\")\n",
    "#     .groupBy([\"geography_name\",\"ethnicity\",\"sex\",\"high_level_ethnicity\",\"detail_ethnicity\",\"age_5_band\"]).agg({\"n\": \"sum\"}).withColumnRenamed(\"sum(n)\", \"n\")\n",
    "\n",
    "#     .withColumn(\"age_10_band\",  f.when(f.col(\"age_5_band\").isin(\"0-4\",\"5-9\"), \"0-9\")\n",
    "#                                 .when((f.col(\"age_5_band\").isin(\"10-14\",\"15-19\")), \"10-19\")\n",
    "#                                 .when((f.col(\"age_5_band\").isin(\"20-24\",\"25-29\")), \"20-29\")\n",
    "#                                 .when((f.col(\"age_5_band\").isin(\"30-34\",\"35-39\")), \"30-39\")\n",
    "#                                 .when((f.col(\"age_5_band\").isin(\"40-44\",\"45-49\")), \"40-49\")\n",
    "#                                 .when((f.col(\"age_5_band\").isin(\"50-54\",\"55-59\")), \"50-59\")\n",
    "#                                 .when((f.col(\"age_5_band\").isin(\"60-64\",\"65-69\")), \"60-69\")\n",
    "#                                 .when((f.col(\"age_5_band\").isin(\"70-74\",\"75-79\")), \"70-79\")                                                                                                \n",
    "#                                 .when((f.col(\"age_5_band\").isin(\"80-84\",\"85-89\")), \"80-89\")  \n",
    "#                               .otherwise(\"90+\"))\n",
    "\n",
    "\n",
    "#     .orderBy(\"geography_name\", \"ethnicity\", \"sex\",\n",
    "#            f.when(f.col(\"age_5_band\") == \"0-4\", 1)          \n",
    "#            .when(f.col(\"age_5_band\") == \"5-9\", 2)\n",
    "#            .when(f.col(\"age_5_band\") == \"10-14\", 3)\n",
    "#            .when(f.col(\"age_5_band\") == \"15-19\", 4)\n",
    "#            .when(f.col(\"age_5_band\") == \"20-24\", 5)\n",
    "#            .when(f.col(\"age_5_band\") == \"25-29\", 6)\n",
    "#            .when(f.col(\"age_5_band\") == \"30-34\", 7)\n",
    "#            .when(f.col(\"age_5_band\") == \"35-39\", 8)\n",
    "#            .when(f.col(\"age_5_band\") == \"40-44\", 9)\n",
    "#            .when(f.col(\"age_5_band\") == \"45-49\", 10)\n",
    "#            .when(f.col(\"age_5_band\") == \"50-54\", 11)\n",
    "#            .when(f.col(\"age_5_band\") == \"55-59\", 12)\n",
    "#            .when(f.col(\"age_5_band\") == \"60-64\", 13)\n",
    "#            .when(f.col(\"age_5_band\") == \"65-69\", 14)\n",
    "#            .when(f.col(\"age_5_band\") == \"70-74\", 15)\n",
    "#            .when(f.col(\"age_5_band\") == \"75-79\", 16)\n",
    "#            .when(f.col(\"age_5_band\") == \"80-84\", 17)\n",
    "#            .when(f.col(\"age_5_band\") == \"85-89\", 18)\n",
    "#            .when(f.col(\"age_5_band\") == \"90+\", 19)\n",
    "#            )\n",
    "\n",
    "    .orderBy(\"geography_name\", \"ethnicity\", \"sex\",\n",
    "           f.when(f.col(\"age_band_proj\") == \"0-4\", 1)          \n",
    "           .when(f.col(\"age_band_proj\") == \"5-9\", 2)\n",
    "           .when(f.col(\"age_band_proj\") == \"10-14\", 3)\n",
    "           .when(f.col(\"age_band_proj\") == \"15-17\", 4)\n",
    "           .when(f.col(\"age_band_proj\") == \"18-24\", 5)\n",
    "           .when(f.col(\"age_band_proj\") == \"25-29\", 6)\n",
    "           .when(f.col(\"age_band_proj\") == \"30-34\", 7)\n",
    "           .when(f.col(\"age_band_proj\") == \"35-39\", 8)\n",
    "           .when(f.col(\"age_band_proj\") == \"40-44\", 9)\n",
    "           .when(f.col(\"age_band_proj\") == \"45-49\", 10)\n",
    "           .when(f.col(\"age_band_proj\") == \"50-54\", 11)\n",
    "           .when(f.col(\"age_band_proj\") == \"55-59\", 12)\n",
    "           .when(f.col(\"age_band_proj\") == \"60-64\", 13)\n",
    "           .when(f.col(\"age_band_proj\") == \"65-69\", 14)\n",
    "           .when(f.col(\"age_band_proj\") == \"70-74\", 15)\n",
    "           .when(f.col(\"age_band_proj\") == \"75-79\", 16)\n",
    "           .when(f.col(\"age_band_proj\") == \"80-84\", 17)\n",
    "           .when(f.col(\"age_band_proj\") == \"85-89\", 18)\n",
    "           .when(f.col(\"age_band_proj\") == \"90+\", 19)\n",
    "           )\n",
    "\n",
    "           .withColumnRenamed(\"age_band_proj\",\"age_band\")\n",
    "    \n",
    "    )"
   ]
  },
  {
   "cell_type": "code",
   "execution_count": 0,
   "metadata": {
    "application/vnd.databricks.v1+cell": {
     "cellMetadata": {
      "byteLimit": 2048000,
      "rowLimit": 10000
     },
     "inputWidgets": {},
     "nuid": "6b0067e8-c7f7-4a9e-a311-f171f39df4b7",
     "showTitle": false,
     "tableResultSettingsMap": {},
     "title": ""
    }
   },
   "outputs": [],
   "source": [
    "display(population_estimates_eth_2001)"
   ]
  },
  {
   "cell_type": "code",
   "execution_count": 0,
   "metadata": {
    "application/vnd.databricks.v1+cell": {
     "cellMetadata": {
      "byteLimit": 2048000,
      "rowLimit": 10000
     },
     "inputWidgets": {},
     "nuid": "90186975-a88f-47df-bf9a-af3bde1a6b4c",
     "showTitle": false,
     "tableResultSettingsMap": {},
     "title": ""
    }
   },
   "outputs": [],
   "source": [
    "save_table(df=population_estimates_eth_2001, out_name=f'{proj}_population_estimates_2001_ethnicity_age_sex', save_previous=False, data_base=dsa)"
   ]
  },
  {
   "cell_type": "code",
   "execution_count": 0,
   "metadata": {
    "application/vnd.databricks.v1+cell": {
     "cellMetadata": {
      "byteLimit": 2048000,
      "rowLimit": 10000
     },
     "inputWidgets": {},
     "nuid": "b70ac581-4e6b-49a9-8355-c0d45c8d92ea",
     "showTitle": false,
     "tableResultSettingsMap": {},
     "title": ""
    }
   },
   "outputs": [],
   "source": [
    "display(population_estimates_eth_2001.select(\"ethnicity\").distinct())\n",
    "\n",
    "# Asian/Asian British: Bangladeshi\n",
    "# Asian/Asian British: Indian\n",
    "# Asian/Asian British: Other\n",
    "# Asian/Asian British: Pakistani\n",
    "# Black/Black British: Black African\n",
    "# Black/Black British: Black Caribbean\n",
    "# Black/Black British: Other\n",
    "# Chinese/Other: Chinese\n",
    "# Chinese/Other: Other\n",
    "# Mixed: Other\n",
    "# Mixed: White and Asian\n",
    "# Mixed: White and Black African\n",
    "# Mixed: White and Black Caribbean\n",
    "# White: British\n",
    "# White: Irish\n",
    "# White: Other"
   ]
  },
  {
   "cell_type": "code",
   "execution_count": 0,
   "metadata": {
    "application/vnd.databricks.v1+cell": {
     "cellMetadata": {
      "byteLimit": 2048000,
      "rowLimit": 10000
     },
     "inputWidgets": {},
     "nuid": "7f15201c-dbff-46f7-9b14-b28f0cb14d66",
     "showTitle": false,
     "tableResultSettingsMap": {},
     "title": ""
    }
   },
   "outputs": [],
   "source": [
    "display(population_estimates_eth_2001.select(\"detail_ethnicity\").distinct())"
   ]
  }
 ],
 "metadata": {
  "application/vnd.databricks.v1+notebook": {
   "computePreferences": null,
   "dashboards": [],
   "environmentMetadata": null,
   "language": "python",
   "notebookMetadata": {
    "pythonIndentUnit": 4
   },
   "notebookName": "CCU056-03f-curated_data_population_estimates",
   "widgets": {}
  },
  "language_info": {
   "name": "python"
  }
 },
 "nbformat": 4,
 "nbformat_minor": 0
}
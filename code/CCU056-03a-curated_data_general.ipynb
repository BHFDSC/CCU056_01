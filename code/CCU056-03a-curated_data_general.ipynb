{
 "cells": [
  {
   "cell_type": "markdown",
   "metadata": {
    "application/vnd.databricks.v1+cell": {
     "cellMetadata": {
      "byteLimit": 2048000,
      "rowLimit": 10000
     },
     "inputWidgets": {},
     "nuid": "b4283199-3f5b-41b0-978f-69c78616dc5f",
     "showTitle": false,
     "tableResultSettingsMap": {},
     "title": ""
    }
   },
   "source": [
    "# Curated Data - Main Datasets\n",
    "\n",
    "**Project** CCU056\n",
    "\n",
    "**Description** This notebook creates the curated tables.\n",
    "\n",
    "**Authors** Tom Bolton, Fionna Chalmers, Anna Stevenson (Health Data Science Team, BHF Data Science Centre) \n",
    "\n",
    "**Reviewers** âš  UNREVIEWED\n",
    "\n",
    "**Acknowledgements** Based on CCU004_01, CCU002_07 and subsequently CCU003_05-D03a-curated_data\n",
    "\n",
    "**Data Output**\n",
    "- **`ccu056_cur_hes_apc_all_years_archive_long`** : HES APC codes in long format\n",
    "- **`ccu056_cur_hes_apc_all_years_archive_op_long`** : HES APC operation codes in long format\n",
    "- **`ccu056_archive_sing`** : Death codes in wide format (one row per person)\n",
    "- **`ccu056_archive_long`** : Death codes in long format"
   ]
  },
  {
   "cell_type": "markdown",
   "metadata": {
    "application/vnd.databricks.v1+cell": {
     "cellMetadata": {
      "byteLimit": 2048000,
      "rowLimit": 10000
     },
     "inputWidgets": {},
     "nuid": "d2ceb1ab-7525-4379-8217-13b80c380025",
     "showTitle": false,
     "tableResultSettingsMap": {},
     "title": ""
    }
   },
   "source": [
    "# 0. Setup"
   ]
  },
  {
   "cell_type": "code",
   "execution_count": 0,
   "metadata": {
    "application/vnd.databricks.v1+cell": {
     "cellMetadata": {
      "byteLimit": 2048000,
      "rowLimit": 10000
     },
     "inputWidgets": {},
     "nuid": "f4a0246f-249f-44db-978a-c6deee1cad53",
     "showTitle": false,
     "tableResultSettingsMap": {},
     "title": ""
    }
   },
   "outputs": [],
   "source": [
    "spark.sql('CLEAR CACHE')\n",
    "spark.conf.set('spark.sql.legacy.allowCreatingManagedTableUsingNonemptyLocation', 'true')"
   ]
  },
  {
   "cell_type": "code",
   "execution_count": 0,
   "metadata": {
    "application/vnd.databricks.v1+cell": {
     "cellMetadata": {
      "byteLimit": 2048000,
      "rowLimit": 10000
     },
     "inputWidgets": {},
     "nuid": "83203f4e-ac29-40a0-ab55-a82b7294be51",
     "showTitle": true,
     "tableResultSettingsMap": {},
     "title": "Libraries"
    }
   },
   "outputs": [],
   "source": [
    "import pyspark.sql.functions as f\n",
    "import pyspark.sql.types as t\n",
    "from pyspark.sql import Window\n",
    "\n",
    "from functools import reduce\n",
    "\n",
    "import databricks.koalas as ks\n",
    "import pandas as pd\n",
    "import numpy as np\n",
    "\n",
    "import re\n",
    "import io\n",
    "import datetime\n",
    "\n",
    "import matplotlib\n",
    "import matplotlib.pyplot as plt\n",
    "from matplotlib import dates as mdates\n",
    "import seaborn as sns\n",
    "\n",
    "print(\"Matplotlib version: \", matplotlib.__version__)\n",
    "print(\"Seaborn version: \", sns.__version__)\n",
    "_datetimenow = datetime.datetime.now() # .strftime(\"%Y%m%d\")\n",
    "print(f\"_datetimenow:  {_datetimenow}\")"
   ]
  },
  {
   "cell_type": "code",
   "execution_count": 0,
   "metadata": {
    "application/vnd.databricks.v1+cell": {
     "cellMetadata": {
      "byteLimit": 2048000,
      "rowLimit": 10000
     },
     "inputWidgets": {},
     "nuid": "e1c347fd-7c98-4b15-8b6b-c28a053f1d27",
     "showTitle": true,
     "tableResultSettingsMap": {},
     "title": "Common Functions"
    }
   },
   "outputs": [],
   "source": [
    "%run \"/Repos/shds/common/functions\""
   ]
  },
  {
   "cell_type": "markdown",
   "metadata": {
    "application/vnd.databricks.v1+cell": {
     "cellMetadata": {
      "byteLimit": 2048000,
      "rowLimit": 10000
     },
     "inputWidgets": {},
     "nuid": "af692e5a-0aa8-467f-af57-bae671e6079e",
     "showTitle": false,
     "tableResultSettingsMap": {},
     "title": ""
    }
   },
   "source": [
    "# 1. Parameters"
   ]
  },
  {
   "cell_type": "code",
   "execution_count": 0,
   "metadata": {
    "application/vnd.databricks.v1+cell": {
     "cellMetadata": {
      "byteLimit": 2048000,
      "rowLimit": 10000
     },
     "inputWidgets": {},
     "nuid": "70040824-9140-4b3b-b2ed-9f88f969cf8a",
     "showTitle": false,
     "tableResultSettingsMap": {},
     "title": ""
    },
    "jupyter": {
     "outputs_hidden": true
    }
   },
   "outputs": [],
   "source": [
    "%run \"./CCU056-01-parameters\""
   ]
  },
  {
   "cell_type": "markdown",
   "metadata": {
    "application/vnd.databricks.v1+cell": {
     "cellMetadata": {
      "byteLimit": 2048000,
      "rowLimit": 10000
     },
     "inputWidgets": {},
     "nuid": "98a8ba6d-bd67-4c3e-ab31-c0797712cc69",
     "showTitle": false,
     "tableResultSettingsMap": {},
     "title": ""
    }
   },
   "source": [
    "# 2. Data"
   ]
  },
  {
   "cell_type": "code",
   "execution_count": 0,
   "metadata": {
    "application/vnd.databricks.v1+cell": {
     "cellMetadata": {
      "byteLimit": 2048000,
      "rowLimit": 10000
     },
     "inputWidgets": {},
     "nuid": "d45217f9-aa16-450a-a5f1-b11ececb91e4",
     "showTitle": false,
     "tableResultSettingsMap": {},
     "title": ""
    }
   },
   "outputs": [],
   "source": [
    "gdppr   = extract_batch_from_archive(parameters_df_datasets, 'gdppr')\n",
    "hes_apc = extract_batch_from_archive(parameters_df_datasets, 'hes_apc')\n",
    "hes_apc_otr = extract_batch_from_archive(parameters_df_datasets, 'hes_apc_otr')\n",
    "deaths  = extract_batch_from_archive(parameters_df_datasets, 'deaths')"
   ]
  },
  {
   "cell_type": "markdown",
   "metadata": {
    "application/vnd.databricks.v1+cell": {
     "cellMetadata": {
      "byteLimit": 2048000,
      "rowLimit": 10000
     },
     "inputWidgets": {},
     "nuid": "20eaacab-5a8f-4f11-a0aa-ce66a7197323",
     "showTitle": false,
     "tableResultSettingsMap": {},
     "title": ""
    }
   },
   "source": [
    "## Adhoc investigation\n",
    "\n",
    "The pipeline was last ran as at 2023-08-15 using HES APC archived_on date 2023-06-21. When this was extracted at this date n rows was equal to 452,251,116.\n",
    "\n",
    "Now, as at 2023-08-22 HES APC has n rows euqal to 904,702,232.\n",
    "\n",
    "ERROR: _n_rows_observed != _n_rows_expected (904,702,232 != 452,351,116)\n",
    "\n",
    "We below double check that the records in 2023-06-21 were in fact all duplicated.\n",
    "\n",
    "Note that the archived_on versions on either side of 2023-06-21 are missing a significant amount of records"
   ]
  },
  {
   "cell_type": "code",
   "execution_count": 0,
   "metadata": {
    "application/vnd.databricks.v1+cell": {
     "cellMetadata": {
      "byteLimit": 2048000,
      "rowLimit": 10000
     },
     "inputWidgets": {},
     "nuid": "12dae699-3928-48d5-8188-25f92415ba31",
     "showTitle": false,
     "tableResultSettingsMap": {},
     "title": ""
    }
   },
   "outputs": [],
   "source": [
    "hes_apc_all = spark.table(f'dars_nic_391419_j3w9t_collab.hes_apc_all_years_archive')\n",
    "# display(hes_apc_all.select(\"archived_on\").groupBy(\"archived_on\").count())"
   ]
  },
  {
   "cell_type": "code",
   "execution_count": 0,
   "metadata": {
    "application/vnd.databricks.v1+cell": {
     "cellMetadata": {
      "byteLimit": 2048000,
      "rowLimit": 10000
     },
     "inputWidgets": {},
     "nuid": "ef1a429a-9ff0-429c-a8df-a2999198a302",
     "showTitle": false,
     "tableResultSettingsMap": {},
     "title": ""
    }
   },
   "outputs": [],
   "source": [
    "hes_apc_otr_all = spark.table(f'dars_nic_391419_j3w9t_collab.hes_apc_otr_all_years_archive')\n",
    "# display(hes_apc_otr_all.select(\"archived_on\").groupBy(\"archived_on\").count())"
   ]
  },
  {
   "cell_type": "markdown",
   "metadata": {
    "application/vnd.databricks.v1+cell": {
     "cellMetadata": {
      "byteLimit": 2048000,
      "rowLimit": 10000
     },
     "inputWidgets": {},
     "nuid": "bf8701a1-b471-4a71-9636-367710f822d6",
     "showTitle": false,
     "tableResultSettingsMap": {},
     "title": ""
    }
   },
   "source": [
    "### Duplicated records in HES APC"
   ]
  },
  {
   "cell_type": "code",
   "execution_count": 0,
   "metadata": {
    "application/vnd.databricks.v1+cell": {
     "cellMetadata": {
      "byteLimit": 2048000,
      "rowLimit": 10000
     },
     "inputWidgets": {},
     "nuid": "950f5231-1787-45cc-87bb-76d9b128a950",
     "showTitle": false,
     "tableResultSettingsMap": {},
     "title": ""
    }
   },
   "outputs": [],
   "source": [
    "# hes_apc = spark.table(f'dars_nic_391419_j3w9t_collab.hes_apc_all_years_archive').where(f.col('archived_on') == '2023-06-21')"
   ]
  },
  {
   "cell_type": "markdown",
   "metadata": {
    "application/vnd.databricks.v1+cell": {
     "cellMetadata": {
      "byteLimit": 2048000,
      "rowLimit": 10000
     },
     "inputWidgets": {},
     "nuid": "db2e48c0-78f9-434a-999a-dbe1013cedb4",
     "showTitle": false,
     "tableResultSettingsMap": {},
     "title": ""
    }
   },
   "source": [
    "Ran the HES APC section"
   ]
  },
  {
   "cell_type": "code",
   "execution_count": 0,
   "metadata": {
    "application/vnd.databricks.v1+cell": {
     "cellMetadata": {
      "byteLimit": 2048000,
      "rowLimit": 10000
     },
     "inputWidgets": {},
     "nuid": "0a357a0e-6302-4c5d-8496-c262f4d53886",
     "showTitle": false,
     "tableResultSettingsMap": {},
     "title": ""
    }
   },
   "outputs": [],
   "source": [
    "# hes_apc_long_new = spark.table(f'{dsa}.{proj}_cur_hes_apc_all_years_archive_long')\n",
    "# hes_apc_long_old = spark.table(f'{dsa}.{proj}_cur_hes_apc_all_years_archive_long_pre20230822_143831')"
   ]
  },
  {
   "cell_type": "code",
   "execution_count": 0,
   "metadata": {
    "application/vnd.databricks.v1+cell": {
     "cellMetadata": {
      "byteLimit": 2048000,
      "rowLimit": 10000
     },
     "inputWidgets": {},
     "nuid": "6c8dc9ea-0be4-4578-a920-8c929042e538",
     "showTitle": false,
     "tableResultSettingsMap": {},
     "title": ""
    }
   },
   "outputs": [],
   "source": [
    "# print(hes_apc_long_new.count())\n",
    "# print(hes_apc_long_old.count())"
   ]
  },
  {
   "cell_type": "code",
   "execution_count": 0,
   "metadata": {
    "application/vnd.databricks.v1+cell": {
     "cellMetadata": {
      "byteLimit": 2048000,
      "rowLimit": 10000
     },
     "inputWidgets": {},
     "nuid": "20189211-cab2-40da-ae32-fdeaf34661a5",
     "showTitle": false,
     "tableResultSettingsMap": {},
     "title": ""
    }
   },
   "outputs": [],
   "source": [
    "# key = ['PERSON_ID', 'EPISTART']\n",
    "\n",
    "# old = hes_apc_long_old\n",
    "# new = hes_apc_long_new\n",
    "# count_varlist(old, key)\n",
    "# count_varlist(new, key)\n",
    "\n",
    "# old1 = (\n",
    "#   old\n",
    "#   .dropDuplicates(key)\n",
    "#   .where(f.col('PERSON_ID').isNotNull())\n",
    "#   .where(f.col('EPISTART').isNotNull())\n",
    "# )\n",
    "# new1 = (\n",
    "#   new\n",
    "#   .dropDuplicates(key)\n",
    "#   .where(f.col('PERSON_ID').isNotNull())\n",
    "#   .where(f.col('EPISTART').isNotNull())\n",
    "# )\n",
    "\n",
    "\n",
    "# count_varlist(old1, key)\n",
    "# count_varlist(new1, key)"
   ]
  },
  {
   "cell_type": "markdown",
   "metadata": {
    "application/vnd.databricks.v1+cell": {
     "cellMetadata": {
      "byteLimit": 2048000,
      "rowLimit": 10000
     },
     "inputWidgets": {},
     "nuid": "52522473-dc82-40b7-81b4-398caf4a6fc5",
     "showTitle": false,
     "tableResultSettingsMap": {},
     "title": ""
    }
   },
   "source": [
    "# 3. HES_APC"
   ]
  },
  {
   "cell_type": "code",
   "execution_count": 0,
   "metadata": {
    "application/vnd.databricks.v1+cell": {
     "cellMetadata": {
      "byteLimit": 2048000,
      "rowLimit": 10000
     },
     "inputWidgets": {},
     "nuid": "3fbdbaed-6392-4708-919e-3df6066f2222",
     "showTitle": false,
     "tableResultSettingsMap": {},
     "title": ""
    }
   },
   "outputs": [],
   "source": [
    "# display(hes_apc.limit(100))"
   ]
  },
  {
   "cell_type": "code",
   "execution_count": 0,
   "metadata": {
    "application/vnd.databricks.v1+cell": {
     "cellMetadata": {
      "byteLimit": 2048000,
      "rowLimit": 10000
     },
     "inputWidgets": {},
     "nuid": "13cc29f4-01a2-47c5-93b4-e6e39ec955e0",
     "showTitle": false,
     "tableResultSettingsMap": {},
     "title": ""
    }
   },
   "outputs": [],
   "source": [
    "# select columns (PERSON_ID, RECORD_ID, DATE, Diagnostic columns)\n",
    "# rename PERSON_ID\n",
    "_hes_apc = (\n",
    "  hes_apc  \n",
    "  .select(['PERSON_ID_DEID', 'EPIKEY', 'EPISTART', 'ADMIDATE'] \n",
    "          + [col for col in list(hes_apc.columns) if re.match(r'^DIAG_(3|4)_\\d\\d$', col)])\n",
    "  .withColumnRenamed('PERSON_ID_DEID', 'PERSON_ID')\n",
    "  .orderBy('PERSON_ID', 'EPIKEY')\n",
    ")\n",
    "\n",
    "# check\n",
    "#count_var(hes_apc, 'PERSON_ID_DEID'); print()\n",
    "#count_var(hes_apc, 'EPIKEY'); print()\n",
    "\n",
    "# check for null EPISTART and potential use ADMIDATE to supplement\n",
    "tmpp = (\n",
    "  hes_apc\n",
    "  .select('EPISTART', 'ADMIDATE')\n",
    "  .withColumn('_EPISTART', f.when(f.col('EPISTART').isNotNull(), 1).otherwise(0))\n",
    "  .withColumn('_ADMIDATE', f.when(f.col('ADMIDATE').isNotNull(), 1).otherwise(0))\n",
    ")\n",
    "tmpt = tab(tmpp, '_EPISTART', '_ADMIDATE', var2_unstyled=1); print()\n",
    "# => ADMIDATE is always null when EPISTART is null"
   ]
  },
  {
   "cell_type": "code",
   "execution_count": 0,
   "metadata": {
    "application/vnd.databricks.v1+cell": {
     "cellMetadata": {
      "byteLimit": 2048000,
      "rowLimit": 10000
     },
     "inputWidgets": {},
     "nuid": "906e3880-77f7-4852-b814-51a1425e0761",
     "showTitle": false,
     "tableResultSettingsMap": {},
     "title": ""
    }
   },
   "outputs": [],
   "source": [
    "# check\n",
    "# display(_hes_apc)"
   ]
  },
  {
   "cell_type": "markdown",
   "metadata": {
    "application/vnd.databricks.v1+cell": {
     "cellMetadata": {
      "byteLimit": 2048000,
      "rowLimit": 10000
     },
     "inputWidgets": {},
     "nuid": "6050f038-d6ef-4657-bcc7-c1a50695cf23",
     "showTitle": false,
     "tableResultSettingsMap": {},
     "title": ""
    }
   },
   "source": [
    "## 3.1 Diagnosis"
   ]
  },
  {
   "cell_type": "markdown",
   "metadata": {
    "application/vnd.databricks.v1+cell": {
     "cellMetadata": {
      "byteLimit": 2048000,
      "rowLimit": 10000
     },
     "inputWidgets": {},
     "nuid": "b25c752c-18c2-474b-80ba-6ca921325c8e",
     "showTitle": false,
     "tableResultSettingsMap": {},
     "title": ""
    }
   },
   "source": [
    "### 3.1.1 Create"
   ]
  },
  {
   "cell_type": "code",
   "execution_count": 0,
   "metadata": {
    "application/vnd.databricks.v1+cell": {
     "cellMetadata": {
      "byteLimit": 2048000,
      "rowLimit": 10000
     },
     "inputWidgets": {},
     "nuid": "3353aedd-f37a-474b-9393-a956761b2fc3",
     "showTitle": false,
     "tableResultSettingsMap": {},
     "title": ""
    }
   },
   "outputs": [],
   "source": [
    "# reshape twice, tidy, and remove records with missing code\n",
    "\n",
    "hes_apc_long = (\n",
    "  reshape_wide_to_long_multi(_hes_apc, i=['PERSON_ID', 'EPIKEY', 'EPISTART', 'ADMIDATE'], j='POSITION', stubnames=['DIAG_4_', 'DIAG_3_'])\n",
    "  .withColumn('_tmp', f.substring(f.col('DIAG_4_'), 1, 3))\n",
    "  .withColumn('_chk', udf_null_safe_equality('DIAG_3_', '_tmp').cast(t.IntegerType()))\n",
    "  .withColumn('_DIAG_4_len', f.length(f.col('DIAG_4_')))\n",
    "  .withColumn('_chk2', f.when((f.col('_DIAG_4_len').isNull()) | (f.col('_DIAG_4_len') <= 4), 1).otherwise(0))\n",
    ")"
   ]
  },
  {
   "cell_type": "code",
   "execution_count": 0,
   "metadata": {
    "application/vnd.databricks.v1+cell": {
     "cellMetadata": {
      "byteLimit": 2048000,
      "rowLimit": 10000
     },
     "inputWidgets": {},
     "nuid": "05fc8f7e-790b-4839-a2ce-38a6884f6b62",
     "showTitle": false,
     "tableResultSettingsMap": {},
     "title": ""
    }
   },
   "outputs": [],
   "source": [
    "# # check\n",
    "# # tmpt = tab(hes_apc_long, '_chk'); print()\n",
    "# assert hes_apc_long.where(f.col('_chk') == 0).count() == 0\n",
    "# tmpt = tab(hes_apc_long, '_DIAG_4_len'); print()\n",
    "# tmpt = tab(hes_apc_long, '_chk2'); print()\n",
    "# assert hes_apc_long.where(f.col('_chk2') == 0).count() == 0\n",
    "\n",
    "# tidy\n",
    "hes_apc_long = (\n",
    "  hes_apc_long\n",
    "  .drop('_tmp', '_chk')\n",
    ")\n",
    "\n",
    "hes_apc_long = reshape_wide_to_long_multi(hes_apc_long, i=['PERSON_ID', 'EPIKEY', 'EPISTART', 'ADMIDATE', 'POSITION'], j='DIAG_DIGITS', stubnames=['DIAG_'])\\\n",
    "  .withColumnRenamed('POSITION', 'DIAG_POSITION')\\\n",
    "  .withColumn('DIAG_POSITION', f.regexp_replace('DIAG_POSITION', r'^[0]', ''))\\\n",
    "  .withColumn('DIAG_DIGITS', f.regexp_replace('DIAG_DIGITS', r'[_]', ''))\\\n",
    "  .withColumn('DIAG_', f.regexp_replace('DIAG_', r'X$', ''))\\\n",
    "  .withColumn('DIAG_', f.regexp_replace('DIAG_', r'[.,\\-\\s]', ''))\\\n",
    "  .withColumnRenamed('DIAG_', 'CODE')\\\n",
    "  .where((f.col('CODE').isNotNull()) & (f.col('CODE') != ''))\\\n",
    "  .orderBy(['PERSON_ID', 'EPIKEY', 'DIAG_DIGITS', 'DIAG_POSITION'])"
   ]
  },
  {
   "cell_type": "code",
   "execution_count": 0,
   "metadata": {
    "application/vnd.databricks.v1+cell": {
     "cellMetadata": {
      "byteLimit": 2048000,
      "rowLimit": 10000
     },
     "inputWidgets": {},
     "nuid": "3c1d29e5-3654-4922-93b9-1dbf2f541623",
     "showTitle": false,
     "tableResultSettingsMap": {},
     "title": ""
    }
   },
   "outputs": [],
   "source": [
    "# display(hes_apc_long.limit(1))"
   ]
  },
  {
   "cell_type": "markdown",
   "metadata": {
    "application/vnd.databricks.v1+cell": {
     "cellMetadata": {
      "byteLimit": 2048000,
      "rowLimit": 10000
     },
     "inputWidgets": {},
     "nuid": "f60327bb-91e3-44e4-addc-7f04e711e27b",
     "showTitle": false,
     "tableResultSettingsMap": {},
     "title": ""
    }
   },
   "source": [
    "### 3.1.2 Save"
   ]
  },
  {
   "cell_type": "code",
   "execution_count": 0,
   "metadata": {
    "application/vnd.databricks.v1+cell": {
     "cellMetadata": {
      "byteLimit": 2048000,
      "rowLimit": 10000
     },
     "inputWidgets": {},
     "nuid": "3067bfb0-5321-4852-a091-e1bab79f0694",
     "showTitle": false,
     "tableResultSettingsMap": {},
     "title": ""
    }
   },
   "outputs": [],
   "source": [
    "save_table(df=hes_apc_long, out_name=f'{proj}_cur_hes_apc_all_years_archive_long', save_previous=True, data_base=dsa)"
   ]
  },
  {
   "cell_type": "markdown",
   "metadata": {
    "application/vnd.databricks.v1+cell": {
     "cellMetadata": {
      "byteLimit": 2048000,
      "rowLimit": 10000
     },
     "inputWidgets": {},
     "nuid": "c1e47a18-d135-41db-86ee-8985b0d0c644",
     "showTitle": false,
     "tableResultSettingsMap": {},
     "title": ""
    }
   },
   "source": [
    "### 3.1.3 Check"
   ]
  },
  {
   "cell_type": "code",
   "execution_count": 0,
   "metadata": {
    "application/vnd.databricks.v1+cell": {
     "cellMetadata": {
      "byteLimit": 2048000,
      "rowLimit": 10000
     },
     "inputWidgets": {},
     "nuid": "1d0991a1-0e9b-404d-8440-4763078ccfbf",
     "showTitle": false,
     "tableResultSettingsMap": {},
     "title": ""
    }
   },
   "outputs": [],
   "source": [
    "# check\n",
    "#count_var(hes_apc_long, 'PERSON_ID'); print()\n",
    "#count_var(hes_apc_long, 'EPIKEY'); print()\n",
    "\n",
    "# # check removal of trailing X\n",
    "# tmpp = hes_apc_long\\\n",
    "#   .where(f.col('CODE').rlike('X'))\\\n",
    "#   .withColumn('flag', f.when(f.col('CODE').rlike('^X.*'), 1).otherwise(0))\n",
    "# tmpt = tab(tmpp, 'flag'); print()\n",
    "# tmpt = tab(tmpp.where(f.col('CODE').rlike('X')), 'CODE', 'flag', var2_unstyled=1); print()"
   ]
  },
  {
   "cell_type": "markdown",
   "metadata": {
    "application/vnd.databricks.v1+cell": {
     "cellMetadata": {
      "byteLimit": 2048000,
      "rowLimit": 10000
     },
     "inputWidgets": {},
     "nuid": "8008cc0f-dc9c-406b-81f9-603740e2cad9",
     "showTitle": false,
     "tableResultSettingsMap": {},
     "title": ""
    }
   },
   "source": [
    "# 4. HES_APC Operations"
   ]
  },
  {
   "cell_type": "markdown",
   "metadata": {
    "application/vnd.databricks.v1+cell": {
     "cellMetadata": {
      "byteLimit": 2048000,
      "rowLimit": 10000
     },
     "inputWidgets": {},
     "nuid": "04cd2c80-2174-4470-867a-ed5e8fb72976",
     "showTitle": false,
     "tableResultSettingsMap": {},
     "title": ""
    }
   },
   "source": [
    "Operations derived from HES APC"
   ]
  },
  {
   "cell_type": "code",
   "execution_count": 0,
   "metadata": {
    "application/vnd.databricks.v1+cell": {
     "cellMetadata": {
      "byteLimit": 2048000,
      "rowLimit": 10000
     },
     "inputWidgets": {},
     "nuid": "49338673-ebd6-4854-9720-f85318f39595",
     "showTitle": false,
     "tableResultSettingsMap": {},
     "title": ""
    }
   },
   "outputs": [],
   "source": [
    "# select columns (PERSON_ID, RECORD_ID, DATE, Diagnostic columns)\n",
    "# rename PERSON_ID\n",
    "_hes_apc_op = (\n",
    "  hes_apc  \n",
    "  .select(['PERSON_ID_DEID', 'EPIKEY', 'EPISTART', 'ADMIDATE'] \n",
    "          + [col for col in list(hes_apc.columns) if re.match(r'^OPERTN_(3|4)_\\d\\d$', col)])\n",
    "  .withColumnRenamed('PERSON_ID_DEID', 'PERSON_ID')\n",
    "  .orderBy('PERSON_ID', 'EPIKEY')\n",
    ")\n",
    "\n",
    "# check\n",
    "#count_var(hes_apc, 'PERSON_ID_DEID'); print()\n",
    "#count_var(hes_apc, 'EPIKEY'); print()\n",
    "\n",
    "# check for null EPISTART and potential use ADMIDATE to supplement\n",
    "tmpp = (\n",
    "  hes_apc\n",
    "  .select('EPISTART', 'ADMIDATE')\n",
    "  .withColumn('_EPISTART', f.when(f.col('EPISTART').isNotNull(), 1).otherwise(0))\n",
    "  .withColumn('_ADMIDATE', f.when(f.col('ADMIDATE').isNotNull(), 1).otherwise(0))\n",
    ")\n",
    "tmpt = tab(tmpp, '_EPISTART', '_ADMIDATE', var2_unstyled=1); print()\n",
    "# => ADMIDATE is always null when EPISTART is null\n"
   ]
  },
  {
   "cell_type": "code",
   "execution_count": 0,
   "metadata": {
    "application/vnd.databricks.v1+cell": {
     "cellMetadata": {
      "byteLimit": 2048000,
      "rowLimit": 10000
     },
     "inputWidgets": {},
     "nuid": "c807906f-fecf-4c1e-8fac-05654bf9ff0d",
     "showTitle": false,
     "tableResultSettingsMap": {},
     "title": ""
    }
   },
   "outputs": [],
   "source": [
    "display(_hes_apc_op)"
   ]
  },
  {
   "cell_type": "markdown",
   "metadata": {
    "application/vnd.databricks.v1+cell": {
     "cellMetadata": {
      "byteLimit": 2048000,
      "rowLimit": 10000
     },
     "inputWidgets": {},
     "nuid": "f488b767-264b-4502-a159-e23ae7f1759b",
     "showTitle": false,
     "tableResultSettingsMap": {},
     "title": ""
    }
   },
   "source": [
    "## 4.1 Diagnosis"
   ]
  },
  {
   "cell_type": "markdown",
   "metadata": {
    "application/vnd.databricks.v1+cell": {
     "cellMetadata": {
      "byteLimit": 2048000,
      "rowLimit": 10000
     },
     "inputWidgets": {},
     "nuid": "634a8eec-1e6c-4fca-af74-fd7802c29687",
     "showTitle": false,
     "tableResultSettingsMap": {},
     "title": ""
    }
   },
   "source": [
    "### 4.1.1 Create"
   ]
  },
  {
   "cell_type": "code",
   "execution_count": 0,
   "metadata": {
    "application/vnd.databricks.v1+cell": {
     "cellMetadata": {
      "byteLimit": 2048000,
      "rowLimit": 10000
     },
     "inputWidgets": {},
     "nuid": "4d670805-b4c6-4612-ac27-0d4070b90897",
     "showTitle": false,
     "tableResultSettingsMap": {},
     "title": ""
    }
   },
   "outputs": [],
   "source": [
    "# reshape twice, tidy, and remove records with missing code\n",
    "\n",
    "hes_apc_op_long = (\n",
    "  reshape_wide_to_long_multi(_hes_apc_op, i=['PERSON_ID', 'EPIKEY', 'EPISTART', 'ADMIDATE'], j='POSITION', stubnames=['OPERTN_4', 'OPERTN_3'])\n",
    "  .withColumn('_tmp', f.substring(f.col('OPERTN_4'), 1, 3))\n",
    "  .withColumn('_chk', udf_null_safe_equality('OPERTN_3', '_tmp').cast(t.IntegerType()))\n",
    "  .withColumn('_OPERTN_4_len', f.length(f.col('OPERTN_4')))\n",
    "  .withColumn('_chk2', f.when((f.col('_OPERTN_4_len').isNull()) | (f.col('_OPERTN_4_len') <= 4), 1).otherwise(0))\n",
    ")"
   ]
  },
  {
   "cell_type": "code",
   "execution_count": 0,
   "metadata": {
    "application/vnd.databricks.v1+cell": {
     "cellMetadata": {
      "byteLimit": 2048000,
      "rowLimit": 10000
     },
     "inputWidgets": {},
     "nuid": "db62bc83-077f-475d-a6dd-12e9af4940aa",
     "showTitle": false,
     "tableResultSettingsMap": {},
     "title": ""
    }
   },
   "outputs": [],
   "source": [
    "display(hes_apc_op_long)"
   ]
  },
  {
   "cell_type": "code",
   "execution_count": 0,
   "metadata": {
    "application/vnd.databricks.v1+cell": {
     "cellMetadata": {
      "byteLimit": 2048000,
      "rowLimit": 10000
     },
     "inputWidgets": {},
     "nuid": "df964249-0f1d-4c40-b285-78f7c47c2ab0",
     "showTitle": false,
     "tableResultSettingsMap": {},
     "title": ""
    }
   },
   "outputs": [],
   "source": [
    "# check\n",
    "tmpt = tab(hes_apc_op_long, '_chk'); print()\n",
    "\n",
    "# getting rid of this check for now as Operation codes do have -\n",
    "#assert hes_apc_op_long.where(f.col('_chk') == 0).count() == 0\n",
    "tmpt = tab(hes_apc_op_long, '_OPERTN_4_len'); print()\n",
    "tmpt = tab(hes_apc_op_long, '_chk2'); print()\n",
    "assert hes_apc_op_long.where(f.col('_chk2') == 0).count() == 0"
   ]
  },
  {
   "cell_type": "code",
   "execution_count": 0,
   "metadata": {
    "application/vnd.databricks.v1+cell": {
     "cellMetadata": {
      "byteLimit": 2048000,
      "rowLimit": 10000
     },
     "inputWidgets": {},
     "nuid": "0ed68af1-2f15-4e32-86ed-e32a3bb3d1dc",
     "showTitle": false,
     "tableResultSettingsMap": {},
     "title": ""
    }
   },
   "outputs": [],
   "source": [
    "# tidy\n",
    "hes_apc_op_long = (\n",
    "  hes_apc_op_long\n",
    "  .drop('_tmp', '_chk')\n",
    ")\n",
    "\n",
    "hes_apc_op_long = reshape_wide_to_long_multi(hes_apc_op_long, i=['PERSON_ID', 'EPIKEY', 'EPISTART', 'ADMIDATE', 'POSITION'], j='OPERTN_DIGITS', stubnames=['OPERTN_'])\\\n",
    "  .withColumnRenamed('POSITION', 'OPERTN_POSITION')\\\n",
    "  .withColumn('OPERTN_POSITION', f.regexp_replace('OPERTN_POSITION', r'^[0]', ''))\\\n",
    "  .withColumn('OPERTN_DIGITS', f.regexp_replace('OPERTN_DIGITS', r'[_]', ''))\\\n",
    "  .withColumn('OPERTN_', f.regexp_replace('OPERTN_', r'X$', ''))\\\n",
    "  .withColumn('OPERTN_', f.regexp_replace('OPERTN_', r'[.,\\-\\s]', ''))\\\n",
    "  .withColumnRenamed('OPERTN_', 'CODE')\\\n",
    "  .where((f.col('CODE').isNotNull()) & (f.col('CODE') != ''))\\\n",
    "  .orderBy(['PERSON_ID', 'EPIKEY', 'OPERTN_DIGITS', 'OPERTN_POSITION'])"
   ]
  },
  {
   "cell_type": "code",
   "execution_count": 0,
   "metadata": {
    "application/vnd.databricks.v1+cell": {
     "cellMetadata": {
      "byteLimit": 2048000,
      "rowLimit": 10000
     },
     "inputWidgets": {},
     "nuid": "1f1b1344-0484-4d7b-9676-c93e32995e82",
     "showTitle": false,
     "tableResultSettingsMap": {},
     "title": ""
    }
   },
   "outputs": [],
   "source": [
    "display(hes_apc_op_long)"
   ]
  },
  {
   "cell_type": "markdown",
   "metadata": {
    "application/vnd.databricks.v1+cell": {
     "cellMetadata": {
      "byteLimit": 2048000,
      "rowLimit": 10000
     },
     "inputWidgets": {},
     "nuid": "60fd4981-293c-4bb5-9ada-c185f789a26f",
     "showTitle": false,
     "tableResultSettingsMap": {},
     "title": ""
    }
   },
   "source": [
    "#### Check\n",
    "\n",
    "Checking that there are no instances in which an operation has a 3 digit code but their 4 digit code is missing.\n",
    "\n",
    "If this were the case, then when we filter for the operation codes in the codelist (which are in 4 digit format) then we would miss some parent 3 digit codes that could be used - as for this project cases are defined using 3 digit codes anyway."
   ]
  },
  {
   "cell_type": "code",
   "execution_count": 0,
   "metadata": {
    "application/vnd.databricks.v1+cell": {
     "cellMetadata": {
      "byteLimit": 2048000,
      "rowLimit": 10000
     },
     "inputWidgets": {},
     "nuid": "e57b6fd8-79ae-4346-90ac-5125c9678859",
     "showTitle": false,
     "tableResultSettingsMap": {},
     "title": ""
    }
   },
   "outputs": [],
   "source": [
    "# hes_op_wide = (hes_apc_op_long.groupBy(\"PERSON_ID\",\"EPIKEY\",\"EPISTART\",\"ADMIDATE\",\"OPERTN_POSITION\").pivot(\"OPERTN_DIGITS\").agg(f.first(\"CODE\")))"
   ]
  },
  {
   "cell_type": "code",
   "execution_count": 0,
   "metadata": {
    "application/vnd.databricks.v1+cell": {
     "cellMetadata": {
      "byteLimit": 2048000,
      "rowLimit": 10000
     },
     "inputWidgets": {},
     "nuid": "f440adf8-b1ca-4474-ae8d-53ec1bc93042",
     "showTitle": false,
     "tableResultSettingsMap": {},
     "title": ""
    }
   },
   "outputs": [],
   "source": [
    "# tmp1 = (\n",
    "#     hes_op_wide\n",
    "#     .withColumnRenamed('3','OPERTRN_3').withColumnRenamed('4','OPERTRN_4')\n",
    "#     .withColumn(\"OPERTRN_4_3\", f.col(\"OPERTRN_4\").substr(1, 3))\n",
    "#     )"
   ]
  },
  {
   "cell_type": "code",
   "execution_count": 0,
   "metadata": {
    "application/vnd.databricks.v1+cell": {
     "cellMetadata": {
      "byteLimit": 2048000,
      "rowLimit": 10000
     },
     "inputWidgets": {},
     "nuid": "78027ec6-da10-460a-ae4b-f0ab32e00d00",
     "showTitle": false,
     "tableResultSettingsMap": {},
     "title": ""
    }
   },
   "outputs": [],
   "source": [
    "# display(tmp1.filter(f.col(\"OPERTRN_4_3\")!=f.col(\"OPERTRN_3\")))"
   ]
  },
  {
   "cell_type": "markdown",
   "metadata": {
    "application/vnd.databricks.v1+cell": {
     "cellMetadata": {
      "byteLimit": 2048000,
      "rowLimit": 10000
     },
     "inputWidgets": {},
     "nuid": "858a9e6e-fef7-4994-984f-040477484157",
     "showTitle": false,
     "tableResultSettingsMap": {},
     "title": ""
    }
   },
   "source": [
    "\n",
    "As seen above, there are no cases in which we have a 3 digit code but a missing 4 digit code.\n",
    "\n",
    "There are however cases in which the 3 digit code only has 2 characters and the 4 digit code only has 3 characters -but only 9 rows!\n",
    "\n",
    "Furthermore, none of these codes are related to this project so we will not attempt to fix this issue here."
   ]
  },
  {
   "cell_type": "markdown",
   "metadata": {
    "application/vnd.databricks.v1+cell": {
     "cellMetadata": {
      "byteLimit": 2048000,
      "rowLimit": 10000
     },
     "inputWidgets": {},
     "nuid": "a2a6672e-4e9f-4424-8c48-a95e7f8516cb",
     "showTitle": false,
     "tableResultSettingsMap": {},
     "title": ""
    }
   },
   "source": [
    "### 4.1.2 Save"
   ]
  },
  {
   "cell_type": "code",
   "execution_count": 0,
   "metadata": {
    "application/vnd.databricks.v1+cell": {
     "cellMetadata": {
      "byteLimit": 2048000,
      "rowLimit": 10000
     },
     "inputWidgets": {},
     "nuid": "6b631eed-d2aa-4ab7-b96e-67f7b063e803",
     "showTitle": false,
     "tableResultSettingsMap": {},
     "title": ""
    }
   },
   "outputs": [],
   "source": [
    "save_table(df=hes_apc_op_long, out_name=f'{proj}_cur_hes_apc_all_years_archive_op_long', save_previous=True, data_base=dsa)"
   ]
  },
  {
   "cell_type": "markdown",
   "metadata": {
    "application/vnd.databricks.v1+cell": {
     "cellMetadata": {
      "byteLimit": 2048000,
      "rowLimit": 10000
     },
     "inputWidgets": {},
     "nuid": "4a4d7f96-dfa7-4310-a2b9-749a1d0398a1",
     "showTitle": false,
     "tableResultSettingsMap": {},
     "title": ""
    }
   },
   "source": [
    "### 4.1.3 Check"
   ]
  },
  {
   "cell_type": "code",
   "execution_count": 0,
   "metadata": {
    "application/vnd.databricks.v1+cell": {
     "cellMetadata": {
      "byteLimit": 2048000,
      "rowLimit": 10000
     },
     "inputWidgets": {},
     "nuid": "f7893d45-4cdc-4d70-aab6-cd18b57a9000",
     "showTitle": false,
     "tableResultSettingsMap": {},
     "title": ""
    }
   },
   "outputs": [],
   "source": [
    "# check\n",
    "#count_var(hes_apc_long, 'PERSON_ID'); print()\n",
    "#count_var(hes_apc_long, 'EPIKEY'); print()\n",
    "\n",
    "# check removal of trailing X\n",
    "tmpp = hes_apc_op_long\\\n",
    "  .where(f.col('CODE').rlike('X'))\\\n",
    "  .withColumn('flag', f.when(f.col('CODE').rlike('^X.*'), 1).otherwise(0))\n",
    "tmpt = tab(tmpp, 'flag'); print()\n",
    "tmpt = tab(tmpp.where(f.col('CODE').rlike('X')), 'CODE', 'flag', var2_unstyled=1); print()"
   ]
  },
  {
   "cell_type": "markdown",
   "metadata": {
    "application/vnd.databricks.v1+cell": {
     "cellMetadata": {
      "byteLimit": 2048000,
      "rowLimit": 10000
     },
     "inputWidgets": {},
     "nuid": "90c2022c-00f0-48ea-b2b6-71cb21e253f7",
     "showTitle": false,
     "tableResultSettingsMap": {},
     "title": ""
    }
   },
   "source": [
    "## 4.2 HES_APC_OTR - Operation Dates"
   ]
  },
  {
   "cell_type": "markdown",
   "metadata": {
    "application/vnd.databricks.v1+cell": {
     "cellMetadata": {
      "byteLimit": 2048000,
      "rowLimit": 10000
     },
     "inputWidgets": {},
     "nuid": "8bed473b-939d-42fb-92bc-cbae1c712a55",
     "showTitle": false,
     "tableResultSettingsMap": {},
     "title": ""
    }
   },
   "source": [
    "Operation dates derived from HES APC OTR\n",
    "\n",
    "These dates will be joined onto the operations, derived above, as part of the R pipeline.\n",
    "\n",
    "(In future probably nicer to join here but was having issues with Databricks as at August so continued this work in RStudio)."
   ]
  },
  {
   "cell_type": "code",
   "execution_count": 0,
   "metadata": {
    "application/vnd.databricks.v1+cell": {
     "cellMetadata": {
      "byteLimit": 2048000,
      "rowLimit": 10000
     },
     "inputWidgets": {},
     "nuid": "91a0fe28-03e6-442b-b187-4be0b83cba67",
     "showTitle": false,
     "tableResultSettingsMap": {},
     "title": ""
    }
   },
   "outputs": [],
   "source": [
    "display(hes_apc_otr)"
   ]
  },
  {
   "cell_type": "code",
   "execution_count": 0,
   "metadata": {
    "application/vnd.databricks.v1+cell": {
     "cellMetadata": {
      "byteLimit": 2048000,
      "rowLimit": 10000
     },
     "inputWidgets": {},
     "nuid": "bfb136a8-0331-4ee9-b5b5-27e8f5416f56",
     "showTitle": false,
     "tableResultSettingsMap": {},
     "title": ""
    }
   },
   "outputs": [],
   "source": [
    "_hes_apc_op_otr = (\n",
    "  hes_apc_otr\n",
    "  .select(['PERSON_ID_DEID', 'EPIKEY'] \n",
    "          + [col for col in list(hes_apc_otr.columns) if re.match(r'^OP(DATE|ERTN)_\\d\\d$', col)])\n",
    "  .withColumnRenamed('PERSON_ID_DEID', 'PERSON_ID')\n",
    "  .orderBy('PERSON_ID', 'EPIKEY')\n",
    ")"
   ]
  },
  {
   "cell_type": "code",
   "execution_count": 0,
   "metadata": {
    "application/vnd.databricks.v1+cell": {
     "cellMetadata": {
      "byteLimit": 2048000,
      "rowLimit": 10000
     },
     "inputWidgets": {},
     "nuid": "7b6ac5c9-3dc3-4a1a-b890-b16d6d633a44",
     "showTitle": false,
     "tableResultSettingsMap": {},
     "title": ""
    }
   },
   "outputs": [],
   "source": [
    "hes_apc_op_otr_long = (\n",
    "  reshape_wide_to_long_multi(_hes_apc_op_otr, i=['PERSON_ID', 'EPIKEY'], j='POSITION', stubnames=['OPDATE', 'OPERTN'])\n",
    "  #.drop(f.col(\"POSITION\"))\n",
    "  .filter(f.col(\"OPERTN\").isNotNull())\n",
    "  .filter(f.col(\"OPERTN\")!=\"-\")\n",
    "  .distinct()\n",
    ")"
   ]
  },
  {
   "cell_type": "code",
   "execution_count": 0,
   "metadata": {
    "application/vnd.databricks.v1+cell": {
     "cellMetadata": {
      "byteLimit": 2048000,
      "rowLimit": 10000
     },
     "inputWidgets": {},
     "nuid": "75512ae4-dd3c-4b37-b15e-942376e373df",
     "showTitle": false,
     "tableResultSettingsMap": {},
     "title": ""
    }
   },
   "outputs": [],
   "source": [
    "display(hes_apc_op_otr_long)"
   ]
  },
  {
   "cell_type": "code",
   "execution_count": 0,
   "metadata": {
    "application/vnd.databricks.v1+cell": {
     "cellMetadata": {
      "byteLimit": 2048000,
      "rowLimit": 10000
     },
     "inputWidgets": {},
     "nuid": "7f2e46ac-0434-4297-bdcc-9900f99755fc",
     "showTitle": false,
     "tableResultSettingsMap": {},
     "title": ""
    }
   },
   "outputs": [],
   "source": [
    "save_table(df=hes_apc_op_otr_long, out_name=f'{proj}_cur_hes_apc_all_years_archive_op_otr_long', save_previous=True, data_base=dsa)"
   ]
  },
  {
   "cell_type": "markdown",
   "metadata": {
    "application/vnd.databricks.v1+cell": {
     "cellMetadata": {
      "byteLimit": 2048000,
      "rowLimit": 10000
     },
     "inputWidgets": {},
     "nuid": "07fd0c02-92d1-4c28-b3d0-72320673f043",
     "showTitle": false,
     "tableResultSettingsMap": {},
     "title": ""
    }
   },
   "source": [
    "# 5. Deaths"
   ]
  },
  {
   "cell_type": "markdown",
   "metadata": {
    "application/vnd.databricks.v1+cell": {
     "cellMetadata": {
      "byteLimit": 2048000,
      "rowLimit": 10000
     },
     "inputWidgets": {},
     "nuid": "057664ad-3bd4-4d84-a147-7caf0d7b2dfd",
     "showTitle": false,
     "tableResultSettingsMap": {},
     "title": ""
    }
   },
   "source": [
    "## 5.1 Create"
   ]
  },
  {
   "cell_type": "code",
   "execution_count": 0,
   "metadata": {
    "application/vnd.databricks.v1+cell": {
     "cellMetadata": {
      "byteLimit": 2048000,
      "rowLimit": 10000
     },
     "inputWidgets": {},
     "nuid": "83738824-5277-423d-bb05-d3dd3926403d",
     "showTitle": false,
     "tableResultSettingsMap": {},
     "title": ""
    }
   },
   "outputs": [],
   "source": [
    "# check\n",
    "#count_var(deaths, 'DEC_CONF_NHS_NUMBER_CLEAN_DEID'); print()\n",
    "assert dict(deaths.dtypes)['REG_DATE'] == 'string'\n",
    "assert dict(deaths.dtypes)['REG_DATE_OF_DEATH'] == 'string'\n",
    "\n",
    "# define window for the purpose of creating a row number below as per the skinny patient table\n",
    "_win = Window\\\n",
    "  .partitionBy('PERSON_ID')\\\n",
    "  .orderBy(f.desc('REG_DATE'), f.desc('REG_DATE_OF_DEATH'), f.desc('S_UNDERLYING_COD_ICD10'))\n",
    "\n",
    "# rename ID\n",
    "# remove records with missing IDs\n",
    "# reformat dates\n",
    "# reduce to a single row per individual as per the skinny patient table\n",
    "# select columns required\n",
    "# rename column ahead of reshape below\n",
    "# sort by ID\n",
    "deaths_out = (\n",
    "    deaths\n",
    "    .withColumnRenamed('DEC_CONF_NHS_NUMBER_CLEAN_DEID', 'PERSON_ID')\n",
    "    .where(f.col('PERSON_ID').isNotNull())\n",
    "    .withColumn('REG_DATE', f.to_date(f.col('REG_DATE'), 'yyyyMMdd'))\n",
    "    \n",
    "    .withColumn(\"REG_DATE_OF_DEATH\",\n",
    "                       f.when(f.length(\"REG_DATE_OF_DEATH\")==7,\n",
    "                                   f.to_date(\n",
    "                                          f.concat(f.substring(f.col('REG_DATE_OF_DEATH'),1,6), f.lit(\"0\"), f.substring(f.col('REG_DATE_OF_DEATH'),7,1)),\n",
    "                                          'yyyyMMdd')\n",
    "                                    )\n",
    "                      .otherwise(f.to_date(f.col('REG_DATE_OF_DEATH'), 'yyyyMMdd'))\n",
    "                      )\n",
    "    .withColumn('_rownum', f.row_number().over(_win))\n",
    "    .where(f.col('_rownum') == 1)\n",
    "    .select(['PERSON_ID', 'REG_DATE', 'REG_DATE_OF_DEATH', 'S_UNDERLYING_COD_ICD10'] + [col for col in list(deaths.columns) if re.match(r'^S_COD_CODE_\\d(\\d)*$', col)])\n",
    "    .withColumnRenamed('S_UNDERLYING_COD_ICD10', 'S_COD_CODE_UNDERLYING')\n",
    "    .orderBy('PERSON_ID')\n",
    ")\n",
    "\n",
    "# check\n",
    "#count_var(deaths_out, 'PERSON_ID'); print()\n",
    "#count_var(deaths_out, 'REG_DATE_OF_DEATH'); print()\n",
    "#count_var(deaths_out, 'S_COD_CODE_UNDERLYING'); print()\n",
    "\n",
    "# single row deaths \n",
    "deaths_out_sing = deaths_out\n",
    "\n",
    "# remove records with missing DOD\n",
    "deaths_out = deaths_out\\\n",
    "  .where(f.col('REG_DATE_OF_DEATH').isNotNull())\\\n",
    "  .drop('REG_DATE')\n",
    "\n",
    "# check\n",
    "#count_var(deaths_out, 'PERSON_ID'); print()\n",
    "\n",
    "# reshape\n",
    "# add 1 to diagnosis position to start at 1 (c.f., 0) - will avoid confusion with HES long, which start at 1\n",
    "# rename \n",
    "# remove records with missing cause of death\n",
    "deaths_out_long = reshape_wide_to_long(deaths_out, i=['PERSON_ID', 'REG_DATE_OF_DEATH'], j='DIAG_POSITION', stubname='S_COD_CODE_')\\\n",
    "  .withColumn('DIAG_POSITION', f.when(f.col('DIAG_POSITION') != 'UNDERLYING', f.concat(f.lit('SECONDARY_'), f.col('DIAG_POSITION'))).otherwise(f.col('DIAG_POSITION')))\\\n",
    "  .withColumnRenamed('S_COD_CODE_', 'CODE4')\\\n",
    "  .where(f.col('CODE4').isNotNull())\\\n",
    "  .withColumnRenamed('REG_DATE_OF_DEATH', 'DATE')\\\n",
    "  .withColumn('CODE3', f.substring(f.col('CODE4'), 1, 3))\n",
    "deaths_out_long = reshape_wide_to_long(deaths_out_long, i=['PERSON_ID', 'DATE', 'DIAG_POSITION'], j='DIAG_DIGITS', stubname='CODE')\\\n",
    "  .withColumn('CODE', f.regexp_replace('CODE', r'[.,\\-\\s]', ''))\n",
    "  \n",
    "# check\n",
    "#count_var(deaths_out_long, 'PERSON_ID'); print()  \n",
    "#tmpt = tab(deaths_out_long, 'DIAG_POSITION', 'DIAG_DIGITS', var2_unstyled=1); print() \n",
    "#tmpt = tab(deaths_out_long, 'CODE', 'DIAG_DIGITS', var2_unstyled=1); print()   \n",
    "# TODO - add valid ICD-10 code checker..."
   ]
  },
  {
   "cell_type": "markdown",
   "metadata": {
    "application/vnd.databricks.v1+cell": {
     "cellMetadata": {
      "byteLimit": 2048000,
      "rowLimit": 10000
     },
     "inputWidgets": {},
     "nuid": "10970945-a527-49ed-81c6-c5002c4d5ad8",
     "showTitle": false,
     "tableResultSettingsMap": {},
     "title": ""
    }
   },
   "source": [
    "## 5.2 Check"
   ]
  },
  {
   "cell_type": "code",
   "execution_count": 0,
   "metadata": {
    "application/vnd.databricks.v1+cell": {
     "cellMetadata": {
      "byteLimit": 2048000,
      "rowLimit": 10000
     },
     "inputWidgets": {},
     "nuid": "a32fa4e6-21d5-4328-884b-650970248424",
     "showTitle": false,
     "tableResultSettingsMap": {},
     "title": ""
    }
   },
   "outputs": [],
   "source": [
    "display(deaths_out_sing)"
   ]
  },
  {
   "cell_type": "code",
   "execution_count": 0,
   "metadata": {
    "application/vnd.databricks.v1+cell": {
     "cellMetadata": {
      "byteLimit": 2048000,
      "rowLimit": 10000
     },
     "inputWidgets": {},
     "nuid": "19dc4e54-9df8-4e08-956a-eda44969b4c7",
     "showTitle": false,
     "tableResultSettingsMap": {},
     "title": ""
    }
   },
   "outputs": [],
   "source": [
    "display(deaths_out_long)"
   ]
  },
  {
   "cell_type": "markdown",
   "metadata": {
    "application/vnd.databricks.v1+cell": {
     "cellMetadata": {
      "byteLimit": 2048000,
      "rowLimit": 10000
     },
     "inputWidgets": {},
     "nuid": "c41df24f-8731-4885-b480-affcaad3fbf1",
     "showTitle": false,
     "tableResultSettingsMap": {},
     "title": ""
    }
   },
   "source": [
    "## 5.3 Save"
   ]
  },
  {
   "cell_type": "code",
   "execution_count": 0,
   "metadata": {
    "application/vnd.databricks.v1+cell": {
     "cellMetadata": {
      "byteLimit": 2048000,
      "rowLimit": 10000
     },
     "inputWidgets": {},
     "nuid": "43829c69-eefd-4814-a54a-27b0d3654811",
     "showTitle": false,
     "tableResultSettingsMap": {},
     "title": ""
    }
   },
   "outputs": [],
   "source": [
    "save_table(df=deaths_out_sing, out_name=f'{proj}_cur_deaths_{db}_archive_sing', save_previous=False)"
   ]
  },
  {
   "cell_type": "code",
   "execution_count": 0,
   "metadata": {
    "application/vnd.databricks.v1+cell": {
     "cellMetadata": {
      "byteLimit": 2048000,
      "rowLimit": 10000
     },
     "inputWidgets": {},
     "nuid": "a920204b-d44a-4e38-a9fd-f5c907313978",
     "showTitle": false,
     "tableResultSettingsMap": {},
     "title": ""
    }
   },
   "outputs": [],
   "source": [
    "save_table(df=deaths_out_long, out_name=f'{proj}_cur_deaths_{db}_archive_long', save_previous=False)"
   ]
  }
 ],
 "metadata": {
  "application/vnd.databricks.v1+notebook": {
   "computePreferences": null,
   "dashboards": [],
   "environmentMetadata": null,
   "language": "python",
   "notebookMetadata": {
    "pythonIndentUnit": 4
   },
   "notebookName": "CCU056-03a-curated_data_general",
   "widgets": {}
  },
  "language_info": {
   "name": "python"
  }
 },
 "nbformat": 4,
 "nbformat_minor": 0
}
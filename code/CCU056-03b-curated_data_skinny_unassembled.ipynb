{
 "cells": [
  {
   "cell_type": "markdown",
   "metadata": {
    "application/vnd.databricks.v1+cell": {
     "cellMetadata": {
      "byteLimit": 2048000,
      "rowLimit": 10000
     },
     "inputWidgets": {},
     "nuid": "05c02bf7-b400-47ae-be0a-1d9cb3c118ba",
     "showTitle": false,
     "tableResultSettingsMap": {},
     "title": ""
    }
   },
   "source": [
    "# Curated Data - Skinny\n",
    " \n",
    "**Description** This notebook creates the skinny patient table, which includes key patient characteristics.\n",
    " \n",
    "**Authors** Tom Bolton, Fionna Chalmers, Anna Stevenson (Health Data Science Team, BHF Data Science Centre)\n",
    "\n",
    "**Reviewers** âš  UNREVIEWED\n",
    "\n",
    "**Acknowledgements** Based on CCU002_07 and subsequently CCU003_05-D04-skinny\n",
    "\n",
    "**Notes**\n",
    "\n",
    "**Data Output**\n",
    "- **`ccu056_tmp_kpc_harmonised`** : Skinny unassembled\n",
    "- **`ccu056_tmp_skinny`** : Skinny assembled (selected)"
   ]
  },
  {
   "cell_type": "markdown",
   "metadata": {
    "application/vnd.databricks.v1+cell": {
     "cellMetadata": {
      "byteLimit": 2048000,
      "rowLimit": 10000
     },
     "inputWidgets": {},
     "nuid": "009d5030-6b72-4eb0-b7be-e37eff487805",
     "showTitle": false,
     "tableResultSettingsMap": {},
     "title": ""
    }
   },
   "source": [
    "# 0. Setup"
   ]
  },
  {
   "cell_type": "code",
   "execution_count": 0,
   "metadata": {
    "application/vnd.databricks.v1+cell": {
     "cellMetadata": {
      "byteLimit": 2048000,
      "rowLimit": 10000
     },
     "inputWidgets": {},
     "nuid": "eeae53b8-1534-42a6-924f-34c0979aedfa",
     "showTitle": false,
     "tableResultSettingsMap": {},
     "title": ""
    }
   },
   "outputs": [],
   "source": [
    "spark.sql('CLEAR CACHE')\n",
    "spark.conf.set('spark.sql.legacy.allowCreatingManagedTableUsingNonemptyLocation', 'true')"
   ]
  },
  {
   "cell_type": "code",
   "execution_count": 0,
   "metadata": {
    "application/vnd.databricks.v1+cell": {
     "cellMetadata": {
      "byteLimit": 2048000,
      "rowLimit": 10000
     },
     "inputWidgets": {},
     "nuid": "28e686ad-6c11-4f18-8268-66250b9d1ba8",
     "showTitle": false,
     "tableResultSettingsMap": {},
     "title": ""
    }
   },
   "outputs": [],
   "source": [
    "import pyspark.sql.functions as f\n",
    "import pyspark.sql.types as t\n",
    "from pyspark.sql import Window\n",
    "\n",
    "from functools import reduce\n",
    "\n",
    "import databricks.koalas as ks\n",
    "import pandas as pd\n",
    "import numpy as np\n",
    "\n",
    "import re\n",
    "import io\n",
    "import datetime\n",
    "\n",
    "import matplotlib\n",
    "import matplotlib.pyplot as plt\n",
    "from matplotlib import dates as mdates\n",
    "import seaborn as sns\n",
    "\n",
    "print(\"Matplotlib version: \", matplotlib.__version__)\n",
    "print(\"Seaborn version: \", sns.__version__)\n",
    "_datetimenow = datetime.datetime.now() # .strftime(\"%Y%m%d\")\n",
    "print(f\"_datetimenow:  {_datetimenow}\")"
   ]
  },
  {
   "cell_type": "code",
   "execution_count": 0,
   "metadata": {
    "application/vnd.databricks.v1+cell": {
     "cellMetadata": {
      "byteLimit": 2048000,
      "rowLimit": 10000
     },
     "inputWidgets": {},
     "nuid": "15161897-62f2-47d7-ac39-20d9fb870cc7",
     "showTitle": true,
     "tableResultSettingsMap": {},
     "title": "Common Functions"
    }
   },
   "outputs": [],
   "source": [
    "%run \"/Repos/shds/common/functions\""
   ]
  },
  {
   "cell_type": "code",
   "execution_count": 0,
   "metadata": {
    "application/vnd.databricks.v1+cell": {
     "cellMetadata": {
      "byteLimit": 2048000,
      "rowLimit": 10000
     },
     "inputWidgets": {},
     "nuid": "f853f623-370b-4f6d-9e40-436593854b19",
     "showTitle": true,
     "tableResultSettingsMap": {},
     "title": "Skinny Functions"
    }
   },
   "outputs": [],
   "source": [
    "%run \"/Repos/shds/common/skinny_20221113\""
   ]
  },
  {
   "cell_type": "markdown",
   "metadata": {
    "application/vnd.databricks.v1+cell": {
     "cellMetadata": {
      "byteLimit": 2048000,
      "rowLimit": 10000
     },
     "inputWidgets": {},
     "nuid": "7dc5b947-5c0e-4a4c-ad70-0ef750943a54",
     "showTitle": false,
     "tableResultSettingsMap": {},
     "title": ""
    }
   },
   "source": [
    "# 1. Parameters"
   ]
  },
  {
   "cell_type": "code",
   "execution_count": 0,
   "metadata": {
    "application/vnd.databricks.v1+cell": {
     "cellMetadata": {
      "byteLimit": 2048000,
      "rowLimit": 10000
     },
     "inputWidgets": {},
     "nuid": "0c743758-fec7-4524-905a-4e4789b8d6ba",
     "showTitle": false,
     "tableResultSettingsMap": {},
     "title": ""
    },
    "jupyter": {
     "outputs_hidden": true
    }
   },
   "outputs": [],
   "source": [
    "%run \"./CCU056-01-parameters\""
   ]
  },
  {
   "cell_type": "markdown",
   "metadata": {
    "application/vnd.databricks.v1+cell": {
     "cellMetadata": {
      "byteLimit": 2048000,
      "rowLimit": 10000
     },
     "inputWidgets": {},
     "nuid": "829edede-dd7b-4e5a-addb-9cc8a9caea22",
     "showTitle": false,
     "tableResultSettingsMap": {},
     "title": ""
    }
   },
   "source": [
    "# 2. Data"
   ]
  },
  {
   "cell_type": "code",
   "execution_count": 0,
   "metadata": {
    "application/vnd.databricks.v1+cell": {
     "cellMetadata": {
      "byteLimit": 2048000,
      "rowLimit": 10000
     },
     "inputWidgets": {},
     "nuid": "55354fce-5582-4590-b572-4725c43f0bcd",
     "showTitle": false,
     "tableResultSettingsMap": {},
     "title": ""
    }
   },
   "outputs": [],
   "source": [
    "gdppr   = extract_batch_from_archive(parameters_df_datasets, 'gdppr')\n",
    "hes_apc = extract_batch_from_archive(parameters_df_datasets, 'hes_apc')\n",
    "hes_ae  = extract_batch_from_archive(parameters_df_datasets, 'hes_ae')\n",
    "hes_op  = extract_batch_from_archive(parameters_df_datasets, 'hes_op')"
   ]
  },
  {
   "cell_type": "code",
   "execution_count": 0,
   "metadata": {
    "application/vnd.databricks.v1+cell": {
     "cellMetadata": {
      "byteLimit": 2048000,
      "rowLimit": 10000
     },
     "inputWidgets": {},
     "nuid": "ebd5c221-8051-4e35-bb1b-98bd5ebc9090",
     "showTitle": false,
     "tableResultSettingsMap": {},
     "title": ""
    }
   },
   "outputs": [],
   "source": [
    "acs   = extract_batch_from_archive(parameters_df_datasets, 'nacsa')\n",
    "tavi = extract_batch_from_archive(parameters_df_datasets, 'tavi')"
   ]
  },
  {
   "cell_type": "markdown",
   "metadata": {
    "application/vnd.databricks.v1+cell": {
     "cellMetadata": {
      "byteLimit": 2048000,
      "rowLimit": 10000
     },
     "inputWidgets": {},
     "nuid": "009731b3-868a-4a3c-94c1-1ab539d1825c",
     "showTitle": false,
     "tableResultSettingsMap": {},
     "title": ""
    }
   },
   "source": [
    "# 3. Create Unassembled"
   ]
  },
  {
   "cell_type": "markdown",
   "metadata": {
    "application/vnd.databricks.v1+cell": {
     "cellMetadata": {
      "byteLimit": 2048000,
      "rowLimit": 10000
     },
     "inputWidgets": {},
     "nuid": "5e5cd979-6585-40d8-8f18-b9ec039f7a02",
     "showTitle": false,
     "tableResultSettingsMap": {},
     "title": ""
    }
   },
   "source": [
    "##3.1 GDPPR & HES"
   ]
  },
  {
   "cell_type": "code",
   "execution_count": 0,
   "metadata": {
    "application/vnd.databricks.v1+cell": {
     "cellMetadata": {
      "byteLimit": 2048000,
      "rowLimit": 10000
     },
     "inputWidgets": {},
     "nuid": "716c7671-1a8c-46ba-b97a-790ebdf46a84",
     "showTitle": true,
     "tableResultSettingsMap": {},
     "title": "Skinny unassembled"
    }
   },
   "outputs": [],
   "source": [
    "kpc_harmonised = key_patient_characteristics_harmonise(gdppr=gdppr, hes_apc=hes_apc, hes_ae=hes_ae, hes_op=hes_op)\n",
    "\n",
    "# temp save (~15 minutes)\n",
    "save_table(df=kpc_harmonised, out_name=f'{proj}_tmp_kpc_harmonised', save_previous=True, data_base=dsa)"
   ]
  },
  {
   "cell_type": "code",
   "execution_count": 0,
   "metadata": {
    "application/vnd.databricks.v1+cell": {
     "cellMetadata": {
      "byteLimit": 2048000,
      "rowLimit": 10000
     },
     "inputWidgets": {},
     "nuid": "378bdbcb-e97e-42bc-9e99-0bc9258968fe",
     "showTitle": false,
     "tableResultSettingsMap": {},
     "title": ""
    }
   },
   "outputs": [],
   "source": [
    "kpc_harmonised = spark.table(f'{dsa}.{proj}_tmp_kpc_harmonised')"
   ]
  },
  {
   "cell_type": "markdown",
   "metadata": {
    "application/vnd.databricks.v1+cell": {
     "cellMetadata": {
      "byteLimit": 2048000,
      "rowLimit": 10000
     },
     "inputWidgets": {},
     "nuid": "4d63af10-5425-4ca6-b333-b2d34d81f02d",
     "showTitle": false,
     "tableResultSettingsMap": {},
     "title": ""
    }
   },
   "source": [
    "##3.2 Audits"
   ]
  },
  {
   "cell_type": "code",
   "execution_count": 0,
   "metadata": {
    "application/vnd.databricks.v1+cell": {
     "cellMetadata": {
      "byteLimit": 2048000,
      "rowLimit": 10000
     },
     "inputWidgets": {},
     "nuid": "5399469a-d681-4f25-8b9e-95d4d24d19b4",
     "showTitle": true,
     "tableResultSettingsMap": {},
     "title": "Audits unassembled"
    }
   },
   "outputs": [],
   "source": [
    "_acs = (acs\n",
    "        .select('archived_on', f.col('PERSON_ID_DEID').alias('PERSON_ID') \n",
    "                , f.col('DATE_AND_TIME_OF_OPERATION').alias('RECORD_DATE')\n",
    "                , f.col('MONTH_YEAR_OF_BIRTH').alias('DOB'), 'SEX')\n",
    "        .distinct()\n",
    "        .withColumn('DOB', f.to_date(f.col('DOB').cast(t.StringType()), \"yyyy-MM\"))\n",
    "        .withColumn('RECORD_ID', f.lit(None))\n",
    "        .withColumn('CODE', f.lit(None))\n",
    "        .withColumn('ETHNIC', f.lit(None))\n",
    "        .withColumn('RECORD_SOURCE', f.lit('nacsa'))\n",
    "        )\n",
    "\n",
    "_tavi = (tavi\n",
    "        .select('archived_on', f.col('PERSON_ID_DEID').alias('PERSON_ID') \n",
    "                , f.col('7_01_DATE_AND_TIME_OF_OPERATION').alias('RECORD_DATE')\n",
    "                , f.col('MONTH_YEAR_OF_BIRTH').alias('DOB')\n",
    "                , f.col('1_07_SEX').alias('SEX')\n",
    "                , f.col('1_08_ETHNIC_ORIGIN').alias('ETHNIC')\n",
    "                )\n",
    "        .distinct()\n",
    "        .withColumn('DOB', f.to_date(f.col('DOB').cast(t.StringType()), \"yyyy-MM\"))\n",
    "        .withColumn('RECORD_ID', f.lit(None))\n",
    "        .withColumn('CODE', f.lit(None))\n",
    "        .withColumn('RECORD_SOURCE', f.lit('tavi'))\n",
    "        )\n",
    "  \n",
    "\n",
    "\n",
    "audits_harmonised = (_acs\n",
    "               .unionByName(_tavi)\n",
    "               .withColumn('RECORD_PRIMARY',f.lit(0))\n",
    "               .withColumn(\"RECORD_DATE\", f.date_format(f.col(\"RECORD_DATE\"), \"yyyy-MM-dd\"))\n",
    "               .select('PERSON_ID', 'archived_on', 'RECORD_SOURCE', 'RECORD_PRIMARY','RECORD_ID', 'RECORD_DATE', \n",
    "                        'DOB', 'SEX', 'ETHNIC', 'CODE'))"
   ]
  },
  {
   "cell_type": "code",
   "execution_count": 0,
   "metadata": {
    "application/vnd.databricks.v1+cell": {
     "cellMetadata": {
      "byteLimit": 2048000,
      "rowLimit": 10000
     },
     "inputWidgets": {},
     "nuid": "630fd6d6-18f0-47b7-8c09-f39b5024883d",
     "showTitle": false,
     "tableResultSettingsMap": {},
     "title": ""
    }
   },
   "outputs": [],
   "source": [
    "display(audits_harmonised)"
   ]
  },
  {
   "cell_type": "markdown",
   "metadata": {
    "application/vnd.databricks.v1+cell": {
     "cellMetadata": {
      "byteLimit": 2048000,
      "rowLimit": 10000
     },
     "inputWidgets": {},
     "nuid": "e058eb79-3c92-4a6c-a52d-cdf95bf23c1a",
     "showTitle": false,
     "tableResultSettingsMap": {},
     "title": ""
    }
   },
   "source": [
    "## 3.3 Combine"
   ]
  },
  {
   "cell_type": "code",
   "execution_count": 0,
   "metadata": {
    "application/vnd.databricks.v1+cell": {
     "cellMetadata": {
      "byteLimit": 2048000,
      "rowLimit": 10000
     },
     "inputWidgets": {},
     "nuid": "2dcfaf89-f8c7-4c0d-b8f3-1eb296404420",
     "showTitle": false,
     "tableResultSettingsMap": {},
     "title": ""
    }
   },
   "outputs": [],
   "source": [
    "all_unassembled = (audits_harmonised\n",
    "               .unionByName(kpc_harmonised)\n",
    ")\n",
    "\n",
    "save_table(df=all_unassembled, out_name=f'{proj}_tmp_all_cases_unassembled', save_previous=True, data_base=dsa)"
   ]
  }
 ],
 "metadata": {
  "application/vnd.databricks.v1+notebook": {
   "computePreferences": null,
   "dashboards": [],
   "environmentMetadata": null,
   "language": "python",
   "notebookMetadata": {
    "pythonIndentUnit": 4
   },
   "notebookName": "CCU056-03b-curated_data_skinny_unassembled",
   "widgets": {}
  },
  "language_info": {
   "name": "python"
  }
 },
 "nbformat": 4,
 "nbformat_minor": 0
}
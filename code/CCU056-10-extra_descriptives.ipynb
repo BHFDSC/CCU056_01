{
 "cells": [
  {
   "cell_type": "code",
   "execution_count": 0,
   "metadata": {
    "application/vnd.databricks.v1+cell": {
     "cellMetadata": {
      "byteLimit": 2048000,
      "rowLimit": 10000
     },
     "inputWidgets": {},
     "nuid": "18665278-c133-483c-8cbc-a287258662cb",
     "showTitle": false,
     "tableResultSettingsMap": {},
     "title": ""
    }
   },
   "outputs": [],
   "source": [
    "spark.sql('CLEAR CACHE')\n",
    "spark.conf.set('spark.sql.legacy.allowCreatingManagedTableUsingNonemptyLocation', 'true')"
   ]
  },
  {
   "cell_type": "code",
   "execution_count": 0,
   "metadata": {
    "application/vnd.databricks.v1+cell": {
     "cellMetadata": {
      "byteLimit": 2048000,
      "rowLimit": 10000
     },
     "inputWidgets": {},
     "nuid": "3eaaf40c-446d-4412-ae60-8e8d17e91457",
     "showTitle": false,
     "tableResultSettingsMap": {},
     "title": ""
    }
   },
   "outputs": [],
   "source": [
    "import pyspark.sql.functions as f\n",
    "import pyspark.sql.types as t\n",
    "from pyspark.sql import Window\n",
    "\n",
    "from functools import reduce\n",
    "\n",
    "import databricks.koalas as ks\n",
    "import pandas as pd\n",
    "import numpy as np\n",
    "\n",
    "import re\n",
    "import io\n",
    "import datetime\n",
    "\n",
    "import matplotlib\n",
    "import matplotlib.pyplot as plt\n",
    "from matplotlib import dates as mdates\n",
    "import seaborn as sns\n",
    "\n",
    "print(\"Matplotlib version: \", matplotlib.__version__)\n",
    "print(\"Seaborn version: \", sns.__version__)\n",
    "_datetimenow = datetime.datetime.now() # .strftime(\"%Y%m%d\")\n",
    "print(f\"_datetimenow:  {_datetimenow}\")"
   ]
  },
  {
   "cell_type": "code",
   "execution_count": 0,
   "metadata": {
    "application/vnd.databricks.v1+cell": {
     "cellMetadata": {
      "byteLimit": 2048000,
      "rowLimit": 10000
     },
     "inputWidgets": {},
     "nuid": "5447a0c9-bb73-4ba0-b95a-1b6dcd376a32",
     "showTitle": false,
     "tableResultSettingsMap": {},
     "title": ""
    }
   },
   "outputs": [],
   "source": [
    "%run \"../SHDS/common/functions\""
   ]
  },
  {
   "cell_type": "markdown",
   "metadata": {
    "application/vnd.databricks.v1+cell": {
     "cellMetadata": {
      "byteLimit": 2048000,
      "rowLimit": 10000
     },
     "inputWidgets": {},
     "nuid": "fa8b9915-53cf-4535-a7b6-512b91aa9b84",
     "showTitle": false,
     "tableResultSettingsMap": {},
     "title": ""
    }
   },
   "source": [
    "# 0. Parameters"
   ]
  },
  {
   "cell_type": "code",
   "execution_count": 0,
   "metadata": {
    "application/vnd.databricks.v1+cell": {
     "cellMetadata": {
      "byteLimit": 2048000,
      "rowLimit": 10000
     },
     "inputWidgets": {},
     "nuid": "8670f078-67b3-4728-846a-75850a273626",
     "showTitle": false,
     "tableResultSettingsMap": {},
     "title": ""
    },
    "jupyter": {
     "outputs_hidden": true
    }
   },
   "outputs": [],
   "source": [
    "%run \"./CCU056-01-parameters\""
   ]
  },
  {
   "cell_type": "markdown",
   "metadata": {
    "application/vnd.databricks.v1+cell": {
     "cellMetadata": {
      "byteLimit": 2048000,
      "rowLimit": 10000
     },
     "inputWidgets": {},
     "nuid": "5c6329db-0df7-42b7-9fff-c931ce680e5b",
     "showTitle": false,
     "tableResultSettingsMap": {},
     "title": ""
    }
   },
   "source": [
    "# 1. Data"
   ]
  },
  {
   "cell_type": "code",
   "execution_count": 0,
   "metadata": {
    "application/vnd.databricks.v1+cell": {
     "cellMetadata": {
      "byteLimit": 2048000,
      "rowLimit": 10000
     },
     "inputWidgets": {},
     "nuid": "da3575eb-6b07-4399-8ed8-cf7a20cd6225",
     "showTitle": false,
     "tableResultSettingsMap": {},
     "title": ""
    }
   },
   "outputs": [],
   "source": [
    "cohort = spark.table(f'{dsa}.{proj}_tmp_main_cohort_final2')\n",
    "hes_apc_long = spark.table(path_cur_hes_apc_long)\n",
    "hes_apc = extract_batch_from_archive(parameters_df_datasets,\"hes_apc\")\n",
    "hes_apc_op_otr_long_cohort=spark.table(f'{dsa}.{proj}_tmp_cases_procedure_codes_operation_dates')"
   ]
  },
  {
   "cell_type": "code",
   "execution_count": 0,
   "metadata": {
    "application/vnd.databricks.v1+cell": {
     "cellMetadata": {
      "byteLimit": 2048000,
      "rowLimit": 10000
     },
     "inputWidgets": {},
     "nuid": "06c2a8cc-95bc-4257-8a0c-959b7adc3bb7",
     "showTitle": false,
     "tableResultSettingsMap": {},
     "title": ""
    }
   },
   "outputs": [],
   "source": [
    "hes_apc = hes_apc.withColumnRenamed(\"PERSON_ID_DEID\",\"PERSON_ID\")"
   ]
  },
  {
   "cell_type": "code",
   "execution_count": 0,
   "metadata": {
    "application/vnd.databricks.v1+cell": {
     "cellMetadata": {
      "byteLimit": 2048000,
      "rowLimit": 10000
     },
     "inputWidgets": {},
     "nuid": "1d846c59-ee65-40c8-971f-cf40ce9e5904",
     "showTitle": false,
     "tableResultSettingsMap": {},
     "title": ""
    }
   },
   "outputs": [],
   "source": [
    "hes_full_cohort = (cohort.select(\"PERSON_ID\",f.col(\"OPERATION_DATE\").alias(\"OPDATE\"))\n",
    "    .join(hes_apc_op_otr_long_cohort,on=[\"PERSON_ID\",\"OPDATE\"],how=\"left\")\n",
    "    .select(\"PERSON_ID\",f.col(\"OPDATE\").alias(\"OPERATION_DATE\"),\"EPIKEY\")\n",
    "    .distinct()\n",
    "    .join(hes_apc,on=[\"PERSON_ID\",\"EPIKEY\"],how=\"left\")\n",
    "    .select(\"PERSON_ID\",\"OPERATION_DATE\",\"EPIKEY\",\"ADMIMETH\")\n",
    "    )"
   ]
  },
  {
   "cell_type": "code",
   "execution_count": 0,
   "metadata": {
    "application/vnd.databricks.v1+cell": {
     "cellMetadata": {
      "byteLimit": 2048000,
      "rowLimit": 10000
     },
     "inputWidgets": {},
     "nuid": "1b8a43bd-fafa-4f44-953b-8cd43c193f30",
     "showTitle": false,
     "tableResultSettingsMap": {},
     "title": ""
    }
   },
   "outputs": [],
   "source": [
    "save_table(hes_full_cohort,f'{proj}_hes_full_cohort')"
   ]
  },
  {
   "cell_type": "code",
   "execution_count": 0,
   "metadata": {
    "application/vnd.databricks.v1+cell": {
     "cellMetadata": {
      "byteLimit": 2048000,
      "rowLimit": 10000
     },
     "inputWidgets": {},
     "nuid": "a986309c-cc61-4773-be84-f653ac6487b9",
     "showTitle": false,
     "tableResultSettingsMap": {},
     "title": ""
    }
   },
   "outputs": [],
   "source": [
    "hes_full_cohort = spark.table(f'{dsa}.{proj}_hes_full_cohort')"
   ]
  },
  {
   "cell_type": "code",
   "execution_count": 0,
   "metadata": {
    "application/vnd.databricks.v1+cell": {
     "cellMetadata": {
      "byteLimit": 2048000,
      "rowLimit": 10000
     },
     "inputWidgets": {},
     "nuid": "eacda083-176e-409f-a6b6-ca027ea18e19",
     "showTitle": false,
     "tableResultSettingsMap": {},
     "title": ""
    }
   },
   "outputs": [],
   "source": [
    "display(hes_full_cohort)"
   ]
  },
  {
   "cell_type": "code",
   "execution_count": 0,
   "metadata": {
    "application/vnd.databricks.v1+cell": {
     "cellMetadata": {
      "byteLimit": 2048000,
      "rowLimit": 10000
     },
     "inputWidgets": {},
     "nuid": "fac95a3a-e5bc-4e76-b241-c656e30a9d74",
     "showTitle": true,
     "tableResultSettingsMap": {},
     "title": "HES Curated Date now including DISDATE"
    }
   },
   "outputs": [],
   "source": [
    "%%script echo skipping\n",
    "hes_apc = extract_batch_from_archive(parameters_df_datasets, 'hes_apc')\n",
    "\n",
    "tmp_hes_apc = (\n",
    "  hes_apc  \n",
    "  .select(['PERSON_ID_DEID', 'EPIKEY', 'EPISTART', 'ADMIDATE', 'DISDATE'] \n",
    "          + [col for col in list(hes_apc.columns) if re.match(r'^DIAG_(3|4)_\\d\\d$', col)])\n",
    "  .withColumnRenamed('PERSON_ID_DEID', 'PERSON_ID')\n",
    "  .orderBy('PERSON_ID', 'EPIKEY')\n",
    ")\n",
    "\n",
    "tmp_hes_apc_long = (\n",
    "  reshape_wide_to_long_multi(tmp_hes_apc, i=['PERSON_ID', 'EPIKEY', 'EPISTART', 'ADMIDATE', 'DISDATE'], j='POSITION', stubnames=['DIAG_4_', 'DIAG_3_'])\n",
    "  .withColumn('_tmp', f.substring(f.col('DIAG_4_'), 1, 3))\n",
    "  .withColumn('_chk', udf_null_safe_equality('DIAG_3_', '_tmp').cast(t.IntegerType()))\n",
    "  .withColumn('_DIAG_4_len', f.length(f.col('DIAG_4_')))\n",
    "  .withColumn('_chk2', f.when((f.col('_DIAG_4_len').isNull()) | (f.col('_DIAG_4_len') <= 4), 1).otherwise(0))\n",
    ")\n",
    "\n",
    "tmp_hes_apc_long = reshape_wide_to_long_multi(tmp_hes_apc_long, i=['PERSON_ID', 'EPIKEY', 'EPISTART', 'ADMIDATE', 'DISDATE', 'POSITION'], j='DIAG_DIGITS', stubnames=['DIAG_'])\\\n",
    "  .withColumnRenamed('POSITION', 'DIAG_POSITION')\\\n",
    "  .withColumn('DIAG_POSITION', f.regexp_replace('DIAG_POSITION', r'^[0]', ''))\\\n",
    "  .withColumn('DIAG_DIGITS', f.regexp_replace('DIAG_DIGITS', r'[_]', ''))\\\n",
    "  .withColumn('DIAG_', f.regexp_replace('DIAG_', r'X$', ''))\\\n",
    "  .withColumn('DIAG_', f.regexp_replace('DIAG_', r'[.,\\-\\s]', ''))\\\n",
    "  .withColumnRenamed('DIAG_', 'CODE')\\\n",
    "  .where((f.col('CODE').isNotNull()) & (f.col('CODE') != ''))\\\n",
    "  .orderBy(['PERSON_ID', 'EPIKEY', 'DIAG_DIGITS', 'DIAG_POSITION'])\n",
    "\n",
    "# adding in cohort to make table smaller and quicker to save\n",
    "tmp_hes_apc_long = (\n",
    "  cohort.select(\"PERSON_ID\").join(tmp_hes_apc_long,on=\"PERSON_ID\",how=\"left\")\n",
    "  .select('PERSON_ID', f.col('EPISTART'), 'ADMIDATE','DISDATE','CODE', 'DIAG_POSITION', 'DIAG_DIGITS','EPIKEY')\n",
    ")"
   ]
  },
  {
   "cell_type": "code",
   "execution_count": 0,
   "metadata": {
    "application/vnd.databricks.v1+cell": {
     "cellMetadata": {
      "byteLimit": 2048000,
      "rowLimit": 10000
     },
     "inputWidgets": {},
     "nuid": "be293d06-3cf8-4b47-948a-c73ec04393d5",
     "showTitle": false,
     "tableResultSettingsMap": {},
     "title": ""
    }
   },
   "outputs": [],
   "source": [
    "%%script echo skipping\n",
    "save_table(df=tmp_hes_apc_long, out_name=f'{proj}_outcomes_tmp_hes_apc_long',save_previous=False)"
   ]
  },
  {
   "cell_type": "code",
   "execution_count": 0,
   "metadata": {
    "application/vnd.databricks.v1+cell": {
     "cellMetadata": {
      "byteLimit": 2048000,
      "rowLimit": 10000
     },
     "inputWidgets": {},
     "nuid": "f132b730-0d8e-4ed8-8175-1a158da17f36",
     "showTitle": false,
     "tableResultSettingsMap": {},
     "title": ""
    }
   },
   "outputs": [],
   "source": [
    "tmp_hes_apc_long = spark.table(f'{dsa}.{proj}_outcomes_tmp_hes_apc_long')"
   ]
  },
  {
   "cell_type": "code",
   "execution_count": 0,
   "metadata": {
    "application/vnd.databricks.v1+cell": {
     "cellMetadata": {
      "byteLimit": 2048000,
      "rowLimit": 10000
     },
     "inputWidgets": {},
     "nuid": "0479b7de-f97f-4efe-95c4-b3c47ca931f2",
     "showTitle": false,
     "tableResultSettingsMap": {},
     "title": ""
    }
   },
   "outputs": [],
   "source": [
    "%%script echo skipping\n",
    "save_table(df=cohort_discharge_dates, out_name=f'{proj}_cohort_discharge_dates',save_previous=False)"
   ]
  },
  {
   "cell_type": "code",
   "execution_count": 0,
   "metadata": {
    "application/vnd.databricks.v1+cell": {
     "cellMetadata": {
      "byteLimit": 2048000,
      "rowLimit": 10000
     },
     "inputWidgets": {},
     "nuid": "dd838773-1693-4d38-b7f0-8516b6d18ed6",
     "showTitle": false,
     "tableResultSettingsMap": {},
     "title": ""
    }
   },
   "outputs": [],
   "source": [
    "cohort_discharge_dates = spark.table(f'{dsa}.{proj}_cohort_discharge_dates')"
   ]
  },
  {
   "cell_type": "code",
   "execution_count": 0,
   "metadata": {
    "application/vnd.databricks.v1+cell": {
     "cellMetadata": {
      "byteLimit": 2048000,
      "rowLimit": 10000
     },
     "inputWidgets": {},
     "nuid": "bae8bb34-f94b-43ef-bcf4-a4439b1438f9",
     "showTitle": false,
     "tableResultSettingsMap": {},
     "title": ""
    }
   },
   "outputs": [],
   "source": [
    "# reduce and rename columns\n",
    "hes_apc_long_prepared = (\n",
    "  hes_apc_long\n",
    "  .select('PERSON_ID', f.col('EPISTART').alias('DATE'), 'CODE', 'DIAG_POSITION', 'DIAG_DIGITS')\n",
    ")\n",
    "\n",
    "# merge in individual censor dates\n",
    "hes_apc_long_prepared = (\n",
    "  hes_apc_long_prepared\n",
    "  .join(individual_censor_dates_discharge, on='PERSON_ID', how='inner')\n",
    ")\n",
    "\n",
    "\n",
    "# filter to admissions post oepration and before study end date\n",
    "hes_apc_long_prepared = (\n",
    "  hes_apc_long_prepared\n",
    "      .where((f.col('DATE') >= f.col('CENSOR_DATE_START')))\n",
    "      .where((f.col('DATE') <= f.col('CENSOR_DATE_END')))\n",
    "  \n",
    ")"
   ]
  },
  {
   "cell_type": "code",
   "execution_count": 0,
   "metadata": {
    "application/vnd.databricks.v1+cell": {
     "cellMetadata": {
      "byteLimit": 2048000,
      "rowLimit": 10000
     },
     "inputWidgets": {},
     "nuid": "19588fb8-5a7c-404e-a270-d28f480e7c89",
     "showTitle": false,
     "tableResultSettingsMap": {},
     "title": ""
    }
   },
   "outputs": [],
   "source": [
    "\n",
    "\n",
    "display(hes_apc_long_prepared)"
   ]
  },
  {
   "cell_type": "code",
   "execution_count": 0,
   "metadata": {
    "application/vnd.databricks.v1+cell": {
     "cellMetadata": {
      "byteLimit": 2048000,
      "rowLimit": 10000
     },
     "inputWidgets": {},
     "nuid": "b4ec841c-a362-462d-8372-b35bbead49fc",
     "showTitle": false,
     "tableResultSettingsMap": {},
     "title": ""
    }
   },
   "outputs": [],
   "source": [
    "hes_wide = (hes_apc_long_prepared\n",
    "        .select(\"PERSON_ID\",\"DATE\",\"CODE\",\"DIAG_POSITION\",\"DIAG_DIGITS\")\n",
    "        .groupBy(\"PERSON_ID\",\"DATE\",\"DIAG_POSITION\").pivot(\"DIAG_DIGITS\").agg(f.first(\"CODE\"))\n",
    "        .withColumnRenamed(\"3\",\"DIAG_3\")\n",
    "        .withColumnRenamed(\"4\",\"DIAG_4\")\n",
    "        )"
   ]
  },
  {
   "cell_type": "code",
   "execution_count": 0,
   "metadata": {
    "application/vnd.databricks.v1+cell": {
     "cellMetadata": {
      "byteLimit": 2048000,
      "rowLimit": 10000
     },
     "inputWidgets": {},
     "nuid": "8640350b-c09c-4b2a-8c8a-280e90b4529e",
     "showTitle": false,
     "tableResultSettingsMap": {},
     "title": ""
    }
   },
   "outputs": [],
   "source": [
    "outcomes_hospitalisations_raw = (\n",
    "    hes_apc_long_prepared\n",
    "    .filter(f.col(\"DIAG_POSITION\")==1) #first position only\n",
    "        .join((codelist_outcomes_hf\n",
    "           .select(f.col(\"code\").alias(\"CODE\"))\n",
    "           .withColumn(\"outcomes_hosp_description\",f.lit(\"cvd_hosp\"))),\n",
    "          on=\"CODE\",how=\"left\"\n",
    "          )\n",
    "    .withColumn(\"outcomes_hosp_description\", f.when(f.col(\"outcomes_hosp_description\").isNull(),f.lit(\"non_cvd_hosp\")).otherwise(f.col(\"outcomes_hosp_description\")))\n",
    "    .join(cohort,on=\"PERSON_ID\",how=\"left\")\n",
    "\n",
    "        )"
   ]
  },
  {
   "cell_type": "code",
   "execution_count": 0,
   "metadata": {
    "application/vnd.databricks.v1+cell": {
     "cellMetadata": {
      "byteLimit": 2048000,
      "rowLimit": 10000
     },
     "inputWidgets": {},
     "nuid": "9d9a579b-ae4b-466d-aee6-c05c30538fcd",
     "showTitle": false,
     "tableResultSettingsMap": {},
     "title": ""
    }
   },
   "outputs": [],
   "source": [
    "save_table(df=outcomes_hospitalisations_raw, out_name=f'{proj}_outcomes_hospitalisations_raw',save_previous=False)"
   ]
  },
  {
   "cell_type": "code",
   "execution_count": 0,
   "metadata": {
    "application/vnd.databricks.v1+cell": {
     "cellMetadata": {
      "byteLimit": 2048000,
      "rowLimit": 10000
     },
     "inputWidgets": {},
     "nuid": "f6f04dab-eec9-47c3-9082-526394d8557d",
     "showTitle": false,
     "tableResultSettingsMap": {},
     "title": ""
    }
   },
   "outputs": [],
   "source": [
    "nacsa = spark.table(f'dars_nic_391419_j3w9t_collab.nicor_acs_combined_dars_nic_391419_j3w9t_archive')"
   ]
  },
  {
   "cell_type": "code",
   "execution_count": 0,
   "metadata": {
    "application/vnd.databricks.v1+cell": {
     "cellMetadata": {
      "byteLimit": 2048000,
      "rowLimit": 10000
     },
     "inputWidgets": {},
     "nuid": "f5668344-9c78-4142-ba0e-cd871a50b029",
     "showTitle": false,
     "tableResultSettingsMap": {},
     "title": ""
    }
   },
   "outputs": [],
   "source": [
    "(nacsa.columns)"
   ]
  }
 ],
 "metadata": {
  "application/vnd.databricks.v1+notebook": {
   "computePreferences": null,
   "dashboards": [],
   "environmentMetadata": null,
   "language": "python",
   "notebookMetadata": {
    "pythonIndentUnit": 4
   },
   "notebookName": "CCU056-10-extra_descriptives",
   "widgets": {}
  },
  "language_info": {
   "name": "python"
  }
 },
 "nbformat": 4,
 "nbformat_minor": 0
}
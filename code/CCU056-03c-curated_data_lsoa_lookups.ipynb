{
 "cells": [
  {
   "cell_type": "markdown",
   "metadata": {
    "application/vnd.databricks.v1+cell": {
     "cellMetadata": {
      "byteLimit": 2048000,
      "rowLimit": 10000
     },
     "inputWidgets": {},
     "nuid": "e5f77f6a-2d56-4160-8bb9-1acad6ce23f5",
     "showTitle": false,
     "tableResultSettingsMap": {},
     "title": ""
    }
   },
   "source": [
    "# Curated Data - LSOA Lookup Tables\n",
    "\n",
    "**Description** This notebook creates the curated lsoa lookup table.\n",
    "\n",
    "**Authors** Tom Bolton (Health Data Science Team, BHF Data Science Centre)\n",
    "\n",
    "**Reviewers** âš  UNREVIEWED\n",
    "\n",
    "**Acknowledgements** Based on CCU002_01.\n",
    "\n",
    "**Notes** SQL converted to Pyspark to provide greater transparency and flexibility\n",
    "\n",
    "**Data Output**\n",
    "- **`ccu056_cur_lsoa_region_lookup`** : Region lookup for LSOA codes\n",
    "- **`ccu056_cur_lsoa_imd_lookup`** : IMD lookup for LSOA codes"
   ]
  },
  {
   "cell_type": "markdown",
   "metadata": {
    "application/vnd.databricks.v1+cell": {
     "cellMetadata": {
      "byteLimit": 2048000,
      "rowLimit": 10000
     },
     "inputWidgets": {},
     "nuid": "746ba7f7-ef74-4868-accb-6673743aad24",
     "showTitle": false,
     "tableResultSettingsMap": {},
     "title": ""
    }
   },
   "source": [
    "# 0. Setup"
   ]
  },
  {
   "cell_type": "code",
   "execution_count": 0,
   "metadata": {
    "application/vnd.databricks.v1+cell": {
     "cellMetadata": {
      "byteLimit": 2048000,
      "rowLimit": 10000
     },
     "inputWidgets": {},
     "nuid": "22d3b15d-388c-4e5b-ae47-9ad26af05b13",
     "showTitle": false,
     "tableResultSettingsMap": {},
     "title": ""
    }
   },
   "outputs": [],
   "source": [
    "spark.sql('CLEAR CACHE')"
   ]
  },
  {
   "cell_type": "code",
   "execution_count": 0,
   "metadata": {
    "application/vnd.databricks.v1+cell": {
     "cellMetadata": {
      "byteLimit": 2048000,
      "rowLimit": 10000
     },
     "inputWidgets": {},
     "nuid": "92ceaa7e-b335-42c1-9e8f-593e2ad2adab",
     "showTitle": true,
     "tableResultSettingsMap": {},
     "title": "Libraries"
    }
   },
   "outputs": [],
   "source": [
    "import pyspark.sql.functions as f\n",
    "import pyspark.sql.types as t\n",
    "from pyspark.sql import Window\n",
    "\n",
    "from functools import reduce\n",
    "\n",
    "import databricks.koalas as ks\n",
    "import pandas as pd\n",
    "import numpy as np\n",
    "\n",
    "import re\n",
    "import io\n",
    "import datetime\n",
    "\n",
    "import matplotlib\n",
    "import matplotlib.pyplot as plt\n",
    "from matplotlib import dates as mdates\n",
    "import seaborn as sns\n",
    "\n",
    "print(\"Matplotlib version: \", matplotlib.__version__)\n",
    "print(\"Seaborn version: \", sns.__version__)\n",
    "_datetimenow = datetime.datetime.now() # .strftime(\"%Y%m%d\")\n",
    "print(f\"_datetimenow:  {_datetimenow}\")"
   ]
  },
  {
   "cell_type": "code",
   "execution_count": 0,
   "metadata": {
    "application/vnd.databricks.v1+cell": {
     "cellMetadata": {
      "byteLimit": 2048000,
      "rowLimit": 10000
     },
     "inputWidgets": {},
     "nuid": "2515d411-c105-4c6c-8e1a-807b73bd3e39",
     "showTitle": true,
     "tableResultSettingsMap": {},
     "title": "Common Functions"
    }
   },
   "outputs": [],
   "source": [
    "%run \"/Repos/shds/common/functions\""
   ]
  },
  {
   "cell_type": "markdown",
   "metadata": {
    "application/vnd.databricks.v1+cell": {
     "cellMetadata": {
      "byteLimit": 2048000,
      "rowLimit": 10000
     },
     "inputWidgets": {},
     "nuid": "8c85d375-5ff2-442c-9c89-c9d354a003e2",
     "showTitle": false,
     "tableResultSettingsMap": {},
     "title": ""
    }
   },
   "source": [
    "# 1. Parameters"
   ]
  },
  {
   "cell_type": "code",
   "execution_count": 0,
   "metadata": {
    "application/vnd.databricks.v1+cell": {
     "cellMetadata": {
      "byteLimit": 2048000,
      "rowLimit": 10000
     },
     "inputWidgets": {},
     "nuid": "df62fdb1-f9fa-4906-8a9a-5b28009fe838",
     "showTitle": false,
     "tableResultSettingsMap": {},
     "title": ""
    }
   },
   "outputs": [],
   "source": [
    "%run \"./CCU056-01-parameters\""
   ]
  },
  {
   "cell_type": "markdown",
   "metadata": {
    "application/vnd.databricks.v1+cell": {
     "cellMetadata": {
      "byteLimit": 2048000,
      "rowLimit": 10000
     },
     "inputWidgets": {},
     "nuid": "96766f4b-3a84-449b-b961-1afd4f787a7c",
     "showTitle": false,
     "tableResultSettingsMap": {},
     "title": ""
    }
   },
   "source": [
    "# 2. Data"
   ]
  },
  {
   "cell_type": "code",
   "execution_count": 0,
   "metadata": {
    "application/vnd.databricks.v1+cell": {
     "cellMetadata": {
      "byteLimit": 2048000,
      "rowLimit": 10000
     },
     "inputWidgets": {},
     "nuid": "5abb9f8a-8fd5-4a3c-b753-d69032d66cae",
     "showTitle": false,
     "tableResultSettingsMap": {},
     "title": ""
    }
   },
   "outputs": [],
   "source": [
    "geog = spark.table(path_ref_geog)\n",
    "imd = spark.table(path_ref_imd)"
   ]
  },
  {
   "cell_type": "markdown",
   "metadata": {
    "application/vnd.databricks.v1+cell": {
     "cellMetadata": {
      "byteLimit": 2048000,
      "rowLimit": 10000
     },
     "inputWidgets": {},
     "nuid": "77821038-99a1-4a1f-a550-8341c92bbe27",
     "showTitle": false,
     "tableResultSettingsMap": {},
     "title": ""
    }
   },
   "source": [
    "# 3. LSOA Region Lookup"
   ]
  },
  {
   "cell_type": "markdown",
   "metadata": {
    "application/vnd.databricks.v1+cell": {
     "cellMetadata": {
      "byteLimit": 2048000,
      "rowLimit": 10000
     },
     "inputWidgets": {},
     "nuid": "1e70ee8b-135f-4e7d-80dd-1096de0f947c",
     "showTitle": false,
     "tableResultSettingsMap": {},
     "title": ""
    }
   },
   "source": [
    "## 3.1 Components"
   ]
  },
  {
   "cell_type": "markdown",
   "metadata": {
    "application/vnd.databricks.v1+cell": {
     "cellMetadata": {
      "byteLimit": 2048000,
      "rowLimit": 10000
     },
     "inputWidgets": {},
     "nuid": "7718e460-e852-4332-ad11-7d0b1de4c8d9",
     "showTitle": false,
     "tableResultSettingsMap": {},
     "title": ""
    }
   },
   "source": [
    "### 3.1.1 LSOA"
   ]
  },
  {
   "cell_type": "code",
   "execution_count": 0,
   "metadata": {
    "application/vnd.databricks.v1+cell": {
     "cellMetadata": {
      "byteLimit": 2048000,
      "rowLimit": 10000
     },
     "inputWidgets": {},
     "nuid": "7439b4b6-78b6-4ead-bfca-3fd21a1a86b2",
     "showTitle": false,
     "tableResultSettingsMap": {},
     "title": ""
    }
   },
   "outputs": [],
   "source": [
    "# ENTITY_CODE == E01 relates to LSOA\n",
    "lsoa = (\n",
    "  geog\n",
    "  .where(f.col('ENTITY_CODE') == 'E01')\n",
    "  .withColumn('flag_parent', f.when(f.col('PARENT_GEOGRAPHY_CODE').rlike(r'^E02.*'), 1).otherwise(0))\n",
    ")\n",
    "\n",
    "# check\n",
    "#count_var(lsoa, 'GEOGRAPHY_CODE'); print()\n",
    "tmpt = tab(lsoa, 'flag_parent'); print() # all E02\n",
    "assert lsoa.where(f.col('flag_parent') == 0).count() == 0\n",
    "\n",
    "# prepare\n",
    "lsoa = (\n",
    "  lsoa\n",
    "  .select(\n",
    "    f.col('GEOGRAPHY_CODE').alias('lsoa_code')\n",
    "    , f.col('GEOGRAPHY_NAME').alias('lsoa_name')\n",
    "    , f.col('DATE_OF_TERMINATION').alias('lsoa_dot')\n",
    "    , f.col('PARENT_GEOGRAPHY_CODE').alias('msoa_code')\n",
    "  )\n",
    ")\n",
    "\n",
    "# check\n",
    "#count_var(lsoa, 'lsoa_code'); print()\n",
    "\n",
    "# identify duplicates \n",
    "win_lsoa_code_ord = Window\\\n",
    "  .partitionBy('lsoa_code')\\\n",
    "  .orderBy('lsoa_name', 'lsoa_dot', 'msoa_code')\n",
    "win_lsoa_code = Window\\\n",
    "  .partitionBy('lsoa_code')\n",
    "lsoa = (\n",
    "  lsoa\n",
    "  .withColumn('rownum', f.row_number().over(win_lsoa_code_ord))\n",
    "  .withColumn('rownummax', f.count(f.lit(1)).over(win_lsoa_code))\n",
    ")\n",
    "\n",
    "# check\n",
    "tmpt = tab(lsoa.where(f.col('rownum') == 1), 'rownummax'); print()\n",
    "print(lsoa.orderBy('lsoa_code').where(f.col('rownummax') > 1).toPandas().to_string()); print()\n",
    "\n",
    "# tidy\n",
    "lsoa = (\n",
    "  lsoa\n",
    "  .drop('rownum', 'rownummax')\n",
    ")\n",
    "\n",
    "# check\n",
    "count_varlist(lsoa, ['lsoa_code', 'lsoa_name']); print()\n",
    "count_varlist(lsoa, ['lsoa_code', 'lsoa_name', 'lsoa_dot']); print()\n",
    "count_varlist(lsoa, ['lsoa_code', 'lsoa_name', 'lsoa_dot', 'msoa_code']); print()\n",
    "print(lsoa.orderBy('lsoa_code', 'lsoa_name', 'lsoa_dot', 'msoa_code').limit(10).toPandas().to_string()); print()"
   ]
  },
  {
   "cell_type": "markdown",
   "metadata": {
    "application/vnd.databricks.v1+cell": {
     "cellMetadata": {
      "byteLimit": 2048000,
      "rowLimit": 10000
     },
     "inputWidgets": {},
     "nuid": "572431d3-ea2d-4432-95fb-8d3df23cc268",
     "showTitle": false,
     "tableResultSettingsMap": {},
     "title": ""
    }
   },
   "source": [
    "### 3.1.2 MSOA"
   ]
  },
  {
   "cell_type": "code",
   "execution_count": 0,
   "metadata": {
    "application/vnd.databricks.v1+cell": {
     "cellMetadata": {
      "byteLimit": 2048000,
      "rowLimit": 10000
     },
     "inputWidgets": {},
     "nuid": "7bc803ed-51ff-4a8f-8552-315d9e390386",
     "showTitle": false,
     "tableResultSettingsMap": {},
     "title": ""
    }
   },
   "outputs": [],
   "source": [
    "# ENTITY_CODE == E02 relates to MSOA\n",
    "msoa = (\n",
    "  geog\n",
    "  .where(f.col('ENTITY_CODE') == 'E02')\n",
    "  .withColumn('PARENT_GEOGRAPHY_CODE_3', f.substring(f.col('PARENT_GEOGRAPHY_CODE'), 1, 3))\n",
    "  .withColumn('flag_parent', f.when((f.col('PARENT_GEOGRAPHY_CODE_3').isin(['E06', 'E07', 'E08', 'E09'])) | (f.col('PARENT_GEOGRAPHY_CODE_3').isNull()), 1).otherwise(0))\n",
    ")  \n",
    "\n",
    "# check\n",
    "#count_var(msoa, 'GEOGRAPHY_CODE'); print()\n",
    "tmpt = tab(msoa, 'PARENT_GEOGRAPHY_CODE_3'); print() # all E06, E07, E08, E09\n",
    "tmpt = tab(msoa, 'PARENT_GEOGRAPHY_CODE_3', 'flag_parent'); print() \n",
    "assert msoa.where(f.col('flag_parent') == 0).count() == 0\n",
    "\n",
    "# prepare\n",
    "msoa = (\n",
    "  msoa\n",
    "  .select(\n",
    "    f.col('GEOGRAPHY_CODE').alias('msoa_code')\n",
    "    , f.col('GEOGRAPHY_NAME').alias('msoa_name')\n",
    "    , f.col('DATE_OF_TERMINATION').alias('msoa_dot')\n",
    "    , f.col('PARENT_GEOGRAPHY_CODE').alias('la_code')\n",
    "  )\n",
    ")\n",
    "\n",
    "# check\n",
    "#count_var(msoa, 'msoa_code'); print()\n",
    "print(msoa.orderBy('msoa_code').limit(10).toPandas().to_string()); print()"
   ]
  },
  {
   "cell_type": "markdown",
   "metadata": {
    "application/vnd.databricks.v1+cell": {
     "cellMetadata": {
      "byteLimit": 2048000,
      "rowLimit": 10000
     },
     "inputWidgets": {},
     "nuid": "1933d367-90df-40fa-9306-7fe932ed5812",
     "showTitle": false,
     "tableResultSettingsMap": {},
     "title": ""
    }
   },
   "source": [
    "### 3.1.3 LA"
   ]
  },
  {
   "cell_type": "code",
   "execution_count": 0,
   "metadata": {
    "application/vnd.databricks.v1+cell": {
     "cellMetadata": {
      "byteLimit": 2048000,
      "rowLimit": 10000
     },
     "inputWidgets": {},
     "nuid": "ff7d9b08-5c5d-4a4f-90f5-a8cec9e415e6",
     "showTitle": false,
     "tableResultSettingsMap": {},
     "title": ""
    }
   },
   "outputs": [],
   "source": [
    "# ENTITY_CODE == E06, E07, E08, E09 relate to LA (Local Authority)\n",
    "la = (\n",
    "  geog\n",
    "  .where(f.col('ENTITY_CODE').isin(['E06', 'E07', 'E08', 'E09']))\n",
    "  .withColumn('PARENT_GEOGRAPHY_CODE_3', f.substring(f.col('PARENT_GEOGRAPHY_CODE'), 1, 3))\n",
    "  .withColumn('flag_parent', f.when(f.col('PARENT_GEOGRAPHY_CODE_3').isin(['E10', 'E12']), 1).otherwise(0))\n",
    ")  \n",
    "\n",
    "# check\n",
    "#count_var(la, 'GEOGRAPHY_CODE'); print()\n",
    "tmpt = tab(la, 'PARENT_GEOGRAPHY_CODE_3'); print() # all E10, E12\n",
    "tmpt = tab(la, 'PARENT_GEOGRAPHY_CODE_3', 'flag_parent'); print() \n",
    "assert la.where(f.col('flag_parent') == 0).count() == 0\n",
    "\n",
    "# prepare\n",
    "la = (\n",
    "  la\n",
    "  .select(\n",
    "    f.col('GEOGRAPHY_CODE').alias('la_code')\n",
    "    , f.col('GEOGRAPHY_NAME').alias('la_name')\n",
    "    , f.col('DATE_OF_TERMINATION').alias('la_dot')    \n",
    "    , 'PARENT_GEOGRAPHY_CODE'\n",
    "    , 'PARENT_GEOGRAPHY_CODE_3'\n",
    "  )\n",
    "  .withColumn('county_code', f.when(f.col('PARENT_GEOGRAPHY_CODE_3') == 'E10', f.col('PARENT_GEOGRAPHY_CODE')))\n",
    "  .withColumn('region_code_1', f.when(f.col('PARENT_GEOGRAPHY_CODE_3') == 'E12', f.col('PARENT_GEOGRAPHY_CODE')))\n",
    "  .drop('PARENT_GEOGRAPHY_CODE', 'PARENT_GEOGRAPHY_CODE_3')\n",
    ")  \n",
    "\n",
    "# check\n",
    "#count_var(la, 'la_code'); print()\n",
    "\n",
    "# identify duplicates \n",
    "win_la_code_ord = Window\\\n",
    "  .partitionBy('la_code')\\\n",
    "  .orderBy('la_name', 'la_dot', 'county_code', 'region_code_1')\n",
    "win_la_code = Window\\\n",
    "  .partitionBy('la_code')\n",
    "la = (\n",
    "  la\n",
    "  .withColumn('rownum', f.row_number().over(win_la_code_ord))\n",
    "  .withColumn('rownummax', f.count(f.lit(1)).over(win_la_code))\n",
    ")\n",
    "              \n",
    "# check\n",
    "tmpt = tab(la.where(f.col('rownum') == 1), 'rownummax'); print()\n",
    "print(la.orderBy('la_code').where(f.col('rownummax') > 1).toPandas().to_string()); print()\n",
    "assert la.where(f.col('rownum') == 1).where(f.col('rownummax') > 1).count() == 1\n",
    "assert la.where(f.col('rownummax') > 1).count() == 2\n",
    "assert la.where(f.col('rownummax') > 1).where(f.col('rownum') == 1).select('la_code').collect()[0][0] == 'E07000112'\n",
    "assert la.where(f.col('rownummax') > 1).where(f.col('rownum') == 1).select('la_name').collect()[0][0] == 'Folkestone and Hythe'\n",
    "assert la.where(f.col('rownummax') > 1).where(f.col('rownum') == 2).select('la_name').collect()[0][0] == 'Shepway'\n",
    "assert la.where(f.col('rownummax') > 1).where(f.col('rownum') == 1).select('county_code').collect()[0][0] == 'E10000016'\n",
    "assert la.where(f.col('rownummax') > 1).where(f.col('rownum') == 2).select('county_code').collect()[0][0] == 'E10000016'\n",
    "\n",
    "# note: https://en.wikipedia.org/wiki/Folkestone_and_Hythe_District\n",
    "# Folkestone and Hythe is a local government district in Kent ... The authority was renamed from Shepway in April 2018 ...\n",
    "\n",
    "# filter\n",
    "# tidy\n",
    "la = (\n",
    "  la\n",
    "  .where(f.col('rownum') == 1)\n",
    "  .drop('rownum', 'rownummax')\n",
    ")\n",
    "\n",
    "# check\n",
    "#count_var(la, 'la_code'); print()\n",
    "print(la.where(f.col('la_code') == 'E07000112').toPandas().to_string()); print()\n",
    "print(la.orderBy('la_code').limit(10).toPandas().to_string()); print()"
   ]
  },
  {
   "cell_type": "markdown",
   "metadata": {
    "application/vnd.databricks.v1+cell": {
     "cellMetadata": {
      "byteLimit": 2048000,
      "rowLimit": 10000
     },
     "inputWidgets": {},
     "nuid": "6178f2f1-7809-40f4-8a2f-70c2962a0134",
     "showTitle": false,
     "tableResultSettingsMap": {},
     "title": ""
    }
   },
   "source": [
    "### 3.1.4 County "
   ]
  },
  {
   "cell_type": "code",
   "execution_count": 0,
   "metadata": {
    "application/vnd.databricks.v1+cell": {
     "cellMetadata": {
      "byteLimit": 2048000,
      "rowLimit": 10000
     },
     "inputWidgets": {},
     "nuid": "2b8ac2ec-8698-46a2-871b-d3f1540624df",
     "showTitle": false,
     "tableResultSettingsMap": {},
     "title": ""
    }
   },
   "outputs": [],
   "source": [
    "# ENTITY_CODE == E10 relates to County\n",
    "county = (\n",
    "  geog\n",
    "  .where(f.col('ENTITY_CODE') == 'E10')\n",
    "  .withColumn('PARENT_GEOGRAPHY_CODE_3', f.substring(f.col('PARENT_GEOGRAPHY_CODE'), 1, 3))\n",
    "  .withColumn('flag_parent', f.when(f.col('PARENT_GEOGRAPHY_CODE_3').isin(['E12']), 1).otherwise(0))\n",
    ")  \n",
    "\n",
    "# check\n",
    "#count_var(county, 'GEOGRAPHY_CODE'); print()\n",
    "tmpt = tab(county, 'PARENT_GEOGRAPHY_CODE_3'); print() # all E12\n",
    "tmpt = tab(county, 'PARENT_GEOGRAPHY_CODE_3', 'flag_parent'); print() \n",
    "assert county.where(f.col('flag_parent') == 0).count() == 0\n",
    "\n",
    "# prepare\n",
    "county = (\n",
    "  county\n",
    "  .select(\n",
    "    f.col('GEOGRAPHY_CODE').alias('county_code')\n",
    "    , f.col('GEOGRAPHY_NAME').alias('county_name')\n",
    "    , f.col('DATE_OF_TERMINATION').alias('county_dot')\n",
    "    , f.col('PARENT_GEOGRAPHY_CODE').alias('region_code_2')\n",
    "  )\n",
    ")\n",
    "\n",
    "# check\n",
    "#count_var(county, 'county_code'); print()\n",
    "print(county.orderBy('county_code').limit(10).toPandas().to_string()); print()"
   ]
  },
  {
   "cell_type": "markdown",
   "metadata": {
    "application/vnd.databricks.v1+cell": {
     "cellMetadata": {
      "byteLimit": 2048000,
      "rowLimit": 10000
     },
     "inputWidgets": {},
     "nuid": "2259d6fa-8cd2-4b55-9f87-b7a96128df71",
     "showTitle": false,
     "tableResultSettingsMap": {},
     "title": ""
    }
   },
   "source": [
    "### 3.1.5 Region "
   ]
  },
  {
   "cell_type": "code",
   "execution_count": 0,
   "metadata": {
    "application/vnd.databricks.v1+cell": {
     "cellMetadata": {
      "byteLimit": 2048000,
      "rowLimit": 10000
     },
     "inputWidgets": {},
     "nuid": "31c52bd6-5661-4f28-88d8-54235407c7bd",
     "showTitle": false,
     "tableResultSettingsMap": {},
     "title": ""
    }
   },
   "outputs": [],
   "source": [
    "# ENTITY_CODE == E12 relates to Region\n",
    "region = (\n",
    "  geog\n",
    "  .where(f.col('ENTITY_CODE') == 'E12')\n",
    ")  \n",
    "\n",
    "# check\n",
    "#count_var(region, 'GEOGRAPHY_CODE'); print()\n",
    "assert region.count() == 9\n",
    "\n",
    "# prepare\n",
    "region = (\n",
    "  region\n",
    "  .select(\n",
    "    f.col('GEOGRAPHY_CODE').alias('region_code')\n",
    "    , f.col('GEOGRAPHY_NAME').alias('region_name')\n",
    "    , f.col('DATE_OF_TERMINATION').alias('region_dot')\n",
    "  )\n",
    ")\n",
    "\n",
    "# check\n",
    "#count_var(region, 'region_code'); print()\n",
    "print(region.orderBy('region_code').limit(10).toPandas().to_string()); print()"
   ]
  },
  {
   "cell_type": "markdown",
   "metadata": {
    "application/vnd.databricks.v1+cell": {
     "cellMetadata": {
      "byteLimit": 2048000,
      "rowLimit": 10000
     },
     "inputWidgets": {},
     "nuid": "2b1974b6-86b1-4553-8ec1-af142fe4f0a1",
     "showTitle": false,
     "tableResultSettingsMap": {},
     "title": ""
    }
   },
   "source": [
    "## 3.2 Join"
   ]
  },
  {
   "cell_type": "code",
   "execution_count": 0,
   "metadata": {
    "application/vnd.databricks.v1+cell": {
     "cellMetadata": {
      "byteLimit": 2048000,
      "rowLimit": 10000
     },
     "inputWidgets": {},
     "nuid": "f03a5e04-cf0e-4452-b389-9bf0e08572c9",
     "showTitle": false,
     "tableResultSettingsMap": {},
     "title": ""
    }
   },
   "outputs": [],
   "source": [
    "# check\n",
    "#count_var(lsoa, 'lsoa_code'); print()\n",
    "#count_var(msoa, 'msoa_code'); print()\n",
    "#count_var(la, 'la_code'); print()\n",
    "#count_var(county, 'county_code'); print()\n",
    "#count_var(region, 'region_code'); print()\n",
    "\n",
    "\n",
    "print('-----------------------------------------------------------------')\n",
    "print('merge LSOA and MSOA')\n",
    "print('-----------------------------------------------------------------')\n",
    "tmpg1 = merge(lsoa, msoa, ['msoa_code'], validate='m:1', assert_results=['both'], keep_results=['both'], indicator=0); print()\n",
    "\n",
    "\n",
    "print('-----------------------------------------------------------------')\n",
    "print('merge above and LA')\n",
    "print('-----------------------------------------------------------------')\n",
    "# prepare\n",
    "tmpg1 = (\n",
    "  tmpg1\n",
    "  .withColumn('flag_la_code_null', f.when(f.col('la_code').isNull(), 1).otherwise(0))\n",
    ")\n",
    "\n",
    "# merge\n",
    "tmpg2 = merge(tmpg1, la, ['la_code'], validate='m:1', keep_results=['both', 'left_only']); print()\n",
    "\n",
    "# check\n",
    "tmpt = tab(tmpg2, '_merge', 'flag_la_code_null'); print()\n",
    "\n",
    "# tidy\n",
    "tmpg2 = (\n",
    "  tmpg2\n",
    "  .drop('_merge', 'flag_la_code_null')\n",
    ")\n",
    "\n",
    "\n",
    "print('-----------------------------------------------------------------')\n",
    "print('merge above and County')\n",
    "print('-----------------------------------------------------------------')\n",
    "# prepare\n",
    "tmpg2 = (\n",
    "  tmpg2\n",
    "  .withColumn('flag_county_code_null', f.when(f.col('county_code').isNull(), 1).otherwise(0))\n",
    ")\n",
    "\n",
    "# merge\n",
    "tmpg3 = merge(tmpg2, county, ['county_code'], validate='m:1', keep_results=['both', 'left_only']); print()\n",
    "\n",
    "# check\n",
    "tmpt = tab(tmpg3, '_merge', 'flag_county_code_null'); print()\n",
    "\n",
    "# tidy\n",
    "tmpg3 = (\n",
    "  tmpg3\n",
    "  .withColumn('region_code', f.coalesce(f.col('region_code_1'), f.col('region_code_2')))\n",
    "  .drop('_merge', 'flag_county_code_null', 'region_code_1', 'region_code_2')\n",
    ")\n",
    "\n",
    "\n",
    "print('-----------------------------------------------------------------')\n",
    "print('merge above and Region')\n",
    "print('-----------------------------------------------------------------')\n",
    "# prepare\n",
    "tmpg3 = (\n",
    "  tmpg3\n",
    "  .withColumn('flag_region_code_null', f.when(f.col('region_code').isNull(), 1).otherwise(0))\n",
    ")\n",
    "\n",
    "# merge\n",
    "tmpg4 = merge(tmpg3, region, ['region_code'], validate='m:1', keep_results=['both', 'left_only']); print()\n",
    "\n",
    "# check\n",
    "tmpt = tab(tmpg4, '_merge', 'flag_region_code_null'); print()\n",
    "\n",
    "# tidy\n",
    "tmpg5 = (\n",
    "  tmpg4\n",
    "  .drop('_merge', 'flag_region_code_null')\n",
    "  .select(\n",
    "    'lsoa_code', 'lsoa_name', 'lsoa_dot'\n",
    "    , 'msoa_code', 'msoa_name', 'msoa_dot'\n",
    "    , 'la_code', 'la_name', 'la_dot'\n",
    "    , 'county_code', 'county_name', 'county_dot'\n",
    "    , 'region_code', 'region_name', 'region_dot'\n",
    "  )\n",
    "  .orderBy('lsoa_code', 'lsoa_name', 'lsoa_dot', 'msoa_code')\n",
    "  .withColumn('flag_all_dot_null', \n",
    "              f.when(\n",
    "                (f.col('lsoa_dot').isNull())\n",
    "                & (f.col('msoa_dot').isNull()) \n",
    "                & (f.col('la_dot').isNull()) \n",
    "                & (f.col('county_dot').isNull()) \n",
    "                & (f.col('region_dot').isNull())\n",
    "              , 1)\n",
    "              .otherwise(0)\n",
    "             )\n",
    ")\n",
    "\n",
    "# check\n",
    "tmpt = tab(tmpg5, 'flag_all_dot_null'); print()"
   ]
  },
  {
   "cell_type": "code",
   "execution_count": 0,
   "metadata": {
    "application/vnd.databricks.v1+cell": {
     "cellMetadata": {
      "byteLimit": 2048000,
      "rowLimit": 10000
     },
     "inputWidgets": {},
     "nuid": "bf7a924d-6405-418e-a227-5bb80d652989",
     "showTitle": false,
     "tableResultSettingsMap": {},
     "title": ""
    }
   },
   "outputs": [],
   "source": [
    "# check\n",
    "count_varlist(tmpg5, ['lsoa_code'])"
   ]
  },
  {
   "cell_type": "code",
   "execution_count": 0,
   "metadata": {
    "application/vnd.databricks.v1+cell": {
     "cellMetadata": {
      "byteLimit": 2048000,
      "rowLimit": 10000
     },
     "inputWidgets": {},
     "nuid": "b25d21e1-ff21-4187-8874-e30f693f27d2",
     "showTitle": false,
     "tableResultSettingsMap": {},
     "title": ""
    }
   },
   "outputs": [],
   "source": [
    "# check\n",
    "display(tmpg5)"
   ]
  },
  {
   "cell_type": "markdown",
   "metadata": {
    "application/vnd.databricks.v1+cell": {
     "cellMetadata": {
      "byteLimit": 2048000,
      "rowLimit": 10000
     },
     "inputWidgets": {},
     "nuid": "bf32d19a-5c2f-4182-b39b-21585ad5dbd0",
     "showTitle": false,
     "tableResultSettingsMap": {},
     "title": ""
    }
   },
   "source": [
    "## 3.3 Exclude LSOA with missing region"
   ]
  },
  {
   "cell_type": "code",
   "execution_count": 0,
   "metadata": {
    "application/vnd.databricks.v1+cell": {
     "cellMetadata": {
      "byteLimit": 2048000,
      "rowLimit": 10000
     },
     "inputWidgets": {},
     "nuid": "0825e0a7-fd89-4858-9c7d-7bab8768a14c",
     "showTitle": false,
     "tableResultSettingsMap": {},
     "title": ""
    }
   },
   "outputs": [],
   "source": [
    "# filter LSOA with missing region (due to missing LA)\n",
    "\n",
    "# check\n",
    "count_varlist(tmpg5, ['lsoa_code', 'region_name'])\n",
    "\n",
    "# check\n",
    "tmpf = (\n",
    "  tmpg5\n",
    "  .withColumn('la_code_null', f.when(f.col('la_code').isNull(), 1).otherwise(0))\n",
    "  .withColumn('region_name_null', f.when(f.col('region_name').isNull(), 1).otherwise(0))\n",
    ")\n",
    "tmpt = tab(tmpf, 'la_code_null', 'region_name_null'); print()\n",
    "\n",
    "# filter\n",
    "tmpg6 = (\n",
    "  tmpg5\n",
    "  .where(f.col('la_code').isNotNull())\n",
    ")\n",
    "\n",
    "# check\n",
    "count_varlist(tmpg6, ['lsoa_code', 'region_name'])\n",
    "count_varlist(tmpg6, ['lsoa_code'])"
   ]
  },
  {
   "cell_type": "code",
   "execution_count": 0,
   "metadata": {
    "application/vnd.databricks.v1+cell": {
     "cellMetadata": {
      "byteLimit": 2048000,
      "rowLimit": 10000
     },
     "inputWidgets": {},
     "nuid": "7fd27958-94a1-4681-9363-845c36f05dd0",
     "showTitle": false,
     "tableResultSettingsMap": {},
     "title": ""
    }
   },
   "outputs": [],
   "source": [
    "tmpf = (\n",
    "  tmpg5\n",
    "  .where(f.col('la_code').isNull())\n",
    ")\n",
    "tmpt = tab(tmpf, 'msoa_dot'); print()\n",
    "# all msoa_dot 2011-12-30 - old termination date"
   ]
  },
  {
   "cell_type": "code",
   "execution_count": 0,
   "metadata": {
    "application/vnd.databricks.v1+cell": {
     "cellMetadata": {
      "byteLimit": 2048000,
      "rowLimit": 10000
     },
     "inputWidgets": {},
     "nuid": "12e80f62-8ff4-4874-9f8e-2c9e131d6430",
     "showTitle": false,
     "tableResultSettingsMap": {},
     "title": ""
    }
   },
   "outputs": [],
   "source": [
    "# check\n",
    "display(tmpf.orderBy('lsoa_code'))"
   ]
  },
  {
   "cell_type": "code",
   "execution_count": 0,
   "metadata": {
    "application/vnd.databricks.v1+cell": {
     "cellMetadata": {
      "byteLimit": 2048000,
      "rowLimit": 10000
     },
     "inputWidgets": {},
     "nuid": "3b6d82b1-3f0e-460f-a94f-322ce4e04be9",
     "showTitle": false,
     "tableResultSettingsMap": {},
     "title": ""
    }
   },
   "outputs": [],
   "source": [
    "# check\n",
    "display(tmpg5.where(f.col('lsoa_code') == 'E01000019'))"
   ]
  },
  {
   "cell_type": "markdown",
   "metadata": {
    "application/vnd.databricks.v1+cell": {
     "cellMetadata": {
      "byteLimit": 2048000,
      "rowLimit": 10000
     },
     "inputWidgets": {},
     "nuid": "f2d95f64-c5c1-42cf-bbd6-64d4cb1f623d",
     "showTitle": false,
     "tableResultSettingsMap": {},
     "title": ""
    }
   },
   "source": [
    "## 3.4 Exclude LSOA duplicates"
   ]
  },
  {
   "cell_type": "code",
   "execution_count": 0,
   "metadata": {
    "application/vnd.databricks.v1+cell": {
     "cellMetadata": {
      "byteLimit": 2048000,
      "rowLimit": 10000
     },
     "inputWidgets": {},
     "nuid": "9401abea-0d26-4316-8f9f-aa10db2bd800",
     "showTitle": false,
     "tableResultSettingsMap": {},
     "title": ""
    }
   },
   "outputs": [],
   "source": [
    "# check duplicate LSOAs for region conflict\n",
    "w1 = Window\\\n",
    "  .partitionBy('lsoa_code')\\\n",
    "  .orderBy('region_name')\n",
    "w2 = Window\\\n",
    "  .partitionBy('lsoa_code')\n",
    "w3 = Window\\\n",
    "  .partitionBy('lsoa_code')\\\n",
    "  .orderBy('region_name')\\\n",
    "  .rowsBetween(Window.unboundedPreceding, Window.unboundedFollowing)\n",
    "tmpf = (\n",
    "  tmpg6\n",
    "  .withColumn('rownum', f.row_number().over(w1))\n",
    "  .withColumn('rownummax', f.count(f.lit(1)).over(w2))\n",
    "  .withColumn('region_name_lag1', f.lag(f.col('region_name'), 1).over(w1))\n",
    "  .withColumn('region_lag1_diff', f.when(f.col('region_name') != f.col('region_name_lag1'), 1).otherwise(0))\n",
    "  .withColumn('region_name_conflict', f.max(f.col('region_lag1_diff')).over(w3))\n",
    "  .withColumn('region_name_null', f.when(f.col('region_name').isNull(), 1).otherwise(0))\n",
    ")\n",
    "  \n",
    "# check  \n",
    "tmpt = tab(tmpf, 'region_name_null'); print()\n",
    "tmpt = tab(tmpf.where(f.col('rownum') == 1), 'rownummax', 'region_name_conflict'); print()  "
   ]
  },
  {
   "cell_type": "code",
   "execution_count": 0,
   "metadata": {
    "application/vnd.databricks.v1+cell": {
     "cellMetadata": {
      "byteLimit": 2048000,
      "rowLimit": 10000
     },
     "inputWidgets": {},
     "nuid": "e658b19c-3de0-4286-be21-d3ffe5850b38",
     "showTitle": false,
     "tableResultSettingsMap": {},
     "title": ""
    }
   },
   "outputs": [],
   "source": [
    "# select unique LSOA (null DATE_OF_TERMINATION i.e., current)\n",
    "\n",
    "# check\n",
    "w1 = Window\\\n",
    "  .partitionBy('lsoa_code')\\\n",
    "  .orderBy(f.asc_nulls_first('lsoa_dot')) # default\n",
    "w2 = Window\\\n",
    "  .partitionBy('lsoa_code')\n",
    "tmpg7 = (\n",
    "  tmpg6\n",
    "  .withColumn('rownum', f.row_number().over(w1))\n",
    "  .withColumn('rownummax', f.count(f.lit(1)).over(w2))\n",
    "  .withColumn('flag_lsoa_dot_null', f.when(f.col('lsoa_dot').isNull(), 1).otherwise(0))\n",
    "  .withColumn('flag_lsoa_dot_not_null', f.when(f.col('lsoa_dot').isNotNull(), 1).otherwise(0))\n",
    "  .withColumn('sum_lsoa_dot_null', f.sum(f.col('flag_lsoa_dot_null')).over(w2))\n",
    "  .withColumn('sum_lsoa_dot_not_null', f.sum(f.col('flag_lsoa_dot_not_null')).over(w2))\n",
    ")\n",
    "  \n",
    "# check  \n",
    "tmpt = tab(tmpg7, 'flag_lsoa_dot_null', 'flag_lsoa_dot_not_null'); print()\n",
    "tmpt = tab(tmpg7.where(f.col('rownum') == 1), 'rownummax'); print() \n",
    "tmpt = tab(tmpg7.where(f.col('rownum') == 1), 'sum_lsoa_dot_null', 'sum_lsoa_dot_not_null'); print() \n",
    "tmpt = tab(tmpg7.where((f.col('rownum') == 1) & (f.col('rownummax') > 1)), 'sum_lsoa_dot_null', 'sum_lsoa_dot_not_null'); print() \n",
    "\n",
    "# filter\n",
    "tmpg8 = (\n",
    "  tmpg7\n",
    "  .where(f.col('rownum') == 1)\n",
    ")\n",
    "\n",
    "# check  \n",
    "tmpt = tab(tmpg8, 'flag_lsoa_dot_null', 'flag_lsoa_dot_not_null'); print()\n",
    "\n",
    "# tidy\n",
    "tmpg8 = (\n",
    "  tmpg8\n",
    "  .drop('rownum', 'rownummax', 'flag_lsoa_dot_not_null', 'sum_lsoa_dot_null', 'sum_lsoa_dot_not_null')\n",
    ")\n",
    "\n",
    "# check\n",
    "#count_var(tmpg8, 'lsoa_code'); print()\n",
    "tmpt = tab(tmpg8, 'flag_all_dot_null', 'flag_lsoa_dot_null'); print()"
   ]
  },
  {
   "cell_type": "markdown",
   "metadata": {
    "application/vnd.databricks.v1+cell": {
     "cellMetadata": {
      "byteLimit": 2048000,
      "rowLimit": 10000
     },
     "inputWidgets": {},
     "nuid": "8f1f98ae-6615-49f0-8dfb-692146f75e2b",
     "showTitle": false,
     "tableResultSettingsMap": {},
     "title": ""
    }
   },
   "source": [
    "## 3.5 Check"
   ]
  },
  {
   "cell_type": "code",
   "execution_count": 0,
   "metadata": {
    "application/vnd.databricks.v1+cell": {
     "cellMetadata": {
      "byteLimit": 2048000,
      "rowLimit": 10000
     },
     "inputWidgets": {},
     "nuid": "bafe6554-ffd0-4dc8-8031-1a55bf314135",
     "showTitle": false,
     "tableResultSettingsMap": {},
     "title": ""
    }
   },
   "outputs": [],
   "source": [
    "display(tmpg7.where(f.col('rownummax') > 1))"
   ]
  },
  {
   "cell_type": "code",
   "execution_count": 0,
   "metadata": {
    "application/vnd.databricks.v1+cell": {
     "cellMetadata": {
      "byteLimit": 2048000,
      "rowLimit": 10000
     },
     "inputWidgets": {},
     "nuid": "e91e7aca-a2c0-49a0-8183-f4be7967a382",
     "showTitle": false,
     "tableResultSettingsMap": {},
     "title": ""
    }
   },
   "outputs": [],
   "source": [
    "# check\n",
    "display(tmpg8)"
   ]
  },
  {
   "cell_type": "code",
   "execution_count": 0,
   "metadata": {
    "application/vnd.databricks.v1+cell": {
     "cellMetadata": {
      "byteLimit": 2048000,
      "rowLimit": 10000
     },
     "inputWidgets": {},
     "nuid": "0fdc6ab2-2204-4434-be1d-63bd91ad1e11",
     "showTitle": false,
     "tableResultSettingsMap": {},
     "title": ""
    }
   },
   "outputs": [],
   "source": [
    "# check\n",
    "count_var(tmpg8, 'lsoa_code'); print()"
   ]
  },
  {
   "cell_type": "markdown",
   "metadata": {
    "application/vnd.databricks.v1+cell": {
     "cellMetadata": {
      "byteLimit": 2048000,
      "rowLimit": 10000
     },
     "inputWidgets": {},
     "nuid": "a617a6da-00b9-4e66-a6ab-5f917c112a1e",
     "showTitle": false,
     "tableResultSettingsMap": {},
     "title": ""
    }
   },
   "source": [
    "## 3.6 Save"
   ]
  },
  {
   "cell_type": "code",
   "execution_count": 0,
   "metadata": {
    "application/vnd.databricks.v1+cell": {
     "cellMetadata": {
      "byteLimit": 2048000,
      "rowLimit": 10000
     },
     "inputWidgets": {},
     "nuid": "a0f3433b-6e16-429d-9e72-57b2ad2f5862",
     "showTitle": false,
     "tableResultSettingsMap": {},
     "title": ""
    }
   },
   "outputs": [],
   "source": [
    "save_table(df=tmpg8, out_name=f'{proj}_cur_lsoa_region_lookup', save_previous=True, data_base=dsa)"
   ]
  },
  {
   "cell_type": "markdown",
   "metadata": {
    "application/vnd.databricks.v1+cell": {
     "cellMetadata": {
      "byteLimit": 2048000,
      "rowLimit": 10000
     },
     "inputWidgets": {},
     "nuid": "c8ac80cf-fa1e-45c9-9332-606d922e2a58",
     "showTitle": false,
     "tableResultSettingsMap": {},
     "title": ""
    }
   },
   "source": [
    "## 3.7 Appendix: LSOA SQL Function\n",
    "\n",
    "The above code is based on the below SQL function which can also be used to create the LOSA Region Lookup"
   ]
  },
  {
   "cell_type": "markdown",
   "metadata": {
    "application/vnd.databricks.v1+cell": {
     "cellMetadata": {
      "byteLimit": 2048000,
      "rowLimit": 10000
     },
     "inputWidgets": {},
     "nuid": "c8de0e9b-a07f-41b8-8761-d342357171b0",
     "showTitle": false,
     "tableResultSettingsMap": {},
     "title": ""
    }
   },
   "source": [
    "### 3.7.1 Create"
   ]
  },
  {
   "cell_type": "code",
   "execution_count": 0,
   "metadata": {
    "application/vnd.databricks.v1+cell": {
     "cellMetadata": {
      "byteLimit": 2048000,
      "rowLimit": 10000
     },
     "inputWidgets": {},
     "nuid": "ad516126-bbe4-4440-9dda-9d1d55ab93e9",
     "showTitle": false,
     "tableResultSettingsMap": {},
     "title": ""
    }
   },
   "outputs": [],
   "source": [
    "# spark.sql(f\"\"\"\n",
    "#   CREATE or replace global temporary view {proj}_lsoa_region_lookup AS\n",
    "#   with curren_chd_geo_listings as (\n",
    "#     SELECT * \n",
    "#     FROM {path_ref_geog}\n",
    "#     --WHERE IS_CURRENT = 1\n",
    "#   ),\n",
    "#   lsoa_auth as (\n",
    "#     SELECT e01.geography_code as lsoa_code, e01.geography_name lsoa_name, \n",
    "#       e02.geography_code as msoa_code, e02.geography_name as msoa_name, \n",
    "#       e0789.geography_code as authority_code, e0789.geography_name as authority_name,\n",
    "#       e0789.parent_geography_code as authority_parent_geography\n",
    "#     FROM curren_chd_geo_listings e01\n",
    "#     LEFT JOIN curren_chd_geo_listings e02 on e02.geography_code = e01.parent_geography_code\n",
    "#     LEFT JOIN curren_chd_geo_listings e0789 on e0789.geography_code = e02.parent_geography_code\n",
    "#     WHERE e01.geography_code like 'E01%' and e02.geography_code like 'E02%'\n",
    "#   ),\n",
    "#   auth_county as (\n",
    "#     SELECT lsoa_code, lsoa_name,\n",
    "#            msoa_code, msoa_name,\n",
    "#            authority_code, authority_name,\n",
    "#            e10.geography_code as county_code, e10.geography_name as county_name,\n",
    "#            e10.parent_geography_code as parent_geography\n",
    "#     FROM lsoa_auth\n",
    "#     LEFT JOIN dss_corporate.ons_chd_geo_listings e10 on e10.geography_code = lsoa_auth.authority_parent_geography\n",
    "#     WHERE LEFT(authority_parent_geography,3) = 'E10'\n",
    "#   ),\n",
    "#   auth_met_county as (\n",
    "#     SELECT lsoa_code, lsoa_name,\n",
    "#            msoa_code, msoa_name,\n",
    "#            authority_code, authority_name,\n",
    "#            NULL as county_code, NULL as county_name,           \n",
    "#            lsoa_auth.authority_parent_geography as region_code\n",
    "#     FROM lsoa_auth\n",
    "#     WHERE LEFT(authority_parent_geography,3) = 'E12'\n",
    "#   ),\n",
    "#   lsoa_region_code as (\n",
    "#     SELECT lsoa_code, lsoa_name,\n",
    "#            msoa_code, msoa_name,\n",
    "#            authority_code, authority_name,\n",
    "#            county_code, county_name, \n",
    "#            auth_county.parent_geography as region_code\n",
    "#     FROM auth_county\n",
    "#     UNION ALL\n",
    "#     SELECT lsoa_code, lsoa_name,\n",
    "#            msoa_code, msoa_name,\n",
    "#            authority_code, authority_name,\n",
    "#            county_code, county_name, \n",
    "#            region_code \n",
    "#     FROM auth_met_county\n",
    "#   ),\n",
    "#   lsoa_region as (\n",
    "#     SELECT lsoa_code, lsoa_name,\n",
    "#            msoa_code, msoa_name,\n",
    "#            authority_code, authority_name,\n",
    "#            county_code, county_name, \n",
    "#            region_code, e12.geography_name as region_name \n",
    "#     FROM lsoa_region_code\n",
    "#     LEFT JOIN dss_corporate.ons_chd_geo_listings e12 on lsoa_region_code.region_code = e12.geography_code\n",
    "#   )\n",
    "#   SELECT * FROM lsoa_region\n",
    "# \"\"\")"
   ]
  },
  {
   "cell_type": "code",
   "execution_count": 0,
   "metadata": {
    "application/vnd.databricks.v1+cell": {
     "cellMetadata": {
      "byteLimit": 2048000,
      "rowLimit": 10000
     },
     "inputWidgets": {},
     "nuid": "b58fb97f-d0ba-4c28-bbb0-6565701aebc8",
     "showTitle": false,
     "tableResultSettingsMap": {},
     "title": ""
    }
   },
   "outputs": [],
   "source": [
    "# tmp1 = spark.table(f'global_temp.{proj}_lsoa_region_lookup')"
   ]
  },
  {
   "cell_type": "markdown",
   "metadata": {
    "application/vnd.databricks.v1+cell": {
     "cellMetadata": {
      "byteLimit": 2048000,
      "rowLimit": 10000
     },
     "inputWidgets": {},
     "nuid": "978f3ef8-e64c-40d9-9588-fc3becf6e145",
     "showTitle": false,
     "tableResultSettingsMap": {},
     "title": ""
    }
   },
   "source": [
    "### 3.7.2 Check"
   ]
  },
  {
   "cell_type": "code",
   "execution_count": 0,
   "metadata": {
    "application/vnd.databricks.v1+cell": {
     "cellMetadata": {
      "byteLimit": 2048000,
      "rowLimit": 10000
     },
     "inputWidgets": {},
     "nuid": "4292108e-5a52-4508-821e-ef9582e9a574",
     "showTitle": false,
     "tableResultSettingsMap": {},
     "title": ""
    }
   },
   "outputs": [],
   "source": [
    "# display(tmp1)"
   ]
  },
  {
   "cell_type": "code",
   "execution_count": 0,
   "metadata": {
    "application/vnd.databricks.v1+cell": {
     "cellMetadata": {
      "byteLimit": 2048000,
      "rowLimit": 10000
     },
     "inputWidgets": {},
     "nuid": "2e9a3783-d56a-4098-bc35-56d7a7db441a",
     "showTitle": false,
     "tableResultSettingsMap": {},
     "title": ""
    }
   },
   "outputs": [],
   "source": [
    "# count_var(tmp1, 'lsoa_code'); print()"
   ]
  },
  {
   "cell_type": "code",
   "execution_count": 0,
   "metadata": {
    "application/vnd.databricks.v1+cell": {
     "cellMetadata": {
      "byteLimit": 2048000,
      "rowLimit": 10000
     },
     "inputWidgets": {},
     "nuid": "322d0a57-3611-4c8a-ad86-29d82c78e5b1",
     "showTitle": false,
     "tableResultSettingsMap": {},
     "title": ""
    }
   },
   "outputs": [],
   "source": [
    "# # check duplicates\n",
    "# w1 = Window\\\n",
    "#   .partitionBy('lsoa_code')\\\n",
    "#   .orderBy('region_name')\n",
    "# w2 = Window\\\n",
    "#   .partitionBy('lsoa_code')\n",
    "# w3 = Window\\\n",
    "#   .partitionBy('lsoa_code')\\\n",
    "#   .orderBy('region_name')\\\n",
    "#   .rowsBetween(Window.unboundedPreceding, Window.unboundedFollowing)\n",
    "# tmp2 = tmp1\\\n",
    "#   .withColumn('_rownum', f.row_number().over(w1))\\\n",
    "#   .withColumn('_rownummax', f.count('lsoa_code').over(w2))\\\n",
    "#   .withColumn('region_name_lag1', f.lag(f.col('region_name'), 1).over(w1))\\\n",
    "#   .withColumn('region_lag1_diff', f.when(f.col('region_name') != f.col('region_name_lag1'), 1).otherwise(0))\\\n",
    "#   .withColumn('region_name_conflict', f.max(f.col('region_lag1_diff')).over(w3))\\\n",
    "#   .withColumn('region_name_null', f.when(f.col('region_name').isNull(), 1).otherwise(0))\\\n",
    "#   .withColumn('msoa_name_lag1', f.lag(f.col('msoa_name'), 1).over(w1))\\\n",
    "#   .withColumn('msoa_lag1_diff', f.when(f.col('msoa_name') != f.col('msoa_name_lag1'), 1).otherwise(0))\\\n",
    "#   .withColumn('msoa_name_conflict', f.max(f.col('msoa_lag1_diff')).over(w3))\\\n",
    "#   .withColumn('msoa_name_null', f.when(f.col('msoa_name').isNull(), 1).otherwise(0))\n",
    "  \n",
    "# # check  \n",
    "# tmpt = tab(tmp2, 'region_name_null'); print()\n",
    "# tmpt = tab(tmp2.where(f.col('_rownum') == 1), '_rownummax', 'region_name_conflict'); print()  \n",
    "# tmpt = tab(tmp2, 'msoa_name_null'); print()\n",
    "# tmpt = tab(tmp2.where(f.col('_rownum') == 1), '_rownummax', 'msoa_name_conflict'); print()  \n",
    "  \n",
    "  \n",
    "#   .where(f.col('_rownummax') > 1)\n",
    "# display(tmp2)\n",
    "# duplicates are a result of an authority name change - not relevant for this project"
   ]
  },
  {
   "cell_type": "code",
   "execution_count": 0,
   "metadata": {
    "application/vnd.databricks.v1+cell": {
     "cellMetadata": {
      "byteLimit": 2048000,
      "rowLimit": 10000
     },
     "inputWidgets": {},
     "nuid": "88e390d9-9469-4c55-a88d-747027224a27",
     "showTitle": false,
     "tableResultSettingsMap": {},
     "title": ""
    }
   },
   "outputs": [],
   "source": [
    "# display(tmp2.where(f.col('_rownummax') > 1))"
   ]
  },
  {
   "cell_type": "code",
   "execution_count": 0,
   "metadata": {
    "application/vnd.databricks.v1+cell": {
     "cellMetadata": {
      "byteLimit": 2048000,
      "rowLimit": 10000
     },
     "inputWidgets": {},
     "nuid": "23cdd0d4-0383-443e-a6f4-a3ec1a6b83e0",
     "showTitle": false,
     "tableResultSettingsMap": {},
     "title": ""
    }
   },
   "outputs": [],
   "source": [
    "# # 20221212 added MSOA\n",
    "# tmp2 = tmp1\\\n",
    "#   .withColumn('_rownum', f.row_number().over(w1))\\\n",
    "#   .where(f.col('_rownum') == 1)\\\n",
    "#   .select('lsoa_code', 'lsoa_name', 'msoa_code', 'msoa_name', 'region_code', 'region_name')\\\n",
    "#   .withColumnRenamed('lsoa_code', 'LSOA')\\\n",
    "#   .withColumnRenamed('msoa_code', 'MSOA')\\\n",
    "#   .withColumnRenamed('region_name', 'region')\n",
    "\n",
    "# count_var(tmp2, 'LSOA'); print()\n",
    "# count_var(tmp2, 'MSOA'); print()\n",
    "# tmpt = tab(tmp2, 'region'); print()"
   ]
  },
  {
   "cell_type": "markdown",
   "metadata": {
    "application/vnd.databricks.v1+cell": {
     "cellMetadata": {
      "byteLimit": 2048000,
      "rowLimit": 10000
     },
     "inputWidgets": {},
     "nuid": "20c6b9cc-2828-4e5c-a4ab-18a7c978284e",
     "showTitle": false,
     "tableResultSettingsMap": {},
     "title": ""
    }
   },
   "source": [
    "### 3.7.3 Save"
   ]
  },
  {
   "cell_type": "code",
   "execution_count": 0,
   "metadata": {
    "application/vnd.databricks.v1+cell": {
     "cellMetadata": {
      "byteLimit": 2048000,
      "rowLimit": 10000
     },
     "inputWidgets": {},
     "nuid": "102f5704-b49e-4e43-8cc2-970a2e775eb9",
     "showTitle": false,
     "tableResultSettingsMap": {},
     "title": ""
    }
   },
   "outputs": [],
   "source": [
    "# outName = f'{proj}_cur_lsoa_region_lookup'.lower()\n",
    "# tmp2.write.mode('overwrite').saveAsTable(f'{dbc}.{outName}')\n",
    "# spark.sql(f'ALTER TABLE {dbc}.{outName} OWNER TO {dbc}')"
   ]
  },
  {
   "cell_type": "markdown",
   "metadata": {
    "application/vnd.databricks.v1+cell": {
     "cellMetadata": {
      "byteLimit": 2048000,
      "rowLimit": 10000
     },
     "inputWidgets": {},
     "nuid": "c939cd53-534b-47e8-8612-0c968ea3f6c6",
     "showTitle": false,
     "tableResultSettingsMap": {},
     "title": ""
    }
   },
   "source": [
    "# 4. LSOA IMD Lookup"
   ]
  },
  {
   "cell_type": "markdown",
   "metadata": {
    "application/vnd.databricks.v1+cell": {
     "cellMetadata": {
      "byteLimit": 2048000,
      "rowLimit": 10000
     },
     "inputWidgets": {},
     "nuid": "572b9439-d10e-4c80-b7a4-b442efc38cfe",
     "showTitle": false,
     "tableResultSettingsMap": {},
     "title": ""
    }
   },
   "source": [
    "## 4.1 Create"
   ]
  },
  {
   "cell_type": "code",
   "execution_count": 0,
   "metadata": {
    "application/vnd.databricks.v1+cell": {
     "cellMetadata": {
      "byteLimit": 2048000,
      "rowLimit": 10000
     },
     "inputWidgets": {},
     "nuid": "4b7e96ae-7e8c-4a9c-9f55-af1823f7937c",
     "showTitle": false,
     "tableResultSettingsMap": {},
     "title": ""
    }
   },
   "outputs": [],
   "source": [
    "# check\n",
    "print(imd.toPandas().head(5)); print()\n",
    "#count_var(imd, 'LSOA_CODE_2011'); print()\n",
    "ltmpt = tab(imd, 'DECI_IMD', 'IMD_YEAR', var2_unstyled=1); print()\n",
    "\n",
    "# tidy\n",
    "ltmp1 = imd\\\n",
    "  .where(f.col('IMD_YEAR') == 2019)\\\n",
    "  .select('LSOA_CODE_2011', 'DECI_IMD')\\\n",
    "  .withColumnRenamed('LSOA_CODE_2011', 'LSOA')\\\n",
    "  .withColumn('IMD_2019_QUINTILES',\n",
    "    f.when(f.col('DECI_IMD').isin([1,2]), 1)\\\n",
    "     .when(f.col('DECI_IMD').isin([3,4]), 2)\\\n",
    "     .when(f.col('DECI_IMD').isin([5,6]), 3)\\\n",
    "     .when(f.col('DECI_IMD').isin([7,8]), 4)\\\n",
    "     .when(f.col('DECI_IMD').isin([9,10]), 5)\\\n",
    "     .otherwise(None)\\\n",
    "  )\\\n",
    "  .withColumnRenamed('DECI_IMD', 'IMD_2019_DECILES')\n",
    "\n",
    "# check\n",
    "ltmpt = tab(ltmp1, 'IMD_2019_DECILES', 'IMD_2019_QUINTILES', var2_unstyled=1); print()\n",
    "print(ltmp1.toPandas().head(5)); print()"
   ]
  },
  {
   "cell_type": "markdown",
   "metadata": {
    "application/vnd.databricks.v1+cell": {
     "cellMetadata": {
      "byteLimit": 2048000,
      "rowLimit": 10000
     },
     "inputWidgets": {},
     "nuid": "57ca9b12-388b-44b7-8e2d-3cd6981b9662",
     "showTitle": false,
     "tableResultSettingsMap": {},
     "title": ""
    }
   },
   "source": [
    "## 4.2 Save"
   ]
  },
  {
   "cell_type": "code",
   "execution_count": 0,
   "metadata": {
    "application/vnd.databricks.v1+cell": {
     "cellMetadata": {
      "byteLimit": 2048000,
      "rowLimit": 10000
     },
     "inputWidgets": {},
     "nuid": "291f2c59-7dbe-4271-81ea-3f1ae7a302a2",
     "showTitle": false,
     "tableResultSettingsMap": {},
     "title": ""
    }
   },
   "outputs": [],
   "source": [
    "save_table(df=ltmp1, out_name=f'{proj}_cur_lsoa_imd_lookup', save_previous=True, data_base=dsa)"
   ]
  }
 ],
 "metadata": {
  "application/vnd.databricks.v1+notebook": {
   "computePreferences": null,
   "dashboards": [],
   "environmentMetadata": null,
   "language": "python",
   "notebookMetadata": {
    "pythonIndentUnit": 4
   },
   "notebookName": "CCU056-03c-curated_data_lsoa_lookups",
   "widgets": {}
  },
  "language_info": {
   "name": "python"
  }
 },
 "nbformat": 4,
 "nbformat_minor": 0
}
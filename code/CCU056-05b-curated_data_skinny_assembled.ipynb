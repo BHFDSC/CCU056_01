{
 "cells": [
  {
   "cell_type": "markdown",
   "metadata": {
    "application/vnd.databricks.v1+cell": {
     "cellMetadata": {
      "byteLimit": 2048000,
      "rowLimit": 10000
     },
     "inputWidgets": {},
     "nuid": "05c02bf7-b400-47ae-be0a-1d9cb3c118ba",
     "showTitle": false,
     "tableResultSettingsMap": {},
     "title": ""
    }
   },
   "source": [
    "# Curated Data - Skinny\n",
    " \n",
    "**Description** This notebook creates the collpased (selected) version of the skinny (KPC) table.\n",
    "\n",
    "<br>Collapsed (one row per person) extracting the most appropriate KPC (Sex, Ethnicity, DOB) for the study. \n",
    "\n",
    "For this project we select the KPC **that is the most recent (in relation to the study end date)**, regardless of datasource.\n",
    "\n",
    "In case of ties, we prioritise datasources as follows: HES APC, GDPPR, HES Outpatients, HES A&E, NACSA/TAVI.\n",
    "\n",
    "Remaining KPC conflicts (different KPC values which have the same `RECORD_DATE` and the same data source) will be highlighted.\n",
    " \n",
    "**Authors** Tom Bolton, Fionna Chalmers, Anna Stevenson (Health Data Science Team, BHF Data Science Centre)\n",
    "\n",
    "**Reviewers** ⚠ UNREVIEWED\n",
    "\n",
    "**Acknowledgements** Based on CCU002_07 and subsequently CCU003_05-D04-skinny\n",
    "\n",
    "**Notes**\n",
    "\n",
    "**Data Output**\n",
    "- **`ccu056_tmp_kpc_harmonised`** : Skinny unassembled\n",
    "- **`ccu056_tmp_skinny`** : Skinny assembled (selected)"
   ]
  },
  {
   "cell_type": "markdown",
   "metadata": {
    "application/vnd.databricks.v1+cell": {
     "cellMetadata": {
      "byteLimit": 2048000,
      "rowLimit": 10000
     },
     "inputWidgets": {},
     "nuid": "009d5030-6b72-4eb0-b7be-e37eff487805",
     "showTitle": false,
     "tableResultSettingsMap": {},
     "title": ""
    }
   },
   "source": [
    "# 0. Setup"
   ]
  },
  {
   "cell_type": "code",
   "execution_count": 0,
   "metadata": {
    "application/vnd.databricks.v1+cell": {
     "cellMetadata": {
      "byteLimit": 2048000,
      "rowLimit": 10000
     },
     "inputWidgets": {},
     "nuid": "eeae53b8-1534-42a6-924f-34c0979aedfa",
     "showTitle": false,
     "tableResultSettingsMap": {},
     "title": ""
    }
   },
   "outputs": [],
   "source": [
    "spark.sql('CLEAR CACHE')\n",
    "spark.conf.set('spark.sql.legacy.allowCreatingManagedTableUsingNonemptyLocation', 'true')"
   ]
  },
  {
   "cell_type": "code",
   "execution_count": 0,
   "metadata": {
    "application/vnd.databricks.v1+cell": {
     "cellMetadata": {
      "byteLimit": 2048000,
      "rowLimit": 10000
     },
     "inputWidgets": {},
     "nuid": "28e686ad-6c11-4f18-8268-66250b9d1ba8",
     "showTitle": false,
     "tableResultSettingsMap": {},
     "title": ""
    }
   },
   "outputs": [],
   "source": [
    "import pyspark.sql.functions as f\n",
    "import pyspark.sql.types as t\n",
    "from pyspark.sql import Window\n",
    "\n",
    "from functools import reduce\n",
    "\n",
    "import databricks.koalas as ks\n",
    "import pandas as pd\n",
    "import numpy as np\n",
    "\n",
    "import re\n",
    "import io\n",
    "import datetime\n",
    "\n",
    "import matplotlib\n",
    "import matplotlib.pyplot as plt\n",
    "from matplotlib import dates as mdates\n",
    "import seaborn as sns\n",
    "\n",
    "print(\"Matplotlib version: \", matplotlib.__version__)\n",
    "print(\"Seaborn version: \", sns.__version__)\n",
    "_datetimenow = datetime.datetime.now() # .strftime(\"%Y%m%d\")\n",
    "print(f\"_datetimenow:  {_datetimenow}\")"
   ]
  },
  {
   "cell_type": "code",
   "execution_count": 0,
   "metadata": {
    "application/vnd.databricks.v1+cell": {
     "cellMetadata": {
      "byteLimit": 2048000,
      "rowLimit": 10000
     },
     "inputWidgets": {},
     "nuid": "15161897-62f2-47d7-ac39-20d9fb870cc7",
     "showTitle": true,
     "tableResultSettingsMap": {},
     "title": "Common Functions"
    }
   },
   "outputs": [],
   "source": [
    "%run \"/Repos//shds/common/functions\""
   ]
  },
  {
   "cell_type": "code",
   "execution_count": 0,
   "metadata": {
    "application/vnd.databricks.v1+cell": {
     "cellMetadata": {
      "byteLimit": 2048000,
      "rowLimit": 10000
     },
     "inputWidgets": {},
     "nuid": "f853f623-370b-4f6d-9e40-436593854b19",
     "showTitle": true,
     "tableResultSettingsMap": {},
     "title": "Skinny Functions"
    }
   },
   "outputs": [],
   "source": [
    "%run \"/Repos/shds/common/skinny_20221113\""
   ]
  },
  {
   "cell_type": "markdown",
   "metadata": {
    "application/vnd.databricks.v1+cell": {
     "cellMetadata": {
      "byteLimit": 2048000,
      "rowLimit": 10000
     },
     "inputWidgets": {},
     "nuid": "7dc5b947-5c0e-4a4c-ad70-0ef750943a54",
     "showTitle": false,
     "tableResultSettingsMap": {},
     "title": ""
    }
   },
   "source": [
    "# 1. Parameters"
   ]
  },
  {
   "cell_type": "code",
   "execution_count": 0,
   "metadata": {
    "application/vnd.databricks.v1+cell": {
     "cellMetadata": {
      "byteLimit": 2048000,
      "rowLimit": 10000
     },
     "inputWidgets": {},
     "nuid": "0c743758-fec7-4524-905a-4e4789b8d6ba",
     "showTitle": false,
     "tableResultSettingsMap": {},
     "title": ""
    },
    "jupyter": {
     "outputs_hidden": true
    }
   },
   "outputs": [],
   "source": [
    "%run \"./CCU056-01-parameters\""
   ]
  },
  {
   "cell_type": "markdown",
   "metadata": {
    "application/vnd.databricks.v1+cell": {
     "cellMetadata": {
      "byteLimit": 2048000,
      "rowLimit": 10000
     },
     "inputWidgets": {},
     "nuid": "829edede-dd7b-4e5a-addb-9cc8a9caea22",
     "showTitle": false,
     "tableResultSettingsMap": {},
     "title": ""
    }
   },
   "source": [
    "# 2. Data"
   ]
  },
  {
   "cell_type": "code",
   "execution_count": 0,
   "metadata": {
    "application/vnd.databricks.v1+cell": {
     "cellMetadata": {
      "byteLimit": 2048000,
      "rowLimit": 10000
     },
     "inputWidgets": {},
     "nuid": "55354fce-5582-4590-b572-4725c43f0bcd",
     "showTitle": false,
     "tableResultSettingsMap": {},
     "title": ""
    }
   },
   "outputs": [],
   "source": [
    "gdppr   = extract_batch_from_archive(parameters_df_datasets, 'gdppr')\n",
    "hes_apc = extract_batch_from_archive(parameters_df_datasets, 'hes_apc')\n",
    "hes_ae  = extract_batch_from_archive(parameters_df_datasets, 'hes_ae')\n",
    "hes_op  = extract_batch_from_archive(parameters_df_datasets, 'hes_op')"
   ]
  },
  {
   "cell_type": "code",
   "execution_count": 0,
   "metadata": {
    "application/vnd.databricks.v1+cell": {
     "cellMetadata": {
      "byteLimit": 2048000,
      "rowLimit": 10000
     },
     "inputWidgets": {},
     "nuid": "ebd5c221-8051-4e35-bb1b-98bd5ebc9090",
     "showTitle": false,
     "tableResultSettingsMap": {},
     "title": ""
    }
   },
   "outputs": [],
   "source": [
    "acs   = extract_batch_from_archive(parameters_df_datasets, 'nacsa')\n",
    "tavi = extract_batch_from_archive(parameters_df_datasets, 'tavi')"
   ]
  },
  {
   "cell_type": "code",
   "execution_count": 0,
   "metadata": {
    "application/vnd.databricks.v1+cell": {
     "cellMetadata": {
      "byteLimit": 2048000,
      "rowLimit": 10000
     },
     "inputWidgets": {},
     "nuid": "630fd6d6-18f0-47b7-8c09-f39b5024883d",
     "showTitle": false,
     "tableResultSettingsMap": {},
     "title": ""
    }
   },
   "outputs": [],
   "source": [
    "# Main Cohort - needed only if the closest to procedure KPC used instead of the most recent\n",
    "main_cohort = spark.table(f'{dsa}.ccu056_tmp_main_cohort_final')"
   ]
  },
  {
   "cell_type": "code",
   "execution_count": 0,
   "metadata": {
    "application/vnd.databricks.v1+cell": {
     "cellMetadata": {
      "byteLimit": 2048000,
      "rowLimit": 10000
     },
     "inputWidgets": {},
     "nuid": "e1a8765d-e8df-4e2f-b939-f1a0bcccce09",
     "showTitle": false,
     "tableResultSettingsMap": {},
     "title": ""
    }
   },
   "outputs": [],
   "source": [
    "all_unassembled = spark.table(f'{dsa}.{proj}_tmp_all_cases_unassembled')"
   ]
  },
  {
   "cell_type": "code",
   "execution_count": 0,
   "metadata": {
    "application/vnd.databricks.v1+cell": {
     "cellMetadata": {
      "byteLimit": 2048000,
      "rowLimit": 10000
     },
     "inputWidgets": {},
     "nuid": "13783dd3-a414-42d8-9cce-7f80d4f9f351",
     "showTitle": false,
     "tableResultSettingsMap": {},
     "title": ""
    }
   },
   "outputs": [],
   "source": [
    "display(all_unassembled)"
   ]
  },
  {
   "cell_type": "markdown",
   "metadata": {
    "application/vnd.databricks.v1+cell": {
     "cellMetadata": {
      "byteLimit": 2048000,
      "rowLimit": 10000
     },
     "inputWidgets": {},
     "nuid": "20a9c9a2-bd75-411a-a206-2b8c8b4b9495",
     "showTitle": false,
     "tableResultSettingsMap": {},
     "title": ""
    }
   },
   "source": [
    "# 4. Select KPCs"
   ]
  },
  {
   "cell_type": "code",
   "execution_count": 0,
   "metadata": {
    "application/vnd.databricks.v1+cell": {
     "cellMetadata": {
      "byteLimit": 2048000,
      "rowLimit": 10000
     },
     "inputWidgets": {},
     "nuid": "18dcb05a-1fcd-43ca-94a3-d36430972223",
     "showTitle": false,
     "tableResultSettingsMap": {},
     "title": ""
    }
   },
   "outputs": [],
   "source": [
    "# kpc_selected = key_patient_characteristics_select(harmonised=kpc_harmonised)\n",
    "\n",
    "# # temp save (~20 minutes)\n",
    "# save_table(df=kpc_selected, out_name=f'{proj}_tmp_skinny', save_previous=True, data_base=dsa)"
   ]
  },
  {
   "cell_type": "code",
   "execution_count": 0,
   "metadata": {
    "application/vnd.databricks.v1+cell": {
     "cellMetadata": {
      "byteLimit": 2048000,
      "rowLimit": 10000
     },
     "inputWidgets": {},
     "nuid": "c22323f5-9894-4f17-8817-dc6c05ede220",
     "showTitle": false,
     "tableResultSettingsMap": {},
     "title": ""
    }
   },
   "outputs": [],
   "source": [
    "# remove those with missing ID, missing record date, and record date in the future  \n",
    "all_unassembled = (\n",
    "    all_unassembled\n",
    "    .where(f.col('PERSON_ID').isNotNull())\n",
    "    .where(f.col('RECORD_DATE').isNotNull())\n",
    "    .where(f.col('RECORD_DATE') <= f.col('archived_on'))\n",
    "    .withColumn('RECORD_SOURCE_PARENT',\n",
    "                f.when(f.col('RECORD_SOURCE').isin(['nacsa', 'tavi']), \"audits\")\n",
    "                .when(f.col('RECORD_SOURCE').isin(['gdppr']), \"gdppr\")\n",
    "                .when(f.col('RECORD_SOURCE').isin(['hes_apc','hes_op','hes_ae']), \"hes\")\n",
    "                .otherwise(f.lit(None))\n",
    "    )\n",
    ")"
   ]
  },
  {
   "cell_type": "code",
   "execution_count": 0,
   "metadata": {
    "application/vnd.databricks.v1+cell": {
     "cellMetadata": {
      "byteLimit": 2048000,
      "rowLimit": 10000
     },
     "inputWidgets": {},
     "nuid": "dc74e311-9531-4c86-ac05-b60fcabfb07d",
     "showTitle": false,
     "tableResultSettingsMap": {},
     "title": ""
    }
   },
   "outputs": [],
   "source": [
    "# in cases of ties when choosing closest to operate date - apply data priority groups\n",
    "all_unassembled = (all_unassembled\n",
    "        .withColumn('RECORD_SOURCE_group_final',\n",
    "                    f.when(f.col('RECORD_SOURCE') == 'nacsa', 5)\n",
    "                    .when(f.col('RECORD_SOURCE') == 'tavi', 5)\n",
    "                    .when(f.col('RECORD_SOURCE') == 'gdppr', 3)\n",
    "                    .when(f.col('RECORD_SOURCE') == 'gdppr_snomed', 4)\n",
    "                    .when(f.col('RECORD_SOURCE') == 'hes_apc', 1)\n",
    "                    .when(f.col('RECORD_SOURCE') == 'hes_op', 2)\n",
    "                    .when(f.col('RECORD_SOURCE') == 'hes_ae', 2)\n",
    "                    )\n",
    ")"
   ]
  },
  {
   "cell_type": "code",
   "execution_count": 0,
   "metadata": {
    "application/vnd.databricks.v1+cell": {
     "cellMetadata": {
      "byteLimit": 2048000,
      "rowLimit": 10000
     },
     "inputWidgets": {},
     "nuid": "8d8b82dd-e866-4a1b-b71b-12e90c972536",
     "showTitle": false,
     "tableResultSettingsMap": {},
     "title": ""
    }
   },
   "outputs": [],
   "source": [
    "# right now study_end_date is pipeline production date but it will be changed to reflect the chosen study end date as at when\n",
    "study_end_date"
   ]
  },
  {
   "cell_type": "code",
   "execution_count": 0,
   "metadata": {
    "application/vnd.databricks.v1+cell": {
     "cellMetadata": {
      "byteLimit": 2048000,
      "rowLimit": 10000
     },
     "inputWidgets": {},
     "nuid": "1f9cd725-3fa4-453d-b2ce-0a04025e154e",
     "showTitle": false,
     "tableResultSettingsMap": {},
     "title": ""
    }
   },
   "outputs": [],
   "source": [
    "from datetime import datetime, timedelta\n",
    "\n",
    "study_end_date_last = datetime.strptime(study_end_date, \"%Y-%m-%d\") - timedelta(days=1)\n",
    "study_end_date_last = study_end_date_last.strftime(\"%Y-%m-%d\")\n",
    "study_end_date_last #this will be the last date considered so if RECORD_DATE on this then DATE_DIFF is 0\n",
    "\n",
    "import datetime"
   ]
  },
  {
   "cell_type": "code",
   "execution_count": 0,
   "metadata": {
    "application/vnd.databricks.v1+cell": {
     "cellMetadata": {
      "byteLimit": 2048000,
      "rowLimit": 10000
     },
     "inputWidgets": {},
     "nuid": "9dbcb998-c229-497a-bcd6-a12a96d8e688",
     "showTitle": false,
     "tableResultSettingsMap": {},
     "title": ""
    }
   },
   "outputs": [],
   "source": [
    "# Filter for main cohort only - operation date is not needed for KPCS here\n",
    "all_unassembled = (main_cohort.join(all_unassembled,on=\"PERSON_ID\",how=\"left\"))"
   ]
  },
  {
   "cell_type": "code",
   "execution_count": 0,
   "metadata": {
    "application/vnd.databricks.v1+cell": {
     "cellMetadata": {
      "byteLimit": 2048000,
      "rowLimit": 10000
     },
     "inputWidgets": {},
     "nuid": "ed1915ba-493d-49df-a2a3-75d3cb2d6e28",
     "showTitle": false,
     "tableResultSettingsMap": {},
     "title": ""
    }
   },
   "outputs": [],
   "source": [
    "display(all_unassembled)"
   ]
  },
  {
   "cell_type": "code",
   "execution_count": 0,
   "metadata": {
    "application/vnd.databricks.v1+cell": {
     "cellMetadata": {
      "byteLimit": 2048000,
      "rowLimit": 10000
     },
     "inputWidgets": {},
     "nuid": "a3099eb4-6ab2-404f-aaff-37fb4a0cd49d",
     "showTitle": false,
     "tableResultSettingsMap": {},
     "title": ""
    }
   },
   "outputs": [],
   "source": [
    "# instead we need the study end date\n",
    "all_unassembled = (all_unassembled     \n",
    ".withColumn('STUDY_END_DATE',f.date_format(f.lit(study_end_date_last), \"yyyy-MM-dd\"))\n",
    "#remove records after study end date\n",
    ".where(f.col('RECORD_DATE') <= f.col('STUDY_END_DATE')) \n",
    ".withColumn('DATE_DIFF', f.abs(f.datediff(f.col(\"RECORD_DATE\"), f.col(\"STUDY_END_DATE\"))))\n",
    ")"
   ]
  },
  {
   "cell_type": "markdown",
   "metadata": {
    "application/vnd.databricks.v1+cell": {
     "cellMetadata": {
      "byteLimit": 2048000,
      "rowLimit": 10000
     },
     "inputWidgets": {},
     "nuid": "516d6df6-dd3e-41ee-a164-738827231e57",
     "showTitle": false,
     "tableResultSettingsMap": {},
     "title": ""
    }
   },
   "source": [
    "## KPC categories"
   ]
  },
  {
   "cell_type": "code",
   "execution_count": 0,
   "metadata": {
    "application/vnd.databricks.v1+cell": {
     "cellMetadata": {
      "byteLimit": 2048000,
      "rowLimit": 10000
     },
     "inputWidgets": {},
     "nuid": "510748f7-6523-404c-bcb1-d6f20be2039e",
     "showTitle": false,
     "tableResultSettingsMap": {},
     "title": ""
    }
   },
   "outputs": [],
   "source": [
    "ethnic_hes = spark.table(f'dss_corporate.hesf_ethnicity')\n",
    "ethnic_gdppr = spark.table(f'dss_corporate.gdppr_ethnicity')\n",
    "sex_gdppr = spark.table(f'dss_corporate.gdppr_sex')"
   ]
  },
  {
   "cell_type": "markdown",
   "metadata": {
    "application/vnd.databricks.v1+cell": {
     "cellMetadata": {
      "byteLimit": 2048000,
      "rowLimit": 10000
     },
     "inputWidgets": {},
     "nuid": "0d2ed7fe-6590-4de7-91d5-fb70bb5fec38",
     "showTitle": false,
     "tableResultSettingsMap": {},
     "title": ""
    }
   },
   "source": [
    "\n",
    "**For Sex we want to prioritise records that are not null and Not known (null, 0. Not known, 0)**\n",
    "\n",
    "**For ethnicity we want to prioritise records that are not null, blank Not Stated or Unknown, Not Known, Not Given (null, \"\", 9. Unknown, 99, 9, X,  Z)**"
   ]
  },
  {
   "cell_type": "code",
   "execution_count": 0,
   "metadata": {
    "application/vnd.databricks.v1+cell": {
     "cellMetadata": {
      "byteLimit": 2048000,
      "rowLimit": 10000
     },
     "inputWidgets": {},
     "nuid": "bcee8961-bdb3-488b-b2e4-6debd69001ad",
     "showTitle": false,
     "tableResultSettingsMap": {},
     "title": ""
    }
   },
   "outputs": [],
   "source": [
    "display(\n",
    "    all_unassembled.select(\"RECORD_SOURCE_PARENT\",\"SEX\").distinct()\n",
    "    .filter(f.col(\"RECORD_SOURCE_PARENT\").isNotNull())\n",
    "    .join((sex_gdppr.select(f.col(\"Value\").alias(\"SEX\"),f.col(\"Label\").alias(\"SEX_DESC\"))), on=\"SEX\", how=\"left\")\n",
    "    .orderBy(\"RECORD_SOURCE_PARENT\",\"SEX\")\n",
    "    .select(\"RECORD_SOURCE_PARENT\",\"SEX\",\"SEX_DESC\")\n",
    ")"
   ]
  },
  {
   "cell_type": "code",
   "execution_count": 0,
   "metadata": {
    "application/vnd.databricks.v1+cell": {
     "cellMetadata": {
      "byteLimit": 2048000,
      "rowLimit": 10000
     },
     "inputWidgets": {},
     "nuid": "60fe5f5f-593f-45b8-82d3-68a5f031e7e1",
     "showTitle": false,
     "tableResultSettingsMap": {},
     "title": ""
    }
   },
   "outputs": [],
   "source": [
    "ethnicity_codes = (\n",
    "    all_unassembled.select(\"RECORD_SOURCE_PARENT\",\"ETHNIC\").distinct()\n",
    "    .filter(f.col(\"RECORD_SOURCE_PARENT\").isNotNull())\n",
    "    .join((ethnic_gdppr.select(f.col(\"Value\").alias(\"ETHNIC\"),f.col(\"Label\").alias(\"ETHNIC_DESC\"))), on=\"ETHNIC\", how=\"left\")\n",
    "    .withColumn(\"ETHNIC_DESC\", f.when(f.col(\"RECORD_SOURCE_PARENT\") != \"gdppr\", None).otherwise(f.col(\"ETHNIC_DESC\")))\n",
    "    .join((ethnic_hes.select(f.col(\"ETHNICITY_CODE\").alias(\"ETHNIC\"),f.col(\"ETHNICITY_DESCRIPTION\").alias(\"ETHNIC_DESCRIPTION\"))), on=\"ETHNIC\", how=\"left\")\n",
    "    .withColumn(\"ETHNIC_DESCRIPTION\", f.when(f.col(\"RECORD_SOURCE_PARENT\") != \"hes\", None).otherwise(f.col(\"ETHNIC_DESCRIPTION\")))\n",
    "    .withColumn(\"ETHNIC_DESC\", f.when(f.col(\"ETHNIC_DESCRIPTION\").isNotNull(), f.col(\"ETHNIC_DESCRIPTION\")).otherwise(f.col(\"ETHNIC_DESC\")))\n",
    "    .orderBy(\"RECORD_SOURCE_PARENT\",\"ETHNIC\")\n",
    "    .select(\"RECORD_SOURCE_PARENT\",\"ETHNIC\",\"ETHNIC_DESC\")\n",
    ")\n",
    "\n",
    "display(ethnicity_codes)"
   ]
  },
  {
   "cell_type": "code",
   "execution_count": 0,
   "metadata": {
    "application/vnd.databricks.v1+cell": {
     "cellMetadata": {
      "byteLimit": 2048000,
      "rowLimit": 10000
     },
     "inputWidgets": {},
     "nuid": "55346538-9a36-4380-946d-57b6b966669b",
     "showTitle": false,
     "tableResultSettingsMap": {},
     "title": ""
    }
   },
   "outputs": [],
   "source": [
    "save_table(df=ethnicity_codes, out_name=f'{proj}_tmp_ethnicty_codes', save_previous=True, data_base=dsa)"
   ]
  },
  {
   "cell_type": "code",
   "execution_count": 0,
   "metadata": {
    "application/vnd.databricks.v1+cell": {
     "cellMetadata": {
      "byteLimit": 2048000,
      "rowLimit": 10000
     },
     "inputWidgets": {},
     "nuid": "b44198a3-f54e-4101-8ad5-3459a5f09cc4",
     "showTitle": false,
     "tableResultSettingsMap": {},
     "title": ""
    }
   },
   "outputs": [],
   "source": [
    "_ethnic_mapping_snomed_primary = (\n",
    "    spark.table('dss_corporate.gdppr_ethnicity_mappings')\n",
    ")\n",
    "\n",
    "display(_ethnic_mapping_snomed_primary)"
   ]
  },
  {
   "cell_type": "markdown",
   "metadata": {
    "application/vnd.databricks.v1+cell": {
     "cellMetadata": {
      "byteLimit": 2048000,
      "rowLimit": 10000
     },
     "inputWidgets": {},
     "nuid": "c1b6f2b2-89a6-4471-b93b-1e8a02a8ef58",
     "showTitle": false,
     "tableResultSettingsMap": {},
     "title": ""
    }
   },
   "source": [
    "## Priority Groups"
   ]
  },
  {
   "cell_type": "code",
   "execution_count": 0,
   "metadata": {
    "application/vnd.databricks.v1+cell": {
     "cellMetadata": {
      "byteLimit": 2048000,
      "rowLimit": 10000
     },
     "inputWidgets": {},
     "nuid": "69cd3cf1-8cf7-4f2a-bf17-fe0c95041146",
     "showTitle": true,
     "tableResultSettingsMap": {},
     "title": "Deprioritise Not Stated/Known/Given, Unknown, blank and null values"
    }
   },
   "outputs": [],
   "source": [
    "all_unassembled = (\n",
    "    all_unassembled\n",
    "    .withColumn('DOB_null',\n",
    "      f.when(\n",
    "        (f.col('DOB').isNull())\n",
    "        | (f.trim(f.col('DOB')).isin(['']))\n",
    "        | (f.col('DOB') < '1900-01-01')\n",
    "        | (f.col('DOB') > f.col('archived_on'))\n",
    "        | (f.col('DOB') > f.col('RECORD_DATE'))\n",
    "      , 1).otherwise(0)\n",
    "    )\n",
    "    .withColumn('SEX_null',\n",
    "      f.when( (f.col('SEX').isNull()) | (f.trim(f.col('SEX')).isin(['', '0. Not known', '0'])), 1).otherwise(0)\n",
    "    )\n",
    "    .withColumn('ETHNIC_null',\n",
    "      f.when( (f.col('ETHNIC').isNull()) | (f.trim(f.col('ETHNIC')).isin(['', '9', '9. Unknown', '99', 'X', 'Z'])), 1).otherwise(0)\n",
    "    )\n",
    ")\n"
   ]
  },
  {
   "cell_type": "code",
   "execution_count": 0,
   "metadata": {
    "application/vnd.databricks.v1+cell": {
     "cellMetadata": {
      "byteLimit": 2048000,
      "rowLimit": 10000
     },
     "inputWidgets": {},
     "nuid": "aeb39df8-7a92-4fb9-969f-e66e51dbaffe",
     "showTitle": false,
     "tableResultSettingsMap": {},
     "title": ""
    }
   },
   "outputs": [],
   "source": [
    "display(all_unassembled)"
   ]
  },
  {
   "cell_type": "code",
   "execution_count": 0,
   "metadata": {
    "application/vnd.databricks.v1+cell": {
     "cellMetadata": {
      "byteLimit": 2048000,
      "rowLimit": 10000
     },
     "inputWidgets": {},
     "nuid": "9afcd1c5-a719-45b7-8dfe-adceaa95eeaa",
     "showTitle": false,
     "tableResultSettingsMap": {},
     "title": ""
    }
   },
   "outputs": [],
   "source": [
    "# check\n",
    "display(all_unassembled.filter(f.col(\"SEX_null\")==1).select(\"SEX\").distinct())"
   ]
  },
  {
   "cell_type": "code",
   "execution_count": 0,
   "metadata": {
    "application/vnd.databricks.v1+cell": {
     "cellMetadata": {
      "byteLimit": 2048000,
      "rowLimit": 10000
     },
     "inputWidgets": {},
     "nuid": "4532a7d7-642a-4ce9-8caf-090a057acd80",
     "showTitle": false,
     "tableResultSettingsMap": {},
     "title": ""
    }
   },
   "outputs": [],
   "source": [
    "# check\n",
    "display(all_unassembled.filter(f.col(\"ETHNIC_null\")==1).select(\"ETHNIC\").distinct())"
   ]
  },
  {
   "cell_type": "code",
   "execution_count": 0,
   "metadata": {
    "application/vnd.databricks.v1+cell": {
     "cellMetadata": {
      "byteLimit": 2048000,
      "rowLimit": 10000
     },
     "inputWidgets": {},
     "nuid": "da84c30a-32b4-4fd1-ac4a-7a64e2791825",
     "showTitle": true,
     "tableResultSettingsMap": {},
     "title": "Data Source Priority Groups"
    }
   },
   "outputs": [],
   "source": [
    "all_unassembled = (all_unassembled\n",
    "        .withColumn('RECORD_SOURCE_DOB_group',\n",
    "                    f.when(f.col('RECORD_SOURCE') == 'nacsa', 4)\n",
    "                    .when(f.col('RECORD_SOURCE') == 'tavi', 4)\n",
    "                    .when(f.col('RECORD_SOURCE') == 'gdppr', 2)\n",
    "                    .when(f.col('RECORD_SOURCE') == 'gdppr_snomed', 3)\n",
    "                    .when(f.col('RECORD_SOURCE') == 'hes_apc', 1)\n",
    "                    .when(f.col('RECORD_SOURCE') == 'hes_op', 5)\n",
    "                    .when(f.col('RECORD_SOURCE') == 'hes_ae', 5)\n",
    "                    )\n",
    "        .withColumn('RECORD_SOURCE_group',\n",
    "                    f.when(f.col('RECORD_SOURCE') == 'nacsa', 5)\n",
    "                    .when(f.col('RECORD_SOURCE') == 'tavi', 5)\n",
    "                    .when(f.col('RECORD_SOURCE') == 'gdppr', 3)\n",
    "                    .when(f.col('RECORD_SOURCE') == 'gdppr_snomed', 4)\n",
    "                    .when(f.col('RECORD_SOURCE') == 'hes_apc', 1)\n",
    "                    .when(f.col('RECORD_SOURCE') == 'hes_op', 2)\n",
    "                    .when(f.col('RECORD_SOURCE') == 'hes_ae', 2)\n",
    "                    )\n",
    "        .withColumn('RECORD_SOURCE_group_final',\n",
    "                    f.when(f.col('RECORD_SOURCE') == 'nacsa', 6)\n",
    "                    .when(f.col('RECORD_SOURCE') == 'tavi', 6)\n",
    "                    .when(f.col('RECORD_SOURCE') == 'gdppr', 4)\n",
    "                    .when(f.col('RECORD_SOURCE') == 'gdppr_snomed', 5)\n",
    "                    .when(f.col('RECORD_SOURCE') == 'hes_apc', 1)\n",
    "                    .when(f.col('RECORD_SOURCE') == 'hes_op', 2)\n",
    "                    .when(f.col('RECORD_SOURCE') == 'hes_ae', 3)\n",
    "                    )\n",
    ")"
   ]
  },
  {
   "cell_type": "code",
   "execution_count": 0,
   "metadata": {
    "application/vnd.databricks.v1+cell": {
     "cellMetadata": {
      "byteLimit": 2048000,
      "rowLimit": 10000
     },
     "inputWidgets": {},
     "nuid": "44482720-ed51-4da5-a7ab-56953a960a9c",
     "showTitle": true,
     "tableResultSettingsMap": {},
     "title": "Priority group row mumbers"
    }
   },
   "outputs": [],
   "source": [
    "  # define windows for row numbers\n",
    "  _win_rownum_DOB = (\n",
    "    Window\n",
    "    .partitionBy('PERSON_ID')\\\n",
    "    .orderBy(['DOB_null', 'DATE_DIFF', 'RECORD_SOURCE_DOB_group', 'RECORD_ID', 'RECORD_SOURCE_group_final']))\n",
    "  _win_rownum_SEX = (\n",
    "    Window\n",
    "    .partitionBy('PERSON_ID')\n",
    "    .orderBy(['SEX_null', 'DATE_DIFF', 'RECORD_SOURCE_group', 'RECORD_ID', 'RECORD_SOURCE_group_final']))\n",
    "  _win_rownum_ETHNIC = (\n",
    "    Window\n",
    "    .partitionBy('PERSON_ID')\n",
    "    .orderBy(['ETHNIC_null', 'DATE_DIFF', 'RECORD_SOURCE_group', 'RECORD_ID', 'RECORD_SOURCE_group_final']))\n",
    "  \n",
    "all_unassembled = (all_unassembled\n",
    "    .withColumn('_rownum_DOB', f.row_number().over(_win_rownum_DOB))\n",
    "    .withColumn('_rownum_SEX', f.row_number().over(_win_rownum_SEX))\n",
    "    .withColumn('_rownum_ETHNIC', f.row_number().over(_win_rownum_ETHNIC))\n",
    "    )\n",
    "\n",
    "display(all_unassembled)\n"
   ]
  },
  {
   "cell_type": "code",
   "execution_count": 0,
   "metadata": {
    "application/vnd.databricks.v1+cell": {
     "cellMetadata": {
      "byteLimit": 2048000,
      "rowLimit": 10000
     },
     "inputWidgets": {},
     "nuid": "3cb3d666-239d-4009-ab1e-c1e32791c3a4",
     "showTitle": true,
     "tableResultSettingsMap": {},
     "title": "Ties - cases where there is more than one KPC as at the closest date"
    }
   },
   "outputs": [],
   "source": [
    "\n",
    "  \n",
    "varlist = ['DOB', 'SEX', 'ETHNIC']\n",
    "  \n",
    "for ind, var in enumerate(varlist):\n",
    "    record_source = 'RECORD_SOURCE_group'\n",
    "    if(var == 'DOB'): record_source = 'RECORD_SOURCE_DOB_group'\n",
    "    # define window for tied records\n",
    "    _win_tie = (Window\n",
    "      .partitionBy('PERSON_ID')\n",
    "      .orderBy(f'{var}_null', record_source, 'DATE_DIFF')\n",
    "      )\n",
    "      \n",
    "    # count distinct values of var (including null) within tied records\n",
    "    _tie = (\n",
    "      all_unassembled\n",
    "      .withColumn(f'_tie_{var}', f.dense_rank().over(_win_tie))\n",
    "      .where(f.col(f'_tie_{var}') == 1)\n",
    "      .groupBy('PERSON_ID')\n",
    "      .agg(\n",
    "        f.countDistinct(f.col(f'{var}')).alias(f'_n_distinct_{var}')\n",
    "        , f.countDistinct(f.when(f.col(f'{var}').isNull(), 1)).alias(f'_null_{var}')\n",
    "      )\n",
    "      .withColumn(f'_tie_{var}', f.when((f.col(f'_n_distinct_{var}') + f.col(f'_null_{var}')) > 1, 1).otherwise(0))\n",
    "      .select('PERSON_ID', f'_tie_{var}'))\n",
    "  \n",
    "    if(ind == 0): _tmp_ties = _tie\n",
    "    else: _tmp_ties = (_tmp_ties.join(_tie, on=['PERSON_ID'], how='outer'))"
   ]
  },
  {
   "cell_type": "code",
   "execution_count": 0,
   "metadata": {
    "application/vnd.databricks.v1+cell": {
     "cellMetadata": {
      "byteLimit": 2048000,
      "rowLimit": 10000
     },
     "inputWidgets": {},
     "nuid": "1c1b35d0-0ebf-43f5-ab9b-c0b4ec9390d4",
     "showTitle": false,
     "tableResultSettingsMap": {},
     "title": ""
    }
   },
   "outputs": [],
   "source": [
    "display(_tmp_ties)"
   ]
  },
  {
   "cell_type": "code",
   "execution_count": 0,
   "metadata": {
    "application/vnd.databricks.v1+cell": {
     "cellMetadata": {
      "byteLimit": 2048000,
      "rowLimit": 10000
     },
     "inputWidgets": {},
     "nuid": "d8bd60bb-90a6-402a-bcd3-c7648ca3b90f",
     "showTitle": false,
     "tableResultSettingsMap": {},
     "title": ""
    }
   },
   "outputs": [],
   "source": [
    "  # take information from the first row identified above\n",
    "_tmp_selected = {}\n",
    "for var in varlist:\n",
    "    _tmp = (\n",
    "      all_unassembled\n",
    "      .select('PERSON_ID', 'RECORD_DATE', 'RECORD_SOURCE', f'{var}', f'_rownum_{var}')\n",
    "      .where(f.col(f'_rownum_{var}') == 1)\n",
    "      .withColumnRenamed('RECORD_DATE', f'_date_{var}')\n",
    "      .withColumnRenamed('RECORD_SOURCE', f'_source_{var}')\n",
    "      .select('PERSON_ID', f'{var}', f'_date_{var}', f'_source_{var}'))\n",
    "    _tmp_selected[f'{var}'] = _tmp\n",
    "\n",
    "_selected = (\n",
    "    _tmp_selected['DOB']\n",
    "    .join(_tmp_selected['SEX'], on=['PERSON_ID'], how='outer')\n",
    "    .join(_tmp_selected['ETHNIC'], on=['PERSON_ID'], how='outer')\n",
    "    .join(_tmp_ties, on=['PERSON_ID'], how='outer')\n",
    "    .select('PERSON_ID', 'DOB', 'SEX', 'ETHNIC'\n",
    "            , '_date_DOB', '_source_DOB', '_tie_DOB'\n",
    "            , '_date_SEX', '_source_SEX', '_tie_SEX'\n",
    "            , '_date_ETHNIC', '_source_ETHNIC', '_tie_ETHNIC'))"
   ]
  },
  {
   "cell_type": "code",
   "execution_count": 0,
   "metadata": {
    "application/vnd.databricks.v1+cell": {
     "cellMetadata": {
      "byteLimit": 2048000,
      "rowLimit": 10000
     },
     "inputWidgets": {},
     "nuid": "3c199b94-6b0d-47b4-a265-0dee3a5efcee",
     "showTitle": false,
     "tableResultSettingsMap": {},
     "title": ""
    }
   },
   "outputs": [],
   "source": [
    "display(_selected)"
   ]
  },
  {
   "cell_type": "code",
   "execution_count": 0,
   "metadata": {
    "application/vnd.databricks.v1+cell": {
     "cellMetadata": {
      "byteLimit": 2048000,
      "rowLimit": 10000
     },
     "inputWidgets": {},
     "nuid": "40c46314-22bf-4033-859d-12b51c90c1bd",
     "showTitle": false,
     "tableResultSettingsMap": {},
     "title": ""
    }
   },
   "outputs": [],
   "source": [
    "display(_selected.filter(f.col(\"PERSON_ID\")==\"7ND1SU07F76LLQZ\"))"
   ]
  },
  {
   "cell_type": "code",
   "execution_count": 0,
   "metadata": {
    "application/vnd.databricks.v1+cell": {
     "cellMetadata": {
      "byteLimit": 2048000,
      "rowLimit": 10000
     },
     "inputWidgets": {},
     "nuid": "f3e7347b-9e7f-4b7b-84be-638c0d4e8f3e",
     "showTitle": false,
     "tableResultSettingsMap": {},
     "title": ""
    }
   },
   "outputs": [],
   "source": [
    "save_table(df=_selected, out_name=f'{proj}_tmp_all_cases_selected', save_previous=True, data_base=dsa)"
   ]
  },
  {
   "cell_type": "code",
   "execution_count": 0,
   "metadata": {
    "application/vnd.databricks.v1+cell": {
     "cellMetadata": {
      "byteLimit": 2048000,
      "rowLimit": 10000
     },
     "inputWidgets": {},
     "nuid": "cd8f407f-6d1b-42d2-9c6c-137113309d76",
     "showTitle": false,
     "tableResultSettingsMap": {},
     "title": ""
    }
   },
   "outputs": [],
   "source": [
    "display(_selected.groupBy(\"_tie_ETHNIC\").count())"
   ]
  },
  {
   "cell_type": "code",
   "execution_count": 0,
   "metadata": {
    "application/vnd.databricks.v1+cell": {
     "cellMetadata": {
      "byteLimit": 2048000,
      "rowLimit": 10000
     },
     "inputWidgets": {},
     "nuid": "826f7301-314c-4568-bdb9-c443245d2986",
     "showTitle": false,
     "tableResultSettingsMap": {},
     "title": ""
    }
   },
   "outputs": [],
   "source": [
    "display(_selected.groupBy(\"_tie_SEX\").count())"
   ]
  },
  {
   "cell_type": "code",
   "execution_count": 0,
   "metadata": {
    "application/vnd.databricks.v1+cell": {
     "cellMetadata": {
      "byteLimit": 2048000,
      "rowLimit": 10000
     },
     "inputWidgets": {},
     "nuid": "b0d2217c-b646-4417-b51c-3aa88e8ce793",
     "showTitle": false,
     "tableResultSettingsMap": {},
     "title": ""
    }
   },
   "outputs": [],
   "source": [
    "display(_selected.groupBy(\"_tie_DOB\").count())"
   ]
  },
  {
   "cell_type": "markdown",
   "metadata": {
    "application/vnd.databricks.v1+cell": {
     "cellMetadata": {
      "byteLimit": 2048000,
      "rowLimit": 10000
     },
     "inputWidgets": {},
     "nuid": "723f899d-6f18-4ed5-9312-a99a4b8715e1",
     "showTitle": false,
     "tableResultSettingsMap": {},
     "title": ""
    }
   },
   "source": [
    "# 5. Sensitivity Analysis"
   ]
  },
  {
   "cell_type": "markdown",
   "metadata": {
    "application/vnd.databricks.v1+cell": {
     "cellMetadata": {
      "byteLimit": 2048000,
      "rowLimit": 10000
     },
     "inputWidgets": {},
     "nuid": "5fe54bf3-c02e-4823-96ec-70221e7037d5",
     "showTitle": false,
     "tableResultSettingsMap": {},
     "title": ""
    }
   },
   "source": [
    "Rerunning the above selection process for Sex as at the closest to proceudre date to access how many people have a different Sex value as at the date of operation to the most current."
   ]
  },
  {
   "cell_type": "code",
   "execution_count": 0,
   "metadata": {
    "application/vnd.databricks.v1+cell": {
     "cellMetadata": {
      "byteLimit": 2048000,
      "rowLimit": 10000
     },
     "inputWidgets": {},
     "nuid": "eac7e3c1-3534-4bd1-a30a-9e2a53d56edc",
     "showTitle": false,
     "tableResultSettingsMap": {},
     "title": ""
    }
   },
   "outputs": [],
   "source": [
    "all_unassembled_sex = (\n",
    "    spark.table(f'{dsa}.{proj}_tmp_all_cases_unassembled')\n",
    "    .drop(\"ETHNIC\",\"CODE\",\"DOB\")\n",
    "    \n",
    ")\n",
    "\n",
    "display(all_unassembled_sex)"
   ]
  },
  {
   "cell_type": "code",
   "execution_count": 0,
   "metadata": {
    "application/vnd.databricks.v1+cell": {
     "cellMetadata": {
      "byteLimit": 2048000,
      "rowLimit": 10000
     },
     "inputWidgets": {},
     "nuid": "c3bdda68-5fb7-43ec-8975-838744ace081",
     "showTitle": false,
     "tableResultSettingsMap": {},
     "title": ""
    }
   },
   "outputs": [],
   "source": [
    "# remove those with missing ID, missing record date, and record date in the future  \n",
    "all_unassembled_sex = (\n",
    "    all_unassembled_sex\n",
    "    .where(f.col('PERSON_ID').isNotNull())\n",
    "    .where(f.col('RECORD_DATE').isNotNull())\n",
    "    .where(f.col('RECORD_DATE') <= f.col('archived_on'))\n",
    "    .withColumn('RECORD_SOURCE_PARENT',\n",
    "                f.when(f.col('RECORD_SOURCE').isin(['nacsa', 'tavi']), \"audits\")\n",
    "                .when(f.col('RECORD_SOURCE').isin(['gdppr']), \"gdppr\")\n",
    "                .when(f.col('RECORD_SOURCE').isin(['hes_apc','hes_op','hes_ae']), \"hes\")\n",
    "                .otherwise(f.lit(None))\n",
    "    )\n",
    ")\n",
    "\n",
    "\n",
    "# in cases of ties when choosing closest to operate date - apply data priority groups\n",
    "all_unassembled_sex = (all_unassembled_sex\n",
    "        .withColumn('RECORD_SOURCE_group_final',\n",
    "                    f.when(f.col('RECORD_SOURCE') == 'nacsa', 5)\n",
    "                    .when(f.col('RECORD_SOURCE') == 'tavi', 5)\n",
    "                    .when(f.col('RECORD_SOURCE') == 'gdppr', 3)\n",
    "                    .when(f.col('RECORD_SOURCE') == 'gdppr_snomed', 4)\n",
    "                    .when(f.col('RECORD_SOURCE') == 'hes_apc', 1)\n",
    "                    .when(f.col('RECORD_SOURCE') == 'hes_op', 2)\n",
    "                    .when(f.col('RECORD_SOURCE') == 'hes_ae', 2)\n",
    "                    )\n",
    ")\n",
    "\n",
    "\n",
    "# Filter for main cohort only - operation date is not needed for KPCS here\n",
    "all_unassembled_sex = (main_cohort.join(all_unassembled_sex,on=\"PERSON_ID\",how=\"left\"))\n",
    "\n",
    "\n",
    "# instead we need the study end date\n",
    "all_unassembled_sex = (all_unassembled_sex\n",
    ".withColumn('OPERATION_DATE',f.date_format(f.col(\"OPERATION_DATE\"), \"yyyy-MM-dd\"))\n",
    ".withColumn('DATE_DIFF', f.abs(f.datediff(f.col(\"RECORD_DATE\"), f.col(\"OPERATION_DATE\"))))\n",
    ")\n",
    "\n",
    "\n",
    "\n",
    "all_unassembled_sex = (\n",
    "    all_unassembled_sex\n",
    "    .withColumn('SEX_null',\n",
    "      f.when( (f.col('SEX').isNull()) | (f.trim(f.col('SEX')).isin(['', '0. Not known', '0'])), 1).otherwise(0)\n",
    "    )\n",
    ")\n",
    "\n",
    "\n",
    "\n",
    "\n",
    "\n",
    "all_unassembled_sex = (all_unassembled_sex\n",
    "\n",
    "        .withColumn('RECORD_SOURCE_group',\n",
    "                    f.when(f.col('RECORD_SOURCE') == 'nacsa', 5)\n",
    "                    .when(f.col('RECORD_SOURCE') == 'tavi', 5)\n",
    "                    .when(f.col('RECORD_SOURCE') == 'gdppr', 3)\n",
    "                    .when(f.col('RECORD_SOURCE') == 'gdppr_snomed', 4)\n",
    "                    .when(f.col('RECORD_SOURCE') == 'hes_apc', 1)\n",
    "                    .when(f.col('RECORD_SOURCE') == 'hes_op', 2)\n",
    "                    .when(f.col('RECORD_SOURCE') == 'hes_ae', 2)\n",
    "                    )\n",
    "        .withColumn('RECORD_SOURCE_group_final',\n",
    "                    f.when(f.col('RECORD_SOURCE') == 'nacsa', 6)\n",
    "                    .when(f.col('RECORD_SOURCE') == 'tavi', 6)\n",
    "                    .when(f.col('RECORD_SOURCE') == 'gdppr', 4)\n",
    "                    .when(f.col('RECORD_SOURCE') == 'gdppr_snomed', 5)\n",
    "                    .when(f.col('RECORD_SOURCE') == 'hes_apc', 1)\n",
    "                    .when(f.col('RECORD_SOURCE') == 'hes_op', 2)\n",
    "                    .when(f.col('RECORD_SOURCE') == 'hes_ae', 3)\n",
    "                    )\n",
    ")\n",
    "\n",
    "\n",
    "\n",
    "\n",
    "  # define windows for row numbers\n",
    "_win_rownum_SEX = (\n",
    "    Window\n",
    "    .partitionBy('PERSON_ID')\n",
    "    .orderBy(['SEX_null', 'RECORD_SOURCE_group', 'DATE_DIFF', 'RECORD_ID', 'RECORD_SOURCE_group_final']))\n",
    "\n",
    "  \n",
    "all_unassembled_sex = (all_unassembled_sex\n",
    "\n",
    "    .withColumn('_rownum_SEX', f.row_number().over(_win_rownum_SEX))\n",
    "\n",
    "    )"
   ]
  },
  {
   "cell_type": "code",
   "execution_count": 0,
   "metadata": {
    "application/vnd.databricks.v1+cell": {
     "cellMetadata": {
      "byteLimit": 2048000,
      "rowLimit": 10000
     },
     "inputWidgets": {},
     "nuid": "010a6a61-6179-4c22-9cb6-dbb95ac7af3f",
     "showTitle": false,
     "tableResultSettingsMap": {},
     "title": ""
    }
   },
   "outputs": [],
   "source": [
    "varlist = ['SEX']\n",
    "  \n",
    "for ind, var in enumerate(varlist):\n",
    "    record_source = 'RECORD_SOURCE_group'\n",
    "    # define window for tied records\n",
    "    _win_tie = (Window\n",
    "      .partitionBy('PERSON_ID')\n",
    "      .orderBy(f'{var}_null', record_source, 'DATE_DIFF')\n",
    "      )\n",
    "      \n",
    "    # count distinct values of var (including null) within tied records\n",
    "    _tie = (\n",
    "      all_unassembled_sex\n",
    "      .withColumn(f'_tie_{var}', f.dense_rank().over(_win_tie))\n",
    "      .where(f.col(f'_tie_{var}') == 1)\n",
    "      .groupBy('PERSON_ID')\n",
    "      .agg(\n",
    "        f.countDistinct(f.col(f'{var}')).alias(f'_n_distinct_{var}')\n",
    "        , f.countDistinct(f.when(f.col(f'{var}').isNull(), 1)).alias(f'_null_{var}')\n",
    "      )\n",
    "      .withColumn(f'_tie_{var}', f.when((f.col(f'_n_distinct_{var}') + f.col(f'_null_{var}')) > 1, 1).otherwise(0))\n",
    "      .select('PERSON_ID', f'_tie_{var}'))\n",
    "  \n",
    "    if(ind == 0): _tmp_ties = _tie\n",
    "    else: _tmp_ties = (_tmp_ties.join(_tie, on=['PERSON_ID'], how='outer'))\n",
    "\n",
    "\n",
    "\n",
    "      # take information from the first row identified above\n",
    "_tmp_selected = {}\n",
    "for var in varlist:\n",
    "    _tmp = (\n",
    "      all_unassembled_sex\n",
    "      .select('PERSON_ID', 'RECORD_DATE', 'RECORD_SOURCE', f'{var}', f'_rownum_{var}')\n",
    "      .where(f.col(f'_rownum_{var}') == 1)\n",
    "      .withColumnRenamed('RECORD_DATE', f'_date_{var}')\n",
    "      .withColumnRenamed('RECORD_SOURCE', f'_source_{var}')\n",
    "      .select('PERSON_ID', f'{var}', f'_date_{var}', f'_source_{var}'))\n",
    "    _tmp_selected[f'{var}'] = _tmp\n",
    "\n",
    "display(\n",
    "    _tmp_selected['SEX'])"
   ]
  },
  {
   "cell_type": "code",
   "execution_count": 0,
   "metadata": {
    "application/vnd.databricks.v1+cell": {
     "cellMetadata": {
      "byteLimit": 2048000,
      "rowLimit": 10000
     },
     "inputWidgets": {},
     "nuid": "4d624763-5463-48ec-9677-35999ef5686f",
     "showTitle": false,
     "tableResultSettingsMap": {},
     "title": ""
    }
   },
   "outputs": [],
   "source": [
    "# _selected = (\n",
    "#     _tmp_selected['SEX'].select('PERSON_ID',  'SEX', '_date_SEX', '_source_SEX', '_tie_SEX')\n",
    "#     )"
   ]
  },
  {
   "cell_type": "code",
   "execution_count": 0,
   "metadata": {
    "application/vnd.databricks.v1+cell": {
     "cellMetadata": {
      "byteLimit": 2048000,
      "rowLimit": 10000
     },
     "inputWidgets": {},
     "nuid": "b811b6fd-b6d4-4040-a359-59b0dbee66bd",
     "showTitle": false,
     "tableResultSettingsMap": {},
     "title": ""
    }
   },
   "outputs": [],
   "source": [
    "display(\n",
    "    _tmp_selected['SEX'].groupBy(\"PERSON_ID\").count().filter(f.col(\"count\")>1)\n",
    "    )"
   ]
  },
  {
   "cell_type": "code",
   "execution_count": 0,
   "metadata": {
    "application/vnd.databricks.v1+cell": {
     "cellMetadata": {
      "byteLimit": 2048000,
      "rowLimit": 10000
     },
     "inputWidgets": {},
     "nuid": "a5a37d6e-43f7-4cb9-b841-3e4be10a77de",
     "showTitle": false,
     "tableResultSettingsMap": {},
     "title": ""
    }
   },
   "outputs": [],
   "source": [
    "save_table(df=_tmp_selected['SEX'], out_name=f'{proj}_tmp_all_cases_selected_sex', save_previous=True, data_base=dsa)"
   ]
  },
  {
   "cell_type": "code",
   "execution_count": 0,
   "metadata": {
    "application/vnd.databricks.v1+cell": {
     "cellMetadata": {
      "byteLimit": 2048000,
      "rowLimit": 10000
     },
     "inputWidgets": {},
     "nuid": "8e9def34-61a2-4e79-9fe4-1d20d30458aa",
     "showTitle": false,
     "tableResultSettingsMap": {},
     "title": ""
    }
   },
   "outputs": [],
   "source": [
    "display(_selected)"
   ]
  }
 ],
 "metadata": {
  "application/vnd.databricks.v1+notebook": {
   "computePreferences": null,
   "dashboards": [],
   "environmentMetadata": null,
   "language": "python",
   "notebookMetadata": {
    "pythonIndentUnit": 4
   },
   "notebookName": "CCU056-05b-curated_data_skinny_assembled",
   "widgets": {}
  },
  "language_info": {
   "name": "python"
  }
 },
 "nbformat": 4,
 "nbformat_minor": 0
}
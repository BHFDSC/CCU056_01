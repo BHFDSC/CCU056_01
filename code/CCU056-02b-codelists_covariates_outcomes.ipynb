{
 "cells": [
  {
   "cell_type": "code",
   "execution_count": 0,
   "metadata": {
    "application/vnd.databricks.v1+cell": {
     "cellMetadata": {
      "byteLimit": 2048000,
      "rowLimit": 10000
     },
     "inputWidgets": {},
     "nuid": "615b3f67-3e7e-4dc8-bafa-4b2315b7226c",
     "showTitle": false,
     "tableResultSettingsMap": {},
     "title": ""
    }
   },
   "outputs": [],
   "source": [
    "# pyspark libraries\n",
    "import pyspark.sql.functions as f\n",
    "import pyspark.sql.types as t\n",
    "from pyspark.sql import Window\n",
    "\n",
    "from functools import reduce\n",
    "\n",
    "import databricks.koalas as ks\n",
    "import pandas as pd\n",
    "import numpy as np\n",
    "\n",
    "import re\n",
    "import io\n",
    "import datetime\n",
    "\n",
    "# plotting libraries\n",
    "import matplotlib\n",
    "import matplotlib.pyplot as plt\n",
    "from matplotlib import dates as mdates\n",
    "import seaborn as sns\n",
    "\n",
    "\n",
    "# versions\n",
    "print(\"Matplotlib version: \", matplotlib.__version__)\n",
    "print(\"Seaborn version: \", sns.__version__)\n",
    "_datetimenow = datetime.datetime.now() # .strftime(\"%Y%m%d\")\n",
    "print(f\"_datetimenow:  {_datetimenow}\")"
   ]
  },
  {
   "cell_type": "code",
   "execution_count": 0,
   "metadata": {
    "application/vnd.databricks.v1+cell": {
     "cellMetadata": {
      "byteLimit": 2048000,
      "rowLimit": 10000
     },
     "inputWidgets": {},
     "nuid": "568aa48c-d0ce-479c-9562-d1f105ed0a5e",
     "showTitle": false,
     "tableResultSettingsMap": {},
     "title": ""
    }
   },
   "outputs": [],
   "source": [
    "%run \"/Repos/shds/common/functions\""
   ]
  },
  {
   "cell_type": "code",
   "execution_count": 0,
   "metadata": {
    "application/vnd.databricks.v1+cell": {
     "cellMetadata": {
      "byteLimit": 2048000,
      "rowLimit": 10000
     },
     "inputWidgets": {},
     "nuid": "0c980e94-de2f-4177-81bb-0083a91e327e",
     "showTitle": false,
     "tableResultSettingsMap": {},
     "title": ""
    }
   },
   "outputs": [],
   "source": [
    "%run \"/Repos/shds/Fionna/help_functions\""
   ]
  },
  {
   "cell_type": "code",
   "execution_count": 0,
   "metadata": {
    "application/vnd.databricks.v1+cell": {
     "cellMetadata": {
      "byteLimit": 2048000,
      "rowLimit": 10000
     },
     "inputWidgets": {},
     "nuid": "e05bb40d-2f75-4037-a557-3281f4ea1c80",
     "showTitle": false,
     "tableResultSettingsMap": {},
     "title": ""
    },
    "jupyter": {
     "outputs_hidden": true
    }
   },
   "outputs": [],
   "source": [
    "%run \"./CCU056-01-parameters\""
   ]
  },
  {
   "cell_type": "code",
   "execution_count": 0,
   "metadata": {
    "application/vnd.databricks.v1+cell": {
     "cellMetadata": {
      "byteLimit": 2048000,
      "rowLimit": 10000
     },
     "inputWidgets": {},
     "nuid": "f2d495d9-978a-4bf5-96a6-28b7693e332e",
     "showTitle": false,
     "tableResultSettingsMap": {},
     "title": ""
    }
   },
   "outputs": [],
   "source": [
    "bhf_phenotypes = spark.table(path_ref_bhf_phenotypes)"
   ]
  },
  {
   "cell_type": "code",
   "execution_count": 0,
   "metadata": {
    "application/vnd.databricks.v1+cell": {
     "cellMetadata": {
      "byteLimit": 2048000,
      "rowLimit": 10000
     },
     "inputWidgets": {},
     "nuid": "9bc59cbd-d402-4e65-8a8f-a3c85cd63851",
     "showTitle": false,
     "tableResultSettingsMap": {},
     "title": ""
    }
   },
   "outputs": [],
   "source": [
    "display(bhf_phenotypes)"
   ]
  },
  {
   "cell_type": "code",
   "execution_count": 0,
   "metadata": {
    "application/vnd.databricks.v1+cell": {
     "cellMetadata": {
      "byteLimit": 2048000,
      "rowLimit": 10000
     },
     "inputWidgets": {},
     "nuid": "83711cbd-b089-4dba-937b-d8aa7fd4dddc",
     "showTitle": false,
     "tableResultSettingsMap": {},
     "title": ""
    }
   },
   "outputs": [],
   "source": [
    "display(bhf_phenotypes.filter(f.col(\"name\")==\"hypercholesterolaemia\"))"
   ]
  },
  {
   "cell_type": "markdown",
   "metadata": {
    "application/vnd.databricks.v1+cell": {
     "cellMetadata": {
      "byteLimit": 2048000,
      "rowLimit": 10000
     },
     "inputWidgets": {},
     "nuid": "846e7850-e524-4afd-9c11-038e346b7cb9",
     "showTitle": false,
     "tableResultSettingsMap": {},
     "title": ""
    }
   },
   "source": [
    "#1. Comorbidities"
   ]
  },
  {
   "cell_type": "markdown",
   "metadata": {
    "application/vnd.databricks.v1+cell": {
     "cellMetadata": {
      "byteLimit": 2048000,
      "rowLimit": 10000
     },
     "inputWidgets": {},
     "nuid": "9db9475a-a263-408c-b3bc-d64249e2d9c6",
     "showTitle": false,
     "tableResultSettingsMap": {},
     "title": ""
    }
   },
   "source": [
    "##1.1 Heart Failure"
   ]
  },
  {
   "cell_type": "code",
   "execution_count": 0,
   "metadata": {
    "application/vnd.databricks.v1+cell": {
     "cellMetadata": {
      "byteLimit": 2048000,
      "rowLimit": 10000
     },
     "inputWidgets": {},
     "nuid": "07aa62fb-d9c8-4bf1-bc93-c3a70172ee9a",
     "showTitle": true,
     "tableResultSettingsMap": {},
     "title": "SNOMED + ICD10"
    }
   },
   "outputs": [],
   "source": [
    "comorbidities_hf = (bhf_phenotypes.filter(f.col(\"name\")==\"HF\").select(\"name\",\"terminology\",\"code\",\"term\"))\n",
    "\n",
    "display(comorbidities_hf)"
   ]
  },
  {
   "cell_type": "markdown",
   "metadata": {
    "application/vnd.databricks.v1+cell": {
     "cellMetadata": {
      "byteLimit": 2048000,
      "rowLimit": 10000
     },
     "inputWidgets": {},
     "nuid": "c1451d4d-c422-40a5-b67a-70b721bd6da8",
     "showTitle": false,
     "tableResultSettingsMap": {},
     "title": ""
    }
   },
   "source": [
    "##1.2 COPD"
   ]
  },
  {
   "cell_type": "code",
   "execution_count": 0,
   "metadata": {
    "application/vnd.databricks.v1+cell": {
     "cellMetadata": {
      "byteLimit": 2048000,
      "rowLimit": 10000
     },
     "inputWidgets": {},
     "nuid": "0da977c5-08bf-42a8-a4b3-9b6feaf52d4a",
     "showTitle": true,
     "tableResultSettingsMap": {},
     "title": "SNOMED + ICD10"
    }
   },
   "outputs": [],
   "source": [
    "comorbidities_copd = (bhf_phenotypes.filter(f.col(\"name\")==\"COPD\").select(\"name\",\"terminology\",\"code\",\"term\"))\n",
    "\n",
    "#from CCU004_01\n",
    "codelist_copd = spark.createDataFrame(\n",
    "[\n",
    "(\"copd\",\"SNOMED\",\"106001000119101\",\"chronic obstructive lung disease co-occurrent with acute bronchitis (disorder)\",\"1\",\"20220215\"),\n",
    "(\"copd\",\"SNOMED\",\"135836000\",\"end stage chronic obstructive airways disease (disorder)\",\"1\",\"20220215\"),\n",
    "(\"copd\",\"SNOMED\",\"13645005\",\"chronic obstructive lung disease (disorder)\",\"1\",\"20220215\"),\n",
    "(\"copd\",\"SNOMED\",\"16003001\",\"giant bullous emphysema (disorder)\",\"1\",\"20220215\"),\n",
    "(\"copd\",\"SNOMED\",\"16846004\",\"obstructive emphysema (disorder)\",\"1\",\"20220215\"),\n",
    "(\"copd\",\"SNOMED\",\"185086009\",\"chronic obstructive bronchitis (disorder)\",\"1\",\"20220215\"),\n",
    "(\"copd\",\"SNOMED\",\"195951007\",\"acute exacerbation of chronic obstructive airways disease (disorder)\",\"1\",\"20220215\"),\n",
    "(\"copd\",\"SNOMED\",\"195958001\",\"segmental bullous emphysema (disorder)\",\"1\",\"20220215\"),\n",
    "(\"copd\",\"SNOMED\",\"195959009\",\"zonal bullous emphysema (disorder)\",\"1\",\"20220215\"),\n",
    "(\"copd\",\"SNOMED\",\"196001008\",\"chronic obstructive pulmonary disease with acute lower respiratory infection (disorder)\",\"1\",\"20220215\"),\n",
    "(\"copd\",\"SNOMED\",\"233674008\",\"pulmonary emphysema in alpha-1 primary immunodeficiency deficiency (disorder)\",\"1\",\"20220215\"),\n",
    "(\"copd\",\"SNOMED\",\"266355005\",\"bullous emphysema with collapse (disorder)\",\"1\",\"20220215\"),\n",
    "(\"copd\",\"SNOMED\",\"285381006\",\"acute infective exacerbation of chronic obstructive airways disease (disorder)\",\"1\",\"20220215\"),\n",
    "(\"copd\",\"SNOMED\",\"293241000119100\",\"acute exacerbation of chronic obstructive bronchitis (disorder)\",\"1\",\"20220215\"),\n",
    "(\"copd\",\"SNOMED\",\"293991000000106\",\"very severe chronic obstructive pulmonary disease (disorder)\",\"1\",\"20220215\"),\n",
    "(\"copd\",\"SNOMED\",\"313296004\",\"mild chronic obstructive pulmonary disease (disorder)\",\"1\",\"20220215\"),\n",
    "(\"copd\",\"SNOMED\",\"313297008\",\"moderate chronic obstructive pulmonary disease (disorder)\",\"1\",\"20220215\"),\n",
    "(\"copd\",\"SNOMED\",\"313299006\",\"severe chronic obstructive pulmonary disease (disorder)\",\"1\",\"20220215\"),\n",
    "(\"copd\",\"SNOMED\",\"31898008\",\"paraseptal emphysema (disorder)\",\"1\",\"20220215\"),\n",
    "(\"copd\",\"SNOMED\",\"45145000\",\"unilateral emphysema (situation)\",\"1\",\"20220215\"),\n",
    "(\"copd\",\"SNOMED\",\"4981000\",\"panacinar emphysema (disorder)\",\"1\",\"20220215\"),\n",
    "(\"copd\",\"SNOMED\",\"66110007\",\"chronic diffuse emphysema caused by inhalation of chemical fumes and/or vapors (disorder)\",\"1\",\"20220215\"),\n",
    "(\"copd\",\"SNOMED\",\"68328006\",\"centriacinar emphysema (disorder)\",\"1\",\"20220215\"),\n",
    "(\"copd\",\"SNOMED\",\"847091000000104\",\"acute non-infective exacerbation of chronic obstructive pulmonary disease (disorder)\",\"1\",\"20220215\"),\n",
    "(\"copd\",\"SNOMED\",\"87433001\",\"pulmonary emphysema (disorder)\",\"1\",\"20220215\"),\n",
    "(\"copd\",\"SNOMED\",\"408501008\",\"emergency hospital admission for chronic obstructive pulmonary disease (procedure)\",\"1\",\"20220215\"),\n",
    "(\"copd\",\"SNOMED\",\"1110861000000102\",\"quality and outcomes framework chronic obstructive pulmonary disease quality indicator-related care invitation (procedure)\",\"1\",\"20220215\"),\n",
    "(\"copd\",\"SNOMED\",\"143371000000104\",\"quality and outcomes framework chronic obstructive pulmonary disease quality indicator-related care invitation using preferred method of communication (procedure)\",\"1\",\"20220215\"),\n",
    "(\"copd\",\"SNOMED\",\"836477007\",\"chronic emphysema caused by vapor (disorder)\",\"1\",\"20220215\"),\n",
    "(\"copd\",\"SNOMED\",\"1010333003\",\"emphysema of left lung (disorder)\",\"1\",\"20220215\"),\n",
    "(\"copd\",\"SNOMED\",\"1010334009\",\"emphysema of right lung (disorder)\",\"1\",\"20220215\"), \n",
    "\n",
    "# additional codes to include (ICD10)- fc\n",
    "(\"copd\",\"ICD10\",\"J41\",\"Simple and mucopurulent chronic bronchitis\",'',''), #removed in proj CCU052\n",
    "(\"copd\",\"ICD10\",\"J410\",\"Simple chronic bronchitis\",'',''),\n",
    "(\"copd\",\"ICD10\",\"J411\",\"Mucopurulent chronic bronchitis\",'',''), #removed in proj CCU052\n",
    "(\"copd\",\"ICD10\",\"J418\",\"Mixed simple and mucopurulent chronic bronchitis\",'',''), #removed in proj CCU052\n",
    "(\"copd\",\"ICD10\",\"J42X\",\"Unspecified chronic bronchitis\",'',''),\n",
    "(\"copd\",\"ICD10\",\"J43\",\"Emphysema\",'',''),\n",
    "(\"copd\",\"ICD10\",\"J430\",\"MacLeod syndrome\",'',''),\n",
    "(\"copd\",\"ICD10\",\"J431\",\"Panlobular emphysema\",'',''),\n",
    "(\"copd\",\"ICD10\",\"J432\",\"Centrilobular emphysema\",'',''),\n",
    "(\"copd\",\"ICD10\",\"J438\",\"Other emphysema\",'',''),\n",
    "(\"copd\",\"ICD10\",\"J439\",\"Emphysema, unspecified\",'',''),\n",
    "(\"copd\",\"ICD10\",\"J44\",\"Other chronic obstructive pulmonary disease\",'',''),\n",
    "(\"copd\",\"ICD10\",\"J440\",\"Chronic obstructive pulmonary disease with acute lower respiratory infection\",'',''),\n",
    "(\"copd\",\"ICD10\",\"J441\",\"Chronic obstructive pulmonary disease with acute exacerbation, unspecified\",'',''),\n",
    "(\"copd\",\"ICD10\",\"J448\",\"Other specified chronic obstructive pulmonary disease\",'',''),\n",
    "(\"copd\",\"ICD10\",\"J449\",\"Chronic obstructive pulmonary disease, unspecified\",'','')\n",
    "],\n",
    "['name', 'terminology', 'code', 'term', 'code_type', 'RecordDate']   \n",
    ").select(\"name\",\"terminology\",\"code\",\"term\")\n",
    "\n",
    "\n",
    "comorbidities_copd = comorbidities_copd.union(codelist_copd).distinct().withColumn(\"name\", f.when(f.col(\"name\") == \"COPD\", \"copd\").otherwise(f.col(\"name\")))\n",
    "\n",
    "display(comorbidities_copd)"
   ]
  },
  {
   "cell_type": "markdown",
   "metadata": {
    "application/vnd.databricks.v1+cell": {
     "cellMetadata": {
      "byteLimit": 2048000,
      "rowLimit": 10000
     },
     "inputWidgets": {},
     "nuid": "ba0f8faa-13ad-4be6-9ba2-68db9e971233",
     "showTitle": false,
     "tableResultSettingsMap": {},
     "title": ""
    }
   },
   "source": [
    "##1.3 Asthma"
   ]
  },
  {
   "cell_type": "code",
   "execution_count": 0,
   "metadata": {
    "application/vnd.databricks.v1+cell": {
     "cellMetadata": {
      "byteLimit": 2048000,
      "rowLimit": 10000
     },
     "inputWidgets": {},
     "nuid": "bbf93bdf-6d4c-4216-b6dd-f230c84ab2f2",
     "showTitle": true,
     "tableResultSettingsMap": {},
     "title": "SNOMED + ICD10"
    }
   },
   "outputs": [],
   "source": [
    "#from CCU004_01\n",
    "codelist_asthma = spark.createDataFrame(\n",
    "[\n",
    "(\"asthma\",\"SNOMED\",\"1064811000000103\",\"moderate acute exacerbation of asthma (disorder)\",\"1\",\"20220215\"),\n",
    "(\"asthma\",\"SNOMED\",\"1064821000000109\",\"life threatening acute exacerbation of asthma (disorder)\",\"1\",\"20220215\"),\n",
    "(\"asthma\",\"SNOMED\",\"10674711000119105\",\"acute severe exacerbation of asthma co-occurrent with allergic rhinitis (disorder)\",\"1\",\"20220215\"),\n",
    "(\"asthma\",\"SNOMED\",\"10675391000119101\",\"severe controlled persistent asthma (disorder)\",\"1\",\"20220215\"),\n",
    "(\"asthma\",\"SNOMED\",\"10675431000119106\",\"severe persistent allergic asthma (disorder)\",\"1\",\"20220215\"),\n",
    "(\"asthma\",\"SNOMED\",\"10675471000119109\",\"acute severe exacerbation of severe persistent allergic asthma (disorder)\",\"1\",\"20220215\"),\n",
    "(\"asthma\",\"SNOMED\",\"10675551000119104\",\"acute severe exacerbation of severe persistent asthma co-occurrent with allergic rhinitis (disorder)\",\"1\",\"20220215\"),\n",
    "(\"asthma\",\"SNOMED\",\"10675591000119109\",\"severe persistent allergic asthma controlled (finding)\",\"1\",\"20220215\"),\n",
    "(\"asthma\",\"SNOMED\",\"10675631000119109\",\"severe persistent asthma controlled co-occurrent with allergic rhinitis (disorder)\",\"1\",\"20220215\"),\n",
    "(\"asthma\",\"SNOMED\",\"10675671000119107\",\"severe persistent allergic asthma uncontrolled (finding)\",\"1\",\"20220215\"),\n",
    "(\"asthma\",\"SNOMED\",\"10675711000119106\",\"severe persistent asthma uncontrolled co-occurrent with allergic rhinitis (disorder)\",\"1\",\"20220215\"),\n",
    "(\"asthma\",\"SNOMED\",\"10675751000119107\",\"severe uncontrolled persistent asthma (disorder)\",\"1\",\"20220215\"),\n",
    "(\"asthma\",\"SNOMED\",\"10675871000119106\",\"mild persistent allergic asthma (disorder)\",\"1\",\"20220215\"),\n",
    "(\"asthma\",\"SNOMED\",\"10675911000119109\",\"acute severe exacerbation of mild persistent allergic asthma (disorder)\",\"1\",\"20220215\"),\n",
    "(\"asthma\",\"SNOMED\",\"10675991000119100\",\"acute severe exacerbation of mild persistent allergic asthma co-occurrent with allergic rhinitis (disorder)\",\"1\",\"20220215\"),\n",
    "(\"asthma\",\"SNOMED\",\"10676031000119106\",\"mild persistent allergic asthma controlled (finding)\",\"1\",\"20220215\"),\n",
    "(\"asthma\",\"SNOMED\",\"10676071000119109\",\"mild persistent asthma controlled (finding)\",\"1\",\"20220215\"),\n",
    "(\"asthma\",\"SNOMED\",\"10676111000119102\",\"mild persistent asthma controlled co-occurrent with allergic rhinitis (disorder)\",\"1\",\"20220215\"),\n",
    "(\"asthma\",\"SNOMED\",\"10676151000119101\",\"mild persistent allergic asthma uncontrolled (finding)\",\"1\",\"20220215\"),\n",
    "(\"asthma\",\"SNOMED\",\"10676191000119106\",\"mild persistent asthma uncontrolled (finding)\",\"1\",\"20220215\"),\n",
    "(\"asthma\",\"SNOMED\",\"10676231000119102\",\"mild persistent asthma uncontrolled co-occurrent with allergic rhinitis (disorder)\",\"1\",\"20220215\"),\n",
    "(\"asthma\",\"SNOMED\",\"10676351000119103\",\"moderate persistent asthma controlled (finding)\",\"1\",\"20220215\"),\n",
    "(\"asthma\",\"SNOMED\",\"10676391000119108\",\"moderate persistent allergic asthma (disorder)\",\"1\",\"20220215\"),\n",
    "(\"asthma\",\"SNOMED\",\"10676431000119103\",\"acute severe exacerbation of moderate persistent allergic asthma (disorder)\",\"1\",\"20220215\"),\n",
    "(\"asthma\",\"SNOMED\",\"10676511000119109\",\"acute severe exacerbation of moderate persistent asthma co-occurrent with allergic rhinitis (disorder)\",\"1\",\"20220215\"),\n",
    "(\"asthma\",\"SNOMED\",\"10676551000119105\",\"moderate persistent allergic asthma controlled (finding)\",\"1\",\"20220215\"),\n",
    "(\"asthma\",\"SNOMED\",\"10676591000119100\",\"moderate persistent controlled asthma co-occurrent with allergic rhinitis (disorder)\",\"1\",\"20220215\"),\n",
    "(\"asthma\",\"SNOMED\",\"10676631000119100\",\"moderate persistent allergic asthma uncontrolled (finding)\",\"1\",\"20220215\"),\n",
    "(\"asthma\",\"SNOMED\",\"10676671000119102\",\"moderate persistent asthma uncontrolled co-occurrent with allergic rhinitis (disorder)\",\"1\",\"20220215\"),\n",
    "(\"asthma\",\"SNOMED\",\"10676711000119103\",\"moderate persistent asthma uncontrolled (finding)\",\"1\",\"20220215\"),\n",
    "(\"asthma\",\"SNOMED\",\"10692721000119102\",\"chronic obstructive asthma co-occurrent with acute exacerbation of asthma (disorder)\",\"1\",\"20220215\"),\n",
    "(\"asthma\",\"SNOMED\",\"1086701000000102\",\"life threatening acute exacerbation of allergic asthma (disorder)\",\"1\",\"20220215\"),\n",
    "(\"asthma\",\"SNOMED\",\"1086711000000100\",\"life threatening acute exacerbation of intrinsic asthma (disorder)\",\"1\",\"20220215\"),\n",
    "(\"asthma\",\"SNOMED\",\"1103911000000103\",\"severe asthma with fungal sensitisation (disorder)\",\"1\",\"20220215\"),\n",
    "(\"asthma\",\"SNOMED\",\"11641008\",\"millers' asthma (disorder)\",\"1\",\"20220215\"),\n",
    "(\"asthma\",\"SNOMED\",\"12428000\",\"intrinsic asthma without status asthmaticus (disorder)\",\"1\",\"20220215\"),\n",
    "(\"asthma\",\"SNOMED\",\"124991000119109\",\"severe persistent asthma co-occurrent with allergic rhinitis (disorder)\",\"1\",\"20220215\"),\n",
    "(\"asthma\",\"SNOMED\",\"125001000119103\",\"moderate persistent asthma co-occurrent with allergic rhinitis (disorder)\",\"1\",\"20220215\"),\n",
    "(\"asthma\",\"SNOMED\",\"125011000119100\",\"mild persistent asthma co-occurrent with allergic rhinitis (disorder)\",\"1\",\"20220215\"),\n",
    "(\"asthma\",\"SNOMED\",\"125021000119107\",\"intermittent asthma co-occurrent with allergic rhinitis (disorder)\",\"1\",\"20220215\"),\n",
    "(\"asthma\",\"SNOMED\",\"135171000119106\",\"acute exacerbation of moderate persistent asthma (disorder)\",\"1\",\"20220215\"),\n",
    "(\"asthma\",\"SNOMED\",\"135181000119109\",\"acute exacerbation of mild persistent asthma (disorder)\",\"1\",\"20220215\"),\n",
    "(\"asthma\",\"SNOMED\",\"16584951000119101\",\"oral steroid-dependent asthma (disorder)\",\"1\",\"20220215\"),\n",
    "(\"asthma\",\"SNOMED\",\"1741000119102\",\"intermittent asthma uncontrolled (disorder)\",\"1\",\"20220215\"),\n",
    "(\"asthma\",\"SNOMED\",\"1751000119100\",\"acute exacerbation of chronic obstructive airways disease with asthma (disorder)\",\"1\",\"20220215\"),\n",
    "(\"asthma\",\"SNOMED\",\"18041002\",\"printers' asthma (disorder)\",\"1\",\"20220215\"),\n",
    "(\"asthma\",\"SNOMED\",\"195967001\",\"asthma (disorder)\",\"1\",\"20220215\"),\n",
    "(\"asthma\",\"SNOMED\",\"195977004\",\"mixed asthma (disorder)\",\"1\",\"20220215\"),\n",
    "(\"asthma\",\"SNOMED\",\"225057002\",\"brittle asthma (disorder)\",\"1\",\"20220215\"),\n",
    "(\"asthma\",\"SNOMED\",\"233679003\",\"late onset asthma (disorder)\",\"1\",\"20220215\"),\n",
    "(\"asthma\",\"SNOMED\",\"233683003\",\"hay fever with asthma (disorder)\",\"1\",\"20220215\"),\n",
    "(\"asthma\",\"SNOMED\",\"233688007\",\"sulfite-induced asthma (disorder)\",\"1\",\"20220215\"),\n",
    "(\"asthma\",\"SNOMED\",\"233691007\",\"asthmatic pulmonary eosinophilia (disorder)\",\"1\",\"20220215\"),\n",
    "(\"asthma\",\"SNOMED\",\"2360001000004109\",\"steroid dependent asthma (disorder)\",\"1\",\"20220215\"),\n",
    "(\"asthma\",\"SNOMED\",\"266361008\",\"non-allergic asthma (disorder)\",\"1\",\"20220215\"),\n",
    "(\"asthma\",\"SNOMED\",\"281239006\",\"exacerbation of asthma (disorder)\",\"1\",\"20220215\"),\n",
    "(\"asthma\",\"SNOMED\",\"30352005\",\"allergic-infective asthma (disorder)\",\"1\",\"20220215\"),\n",
    "(\"asthma\",\"SNOMED\",\"304527002\",\"acute asthma (disorder)\",\"1\",\"20220215\"),\n",
    "(\"asthma\",\"SNOMED\",\"312453004\",\"asthma - currently active (finding)\",\"1\",\"20220215\"),\n",
    "(\"asthma\",\"SNOMED\",\"31387002\",\"exercise-induced asthma (disorder)\",\"1\",\"20220215\"),\n",
    "(\"asthma\",\"SNOMED\",\"34015007\",\"bakers' asthma (disorder)\",\"1\",\"20220215\"),\n",
    "(\"asthma\",\"SNOMED\",\"370218001\",\"mild asthma (disorder)\",\"1\",\"20220215\"),\n",
    "(\"asthma\",\"SNOMED\",\"370219009\",\"moderate asthma (disorder)\",\"1\",\"20220215\"),\n",
    "(\"asthma\",\"SNOMED\",\"370220003\",\"occasional asthma (disorder)\",\"1\",\"20220215\"),\n",
    "(\"asthma\",\"SNOMED\",\"370221004\",\"severe asthma (disorder)\",\"1\",\"20220215\"),\n",
    "(\"asthma\",\"SNOMED\",\"389145006\",\"allergic asthma (disorder)\",\"1\",\"20220215\"),\n",
    "(\"asthma\",\"SNOMED\",\"395022009\",\"asthma night-time symptoms (finding)\",\"1\",\"20220215\"),\n",
    "(\"asthma\",\"SNOMED\",\"401000119107\",\"asthma with irreversible airway obstruction (disorder)\",\"1\",\"20220215\"),\n",
    "(\"asthma\",\"SNOMED\",\"401193004\",\"asthma confirmed (situation)\",\"1\",\"20220215\"),\n",
    "(\"asthma\",\"SNOMED\",\"404804003\",\"platinum asthma (disorder)\",\"1\",\"20220215\"),\n",
    "(\"asthma\",\"SNOMED\",\"404806001\",\"cheese-makers' asthma (disorder)\",\"1\",\"20220215\"),\n",
    "(\"asthma\",\"SNOMED\",\"404808000\",\"isocyanate induced asthma (disorder)\",\"1\",\"20220215\"),\n",
    "(\"asthma\",\"SNOMED\",\"405944004\",\"asthmatic bronchitis (disorder)\",\"1\",\"20220215\"),\n",
    "(\"asthma\",\"SNOMED\",\"407674008\",\"aspirin-induced asthma (disorder)\",\"1\",\"20220215\"),\n",
    "(\"asthma\",\"SNOMED\",\"409663006\",\"cough variant asthma (disorder)\",\"1\",\"20220215\"),\n",
    "(\"asthma\",\"SNOMED\",\"41553006\",\"detergent asthma (disorder)\",\"1\",\"20220215\"),\n",
    "(\"asthma\",\"SNOMED\",\"418395004\",\"tea-makers' asthma (disorder)\",\"1\",\"20220215\"),\n",
    "(\"asthma\",\"SNOMED\",\"423889005\",\"non-immunoglobulin e mediated allergic asthma (disorder)\",\"1\",\"20220215\"),\n",
    "(\"asthma\",\"SNOMED\",\"424199006\",\"substance induced asthma (disorder)\",\"1\",\"20220215\"),\n",
    "(\"asthma\",\"SNOMED\",\"424643009\",\"immunoglobulin e-mediated allergic asthma (disorder)\",\"1\",\"20220215\"),\n",
    "(\"asthma\",\"SNOMED\",\"425969006\",\"exacerbation of intermittent asthma (disorder)\",\"1\",\"20220215\"),\n",
    "(\"asthma\",\"SNOMED\",\"426656000\",\"severe persistent asthma (disorder)\",\"1\",\"20220215\"),\n",
    "(\"asthma\",\"SNOMED\",\"426979002\",\"mild persistent asthma (disorder)\",\"1\",\"20220215\"),\n",
    "(\"asthma\",\"SNOMED\",\"427295004\",\"moderate persistent asthma (disorder)\",\"1\",\"20220215\"),\n",
    "(\"asthma\",\"SNOMED\",\"427603009\",\"intermittent asthma (disorder)\",\"1\",\"20220215\"),\n",
    "(\"asthma\",\"SNOMED\",\"427679007\",\"mild intermittent asthma (disorder)\",\"1\",\"20220215\"),\n",
    "(\"asthma\",\"SNOMED\",\"442025000\",\"acute exacerbation of chronic asthmatic bronchitis (disorder)\",\"1\",\"20220215\"),\n",
    "(\"asthma\",\"SNOMED\",\"445427006\",\"seasonal asthma (disorder)\",\"1\",\"20220215\"),\n",
    "(\"asthma\",\"SNOMED\",\"55570000\",\"asthma without status asthmaticus (disorder)\",\"1\",\"20220215\"),\n",
    "(\"asthma\",\"SNOMED\",\"56968009\",\"asthma caused by wood dust (disorder)\",\"1\",\"20220215\"),\n",
    "(\"asthma\",\"SNOMED\",\"57607007\",\"occupational asthma (disorder)\",\"1\",\"20220215\"),\n",
    "(\"asthma\",\"SNOMED\",\"63088003\",\"allergic asthma without status asthmaticus (disorder)\",\"1\",\"20220215\"),\n",
    "(\"asthma\",\"SNOMED\",\"641000119106\",\"intermittent asthma well controlled (finding)\",\"1\",\"20220215\"),\n",
    "(\"asthma\",\"SNOMED\",\"703953004\",\"allergic asthma caused by dermatophagoides pteronyssinus (disorder)\",\"1\",\"20220215\"),\n",
    "(\"asthma\",\"SNOMED\",\"703954005\",\"allergic asthma caused by dermatophagoides farinae (disorder)\",\"1\",\"20220215\"),\n",
    "(\"asthma\",\"SNOMED\",\"707444001\",\"uncomplicated asthma (disorder)\",\"1\",\"20220215\"),\n",
    "(\"asthma\",\"SNOMED\",\"707445000\",\"exacerbation of mild persistent asthma (disorder)\",\"1\",\"20220215\"),\n",
    "(\"asthma\",\"SNOMED\",\"707446004\",\"exacerbation of moderate persistent asthma (disorder)\",\"1\",\"20220215\"),\n",
    "(\"asthma\",\"SNOMED\",\"707447008\",\"exacerbation of severe persistent asthma (disorder)\",\"1\",\"20220215\"),\n",
    "(\"asthma\",\"SNOMED\",\"707511009\",\"uncomplicated mild persistent asthma (disorder)\",\"1\",\"20220215\"),\n",
    "(\"asthma\",\"SNOMED\",\"707512002\",\"uncomplicated moderate persistent asthma (disorder)\",\"1\",\"20220215\"),\n",
    "(\"asthma\",\"SNOMED\",\"707513007\",\"uncomplicated severe persistent asthma (disorder)\",\"1\",\"20220215\"),\n",
    "(\"asthma\",\"SNOMED\",\"707979007\",\"acute severe exacerbation of severe persistent asthma (disorder)\",\"1\",\"20220215\"),\n",
    "(\"asthma\",\"SNOMED\",\"707980005\",\"acute severe exacerbation of moderate persistent asthma (disorder)\",\"1\",\"20220215\"),\n",
    "(\"asthma\",\"SNOMED\",\"707981009\",\"acute severe exacerbation of mild persistent asthma (disorder)\",\"1\",\"20220215\"),\n",
    "(\"asthma\",\"SNOMED\",\"708038006\",\"acute exacerbation of asthma (disorder)\",\"1\",\"20220215\"),\n",
    "(\"asthma\",\"SNOMED\",\"708090002\",\"acute severe exacerbation of asthma (disorder)\",\"1\",\"20220215\"),\n",
    "(\"asthma\",\"SNOMED\",\"708093000\",\"acute exacerbation of immunoglobulin e-mediated allergic asthma (disorder)\",\"1\",\"20220215\"),\n",
    "(\"asthma\",\"SNOMED\",\"708094006\",\"acute exacerbation of intrinsic asthma (disorder)\",\"1\",\"20220215\"),\n",
    "(\"asthma\",\"SNOMED\",\"708095007\",\"acute severe exacerbation of immunoglobin e-mediated allergic asthma (disorder)\",\"1\",\"20220215\"),\n",
    "(\"asthma\",\"SNOMED\",\"708096008\",\"acute severe exacerbation of intrinsic asthma (disorder)\",\"1\",\"20220215\"),\n",
    "(\"asthma\",\"SNOMED\",\"72301000119103\",\"asthma in pregnancy (disorder)\",\"1\",\"20220215\"),\n",
    "(\"asthma\",\"SNOMED\",\"733858005\",\"acute severe refractory exacerbation of asthma (disorder)\",\"1\",\"20220215\"),\n",
    "(\"asthma\",\"SNOMED\",\"734904007\",\"life threatening acute exacerbation of asthma (disorder)\",\"1\",\"20220215\"),\n",
    "(\"asthma\",\"SNOMED\",\"734905008\",\"moderate acute exacerbation of asthma (disorder)\",\"1\",\"20220215\"),\n",
    "(\"asthma\",\"SNOMED\",\"735587000\",\"acute severe exacerbation of asthma co-occurrent and due to allergic asthma (disorder)\",\"1\",\"20220215\"),\n",
    "(\"asthma\",\"SNOMED\",\"735588005\",\"uncomplicated allergic asthma (disorder)\",\"1\",\"20220215\"),\n",
    "(\"asthma\",\"SNOMED\",\"735589002\",\"uncomplicated non-allergic asthma (disorder)\",\"1\",\"20220215\"),\n",
    "(\"asthma\",\"SNOMED\",\"762521001\",\"exacerbation of allergic asthma (disorder)\",\"1\",\"20220215\"),\n",
    "(\"asthma\",\"SNOMED\",\"782513000\",\"acute severe exacerbation of allergic asthma (disorder)\",\"1\",\"20220215\"),\n",
    "(\"asthma\",\"SNOMED\",\"782520007\",\"exacerbation of allergic asthma due to infection (disorder)\",\"1\",\"20220215\"),\n",
    "(\"asthma\",\"SNOMED\",\"786836003\",\"near fatal asthma (disorder)\",\"1\",\"20220215\"),\n",
    "(\"asthma\",\"SNOMED\",\"866881000000101\",\"chronic asthma with fixed airflow obstruction (disorder)\",\"1\",\"20220215\"),\n",
    "(\"asthma\",\"SNOMED\",\"92807009\",\"chemical-induced asthma (disorder)\",\"1\",\"20220215\"),\n",
    "(\"asthma\",\"SNOMED\",\"93432008\",\"drug-induced asthma (disorder)\",\"1\",\"20220215\"),\n",
    "(\"asthma\",\"SNOMED\",\"99031000119107\",\"acute exacerbation of asthma co-occurrent with allergic rhinitis (disorder)\",\"1\",\"20220215\"),\n",
    "(\"asthma\",\"SNOMED\",\"183478001\",\"emergency hospital admission for asthma (procedure)\",\"1\",\"20220215\"),\n",
    "(\"asthma\",\"SNOMED\",\"708358003\",\"emergency asthma admission since last encounter (situation)\",\"1\",\"20220215\"),\n",
    "(\"asthma\",\"SNOMED\",\"170631002\",\"asthma disturbing sleep (finding)\",\"1\",\"20220215\"),\n",
    "(\"asthma\",\"SNOMED\",\"170632009\",\"asthma causing night waking (finding)\",\"1\",\"20220215\"),\n",
    "(\"asthma\",\"SNOMED\",\"170633004\",\"asthma disturbs sleep weekly (finding)\",\"1\",\"20220215\"),\n",
    "(\"asthma\",\"SNOMED\",\"170634005\",\"asthma disturbs sleep frequently (finding)\",\"1\",\"20220215\"),\n",
    "(\"asthma\",\"SNOMED\",\"170635006\",\"asthma not disturbing sleep (finding)\",\"1\",\"20220215\"),\n",
    "(\"asthma\",\"SNOMED\",\"170636007\",\"asthma never disturbs sleep (finding)\",\"1\",\"20220215\"),\n",
    "(\"asthma\",\"SNOMED\",\"170637003\",\"asthma limiting activities (finding)\",\"1\",\"20220215\"),\n",
    "(\"asthma\",\"SNOMED\",\"170638008\",\"asthma not limiting activities (finding)\",\"1\",\"20220215\"),\n",
    "(\"asthma\",\"SNOMED\",\"170655007\",\"asthma restricts exercise (finding)\",\"1\",\"20220215\"),\n",
    "(\"asthma\",\"SNOMED\",\"170656008\",\"asthma sometimes restricts exercise (finding)\",\"1\",\"20220215\"),\n",
    "(\"asthma\",\"SNOMED\",\"170657004\",\"asthma severely restricts exercise (finding)\",\"1\",\"20220215\"),\n",
    "(\"asthma\",\"SNOMED\",\"170658009\",\"asthma never restricts exercise (finding)\",\"1\",\"20220215\"),\n",
    "(\"asthma\",\"SNOMED\",\"270442000\",\"asthma monitoring check done (finding)\",\"1\",\"20220215\"),\n",
    "(\"asthma\",\"SNOMED\",\"370202007\",\"asthma causes daytime symptoms 1 to 2 times per month (finding)\",\"1\",\"20220215\"),\n",
    "(\"asthma\",\"SNOMED\",\"370203002\",\"asthma causes daytime symptoms 1 to 2 times per week (finding)\",\"1\",\"20220215\"),\n",
    "(\"asthma\",\"SNOMED\",\"370204008\",\"asthma causes daytime symptoms most days (finding)\",\"1\",\"20220215\"),\n",
    "(\"asthma\",\"SNOMED\",\"370205009\",\"asthma causes night symptoms 1 to 2 times per month (finding)\",\"1\",\"20220215\"),\n",
    "(\"asthma\",\"SNOMED\",\"370206005\",\"asthma limits walking on the flat (finding)\",\"1\",\"20220215\"),\n",
    "(\"asthma\",\"SNOMED\",\"370207001\",\"asthma limits walking up hills or stairs (finding)\",\"1\",\"20220215\"),\n",
    "(\"asthma\",\"SNOMED\",\"370208006\",\"asthma never causes daytime symptoms (finding)\",\"1\",\"20220215\"),\n",
    "(\"asthma\",\"SNOMED\",\"373899003\",\"asthma daytime symptoms (finding)\",\"1\",\"20220215\"),\n",
    "(\"asthma\",\"SNOMED\",\"390872009\",\"change in asthma management plan (regime/therapy)\",\"1\",\"20220215\"),\n",
    "(\"asthma\",\"SNOMED\",\"390877003\",\"step up change in asthma management plan (regime/therapy)\",\"1\",\"20220215\"),\n",
    "(\"asthma\",\"SNOMED\",\"390878008\",\"step down change in asthma management plan (regime/therapy)\",\"1\",\"20220215\"),\n",
    "(\"asthma\",\"SNOMED\",\"390921001\",\"absent from work or school due to asthma (finding)\",\"1\",\"20220215\"),\n",
    "(\"asthma\",\"SNOMED\",\"394700004\",\"asthma annual review (regime/therapy)\",\"1\",\"20220215\"),\n",
    "(\"asthma\",\"SNOMED\",\"473391009\",\"asthma never causes night symptoms (situation)\",\"1\",\"20220215\"),\n",
    "(\"asthma\",\"SNOMED\",\"771901000000100\",\"asthma causes night time symptoms 1 to 2 times per week (finding)\",\"1\",\"20220215\"),\n",
    "(\"asthma\",\"SNOMED\",\"771941000000102\",\"asthma causes symptoms most nights (finding)\",\"1\",\"20220215\"),\n",
    "(\"asthma\",\"SNOMED\",\"771981000000105\",\"asthma limits activities 1 to 2 times per month (finding)\",\"1\",\"20220215\"),\n",
    "(\"asthma\",\"SNOMED\",\"772011000000107\",\"asthma limits activities 1 to 2 times per week (finding)\",\"1\",\"20220215\"),\n",
    "(\"asthma\",\"SNOMED\",\"772051000000106\",\"asthma limits activities most days (finding)\",\"1\",\"20220215\"),\n",
    "(\"asthma\",\"SNOMED\",\"811151000000105\",\"number of days absent from school due to asthma in past 6 months (observable entity)\",\"1\",\"20220215\"),\n",
    "(\"asthma\",\"SNOMED\",\"10674991000119104\",\"intermittent allergic asthma (disorder)\",\"1\",\"20220215\"),\n",
    "(\"asthma\",\"SNOMED\",\"829976001\",\"thunderstorm asthma (disorder)\",\"1\",\"20220215\"),\n",
    "(\"asthma\",\"SNOMED\",\"782559003\",\"asthma never causes night symptoms (finding)\",\"1\",\"20220215\"),\n",
    "\n",
    "# additional codes to include (ICD10)- fc\n",
    "(\"asthma\",\"ICD10\",\"J450\",\"Predominantly allergic asthma\",'',''),\n",
    "(\"asthma\",\"ICD10\",\"J451\",\"Nonallergic asthma\",'',''),\n",
    "(\"asthma\",\"ICD10\",\"J458\",\"Mixed asthma\",'',''),\n",
    "(\"asthma\",\"ICD10\",\"J459\",\"Asthma, unspecifieda\",'',''),\n",
    "(\"asthma\",\"ICD10\",\"J46X\",\"Status asthmaticusa\",'','')\n",
    "  \n",
    "],\n",
    "['name', 'terminology', 'code', 'term', 'code_type', 'RecordDate']   \n",
    ").select(\"name\",\"terminology\",\"code\",\"term\")\n",
    "\n",
    "\n",
    "comorbidities_asthma = codelist_asthma.distinct()\n",
    "\n",
    "display(comorbidities_asthma)"
   ]
  },
  {
   "cell_type": "markdown",
   "metadata": {
    "application/vnd.databricks.v1+cell": {
     "cellMetadata": {
      "byteLimit": 2048000,
      "rowLimit": 10000
     },
     "inputWidgets": {},
     "nuid": "505cbadf-83d8-494c-a315-ad90f8ec4562",
     "showTitle": false,
     "tableResultSettingsMap": {},
     "title": ""
    }
   },
   "source": [
    "##1.4 Renal Failure (using CKD)"
   ]
  },
  {
   "cell_type": "code",
   "execution_count": 0,
   "metadata": {
    "application/vnd.databricks.v1+cell": {
     "cellMetadata": {
      "byteLimit": 2048000,
      "rowLimit": 10000
     },
     "inputWidgets": {},
     "nuid": "ff388fb6-ca55-407b-8623-5dae9435fe3b",
     "showTitle": true,
     "tableResultSettingsMap": {},
     "title": "SNOMED + ICD10"
    }
   },
   "outputs": [],
   "source": [
    "comorbidities_ckd = (bhf_phenotypes.filter(f.col(\"name\")==\"CKD\").select(\"name\",\"terminology\",\"code\",\"term\"))\n",
    "\n",
    "display(comorbidities_ckd)"
   ]
  },
  {
   "cell_type": "markdown",
   "metadata": {
    "application/vnd.databricks.v1+cell": {
     "cellMetadata": {
      "byteLimit": 2048000,
      "rowLimit": 10000
     },
     "inputWidgets": {},
     "nuid": "52e65ff7-730c-4202-85a7-8552b2a9b5e9",
     "showTitle": false,
     "tableResultSettingsMap": {},
     "title": ""
    }
   },
   "source": [
    "##1.5 Cerebrovascular Disease"
   ]
  },
  {
   "cell_type": "markdown",
   "metadata": {
    "application/vnd.databricks.v1+cell": {
     "cellMetadata": {
      "byteLimit": 2048000,
      "rowLimit": 10000
     },
     "inputWidgets": {},
     "nuid": "7b9cad19-7431-44bc-8803-c3b104afa710",
     "showTitle": false,
     "tableResultSettingsMap": {},
     "title": ""
    }
   },
   "source": [
    "Include all stroke groups and Cerebrovascular accidents (CVA). CVAs are included in the stroke codes e.g. SNOMED 230690007"
   ]
  },
  {
   "cell_type": "code",
   "execution_count": 0,
   "metadata": {
    "application/vnd.databricks.v1+cell": {
     "cellMetadata": {
      "byteLimit": 2048000,
      "rowLimit": 10000
     },
     "inputWidgets": {},
     "nuid": "e3e1ebdb-a3db-4939-9082-1c9d2d768221",
     "showTitle": true,
     "tableResultSettingsMap": {},
     "title": "SNOMED + ICD10"
    }
   },
   "outputs": [],
   "source": [
    "comorbidities_cd = (bhf_phenotypes.filter(f.col(\"name\").isin(\"stroke_HS\", \"stroke_IS\", \"stroke_NOS\", \"stroke_SAH\", \"stroke_TIA\"))\n",
    "                    .select(\"name\",\"terminology\",\"code\",\"term\"))\n",
    "\n",
    "display(comorbidities_cd)"
   ]
  },
  {
   "cell_type": "markdown",
   "metadata": {
    "application/vnd.databricks.v1+cell": {
     "cellMetadata": {
      "byteLimit": 2048000,
      "rowLimit": 10000
     },
     "inputWidgets": {},
     "nuid": "f11bd62f-1f2d-42af-9d09-eab387393c81",
     "showTitle": false,
     "tableResultSettingsMap": {},
     "title": ""
    }
   },
   "source": [
    "##1.6 Peripheral Arterial Disease"
   ]
  },
  {
   "cell_type": "code",
   "execution_count": 0,
   "metadata": {
    "application/vnd.databricks.v1+cell": {
     "cellMetadata": {
      "byteLimit": 2048000,
      "rowLimit": 10000
     },
     "inputWidgets": {},
     "nuid": "9be8327f-34ed-4e42-aa4d-f2a041782974",
     "showTitle": true,
     "tableResultSettingsMap": {},
     "title": "SNOMED + ICD10"
    }
   },
   "outputs": [],
   "source": [
    "comorbidities_pad_bhf = (bhf_phenotypes.filter(f.col(\"name\").isin(\"pad\"))\n",
    "                    .select(\"name\",\"terminology\",\"code\",\"term\"))\n",
    "\n",
    "# ICD10 added by Fionna on 23/11/2023 - sourced form https://datacompass.lshtm.ac.uk/id/eprint/3259/\n",
    "# Note that many of these ICD10 codes are in the Outcomes - CVD Death list under atherosclerosis\n",
    "# Why have I added ICD10 codes? Currently the comorbidites and risk factors prevalences are increasing year on year in the 2000-2023 cohort - this is possibly (likely) because people are only in GDPPR if they were alive as at 2019 thus comorbidities may have to be derived only using secondary care. This will mean that each is underestimated but this underestimation will be consistent across groups and by year.\n",
    "\n",
    "comorbidities_pad_icd10 = (spark.createDataFrame(\n",
    "  [\n",
    "    ('pad','ICD10',  'I702',   'Atherosclerosis of arteries of extremities','',''),   \n",
    "    ('pad','ICD10',  'I7020',   'Atherosclerosis of arteries of extremities','',''),\n",
    "    ('pad','ICD10',  'I7021',   'Atherosclerosis of arteries of extremities','',''),\n",
    "\n",
    "    ('pad','ICD10',  'I73',   'Other peripheral vascular diseases','',''), \n",
    "    ('pad','ICD10',  'I738',   'Other specified peripheral vascular diseases','',''),\n",
    "    ('pad','ICD10',  'I739',   'Peripheral vascular disease, unspecified','',''), \n",
    "\n",
    "    ('pad','ICD10',  'I792',   'Peripheral angiopathy in diseases classified elsewhere','','')\n",
    "  ],\n",
    "  ['name', 'terminology', 'code', 'term', 'code_type', 'RecordDate']  \n",
    ").select(\"name\",\"terminology\",\"code\",\"term\")\n",
    ")\n",
    "\n",
    "comorbidities_pad = comorbidities_pad_bhf.union(comorbidities_pad_icd10)\n",
    "\n",
    "\n",
    "display(comorbidities_pad)"
   ]
  },
  {
   "cell_type": "markdown",
   "metadata": {
    "application/vnd.databricks.v1+cell": {
     "cellMetadata": {
      "byteLimit": 2048000,
      "rowLimit": 10000
     },
     "inputWidgets": {},
     "nuid": "7d7bbfe2-d10a-4192-894a-135175690767",
     "showTitle": false,
     "tableResultSettingsMap": {},
     "title": ""
    }
   },
   "source": [
    "#2. Cardiovascular Risk Factors"
   ]
  },
  {
   "cell_type": "markdown",
   "metadata": {
    "application/vnd.databricks.v1+cell": {
     "cellMetadata": {
      "byteLimit": 2048000,
      "rowLimit": 10000
     },
     "inputWidgets": {},
     "nuid": "6b2886d2-d930-493a-a5cd-8b85265d2c05",
     "showTitle": false,
     "tableResultSettingsMap": {},
     "title": ""
    }
   },
   "source": [
    "##2.1 Hypertension"
   ]
  },
  {
   "cell_type": "code",
   "execution_count": 0,
   "metadata": {
    "application/vnd.databricks.v1+cell": {
     "cellMetadata": {
      "byteLimit": 2048000,
      "rowLimit": 10000
     },
     "inputWidgets": {},
     "nuid": "42e10fa6-0e07-411f-ae79-ebf2a4ae1b66",
     "showTitle": true,
     "tableResultSettingsMap": {},
     "title": "SNOMED + ICD10"
    }
   },
   "outputs": [],
   "source": [
    "crf_hypertension_bhf = (bhf_phenotypes.filter(f.col(\"name\").isin(\"hypertension\"))\n",
    "                    .select(\"name\",\"terminology\",\"code\",\"term\"))\n",
    "\n",
    "\n",
    "crf_hypertension_icd10 = (spark.createDataFrame(\n",
    "  [\n",
    "    #hypertensive disease\n",
    "    ('hypertension','ICD10',  'I10',   'Essential (primary) hypertension','',''),\n",
    "    ('hypertension','ICD10',  'I11',   'Hypertensive heart disease','',''),\n",
    "    ('hypertension','ICD10',  'I110',   'Hypertensive heart disease with (congestive) heart failure','',''),\n",
    "    ('hypertension','ICD10',  'I119',   'Hypertensive heart disease without (congestive) heart failure','',''),\n",
    "    ('hypertension','ICD10',  'I12',   'Hypertensive renal disease','',''),\n",
    "    ('hypertension','ICD10',  'I129',   'Hypertensive renal disease without renal failure','',''),\n",
    "    ('hypertension','ICD10',  'I13',   'Hypertensive heart and renal disease','',''),\n",
    "    ('hypertension','ICD10',  'I130',   'Hypertensive heart and renal disease with (congestive) heart failure','',''),\n",
    "    ('hypertension','ICD10',  'I131',   'Hypertensive heart and renal disease with renal failure','',''),\n",
    "    ('hypertension','ICD10',  'I132',   'Hypertensive heart and renal disease with both (congestive) heart failure and renal failure','',''),\n",
    "    ('hypertension','ICD10',  'I139',   'Hypertensive heart and renal disease, unspecified','',''),\n",
    "    ('hypertension','ICD10',  'I15',   'Secondary hypertension','',''),\n",
    "    ('hypertension','ICD10',  'I151',   'Hypertension secondary to other renal disorders','',''),\n",
    "    ('hypertension','ICD10',  'I152',   'Hypertension secondary to endocrine disorders','',''),\n",
    "    ('hypertension','ICD10',  'I158',   'Other secondary hypertension','',''),\n",
    "    ('hypertension','ICD10',  'I159',   'Secondary hypertension, unspecified','','')\n",
    "  ],\n",
    "  ['name', 'terminology', 'code', 'term', 'code_type', 'RecordDate']  \n",
    ").select(\"name\",\"terminology\",\"code\",\"term\")\n",
    ")\n",
    "\n",
    "crf_hypertension = crf_hypertension_bhf.union(crf_hypertension_icd10)\n",
    "\n",
    "display(crf_hypertension)"
   ]
  },
  {
   "cell_type": "markdown",
   "metadata": {
    "application/vnd.databricks.v1+cell": {
     "cellMetadata": {
      "byteLimit": 2048000,
      "rowLimit": 10000
     },
     "inputWidgets": {},
     "nuid": "06e504cb-3b5c-47b0-87e6-66e867b622f7",
     "showTitle": false,
     "tableResultSettingsMap": {},
     "title": ""
    }
   },
   "source": [
    "##2.2 Diabetes"
   ]
  },
  {
   "cell_type": "code",
   "execution_count": 0,
   "metadata": {
    "application/vnd.databricks.v1+cell": {
     "cellMetadata": {
      "byteLimit": 2048000,
      "rowLimit": 10000
     },
     "inputWidgets": {},
     "nuid": "a1584ee2-ef36-48e9-a139-500e7f27faad",
     "showTitle": true,
     "tableResultSettingsMap": {},
     "title": "SNOMED + ICD10"
    }
   },
   "outputs": [],
   "source": [
    "crf_diabetes_bhf = (bhf_phenotypes.filter(f.col(\"name\").isin(\"diabetes\"))\n",
    "                    .select(\"name\",\"terminology\",\"code\",\"term\"))\n",
    "\n",
    "# ICD10 codes added by Fionna on 23/11/2023 - copied from CCU000 from the Phenotype Library\n",
    "\n",
    "crf_diabetes_icd10 = (spark.createDataFrame(\n",
    "  [\n",
    "\n",
    "    ('diabetes','ICD10',  'E10',   'Insulin-dependent diabetes mellitus','',''),\n",
    "    ('diabetes','ICD10',  'E11',   'Non-insulin-dependent diabetes mellitus','',''),\n",
    "    ('diabetes','ICD10',  'E12',   'Malnutrition-related diabetes mellitus','',''),\n",
    "    ('diabetes','ICD10',  'E13',   'Other specified diabetes mellitus','',''),\n",
    "    ('diabetes','ICD10',  'E14',   'Unspecified diabetes mellitus','',''),\n",
    "    ('diabetes','ICD10',  'G590',   'Diabetic mononeuropathy','',''),\n",
    "    ('diabetes','ICD10',  'G632',   'Diabetic polyneuropathy','',''),\n",
    "    ('diabetes','ICD10',  'H280',   'Diabetic cataract','',''),\n",
    "    ('diabetes','ICD10',  'H360',   'Diabetic retinopathy','',''),\n",
    "    ('diabetes','ICD10',  'M142',   'Diabetic arthropathy','',''),\n",
    "    ('diabetes','ICD10',  'N083',   'Glomerular disorders in diabetes mellitus','',''),\n",
    "    ('diabetes','ICD10',  'O240',   'Diabetes mellitus in pregnancy: Pre-existing diabetes mellitus, insulin-dependent','',''),\n",
    "    ('diabetes','ICD10',  'O241',   'Diabetes mellitus in pregnancy: Pre-existing diabetes mellitus, non-insulin-dependent','',''),\n",
    "    ('diabetes','ICD10',  'O242',   'Diabetes mellitus in pregnancy: Pre-existing malnutrition-related diabetes mellitus','',''),\n",
    "    ('diabetes','ICD10',  'O243',   'Diabetes mellitus in pregnancy: Pre-existing diabetes mellitus, unspecified','','')\n",
    "\n",
    "  ],\n",
    "  ['name', 'terminology', 'code', 'term', 'code_type', 'RecordDate']  \n",
    ").select(\"name\",\"terminology\",\"code\",\"term\")\n",
    ")\n",
    "\n",
    "crf_diabetes = crf_diabetes_bhf.union(crf_diabetes_icd10)\n",
    "\n",
    "\n",
    "display(crf_diabetes)"
   ]
  },
  {
   "cell_type": "markdown",
   "metadata": {
    "application/vnd.databricks.v1+cell": {
     "cellMetadata": {
      "byteLimit": 2048000,
      "rowLimit": 10000
     },
     "inputWidgets": {},
     "nuid": "eb6d177f-d885-46af-a32f-603278573cf7",
     "showTitle": false,
     "tableResultSettingsMap": {},
     "title": ""
    }
   },
   "source": [
    "##2.3 Coronary Artery Disease"
   ]
  },
  {
   "cell_type": "markdown",
   "metadata": {
    "application/vnd.databricks.v1+cell": {
     "cellMetadata": {
      "byteLimit": 2048000,
      "rowLimit": 10000
     },
     "inputWidgets": {},
     "nuid": "a7d3205b-feea-4c01-b62b-80a24f9e6b08",
     "showTitle": false,
     "tableResultSettingsMap": {},
     "title": ""
    }
   },
   "source": [
    "E.g. Ischaemic Heart Disease (dont think there is a general code for this) incldues:\n",
    "- MI (AMI BHF Phenotype Library)\n",
    "- Angina and Unstable Angina from CCU002_01"
   ]
  },
  {
   "cell_type": "code",
   "execution_count": 0,
   "metadata": {
    "application/vnd.databricks.v1+cell": {
     "cellMetadata": {
      "byteLimit": 2048000,
      "rowLimit": 10000
     },
     "inputWidgets": {},
     "nuid": "10b2a417-e927-4097-88c1-1e3580cba344",
     "showTitle": true,
     "tableResultSettingsMap": {},
     "title": "SNOMED + ICD10"
    }
   },
   "outputs": [],
   "source": [
    "crf_cad = (bhf_phenotypes.filter(f.col(\"name\").isin(\"AMI\"))\n",
    "                    .select(\"name\",\"terminology\",\"code\",\"term\"))\n",
    "\n",
    "\n",
    "\n",
    "# from CCU002_01_codelist\n",
    "codelist_angina = spark.createDataFrame(\n",
    "[\n",
    "(\"angina\",\"ICD10\",\"I20\",\"Angina\",\"\",\"\"),\n",
    "(\"angina\",\"SNOMED\",\"10971000087107\",\"Myocardial ischemia during surgery (disorder)\",\"1\",\"20210127\"),\n",
    "(\"angina\",\"SNOMED\",\"15960061000119102\",\"Unstable angina co-occurrent and due to coronary arteriosclerosis (disorder)\",\"1\",\"20210127\"),\n",
    "(\"angina\",\"SNOMED\",\"15960581000119102\",\"Angina co-occurrent and due to arteriosclerosis of autologous vein coronary artery bypass graft (disorder)\",\"1\",\"20210127\"),\n",
    "(\"angina\",\"SNOMED\",\"15960661000119107\",\"Unstable angina co-occurrent and due to arteriosclerosis of coronary artery bypass graft (disorder)\",\"1\",\"20210127\"),\n",
    "(\"angina\",\"SNOMED\",\"19057007\",\"Status anginosus (disorder)\",\"1\",\"20210127\"),\n",
    "(\"angina\",\"SNOMED\",\"194828000\",\"Angina (disorder)\",\"1\",\"20210127\"),\n",
    "(\"angina\",\"SNOMED\",\"21470009\",\"Syncope anginosa (disorder)\",\"1\",\"20210127\"),\n",
    "(\"angina\",\"SNOMED\",\"233821000\",\"New onset angina (disorder)\",\"1\",\"20210127\"),\n",
    "(\"angina\",\"SNOMED\",\"25106000\",\"Impending infarction (disorder)\",\"1\",\"20210127\"),\n",
    "(\"angina\",\"SNOMED\",\"314116003\",\"Post infarct angina (disorder)\",\"1\",\"20210127\"),\n",
    "(\"angina\",\"SNOMED\",\"371806006\",\"Progressive angina (disorder)\",\"1\",\"20210127\"),\n",
    "(\"angina\",\"SNOMED\",\"371809004\",\"Recurrent angina status post coronary stent placement (disorder)\",\"1\",\"20210127\"),\n",
    "(\"angina\",\"SNOMED\",\"371812001\",\"Recurrent angina status post directional coronary atherectomy (disorder)\",\"1\",\"20210127\"),\n",
    "(\"angina\",\"SNOMED\",\"41334000\",\"Angina, class II (disorder)\",\"1\",\"20210127\"),\n",
    "(\"angina\",\"SNOMED\",\"413439005\",\"Acute ischemic heart disease (disorder)\",\"1\",\"20210127\"),\n",
    "(\"angina\",\"SNOMED\",\"413444003\",\"Acute myocardial ischemia (disorder)\",\"1\",\"20210127\"),\n",
    "(\"angina\",\"SNOMED\",\"413838009\",\"Chronic ischemic heart disease (disorder)\",\"1\",\"20210127\"),\n",
    "(\"angina\",\"SNOMED\",\"429559004\",\"Typical angina (disorder)\",\"1\",\"20210127\"),\n",
    "(\"angina\",\"SNOMED\",\"4557003\",\"Preinfarction syndrome (disorder)\",\"1\",\"20210127\"),\n",
    "(\"angina\",\"SNOMED\",\"59021001\",\"Angina decubitus (disorder)\",\"1\",\"20210127\"),\n",
    "(\"angina\",\"SNOMED\",\"61490001\",\"Angina, class I (disorder)\",\"1\",\"20210127\"),\n",
    "(\"angina\",\"SNOMED\",\"712866001\",\"Resting ischemia co-occurrent and due to ischemic heart disease (disorder)\",\"1\",\"20210127\"),\n",
    "(\"angina\",\"SNOMED\",\"791000119109\",\"Angina associated with type II diabetes mellitus (disorder)\",\"1\",\"20210127\"),\n",
    "(\"angina\",\"SNOMED\",\"85284003\",\"Angina, class III (disorder)\",\"1\",\"20210127\"),\n",
    "(\"angina\",\"SNOMED\",\"89323001\",\"Angina, class IV (disorder)\",\"1\",\"20210127\"),\n",
    "(\"angina\",\"SNOMED\",\"15960141000119102\",\"Angina co-occurrent and due to coronary arteriosclerosis (disorder)\",\"1\",\"20210127\"),\n",
    "(\"angina\",\"SNOMED\",\"15960381000119109\",\"Angina co-occurrent and due to arteriosclerosis of coronary artery bypass graft (disorder)\",\"1\",\"20210127\"),\n",
    "(\"angina\",\"SNOMED\",\"194823009\",\"Acute coronary insufficiency (disorder)\",\"1\",\"20210127\"),\n",
    "(\"angina\",\"SNOMED\",\"225566008\",\"Ischemic chest pain (finding)\",\"1\",\"20210127\"),\n",
    "(\"angina\",\"SNOMED\",\"233819005\",\"Stable angina (disorder)\",\"1\",\"20210127\"),\n",
    "(\"angina\",\"SNOMED\",\"233823002\",\"Silent myocardial ischemia (disorder)\",\"1\",\"20210127\"),\n",
    "(\"angina\",\"SNOMED\",\"300995000\",\"Exercise-induced angina (disorder)\",\"1\",\"20210127\"),\n",
    "(\"angina\",\"SNOMED\",\"315025001\",\"Refractory angina (disorder)\",\"1\",\"20210127\"),\n",
    "(\"angina\",\"SNOMED\",\"35928006\",\"Nocturnal angina (disorder)\",\"1\",\"20210127\"),\n",
    "(\"angina\",\"SNOMED\",\"371807002\",\"Atypical angina (disorder)\",\"1\",\"20210127\"),\n",
    "(\"angina\",\"SNOMED\",\"371808007\",\"Recurrent angina status post percutaneous transluminal coronary angioplasty (disorder)\",\"1\",\"20210127\"),\n",
    "(\"angina\",\"SNOMED\",\"371810009\",\"Recurrent angina status post coronary artery bypass graft (disorder)\",\"1\",\"20210127\"),\n",
    "(\"angina\",\"SNOMED\",\"371811008\",\"Recurrent angina status post rotational atherectomy (disorder)\",\"1\",\"20210127\"),\n",
    "(\"angina\",\"SNOMED\",\"394659003\",\"Acute coronary syndrome (disorder)\",\"1\",\"20210127\"),\n",
    "(\"angina\",\"SNOMED\",\"413844008\",\"Chronic myocardial ischemia (disorder)\",\"1\",\"20210127\"),\n",
    "(\"angina\",\"SNOMED\",\"414545008\",\"Ischemic heart disease (disorder)\",\"1\",\"20210127\"),\n",
    "(\"angina\",\"SNOMED\",\"414795007\",\"Myocardial ischemia (disorder)\",\"1\",\"20210127\"),\n",
    "(\"angina\",\"SNOMED\",\"46109009\",\"Subendocardial ischemia (disorder)\",\"1\",\"20210127\"),\n",
    "(\"angina\",\"SNOMED\",\"697976003\",\"Microvascular ischemia of myocardium (disorder)\",\"1\",\"20210127\"),\n",
    "(\"angina\",\"SNOMED\",\"703214003\",\"Silent coronary vasospastic disease (disorder)\",\"1\",\"20210127\"),\n",
    "(\"angina\",\"SNOMED\",\"713405002\",\"Subacute ischemic heart disease (disorder)\",\"1\",\"20210127\"),\n",
    "(\"angina\",\"SNOMED\",\"87343002\",\"Prinzmetal angina (disorder)\",\"1\",\"20210127\"),\n",
    "(\"unstable_angina\",\"ICD10\",\"I20.1\",\"Unstable angina\",\"\",\"\"),\n",
    "(\"unstable_angina\",\"SNOMED\",\"15960061000119102\",\"Unstable angina co-occurrent and due to coronary arteriosclerosis (disorder)\",\"1\",\"20210127\"),\n",
    "(\"unstable_angina\",\"SNOMED\",\"15960661000119107\",\"Unstable angina co-occurrent and due to arteriosclerosis of coronary artery bypass graft (disorder)\",\"1\",\"20210127\"),\n",
    "(\"unstable_angina\",\"SNOMED\",\"19057007\",\"Status anginosus (disorder)\",\"1\",\"20210127\"),\n",
    "(\"unstable_angina\",\"SNOMED\",\"25106000\",\"Impending infarction (disorder)\",\"1\",\"20210127\"),\n",
    "(\"unstable_angina\",\"SNOMED\",\"4557003\",\"Preinfarction syndrome (disorder)\",\"1\",\"20210127\"),\n",
    "(\"unstable_angina\",\"SNOMED\",\"712866001\",\"Resting ischemia co-occurrent and due to ischemic heart disease (disorder)\",\"1\",\"20210127\"),\n",
    "(\"unstable_angina\",\"SNOMED\",\"315025001\",\"Refractory angina (disorder)\",\"1\",\"20210127\"),\n",
    "(\"unstable_angina\",\"SNOMED\",\"35928006\",\"Nocturnal angina (disorder)\",\"1\",\"20210127\"),\n",
    "(\"unstable_angina\",\"SNOMED\",\"371807002\",\"Atypical angina (disorder)\",\"1\",\"20210127\"),\n",
    "(\"unstable_angina\",\"SNOMED\",\"394659003\",\"Acute coronary syndrome (disorder)\",\"1\",\"20210127\")\n",
    "\n",
    "],\n",
    "['name', 'terminology', 'code', 'term', 'code_type', 'RecordDate']   \n",
    ").select(\"name\",\"terminology\",\"code\",\"term\")\n",
    "\n",
    "\n",
    "crf_cad = crf_cad.union(codelist_angina).distinct()\n",
    "\n",
    "display(crf_cad)"
   ]
  },
  {
   "cell_type": "markdown",
   "metadata": {
    "application/vnd.databricks.v1+cell": {
     "cellMetadata": {
      "byteLimit": 2048000,
      "rowLimit": 10000
     },
     "inputWidgets": {},
     "nuid": "21fba5a7-d49e-4d39-b48e-efaa95ca15f7",
     "showTitle": false,
     "tableResultSettingsMap": {},
     "title": ""
    }
   },
   "source": [
    "#3. Post Intervention Outcomes"
   ]
  },
  {
   "cell_type": "markdown",
   "metadata": {
    "application/vnd.databricks.v1+cell": {
     "cellMetadata": {
      "byteLimit": 2048000,
      "rowLimit": 10000
     },
     "inputWidgets": {},
     "nuid": "624e6e53-c230-4dd4-b64c-084c2b701a4c",
     "showTitle": false,
     "tableResultSettingsMap": {},
     "title": ""
    }
   },
   "source": [
    "**Only need the ICD10 codes for hospitalisation and death outcomes as these only come from HES and Deaths which use only ICD10**"
   ]
  },
  {
   "cell_type": "markdown",
   "metadata": {
    "application/vnd.databricks.v1+cell": {
     "cellMetadata": {
      "byteLimit": 2048000,
      "rowLimit": 10000
     },
     "inputWidgets": {},
     "nuid": "5d80853a-c8ee-45c1-91ef-b22a17aeaf70",
     "showTitle": false,
     "tableResultSettingsMap": {},
     "title": ""
    }
   },
   "source": [
    "##3.1 Hospitalisation with Heart Failure"
   ]
  },
  {
   "cell_type": "markdown",
   "metadata": {
    "application/vnd.databricks.v1+cell": {
     "cellMetadata": {
      "byteLimit": 2048000,
      "rowLimit": 10000
     },
     "inputWidgets": {},
     "nuid": "d764bcc2-d907-40c8-b397-7c84932fda8f",
     "showTitle": false,
     "tableResultSettingsMap": {},
     "title": ""
    }
   },
   "source": [
    "HF codes as above - codes in the primary position only"
   ]
  },
  {
   "cell_type": "markdown",
   "metadata": {
    "application/vnd.databricks.v1+cell": {
     "cellMetadata": {
      "byteLimit": 2048000,
      "rowLimit": 10000
     },
     "inputWidgets": {},
     "nuid": "73ce5e35-c94e-4308-a021-6019fb7a3758",
     "showTitle": false,
     "tableResultSettingsMap": {},
     "title": ""
    }
   },
   "source": [
    "##3.2 CVD Death"
   ]
  },
  {
   "cell_type": "code",
   "execution_count": 0,
   "metadata": {
    "application/vnd.databricks.v1+cell": {
     "cellMetadata": {
      "byteLimit": 2048000,
      "rowLimit": 10000
     },
     "inputWidgets": {},
     "nuid": "f8afef90-4987-4e04-8b0c-5dc31209c360",
     "showTitle": false,
     "tableResultSettingsMap": {},
     "title": ""
    }
   },
   "outputs": [],
   "source": [
    "#from CCU004_01\n",
    "\n",
    "# Fatal cardiovascular disease (ICD10)\n",
    "codelist_fatal = spark.createDataFrame(\n",
    "  [\n",
    "    #hypertensive disease\n",
    "    ('hypertension','ICD10',  'I10',   'Essential (primary) hypertension','',''),\n",
    "    ('hypertension','ICD10',  'I11',   'Hypertensive heart disease','',''),\n",
    "    ('hypertension','ICD10',  'I110',   'Hypertensive heart disease with (congestive) heart failure','',''),\n",
    "    ('hypertension','ICD10',  'I119',   'Hypertensive heart disease without (congestive) heart failure','',''),\n",
    "    ('hypertension','ICD10',  'I12',   'Hypertensive renal disease','',''),\n",
    "    ('hypertension','ICD10',  'I129',   'Hypertensive renal disease without renal failure','',''),\n",
    "    ('hypertension','ICD10',  'I13',   'Hypertensive heart and renal disease','',''),\n",
    "    ('hypertension','ICD10',  'I130',   'Hypertensive heart and renal disease with (congestive) heart failure','',''),\n",
    "    ('hypertension','ICD10',  'I131',   'Hypertensive heart and renal disease with renal failure','',''),\n",
    "    ('hypertension','ICD10',  'I132',   'Hypertensive heart and renal disease with both (congestive) heart failure and renal failure','',''),\n",
    "    ('hypertension','ICD10',  'I139',   'Hypertensive heart and renal disease, unspecified','',''),\n",
    "    ('hypertension','ICD10',  'I15',   'Secondary hypertension','',''),\n",
    "    ('hypertension','ICD10',  'I151',   'Hypertension secondary to other renal disorders','',''),\n",
    "    ('hypertension','ICD10',  'I152',   'Hypertension secondary to endocrine disorders','',''),\n",
    "    ('hypertension','ICD10',  'I158',   'Other secondary hypertension','',''),\n",
    "    ('hypertension','ICD10',  'I159',   'Secondary hypertension, unspecified','',''),\n",
    "  \n",
    "    # ischaemic heart disease\n",
    "    ('ischaemic_heart_disease','ICD10',  'I20',   'Angina pectoris','',''),\n",
    "    ('ischaemic_heart_disease','ICD10',  'I200',   'Unstable angina','',''),\n",
    "    ('ischaemic_heart_disease','ICD10',  'I201',   'Angina pectoris with documented spasm','',''),\n",
    "    ('ischaemic_heart_disease','ICD10',  'I208',   'Other forms of angina pectoris','',''),\n",
    "    ('ischaemic_heart_disease','ICD10',  'I209',   'Angina pectoris, unspecified','',''),\n",
    "    ('ischaemic_heart_disease','ICD10',  'I21',   'Acute myocardial infarction','',''),\n",
    "    ('ischaemic_heart_disease','ICD10',  'I210',   'Acute transmural myocardial infarction of anterior wall','',''),\n",
    "    ('ischaemic_heart_disease','ICD10',  'I211',   'Acute transmural myocardial infarction of inferior wall','',''),\n",
    "    ('ischaemic_heart_disease','ICD10',  'I212',   'Acute transmural myocardial infarction of other sites','',''),\n",
    "    ('ischaemic_heart_disease','ICD10',  'I213',   'Acute transmural myocardial infarction of unspecified sites','',''),\n",
    "    ('ischaemic_heart_disease','ICD10',  'I214',   'Acute subendocardial myocardial infarction','',''),\n",
    "    ('ischaemic_heart_disease','ICD10',  'I219',   'Acute myocardial infarction, unspecified','',''),\n",
    "    ('ischaemic_heart_disease','ICD10',  'I22',   'Subsequent myocardial infarction','',''),\n",
    "    ('ischaemic_heart_disease','ICD10',  'I220',   'Subsequent myocardial infarction of anterior wall','',''),\n",
    "    ('ischaemic_heart_disease','ICD10',  'I221',   'Subsequent myocardial infarction of inferior wall','',''),\n",
    "    ('ischaemic_heart_disease','ICD10',  'I228',   'Subsequent myocardial infarction of other sites','',''),\n",
    "    ('ischaemic_heart_disease','ICD10',  'I229',   'Subsequent myocardial infarction of unspecified site','',''),\n",
    "    ('ischaemic_heart_disease','ICD10',  'I23',   'Certain current complications following acute myocardial infarction','',''),\n",
    "    ('ischaemic_heart_disease','ICD10',  'I230',   'Haemopericardium as current complication following acute myocardial infarction','',''),\n",
    "    ('ischaemic_heart_disease','ICD10',  'I231',   'Atrial septal defect as current complication following acute myocardial infarction','',''),\n",
    "    ('ischaemic_heart_disease','ICD10',  'I232',   'Ventricular septal defect as current complication following acute myocardial infarction','',''),\n",
    "    ('ischaemic_heart_disease','ICD10',  'I233',   'Rupture of cardiac wall without haemopericardium as current complication following acute myocardial infarction','',''),\n",
    "    ('ischaemic_heart_disease','ICD10',  'I234',   'Rupture of chordae tendineae as current complication following acute myocardial infarction','',''),\n",
    "    ('ischaemic_heart_disease','ICD10',  'I235',   'Rupture of papillary muscle as current complication following acute myocardial infarction','',''),\n",
    "    ('ischaemic_heart_disease','ICD10',  'I236',   'Thrombosis of atrium, auricular appendage, and ventricle as current complications following acute myocardial infarction','',''),\n",
    "    ('ischaemic_heart_disease','ICD10',  'I238',   'Other current complications following acute myocardial infarction','',''),\n",
    "    ('ischaemic_heart_disease','ICD10',  'I24',   'Other acute ischaemic heart diseases','',''),\n",
    "    ('ischaemic_heart_disease','ICD10',  'I240',   'Coronary thrombosis not resulting in myocardial infarction','',''),\n",
    "    ('ischaemic_heart_disease','ICD10',  'I241',   'Dressler syndrome','',''),\n",
    "    ('ischaemic_heart_disease','ICD10',  'I248',   'Other forms of acute ischaemic heart disease','',''),\n",
    "    ('ischaemic_heart_disease','ICD10',  'I249',   'Acute ischaemic heart disease, unspecified','',''),\n",
    "    ('ischaemic_heart_disease','ICD10',  'I25',    'Chronic ischemic heart disease','',''), #added by Fionna\n",
    "    ('ischaemic_heart_disease','ICD10',  'I250',   'Atherosclerotic cardiovascular disease, so described','',''),\n",
    "    ('ischaemic_heart_disease','ICD10',  'I251',   'Atherosclerotic heart disease','',''),\n",
    "    ('ischaemic_heart_disease','ICD10',  'I252',   'Old myocardial infarction','',''),\n",
    "    ('ischaemic_heart_disease','ICD10',  'I253',   'Aneurysm of heart','',''),\n",
    "    ('ischaemic_heart_disease','ICD10',  'I254',   'Coronary artery aneurysm and dissection','',''),\n",
    "    ('ischaemic_heart_disease','ICD10',  'I255',   'Ischaemic cardiomyopathy','',''),\n",
    "    ('ischaemic_heart_disease','ICD10',  'I256',   'Silent myocardial ischaemia','',''),\n",
    "    ('ischaemic_heart_disease','ICD10',  'I258',   'Other forms of chronic ischaemic heart disease','',''),\n",
    "    ('ischaemic_heart_disease','ICD10',  'I259',   'Chronic ischaemic heart disease, unspecified','',''),\n",
    "    \n",
    "    # Arrythmias, heart failure\n",
    "    ('arrythmias_heart_failure','ICD10',  'I46',   'Cardiac arrest','',''),\n",
    "    ('arrythmias_heart_failure','ICD10',  'I460',   'Cardiac arrest with successful resuscitation','',''),\n",
    "    ('arrythmias_heart_failure','ICD10',  'I461',   'Sudden cardiac death, so described','',''),\n",
    "    ('arrythmias_heart_failure','ICD10',  'I47',   'Paroxysmal tachycardia','',''),\n",
    "    ('arrythmias_heart_failure','ICD10',  'I470',   'Re-entry ventricular arrhythmia','',''),\n",
    "    ('arrythmias_heart_failure','ICD10',  'I471',   'Supraventricular tachycardia','',''),\n",
    "    ('arrythmias_heart_failure','ICD10',  'I472',   'Ventricular tachycardia','',''),\n",
    "    ('arrythmias_heart_failure','ICD10',  'I479',   'Paroxysmal tachycardia, unspecified','',''),\n",
    "    ('arrythmias_heart_failure','ICD10',  'I48',   'Atrial fibrillation and flutter','',''),\n",
    "    ('arrythmias_heart_failure','ICD10',  'I480',   'Paroxysmal atrial fibrillation','',''),   \n",
    "    ('arrythmias_heart_failure','ICD10',  'I481',   'Persistent atrial fibrillation','',''),\n",
    "    ('arrythmias_heart_failure','ICD10',  'I482',   'Chronic atrial fibrillation','',''),\n",
    "    ('arrythmias_heart_failure','ICD10',  'I483',   'Typical atrial flutter','',''),\n",
    "    ('arrythmias_heart_failure','ICD10',  'I484',   'Atypical atrial flutter','',''),\n",
    "    ('arrythmias_heart_failure','ICD10',  'I489',   'Atrial fibrillation and atrial flutter, unspecified','',''),\n",
    "    ('arrythmias_heart_failure','ICD10',  'I49',   'Other cardiac arrhythmias','',''),\n",
    "    ('arrythmias_heart_failure','ICD10',  'I491',   'Atrial premature depolarization','',''),\n",
    "    ('arrythmias_heart_failure','ICD10',  'I492',   'Junctional premature depolarization','',''),\n",
    "    ('arrythmias_heart_failure','ICD10',  'I494',   'Ventricular premature depolarization','',''),\n",
    "    ('arrythmias_heart_failure','ICD10',  'I495',   'Sick sinus syndrome','',''),  \n",
    "    ('arrythmias_heart_failure','ICD10',  'I498',   'Other specified cardiac arrhythmias','',''),\n",
    "    ('arrythmias_heart_failure','ICD10',  'I499',   'Cardiac arrhythmia, unspecified','',''),\n",
    "    ('arrythmias_heart_failure','ICD10',  'I50',   'Heart failure','',''),\n",
    "    ('arrythmias_heart_failure','ICD10',  'I500',   'Congestive heart failure','',''),\n",
    "    ('arrythmias_heart_failure','ICD10',  'I501',   'Left ventricular failure','',''),\n",
    "    ('arrythmias_heart_failure','ICD10',  'I509',   'Heart failure, unspecified','',''),\n",
    "   ('arrythmias_heart_failure','ICD10',  'I51',   'Complications and ill-defined descriptions of heart disease','',''), #added back in by Fionna\n",
    "    ('arrythmias_heart_failure','ICD10',  'I510',   'Cardiac septal defect, acquired','',''),\n",
    "    ('arrythmias_heart_failure','ICD10',  'I511',   'Rupture of chordae tendineae, not elsewhere classified','',''),\n",
    "    ('arrythmias_heart_failure','ICD10',  'I512',   'Rupture of papillary muscle, not elsewhere classified','',''),\n",
    "    ('arrythmias_heart_failure','ICD10',  'I513',   'Intracardiac thrombosis, not elsewhere classified','',''),\n",
    "  ('arrythmias_heart_failure','ICD10',  'I514',   'Myocarditis, unspecified','',''),\n",
    "    ('arrythmias_heart_failure','ICD10',  'I515',   'Myocardial degeneration','',''),   \n",
    "    ('arrythmias_heart_failure','ICD10',  'I516',   'Cardiovascular disease, unspecified','',''),\n",
    "    ('arrythmias_heart_failure','ICD10',  'I517',   'Cardiomegaly','',''),\n",
    "    ('arrythmias_heart_failure','ICD10',  'I518',   'Other ill-defined heart diseases','',''),\n",
    "    ('arrythmias_heart_failure','ICD10',  'I519',   'Heart disease, unspecified','',''),\n",
    "    ('arrythmias_heart_failure','ICD10',  'I52',   'Other heart disorders in diseases classified elsewhere','',''),\n",
    "    ('arrythmias_heart_failure','ICD10',  'I520',   'Other heart disorders in bacterial diseases classified elsewhere','',''),\n",
    "    ('arrythmias_heart_failure','ICD10',  'I521',   'Other heart disorders in other infectious and parasitic diseases classified elsewhere','',''),\n",
    "    ('arrythmias_heart_failure','ICD10',  'I528',   'Other heart disorders in other diseases classified elsewhere','',''),\n",
    "\n",
    "    # Cerebrovascular disease\n",
    "    \n",
    "    #excluded in CCU004_01\n",
    "    ('cerebrovascular_disease','ICD10',  'I60',   'Subarachnoid haemorrhage','',''),\n",
    "    ('cerebrovascular_disease','ICD10',  'I600',  'Subarachnoid haemorrhage from carotid siphon and bifurcation','',''),\n",
    "    ('cerebrovascular_disease','ICD10',  'I601',  'Subarachnoid haemorrhage from middle cerebral artery','',''),\n",
    "    ('cerebrovascular_disease','ICD10',  'I602',  'Subarachnoid haemorrhage from anterior communicating artery','',''),\n",
    "    ('cerebrovascular_disease','ICD10',  'I603',  'Subarachnoid haemorrhage from posterior communicating artery','',''),\n",
    "    ('cerebrovascular_disease','ICD10',  'I604',  'Subarachnoid haemorrhage from basilar artery','',''),\n",
    "    ('cerebrovascular_disease','ICD10',  'I605',  'Subarachnoid haemorrhage from vertebral artery','',''),\n",
    "    ('cerebrovascular_disease','ICD10',  'I606',  'Subarachnoid haemorrhage from other intracranial arteries','',''),\n",
    "    ('cerebrovascular_disease','ICD10',  'I607',  'Subarachnoid haemorrhage from intracranial artery, unspecified','',''),\n",
    "    ('cerebrovascular_disease','ICD10',  'I608',  'Other subarachnoid haemorrhage','',''),\n",
    "    ('cerebrovascular_disease','ICD10',  'I609',  'Subarachnoid haemorrhage, unspecified','',''),\n",
    "\n",
    "\n",
    "\n",
    "    ('cerebrovascular_disease','ICD10',  'I61',   'Intracerebral haemorrhage','',''),\n",
    "    ('cerebrovascular_disease','ICD10',  'I610',  'Intracerebral haemorrhage in hemisphere, subcortical','',''),\n",
    "    ('cerebrovascular_disease','ICD10',  'I611',  'Intracerebral haemorrhage in hemisphere, cortical','',''),\n",
    "    ('cerebrovascular_disease','ICD10',  'I612',  'Intracerebral haemorrhage in hemisphere, unspecified','',''),\n",
    "    ('cerebrovascular_disease','ICD10',  'I613',  'Intracerebral haemorrhage in brain stem','',''),\n",
    "    ('cerebrovascular_disease','ICD10',  'I614',  'Intracerebral haemorrhage in cerebellum','',''),\n",
    "    ('cerebrovascular_disease','ICD10',  'I615',  'Intracerebral haemorrhage, intraventricular','',''),\n",
    "    ('cerebrovascular_disease','ICD10',  'I616',  'Intracerebral haemorrhage, multiple localized','',''),\n",
    "    ('cerebrovascular_disease','ICD10',  'I618',  'Other intracerebral haemorrhage','',''),\n",
    "    ('cerebrovascular_disease','ICD10',  'I619',  'Intracerebral haemorrhage, unspecified','',''),\n",
    "\n",
    "\n",
    "     #excluded in CCU004_01\n",
    "    ('cerebrovascular_disease','ICD10',  'I62',   'Other nontraumatic intracranial haemorrhage','',''),\n",
    "    ('cerebrovascular_disease','ICD10',  'I620',  'Subdural haemorrhage (acute)(nontraumatic)','',''),\n",
    "    ('cerebrovascular_disease','ICD10',  'I621',  'Nontraumatic extradural haemorrhage','',''),\n",
    "    ('cerebrovascular_disease','ICD10',  'I629',  'Intracranial haemorrhage (nontraumatic), unspecified','',''),\n",
    "\n",
    "\n",
    "    ('cerebrovascular_disease','ICD10',  'I63',   'Cerebral infarction','',''),\n",
    "    ('cerebrovascular_disease','ICD10',  'I630',  'Cerebral infarction due to thrombosis of precerebral arteries','',''),\n",
    "    ('cerebrovascular_disease','ICD10',  'I631',  'Cerebral infarction due to embolism of precerebral arteries','',''),\n",
    "    ('cerebrovascular_disease','ICD10',  'I632',  'Cerebral infarction due to unspecified occlusion or stenosis of precerebral arteries','',''),\n",
    "    ('cerebrovascular_disease','ICD10',  'I633',  'Cerebral infarction due to thrombosis of cerebral arteries','',''),\n",
    "    ('cerebrovascular_disease','ICD10',  'I634',  'Cerebral infarction due to embolism of cerebral arteries','',''),\n",
    "    ('cerebrovascular_disease','ICD10',  'I635',  'Cerebral infarction due to unspecified occlusion or stenosis of cerebral arteries','',''),\n",
    "    ('cerebrovascular_disease','ICD10',  'I636',  'Cerebral infarction due to cerebral venous thrombosis, nonpyogenic','',''),\n",
    "    ('cerebrovascular_disease','ICD10',  'I638',  'Other cerebral infarction','',''),\n",
    "    ('cerebrovascular_disease','ICD10',  'I639',  'Cerebral infarction, unspecified','',''),\n",
    "    ('cerebrovascular_disease','ICD10',  'I64X',  'Stroke, not specified as haemorrhage or infarction','',''),\n",
    "    ('cerebrovascular_disease','ICD10',  'I65',   'Occlusion and stenosis of precerebral arteries, not resulting in cerebral infarction','',''),\n",
    "    ('cerebrovascular_disease','ICD10',  'I650',  'Occlusion and stenosis of vertebral artery','',''),\n",
    "    ('cerebrovascular_disease','ICD10',  'I651',  'Occlusion and stenosis of basilar artery','',''),\n",
    "    ('cerebrovascular_disease','ICD10',  'I652',  'Occlusion and stenosis of carotid artery','',''),\n",
    "    ('cerebrovascular_disease','ICD10',  'I653',  'Occlusion and stenosis of multiple and bilateral precerebral arteries','',''),\n",
    "    ('cerebrovascular_disease','ICD10',  'I658',  'Occlusion and stenosis of other precerebral artery','',''),\n",
    "    ('cerebrovascular_disease','ICD10',  'I659',  'Occlusion and stenosis of unspecified precerebral artery','',''),\n",
    "    ('cerebrovascular_disease','ICD10',  'I66',   'Occlusion and stenosis of cerebral arteries, not resulting in cerebral infarction','',''),\n",
    "    ('cerebrovascular_disease','ICD10',  'I660',  'Occlusion and stenosis of middle cerebral artery','',''),\n",
    "    ('cerebrovascular_disease','ICD10',  'I661',  'Occlusion and stenosis of anterior cerebral artery','',''),\n",
    "    ('cerebrovascular_disease','ICD10',  'I662',  'Occlusion and stenosis of posterior cerebral artery','',''),\n",
    "    ('cerebrovascular_disease','ICD10',  'I663',  'Occlusion and stenosis of cerebellar arteries','',''),\n",
    "    ('cerebrovascular_disease','ICD10',  'I664',  'Occlusion and stenosis of multiple and bilateral cerebral arteries','',''),\n",
    "    ('cerebrovascular_disease','ICD10',  'I668',  'Occlusion and stenosis of other cerebral artery','',''),\n",
    "    ('cerebrovascular_disease','ICD10',  'I669',  'Occlusion and stenosis of unspecified cerebral artery','',''),\n",
    "\n",
    "    ('cerebrovascular_disease','ICD10',  'I67',   'Other cerebrovascular diseases','',''), #prev excluded\n",
    "\n",
    "    ('cerebrovascular_disease','ICD10',  'I670',  'Dissection of cerebral arteries, nonruptured','',''),\n",
    "\n",
    "    ('cerebrovascular_disease','ICD10',  'I671',  'Cerebral aneurysm, nonruptured','',''), #prev excluded\n",
    "\n",
    "    ('cerebrovascular_disease','ICD10',  'I672',  'Cerebral atherosclerosis','',''),\n",
    "    ('cerebrovascular_disease','ICD10',  'I673',  'Progressive vascular leukoencephalopathy','',''),\n",
    "    ('cerebrovascular_disease','ICD10',  'I674',  'Hypertensive encephalopathy','',''),\n",
    "\n",
    "    ('cerebrovascular_disease','ICD10',  'I675',  'Moyamoya disease','',''), #prev excluded\n",
    "\n",
    "    ('cerebrovascular_disease','ICD10',  'I676',  'Nonpyogenic thrombosis of intracranial venous system','',''),\n",
    "    ('cerebrovascular_disease','ICD10',  'I677',  'Cerebral arteritis, not elsewhere classified','',''),\n",
    "    ('cerebrovascular_disease','ICD10',  'I678',  'Other specified cerebrovascular diseases','',''),\n",
    "    ('cerebrovascular_disease','ICD10',  'I679',  'Cerebrovascular disease, unspecified','',''),\n",
    "\n",
    "    ('cerebrovascular_disease','ICD10',  'I68',   'Cerebrovascular disorders in diseases classified elsewhere','',''), #prev excluded\n",
    "\n",
    "    ('cerebrovascular_disease','ICD10',  'I680',  'Cerebral amyloid angiopathy','',''),\n",
    "    ('cerebrovascular_disease','ICD10',  'I681',  'Cerebral arteritis in infectious and parasitic diseases classified elsewhere','',''),\n",
    "\n",
    "    ('cerebrovascular_disease','ICD10',  'I682',  'Cerebral arteritis in other diseases classified elsewhere','',''), #prev excluded\n",
    "\n",
    "    ('cerebrovascular_disease','ICD10',  'I688',  'Other cerebrovascular disorders in diseases classified elsewhere','',''),\n",
    "    ('cerebrovascular_disease','ICD10',  'I69',   'Sequelae of cerebrovascular disease','',''),\n",
    "    ('cerebrovascular_disease','ICD10',  'I690',  'Sequelae of subarachnoid haemorrhage','',''),\n",
    "    ('cerebrovascular_disease','ICD10',  'I691',  'Sequelae of intracerebral haemorrhage','',''),\n",
    "    ('cerebrovascular_disease','ICD10',  'I692',  'Sequelae of other nontraumatic intracranial haemorrhage','',''),\n",
    "    ('cerebrovascular_disease','ICD10',  'I693',  'Sequelae of cerebral infarction','',''),\n",
    "    ('cerebrovascular_disease','ICD10',  'I694',  'Sequelae of stroke, not specified as haemorrhage or infarction','',''),\n",
    "    ('cerebrovascular_disease','ICD10',  'I698',  'Sequelae of other and unspecified cerebrovascular diseases','',''),\n",
    "\n",
    "\n",
    "\n",
    "   # Athelerosclerosis/AAA\n",
    "    ('atherosclerosis','ICD10',  'I70',   'Atherosclerosis','',''),\n",
    "    ('atherosclerosis','ICD10',  'I700',   'Atherosclerosis of aorta','',''),   \n",
    "    ('atherosclerosis','ICD10',  'I7000',   'Atherosclerosis of aorta','',''),\n",
    "    ('atherosclerosis','ICD10',  'I7001',   'Atherosclerosis of aorta','',''),   \n",
    "    ('atherosclerosis','ICD10',  'I701',   'Atherosclerosis of renal artery','',''),\n",
    "    ('atherosclerosis','ICD10',  'I7010',   'Atherosclerosis of renal artery','',''),   \n",
    "    ('atherosclerosis','ICD10',  'I7011',   'Atherosclerosis of renal artery','',''),\n",
    "    ('atherosclerosis','ICD10',  'I702',   'Atherosclerosis of arteries of extremities','',''),   \n",
    "    ('atherosclerosis','ICD10',  'I7020',   'Atherosclerosis of arteries of extremities','',''),\n",
    "    ('atherosclerosis','ICD10',  'I7021',   'Atherosclerosis of arteries of extremities','',''),   \n",
    "    ('atherosclerosis','ICD10',  'I708',   'Atherosclerosis of other arteries','',''),\n",
    "    ('atherosclerosis','ICD10',  'I7080',   'Atherosclerosis of other arteries','',''),\n",
    "    ('atherosclerosis','ICD10',  'I7081',   'Atherosclerosis of other arteries','',''),   \n",
    "    ('atherosclerosis','ICD10',  'I709',   'Generalized and unspecified atherosclerosis','',''),\n",
    "    ('atherosclerosis','ICD10',  'I7090',   'Generalized and unspecified atherosclerosis','',''),   \n",
    "    ('atherosclerosis','ICD10',  'I7091',   'Generalized and unspecified atherosclerosis','',''),\n",
    "    ('atherosclerosis','ICD10',  'I71',   'Aortic aneurysm and dissection','',''),\n",
    "    ('atherosclerosis','ICD10',  'I710',   'Dissection of aorta [any part]','',''),\n",
    "    ('atherosclerosis','ICD10',  'I711',   'Thoracic aortic aneurysm, ruptured','',''),   \n",
    "    ('atherosclerosis','ICD10',  'I712',   'Thoracic aortic aneurysm, without mention of rupture','',''),\n",
    "    ('atherosclerosis','ICD10',  'I713',   'Abdominal aortic aneurysm, ruptured','',''),   \n",
    "    ('atherosclerosis','ICD10',  'I714',   'Abdominal aortic aneurysm, without mention of rupture','',''),\n",
    "    ('atherosclerosis','ICD10',  'I715',   'Thoracoabdominal aortic aneurysm, ruptured','',''),\n",
    "    ('atherosclerosis','ICD10',  'I716',   'Thoracoabdominal aortic aneurysm, without mention of rupture','',''),   \n",
    "    ('atherosclerosis','ICD10',  'I718',   'Aortic aneurysm of unspecified site, ruptured','',''),\n",
    "    ('atherosclerosis','ICD10',  'I719',   'Aortic aneurysm of unspecified site, without mention of rupture','',''),  \n",
    "    ('atherosclerosis','ICD10',  'I72',   'Other aneurysm and dissection','',''),   \n",
    "    ('atherosclerosis','ICD10',  'I720',   'Aneurysm and dissection of carotid artery','',''),\n",
    "    ('atherosclerosis','ICD10',  'I721',   'Aneurysm and dissection of artery of upper extremity','',''),  \n",
    "    ('atherosclerosis','ICD10',  'I722',   'Aneurysm and dissection of renal artery','',''),   \n",
    "    ('atherosclerosis','ICD10',  'I724',   'Aneurysm and dissection of artery of lower extremity','',''),\n",
    "    ('atherosclerosis','ICD10',  'I725',   'Aneurysm and dissection of other precerebral arteries','',''),  \n",
    "    ('atherosclerosis','ICD10',  'I726',   'Aneurysm and dissection of vertebral artery','',''),   \n",
    "    ('atherosclerosis','ICD10',  'I728',   'Aneurysm and dissection of other specified arteries','',''),\n",
    "    ('atherosclerosis','ICD10',  'I729',   'Aneurysm and dissection of unspecified site','',''),  \n",
    "    ('atherosclerosis','ICD10',  'I73',   'Other peripheral vascular diseases','',''),   \n",
    "    ('atherosclerosis','ICD10',  'I730',   'Raynaud syndrome','',''),\n",
    "    ('atherosclerosis','ICD10',  'I731',   'Thromboangiitis obliterans [Buerger]','',''),  \n",
    "    ('atherosclerosis','ICD10',  'I738',   'Other specified peripheral vascular diseases','',''),\n",
    "    ('atherosclerosis','ICD10',  'I739',   'Peripheral vascular disease, unspecified','',''), \n",
    "        \n",
    "    # Sudden death and death within 24h of symptom onset\n",
    "    ('sudden_death','ICD10',  'R96',   'Other sudden death, cause unknown','',''),   \n",
    "    ('sudden_death','ICD10',  'R960',   'Instantaneous death','',''),\n",
    "    ('sudden_death','ICD10',  'R961',   'Death occurring less than 24 hours from onset of symptoms, not otherwise explained','',''),  \n",
    "    \n",
    "  ],\n",
    "  \n",
    "  ['name', 'terminology', 'code', 'term', 'code_type', 'RecordDate']  \n",
    ").select(\"name\",\"terminology\",\"code\",\"term\")\n",
    "\n",
    "\n",
    "pio_fatal = codelist_fatal.distinct()\n",
    "\n",
    "display(pio_fatal)"
   ]
  },
  {
   "cell_type": "markdown",
   "metadata": {
    "application/vnd.databricks.v1+cell": {
     "cellMetadata": {
      "byteLimit": 2048000,
      "rowLimit": 10000
     },
     "inputWidgets": {},
     "nuid": "92a9a0b6-1b13-4c26-aa51-f418f232d9fd",
     "showTitle": false,
     "tableResultSettingsMap": {},
     "title": ""
    }
   },
   "source": [
    "# 4. Export"
   ]
  },
  {
   "cell_type": "code",
   "execution_count": 0,
   "metadata": {
    "application/vnd.databricks.v1+cell": {
     "cellMetadata": {
      "byteLimit": 2048000,
      "rowLimit": 10000
     },
     "inputWidgets": {},
     "nuid": "a7484e46-e05b-4938-8f21-88a94cc4851a",
     "showTitle": false,
     "tableResultSettingsMap": {},
     "title": ""
    }
   },
   "outputs": [],
   "source": [
    "codelist_all = (\n",
    "    comorbidities_hf.withColumn(\"codelist\", f.lit(\"Comorbidities - Heart Failure\"))\n",
    ".union(comorbidities_copd.withColumn(\"codelist\", f.lit(\"Comorbidities - COPD\")))\n",
    ".union(comorbidities_asthma.withColumn(\"codelist\", f.lit(\"Comorbidities - Asthma\")))\n",
    ".union(comorbidities_ckd.withColumn(\"codelist\", f.lit(\"Comorbidities - Renal Failure (CKD)\")))\n",
    ".union(comorbidities_cd.withColumn(\"codelist\", f.lit(\"Comorbidities - Cerebrovascular Disease\")))\n",
    ".union(comorbidities_pad.withColumn(\"codelist\", f.lit(\"Comorbidities - Peropheral Arterial Disease\")))\n",
    "\n",
    ".union(crf_hypertension.withColumn(\"codelist\", f.lit(\"Cardiovascular Risk Factors - Hypertension\")))\n",
    ".union(crf_diabetes.withColumn(\"codelist\", f.lit(\"Cardiovascular Risk Factors - Diabetes\")))\n",
    ".union(crf_cad.withColumn(\"codelist\", f.lit(\"Cardiovascular Risk Factors - Coronary Artery Disease\")))\n",
    "\n",
    ".union(codelist_fatal.withColumn(\"codelist\", f.lit(\"Post Intervention Outcomes - CVD Death\")))\n",
    ")"
   ]
  },
  {
   "cell_type": "code",
   "execution_count": 0,
   "metadata": {
    "application/vnd.databricks.v1+cell": {
     "cellMetadata": {
      "byteLimit": 2048000,
      "rowLimit": 10000
     },
     "inputWidgets": {},
     "nuid": "179685cb-d798-4622-ae9b-592822c31284",
     "showTitle": false,
     "tableResultSettingsMap": {},
     "title": ""
    }
   },
   "outputs": [],
   "source": [
    "display(codelist_all.select(\"codelist\",\"name\",\"terminology\",\"code\",\"term\").orderBy(\"codelist\",\"name\",\"terminology\",\"code\"))"
   ]
  },
  {
   "cell_type": "markdown",
   "metadata": {
    "application/vnd.databricks.v1+cell": {
     "cellMetadata": {
      "byteLimit": 2048000,
      "rowLimit": 10000
     },
     "inputWidgets": {},
     "nuid": "4bbbf08a-7c8c-47ec-8e68-4adb66281212",
     "showTitle": false,
     "tableResultSettingsMap": {},
     "title": ""
    }
   },
   "source": [
    "# 5. Save"
   ]
  },
  {
   "cell_type": "code",
   "execution_count": 0,
   "metadata": {
    "application/vnd.databricks.v1+cell": {
     "cellMetadata": {
      "byteLimit": 2048000,
      "rowLimit": 10000
     },
     "inputWidgets": {},
     "nuid": "f46c2f4b-4647-4bd5-ba03-fd69500b1d92",
     "showTitle": false,
     "tableResultSettingsMap": {},
     "title": ""
    }
   },
   "outputs": [],
   "source": [
    "save_table(codelist_all, out_name=f'{proj}_out_codelist_covariates')"
   ]
  }
 ],
 "metadata": {
  "application/vnd.databricks.v1+notebook": {
   "computePreferences": null,
   "dashboards": [],
   "environmentMetadata": null,
   "language": "python",
   "notebookMetadata": {
    "pythonIndentUnit": 4
   },
   "notebookName": "CCU056-02b-codelists_covariates_outcomes",
   "widgets": {}
  },
  "language_info": {
   "name": "python"
  }
 },
 "nbformat": 4,
 "nbformat_minor": 0
}
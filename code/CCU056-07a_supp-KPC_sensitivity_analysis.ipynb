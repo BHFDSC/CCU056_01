{
 "cells": [
  {
   "cell_type": "markdown",
   "metadata": {
    "application/vnd.databricks.v1+cell": {
     "cellMetadata": {
      "byteLimit": 2048000,
      "rowLimit": 10000
     },
     "inputWidgets": {},
     "nuid": "d2199c6c-b88d-4fbf-9266-06e0dd218e2e",
     "showTitle": false,
     "tableResultSettingsMap": {},
     "title": ""
    }
   },
   "source": [
    "# 0 Setup"
   ]
  },
  {
   "cell_type": "code",
   "execution_count": 0,
   "metadata": {
    "application/vnd.databricks.v1+cell": {
     "cellMetadata": {
      "byteLimit": 2048000,
      "rowLimit": 10000
     },
     "inputWidgets": {},
     "nuid": "06b32da0-6fab-4b9c-afe9-cbd152b26acf",
     "showTitle": false,
     "tableResultSettingsMap": {},
     "title": ""
    }
   },
   "outputs": [],
   "source": [
    "spark.sql('CLEAR CACHE')\n",
    "spark.conf.set('spark.sql.legacy.allowCreatingManagedTableUsingNonemptyLocation', 'true')"
   ]
  },
  {
   "cell_type": "code",
   "execution_count": 0,
   "metadata": {
    "application/vnd.databricks.v1+cell": {
     "cellMetadata": {
      "byteLimit": 2048000,
      "rowLimit": 10000
     },
     "inputWidgets": {},
     "nuid": "b199c8cd-b2d1-4aa1-8562-4adbe9ee3c2d",
     "showTitle": false,
     "tableResultSettingsMap": {},
     "title": ""
    }
   },
   "outputs": [],
   "source": [
    "import pyspark.sql.functions as f\n",
    "import pyspark.sql.types as t\n",
    "from pyspark.sql import Window\n",
    "\n",
    "from functools import reduce\n",
    "\n",
    "import databricks.koalas as ks\n",
    "import pandas as pd\n",
    "import numpy as np\n",
    "\n",
    "import re\n",
    "import io\n",
    "import datetime\n",
    "\n",
    "import matplotlib\n",
    "import matplotlib.pyplot as plt\n",
    "from matplotlib import dates as mdates\n",
    "import seaborn as sns\n",
    "\n",
    "print(\"Matplotlib version: \", matplotlib.__version__)\n",
    "print(\"Seaborn version: \", sns.__version__)\n",
    "_datetimenow = datetime.datetime.now() # .strftime(\"%Y%m%d\")\n",
    "print(f\"_datetimenow:  {_datetimenow}\")"
   ]
  },
  {
   "cell_type": "code",
   "execution_count": 0,
   "metadata": {
    "application/vnd.databricks.v1+cell": {
     "cellMetadata": {
      "byteLimit": 2048000,
      "rowLimit": 10000
     },
     "inputWidgets": {},
     "nuid": "5ae148f7-1e9f-4bed-bf5d-1d13833b603f",
     "showTitle": false,
     "tableResultSettingsMap": {},
     "title": ""
    }
   },
   "outputs": [],
   "source": [
    "%run \"../SHDS/common/functions\""
   ]
  },
  {
   "cell_type": "code",
   "execution_count": 0,
   "metadata": {
    "application/vnd.databricks.v1+cell": {
     "cellMetadata": {
      "byteLimit": 2048000,
      "rowLimit": 10000
     },
     "inputWidgets": {},
     "nuid": "e767912e-57e2-4e0c-a8ea-7001a34cc1f9",
     "showTitle": false,
     "tableResultSettingsMap": {},
     "title": ""
    },
    "jupyter": {
     "outputs_hidden": true
    }
   },
   "outputs": [],
   "source": [
    "%run \"./CCU056-01-parameters\""
   ]
  },
  {
   "cell_type": "code",
   "execution_count": 0,
   "metadata": {
    "application/vnd.databricks.v1+cell": {
     "cellMetadata": {
      "byteLimit": 2048000,
      "rowLimit": 10000
     },
     "inputWidgets": {},
     "nuid": "38b07f23-9486-43cb-98b0-34ed798842e9",
     "showTitle": false,
     "tableResultSettingsMap": {},
     "title": ""
    }
   },
   "outputs": [],
   "source": [
    "main_cohort_final2 = spark.table(f'{dsa}.ccu056_tmp_main_cohort_final2')"
   ]
  },
  {
   "cell_type": "markdown",
   "metadata": {
    "application/vnd.databricks.v1+cell": {
     "cellMetadata": {
      "byteLimit": 2048000,
      "rowLimit": 10000
     },
     "inputWidgets": {},
     "nuid": "fda889f6-1c3e-4ad3-b85d-0cd48b62ccb3",
     "showTitle": false,
     "tableResultSettingsMap": {},
     "title": ""
    }
   },
   "source": [
    "# 1 LSOAs outside England"
   ]
  },
  {
   "cell_type": "code",
   "execution_count": 0,
   "metadata": {
    "application/vnd.databricks.v1+cell": {
     "cellMetadata": {
      "byteLimit": 2048000,
      "rowLimit": 10000
     },
     "inputWidgets": {},
     "nuid": "47230589-f36d-4b60-9439-b24644502d3b",
     "showTitle": false,
     "tableResultSettingsMap": {},
     "title": ""
    }
   },
   "outputs": [],
   "source": [
    "all_lsoa_unassembled = spark.table(f'{dsa}.{proj}_tmp_all_cases_lsoa_unassembled')"
   ]
  },
  {
   "cell_type": "code",
   "execution_count": 0,
   "metadata": {
    "application/vnd.databricks.v1+cell": {
     "cellMetadata": {
      "byteLimit": 2048000,
      "rowLimit": 10000
     },
     "inputWidgets": {},
     "nuid": "b40b5929-34f6-4808-97fc-cf3f179dc198",
     "showTitle": false,
     "tableResultSettingsMap": {},
     "title": ""
    }
   },
   "outputs": [],
   "source": [
    "outside = (main_cohort_final2.filter(f.col(\"LSOA_Outside_England\")==1).join(all_lsoa_unassembled,on=\"PERSON_ID\",how=\"left\"))\n",
    "           \n",
    "display(outside)"
   ]
  },
  {
   "cell_type": "code",
   "execution_count": 0,
   "metadata": {
    "application/vnd.databricks.v1+cell": {
     "cellMetadata": {
      "byteLimit": 2048000,
      "rowLimit": 10000
     },
     "inputWidgets": {},
     "nuid": "5bc585fe-3772-41c9-a1b7-a984caaa0ff4",
     "showTitle": false,
     "tableResultSettingsMap": {},
     "title": ""
    }
   },
   "outputs": [],
   "source": [
    "outside_england_only = (outside.filter(f.col(\"LSOA\").startswith(\"E\")))\n",
    "\n",
    "display(outside_england_only)"
   ]
  },
  {
   "cell_type": "code",
   "execution_count": 0,
   "metadata": {
    "application/vnd.databricks.v1+cell": {
     "cellMetadata": {
      "byteLimit": 2048000,
      "rowLimit": 10000
     },
     "inputWidgets": {},
     "nuid": "ee984bca-26c0-439c-8d45-83dbcec36304",
     "showTitle": false,
     "tableResultSettingsMap": {},
     "title": ""
    }
   },
   "outputs": [],
   "source": [
    "all_lsoa_unassembled = (outside_england_only\n",
    ".withColumn('OPERATION_DATE',f.date_format(f.col(\"OPERATION_DATE\"), \"yyyy-MM-dd\"))\n",
    ".withColumn('DATE_DIFF', f.abs(f.datediff(f.col(\"RECORD_DATE\"), f.col(\"OPERATION_DATE\"))))\n",
    "        .withColumn('RECORD_SOURCE_group_final',\n",
    "                    f.when(f.col('RECORD_SOURCE') == 'nacsa', 5)\n",
    "                    .when(f.col('RECORD_SOURCE') == 'tavi', 5)\n",
    "                    .when(f.col('RECORD_SOURCE') == 'gdppr', 3)\n",
    "                    .when(f.col('RECORD_SOURCE') == 'gdppr_snomed', 4)\n",
    "                    .when(f.col('RECORD_SOURCE') == 'hes_apc', 1)\n",
    "                    .when(f.col('RECORD_SOURCE') == 'hes_op', 2)\n",
    "                    .when(f.col('RECORD_SOURCE') == 'hes_ae', 2)\n",
    "                    )\n",
    ")\n",
    "\n",
    "# define windows for row numbers\n",
    "_win_rownum_LSOA = (\n",
    "    Window\n",
    "    .partitionBy('PERSON_ID')\n",
    "    .orderBy(['DATE_DIFF', 'RECORD_SOURCE_group_final'])) #prioritising DATE_DIFF first then datasource after\n",
    "\n",
    "all_lsoa_unassembled = (all_lsoa_unassembled\n",
    "    .withColumn('_rownum_LSOA', f.row_number().over(_win_rownum_LSOA))\n",
    "    )\n",
    "\n",
    "display(all_lsoa_unassembled.orderBy(\"PERSON_ID\",\"DATE_DIFF\"))"
   ]
  },
  {
   "cell_type": "code",
   "execution_count": 0,
   "metadata": {
    "application/vnd.databricks.v1+cell": {
     "cellMetadata": {
      "byteLimit": 2048000,
      "rowLimit": 10000
     },
     "inputWidgets": {},
     "nuid": "a9fc8022-b162-45e6-8a09-ddf9ec184bbf",
     "showTitle": false,
     "tableResultSettingsMap": {},
     "title": ""
    }
   },
   "outputs": [],
   "source": [
    "varlist = ['LSOA']\n",
    "  \n",
    "for ind, var in enumerate(varlist):\n",
    "    record_source = 'RECORD_SOURCE_group_final'\n",
    "    # define window for tied records\n",
    "    _win_tie = (Window\n",
    "      .partitionBy('PERSON_ID')\n",
    "      .orderBy('DATE_DIFF', record_source)\n",
    "      )\n",
    "      \n",
    "    # count distinct values of var (including null) within tied records\n",
    "    _tie = (\n",
    "      all_lsoa_unassembled\n",
    "      .withColumn(f'_tie_{var}', f.dense_rank().over(_win_tie))\n",
    "      .where(f.col(f'_tie_{var}') == 1)\n",
    "      .groupBy('PERSON_ID')\n",
    "      .agg(\n",
    "        f.countDistinct(f.col(f'{var}')).alias(f'_n_distinct_{var}')\n",
    "        , f.countDistinct(f.when(f.col(f'{var}').isNull(), 1)).alias(f'_null_{var}')\n",
    "      )\n",
    "      .withColumn(f'_tie_{var}', f.when((f.col(f'_n_distinct_{var}') + f.col(f'_null_{var}')) > 1, 1).otherwise(0))\n",
    "      .select('PERSON_ID', f'_tie_{var}'))\n",
    "  \n",
    "    if(ind == 0): _tmp_ties = _tie\n",
    "    else: _tmp_ties = (_tmp_ties.join(_tie, on=['PERSON_ID'], how='outer'))\n",
    "\n",
    "\n",
    "\n",
    "# take information from the first row identified above\n",
    "_tmp_selected = {}\n",
    "for var in varlist:\n",
    "    _tmp = (\n",
    "      all_lsoa_unassembled\n",
    "      .select('PERSON_ID', 'RECORD_DATE', 'RECORD_SOURCE', f'{var}', f'_rownum_{var}')\n",
    "      .where(f.col(f'_rownum_{var}') == 1)\n",
    "      .withColumnRenamed('RECORD_DATE', f'_date_{var}')\n",
    "      .withColumnRenamed('RECORD_SOURCE', f'_source_{var}')\n",
    "      .select('PERSON_ID', f'{var}', f'_date_{var}', f'_source_{var}'))\n",
    "    _tmp_selected[f'{var}'] = _tmp\n",
    "\n",
    "_selected = (\n",
    "    _tmp_selected['LSOA']\n",
    "    .join(_tmp_ties, on=['PERSON_ID'], how='outer')\n",
    "    .select('PERSON_ID', 'LSOA'\n",
    "            , '_date_LSOA', '_source_LSOA', '_tie_LSOA'))"
   ]
  },
  {
   "cell_type": "code",
   "execution_count": 0,
   "metadata": {
    "application/vnd.databricks.v1+cell": {
     "cellMetadata": {
      "byteLimit": 2048000,
      "rowLimit": 10000
     },
     "inputWidgets": {},
     "nuid": "194ed2da-14a8-4ddc-9f3f-4eb9e17b4fc5",
     "showTitle": false,
     "tableResultSettingsMap": {},
     "title": ""
    }
   },
   "outputs": [],
   "source": [
    "display(_selected)"
   ]
  },
  {
   "cell_type": "code",
   "execution_count": 0,
   "metadata": {
    "application/vnd.databricks.v1+cell": {
     "cellMetadata": {
      "byteLimit": 2048000,
      "rowLimit": 10000
     },
     "inputWidgets": {},
     "nuid": "0011c7cd-45ff-45c0-b3d2-b998784c97d1",
     "showTitle": false,
     "tableResultSettingsMap": {},
     "title": ""
    }
   },
   "outputs": [],
   "source": [
    "# count ties\n",
    "display(_selected.groupBy(\"_tie_LSOA\").count())"
   ]
  },
  {
   "cell_type": "code",
   "execution_count": 0,
   "metadata": {
    "application/vnd.databricks.v1+cell": {
     "cellMetadata": {
      "byteLimit": 2048000,
      "rowLimit": 10000
     },
     "inputWidgets": {},
     "nuid": "19e1555e-f706-434f-a1e6-0946e8984b9c",
     "showTitle": false,
     "tableResultSettingsMap": {},
     "title": ""
    }
   },
   "outputs": [],
   "source": [
    "save_table(df=_selected, out_name=f'{proj}_tmp_outside_england_lsoa_selected', save_previous=False, data_base=dsa)"
   ]
  },
  {
   "cell_type": "code",
   "execution_count": 0,
   "metadata": {
    "application/vnd.databricks.v1+cell": {
     "cellMetadata": {
      "byteLimit": 2048000,
      "rowLimit": 10000
     },
     "inputWidgets": {},
     "nuid": "bb9329c8-7fb8-42a9-bcf9-5428047dc63c",
     "showTitle": false,
     "tableResultSettingsMap": {},
     "title": ""
    }
   },
   "outputs": [],
   "source": [
    "display(main_cohort_final2.filter(f.col(\"LSOA_Outside_England\")==1).distinct().count())"
   ]
  },
  {
   "cell_type": "code",
   "execution_count": 0,
   "metadata": {
    "application/vnd.databricks.v1+cell": {
     "cellMetadata": {
      "byteLimit": 2048000,
      "rowLimit": 10000
     },
     "inputWidgets": {},
     "nuid": "12366217-d0b6-4811-a784-2d0f9aab8a40",
     "showTitle": false,
     "tableResultSettingsMap": {},
     "title": ""
    }
   },
   "outputs": [],
   "source": [
    "display(_selected.count())"
   ]
  },
  {
   "cell_type": "markdown",
   "metadata": {
    "application/vnd.databricks.v1+cell": {
     "cellMetadata": {
      "byteLimit": 2048000,
      "rowLimit": 10000
     },
     "inputWidgets": {},
     "nuid": "906948f2-4648-451a-806f-52667ac93aa5",
     "showTitle": false,
     "tableResultSettingsMap": {},
     "title": ""
    }
   },
   "source": [
    "# 2 Incorrect DOBs"
   ]
  },
  {
   "cell_type": "code",
   "execution_count": 0,
   "metadata": {
    "application/vnd.databricks.v1+cell": {
     "cellMetadata": {
      "byteLimit": 2048000,
      "rowLimit": 10000
     },
     "inputWidgets": {},
     "nuid": "3274013c-e5a4-4770-90a9-4bce007e7f7e",
     "showTitle": false,
     "tableResultSettingsMap": {},
     "title": ""
    }
   },
   "outputs": [],
   "source": [
    "display(main_cohort_final2.filter(f.col(\"DOB\")<=\"1900-01-01\").select(\"DOB\").distinct())"
   ]
  },
  {
   "cell_type": "code",
   "execution_count": 0,
   "metadata": {
    "application/vnd.databricks.v1+cell": {
     "cellMetadata": {
      "byteLimit": 2048000,
      "rowLimit": 10000
     },
     "inputWidgets": {},
     "nuid": "3de289f6-bb6e-4950-b91b-2560e20eccbb",
     "showTitle": false,
     "tableResultSettingsMap": {},
     "title": ""
    }
   },
   "outputs": [],
   "source": [
    "display(main_cohort_final2.filter(f.col(\"DOB\")<=\"1900-01-01\"))"
   ]
  },
  {
   "cell_type": "code",
   "execution_count": 0,
   "metadata": {
    "application/vnd.databricks.v1+cell": {
     "cellMetadata": {
      "byteLimit": 2048000,
      "rowLimit": 10000
     },
     "inputWidgets": {},
     "nuid": "1148ba98-1b6a-461c-9f9b-698f66f7602f",
     "showTitle": false,
     "tableResultSettingsMap": {},
     "title": ""
    }
   },
   "outputs": [],
   "source": [
    "skinny_unassembled = spark.table(f'{dsa}.{proj}_tmp_all_cases_unassembled')"
   ]
  },
  {
   "cell_type": "code",
   "execution_count": 0,
   "metadata": {
    "application/vnd.databricks.v1+cell": {
     "cellMetadata": {
      "byteLimit": 2048000,
      "rowLimit": 10000
     },
     "inputWidgets": {},
     "nuid": "f27a3d4b-31f8-43c5-a19b-a2cf3c8fbce5",
     "showTitle": false,
     "tableResultSettingsMap": {},
     "title": ""
    }
   },
   "outputs": [],
   "source": [
    "skinny_dob = (\n",
    "    main_cohort_final2.filter(f.col(\"DOB\")<=\"1900-01-01\").drop(\"DOB\").join(skinny_unassembled,on=\"PERSON_ID\",how=\"left\")\n",
    "    .filter(f.col(\"DOB\")>\"1801-01-01\")\n",
    "              )\n",
    "\n",
    "display(skinny_dob)"
   ]
  },
  {
   "cell_type": "code",
   "execution_count": 0,
   "metadata": {
    "application/vnd.databricks.v1+cell": {
     "cellMetadata": {
      "byteLimit": 2048000,
      "rowLimit": 10000
     },
     "inputWidgets": {},
     "nuid": "76b860f1-55e8-4fae-85fc-06cadffa8089",
     "showTitle": false,
     "tableResultSettingsMap": {},
     "title": ""
    }
   },
   "outputs": [],
   "source": [
    "skinny_dob = (\n",
    "    main_cohort_final2.filter(f.col(\"DOB\")<=\"1900-01-01\").drop(\"DOB\").join(skinny_unassembled,on=\"PERSON_ID\",how=\"left\")\n",
    "              )\n",
    "\n",
    "display(skinny_dob)"
   ]
  },
  {
   "cell_type": "markdown",
   "metadata": {
    "application/vnd.databricks.v1+cell": {
     "cellMetadata": {
      "byteLimit": 2048000,
      "rowLimit": 10000
     },
     "inputWidgets": {},
     "nuid": "8d85ee5d-7069-4007-a987-5b86c558ba5e",
     "showTitle": false,
     "tableResultSettingsMap": {},
     "title": ""
    }
   },
   "source": [
    "**Conclusion: All the 1800-01-01 and 1801-01-01 DOBs have no other DOBs that are within the plausible range**"
   ]
  }
 ],
 "metadata": {
  "application/vnd.databricks.v1+notebook": {
   "computePreferences": null,
   "dashboards": [],
   "environmentMetadata": null,
   "language": "python",
   "notebookMetadata": {
    "pythonIndentUnit": 4
   },
   "notebookName": "CCU056-07a_supp-KPC_sensitivity_analysis",
   "widgets": {}
  },
  "language_info": {
   "name": "python"
  }
 },
 "nbformat": 4,
 "nbformat_minor": 0
}